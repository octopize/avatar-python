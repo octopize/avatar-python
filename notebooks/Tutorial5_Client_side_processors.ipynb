{
 "cells": [
  {
   "cell_type": "markdown",
   "id": "6a24fbbf",
   "metadata": {},
   "source": [
    "# Tutorial 5: Client-side processors"
   ]
  },
  {
   "cell_type": "markdown",
   "id": "dc36f0ea",
   "metadata": {},
   "source": [
    "In this tutorial, we will learn how to prepare the data prior to running an avatarization by using processors on your local machine.\n",
    "\n",
    "This step is necessary in some cases to handle and preserve data characteristics that are not natively handled by the avatarization or its embedded processors.\n",
    "\n",
    "We'll also show how custom client-side processors can be defined to integrate domain knowledge into an avatarization."
   ]
  },
  {
   "cell_type": "markdown",
   "id": "fca8bd04",
   "metadata": {},
   "source": [
    "## Principles"
   ]
  },
  {
   "cell_type": "markdown",
   "id": "02cef554",
   "metadata": {},
   "source": [
    "![pipeline](img/pipeline.png)"
   ]
  },
  {
   "cell_type": "markdown",
   "id": "8d2ab3ce",
   "metadata": {},
   "source": [
    "## Connection"
   ]
  },
  {
   "cell_type": "code",
   "execution_count": null,
   "id": "2bb80d4d",
   "metadata": {},
   "outputs": [],
   "source": [
    "import os\n",
    "import secrets\n",
    "\n",
    "import numpy as np\n",
    "import pandas as pd\n",
    "\n",
    "from avatars.manager import Manager\n",
    "from avatars.models import JobKind\n",
    "from avatars.processors import (\n",
    "    ExpectedMeanProcessor,\n",
    "    GroupModalitiesProcessor,\n",
    "    PerturbationProcessor,\n",
    "    ProportionProcessor,\n",
    "    RelativeDifferenceProcessor,\n",
    ")\n",
    "\n",
    "url = os.environ.get(\"AVATAR_BASE_API_URL\", \"https://www.octopize.app/api\")\n",
    "username = os.environ.get(\"AVATAR_USERNAME\", \"\")\n",
    "password = os.environ.get(\"AVATAR_PASSWORD\", \"\")"
   ]
  },
  {
   "cell_type": "code",
   "execution_count": null,
   "id": "04222d49",
   "metadata": {},
   "outputs": [],
   "source": [
    "manager = Manager(base_url=url)\n",
    "# Authenticate with the server\n",
    "manager.authenticate(username, password)\n",
    "# Verify that we can connect to the API server\n",
    "manager.get_health()"
   ]
  },
  {
   "cell_type": "markdown",
   "id": "a1f9d732",
   "metadata": {},
   "source": [
    "## A helper processor to reduce the number of modalities"
   ]
  },
  {
   "cell_type": "markdown",
   "id": "04336b1a",
   "metadata": {},
   "source": [
    "We have seen in the previous tutorial one approach to handle categorical variables with large cardinality. We propose here an alternative way of doing this using a client-side processor.\n",
    "\n",
    "This processor will group modalities together to ensure the target variable has a requested number of modalities. The least represented modalities will be brought together under a `other` modality. Note that this transformation is irreversible (the original value cannot be infered from `other`). \n",
    "\n",
    "Because this is an irreversible operation, this transformation of the data should be done outside the pipeline. The transformed data will be used as a basis for comparison when computing utility and privacy metrics."
   ]
  },
  {
   "cell_type": "code",
   "execution_count": null,
   "id": "f3fb4ac3",
   "metadata": {},
   "outputs": [],
   "source": [
    "df = pd.read_csv(\"../fixtures/adult_with_cities.csv\").head(1000).drop([\"native-country\"], axis=1)\n",
    "df.head()"
   ]
  },
  {
   "cell_type": "markdown",
   "id": "9a2018d7",
   "metadata": {},
   "source": [
    "After loading the data, we decide we wish to reduce the number of modalities for the variable `city` which contains originally over 80 distinct values."
   ]
  },
  {
   "cell_type": "code",
   "execution_count": null,
   "id": "aac32acc",
   "metadata": {},
   "outputs": [],
   "source": [
    "df[\"city\"].value_counts()"
   ]
  },
  {
   "cell_type": "code",
   "execution_count": null,
   "id": "7ed772de",
   "metadata": {},
   "outputs": [],
   "source": [
    "group_modalities_processor = GroupModalitiesProcessor(\n",
    "    min_unique=10,  # number of modalities for a variable to be considered for grouping\n",
    "    global_threshold=25,  # if considered for grouping, number of individuals in modality to preserve it\n",
    "    new_category=\"other\",\n",
    ")\n",
    "df_preprocessed = group_modalities_processor.preprocess(df)"
   ]
  },
  {
   "cell_type": "markdown",
   "id": "867622bc",
   "metadata": {},
   "source": [
    "Once the group modality processor has been applied, we can confirm that the number of modalities for the `city` variables has been reduced"
   ]
  },
  {
   "cell_type": "code",
   "execution_count": null,
   "id": "57c9829e",
   "metadata": {},
   "outputs": [],
   "source": [
    "df_preprocessed[\"city\"].value_counts()"
   ]
  },
  {
   "cell_type": "code",
   "execution_count": null,
   "id": "ed2fb613",
   "metadata": {},
   "outputs": [],
   "source": [
    "runner = manager.create_runner(set_name=f\"tutorial5{secrets.token_hex(4)}\")\n",
    "runner.add_table(\n",
    "    \"adult\",\n",
    "    df_preprocessed,\n",
    ")\n",
    "runner.set_parameters(\"adult\", k=5)\n",
    "runner.run(jobs_to_run=[JobKind.standard])\n",
    "runner.get_all_results()"
   ]
  },
  {
   "cell_type": "code",
   "execution_count": null,
   "id": "3bdd2a1b",
   "metadata": {},
   "outputs": [],
   "source": [
    "avatars = runner.shuffled(\"adult\")\n",
    "avatars.head(3)"
   ]
  },
  {
   "cell_type": "code",
   "execution_count": null,
   "id": "d5a99371",
   "metadata": {},
   "outputs": [],
   "source": [
    "avatars[\"city\"].value_counts()"
   ]
  },
  {
   "cell_type": "markdown",
   "id": "0327a9b2",
   "metadata": {},
   "source": [
    "We observe that the avatars produced have a reduced number of cities and an extra `other` modality for the `city` variable. Note that the use of a client-side processor made the transformation of the data straightforward."
   ]
  },
  {
   "cell_type": "markdown",
   "id": "24e998ff",
   "metadata": {},
   "source": [
    "## Modeling inter-variables constraints with processors\n",
    "We will now use two processors to enforce inter-variable constraints.\n",
    "\n",
    "The two processors we will now apply are processors that temporarily transform the data in order to improve the avatarization. This means that they both contain a `preprocess` step and a `postprocess` step, ensuring that the effect of the `preprocess` action can be reversed via the use of the `postprocess` action.\n",
    "\n",
    "These processors will be used to demonstrate the implementation of the pipeline tool that automates the use of processors, the avatarization and the metric computation in a single command.\n",
    "\n"
   ]
  },
  {
   "cell_type": "code",
   "execution_count": null,
   "id": "abd65696",
   "metadata": {},
   "outputs": [],
   "source": [
    "df = pd.read_csv(\"../fixtures/epl.csv\")"
   ]
  },
  {
   "cell_type": "markdown",
   "id": "dd323769",
   "metadata": {},
   "source": [
    "### Proportions\n",
    "Variables may have relationships in which one or many variables can be represented as a proportion of another. In order to best preserve this type of relationships during avatarization, it is recommended to express such variables as proportions. To do so, the proportion processor can be used.  \n",
    "In our example, the `ProportionProcessor` can be used, because `minutes_in_game` is the sum of `minutes_played_home`, `minutes_played_away` and `minutes_on_bench`  \n",
    "\n",
    "$\\displaystyle\\frac{minutes\\,in\\,game\\:+\\:minutes\\,played\\,away\\:+\\:minutes\\,on\\,bench}{ minutes\\,in\\,game} = 1$\n"
   ]
  },
  {
   "cell_type": "code",
   "execution_count": null,
   "id": "6000e2ee",
   "metadata": {},
   "outputs": [],
   "source": [
    "proportion_processor = ProportionProcessor(\n",
    "    variable_names=[\"minutes_played_home\", \"minutes_played_away\", \"minutes_on_bench\"],\n",
    "    reference=\"minutes_in_game\",\n",
    "    sum_to_one=True,\n",
    "    decimal_count=0,\n",
    ")"
   ]
  },
  {
   "cell_type": "markdown",
   "id": "fc4a6134",
   "metadata": {},
   "source": [
    "### Relative differences"
   ]
  },
  {
   "cell_type": "markdown",
   "id": "8b77b0fd",
   "metadata": {},
   "source": [
    "Some variables may have a hierarchy where one variable is always higher than an other. In order to be sure that this hierarchy is preserved in the avatarization, it is recommended to express one variable as the difference of another.  \n",
    "We take `penalty_attempts` and `penalty_goals` as an example where one variable (`penalty_goals`) cannot be greater than the other (`penalty_attempts`)."
   ]
  },
  {
   "cell_type": "code",
   "execution_count": null,
   "id": "45f08651",
   "metadata": {},
   "outputs": [],
   "source": [
    "relative_difference_processor = RelativeDifferenceProcessor(\n",
    "    target=\"penalty_goals\",\n",
    "    references=[\"penalty_attempts\"],\n",
    ")"
   ]
  },
  {
   "cell_type": "markdown",
   "id": "b86bb67a",
   "metadata": {},
   "source": [
    "### Computed variables\n",
    "The data also contains a third variable related to the penalty context: `penalty_misses`. This variable can be computed directly as the difference between `penalty_attempts` and `penalty_goals`.  \n",
    "\n",
    "$\\ penalty\\:misses = penalty\\:attempts - penalty\\:goals $\n",
    "\n",
    "Computed variables should be removed from the data prior to running the avtarization and re-computed after.\n"
   ]
  },
  {
   "cell_type": "code",
   "execution_count": null,
   "id": "f0ab2864",
   "metadata": {},
   "outputs": [],
   "source": [
    "df = df.drop(columns=[\"penalty_misses\"])"
   ]
  },
  {
   "cell_type": "code",
   "execution_count": null,
   "id": "1d451306",
   "metadata": {},
   "outputs": [],
   "source": [
    "preprocessed = proportion_processor.preprocess(df)\n",
    "preprocessed = relative_difference_processor.preprocess(preprocessed)"
   ]
  },
  {
   "cell_type": "code",
   "execution_count": null,
   "id": "08ac5ced",
   "metadata": {},
   "outputs": [],
   "source": [
    "runner_with_processor = manager.create_runner(set_name=f\"tutorial5{secrets.token_hex(4)}\")\n",
    "runner_with_processor.add_table(\n",
    "    \"game\",\n",
    "    preprocessed,\n",
    ")\n",
    "runner_with_processor.set_parameters(\"game\", k=5)\n",
    "runner_with_processor.run()\n",
    "runner_with_processor.get_all_results()"
   ]
  },
  {
   "cell_type": "code",
   "execution_count": null,
   "id": "7d403224",
   "metadata": {},
   "outputs": [],
   "source": [
    "postprocessed = proportion_processor.postprocess(df, runner_with_processor.shuffled(\"game\"))\n",
    "postprocessed = relative_difference_processor.postprocess(\n",
    "    df, runner_with_processor.shuffled(\"game\")\n",
    ")"
   ]
  },
  {
   "cell_type": "code",
   "execution_count": null,
   "id": "9636b398",
   "metadata": {},
   "outputs": [],
   "source": [
    "privacy_metrics = runner_with_processor.privacy_metrics(\"game\")[0]\n",
    "print(\"*** Privacy metrics ***\")\n",
    "for metric in privacy_metrics:\n",
    "    print(metric)"
   ]
  },
  {
   "cell_type": "code",
   "execution_count": null,
   "id": "1f363da5",
   "metadata": {},
   "outputs": [],
   "source": [
    "signal_metrics = runner_with_processor.signal_metrics(\"game\")[0]\n",
    "print(\"*** Signal metrics ***\")\n",
    "for metric in signal_metrics:\n",
    "    print(metric)"
   ]
  },
  {
   "cell_type": "markdown",
   "id": "35c93939",
   "metadata": {},
   "source": [
    "### Should these processors really be used ?\n",
    "Let's try without ..."
   ]
  },
  {
   "cell_type": "code",
   "execution_count": null,
   "id": "cc703984",
   "metadata": {},
   "outputs": [],
   "source": [
    "runner_no_processor = manager.create_runner(set_name=f\"tutorial5{secrets.token_hex(4)}\")\n",
    "runner_no_processor.add_table(\n",
    "    \"game\",\n",
    "    df,\n",
    ")\n",
    "runner_no_processor.set_parameters(\"game\", k=5)\n",
    "runner_no_processor.run(jobs_to_run=[JobKind.standard])\n",
    "runner_no_processor.get_all_results()"
   ]
  },
  {
   "cell_type": "markdown",
   "id": "91663f19",
   "metadata": {},
   "source": [
    "#### Preservation of the proportions\n",
    "To confirm that proportions are well kept, we can compute the maximum difference between the reference variable (`minutes_in_game`) and the sum of the three proportion variables (`minutes_played_home`, `minutes_played_away` and `minutes_on_bench`). Where it may not be zero when no processor is used, this difference should be zero when using a proportion processor.  "
   ]
  },
  {
   "cell_type": "code",
   "execution_count": null,
   "id": "5f55c505",
   "metadata": {},
   "outputs": [],
   "source": [
    "avatars_noprocessing = runner_no_processor.shuffled(\"game\")\n",
    "np.max(\n",
    "    abs(\n",
    "        avatars_noprocessing[\"minutes_in_game\"]\n",
    "        - (\n",
    "            avatars_noprocessing[\"minutes_played_home\"]\n",
    "            + avatars_noprocessing[\"minutes_played_away\"]\n",
    "            + avatars_noprocessing[\"minutes_on_bench\"]\n",
    "        )\n",
    "    )\n",
    ")\n",
    "\n",
    "avatars_processing = runner_with_processor.shuffled(\"game\")\n",
    "np.max(\n",
    "    abs(\n",
    "        avatars_processing[\"minutes_in_game\"]\n",
    "        - (\n",
    "            avatars_processing[\"minutes_played_home\"]\n",
    "            + avatars_processing[\"minutes_played_away\"]\n",
    "            + avatars_processing[\"minutes_on_bench\"]\n",
    "        )\n",
    "    )\n",
    ")"
   ]
  },
  {
   "cell_type": "markdown",
   "id": "75bf2da2",
   "metadata": {},
   "source": [
    "#### Preservation of the relative difference\n",
    "\n",
    "To confirm that the relative difference is preserved, we can look at the number of players who have more `penalty_goals` than `penalty_attempts`. With the `RelativeDifferenceProcessor` zero players should have more goals than attempts, which is not necessarily the case without processor."
   ]
  },
  {
   "cell_type": "code",
   "execution_count": null,
   "id": "c60e9182",
   "metadata": {},
   "outputs": [],
   "source": [
    "print(\"Avatars with processors\")\n",
    "print(\n",
    "    \"Number of players with penalty attempts > penalty goals: \",\n",
    "    (sum(avatars_processing[\"penalty_attempts\"] - avatars_processing[\"penalty_goals\"] > 0)),\n",
    ")\n",
    "print(\n",
    "    \"Number of players with penalty attempts < penalty goals: \",\n",
    "    (sum(avatars_processing[\"penalty_attempts\"] - avatars_processing[\"penalty_goals\"] < 0)),\n",
    ")\n",
    "\n",
    "print(\"Avatars without processors\")\n",
    "print(\n",
    "    \"Number of players with penalty attempts > penalty goals: \",\n",
    "    (sum(avatars_noprocessing[\"penalty_attempts\"] - avatars_noprocessing[\"penalty_goals\"] > 0)),\n",
    ")\n",
    "print(\n",
    "    \"Number of players with penalty attempts < penalty goals: \",\n",
    "    (sum(avatars_noprocessing[\"penalty_attempts\"] - avatars_noprocessing[\"penalty_goals\"] < 0)),\n",
    ")"
   ]
  },
  {
   "cell_type": "markdown",
   "id": "95589e39",
   "metadata": {},
   "source": [
    "## Post-processors\n",
    "\n",
    "Post-processors do not transform the data prior to the avatarization but after only. These can be used to fix some variables that could have been altered beyond acceptable.  \n",
    "\n",
    "Care should always be taken when using post-processors because they are likely to **decrease the level of privacy**.  \n",
    "Using these processors via the pipeline feature, ensure that metrics are computed after application of the post-process step. This also make sure that privacy and utility metrics have taken these processors into consideration.  \n"
   ]
  },
  {
   "cell_type": "markdown",
   "id": "10acad0c",
   "metadata": {},
   "source": [
    "### Expected mean\n",
    "\n",
    "`ExpectedMeanProcessor` is used to force values to have similar mean to original data. In our example, we want to preserve the mean of `goals_away` and `goals_home` by the variable `position`.  \n",
    "Care should be taken when using this processor as it only targets enhancement of unimodal utility. This may occur at the expense of multi-modal utility and **privacy**.  \n"
   ]
  },
  {
   "cell_type": "code",
   "execution_count": null,
   "id": "a6f7e6a6",
   "metadata": {},
   "outputs": [],
   "source": [
    "expected_mean_processor = ExpectedMeanProcessor(\n",
    "    target_variables=[\"goals_away\", \"goals_home\"],\n",
    "    groupby_variables=[\"position\"],\n",
    "    same_std=False,\n",
    ")\n",
    "preprocessed = expected_mean_processor.preprocess(df)"
   ]
  },
  {
   "cell_type": "code",
   "execution_count": null,
   "id": "7f0ae982",
   "metadata": {},
   "outputs": [],
   "source": [
    "runner = manager.create_runner(set_name=f\"tutorial5{secrets.token_hex(4)}\")\n",
    "runner.add_table(\n",
    "    \"game\",\n",
    "    preprocessed,\n",
    ")\n",
    "runner.set_parameters(\"game\", k=5)\n",
    "runner.run(jobs_to_run=[JobKind.standard])\n",
    "runner.get_all_results()"
   ]
  },
  {
   "cell_type": "markdown",
   "id": "fbe19653",
   "metadata": {},
   "source": [
    "Looking at the mean of the two variables on which the expected mean processor was applied, we can confirm that the mean for each target category is preserved.   \n",
    "The same statistics computed on avatars that did not get post-processed are more different than the statistics obtained on the original data.  "
   ]
  },
  {
   "cell_type": "code",
   "execution_count": null,
   "id": "27164c52",
   "metadata": {},
   "outputs": [],
   "source": [
    "df.groupby([\"position\"]).mean(numeric_only=True)[[\"goals_away\", \"goals_home\"]]"
   ]
  },
  {
   "cell_type": "code",
   "execution_count": null,
   "id": "ee6fbe93",
   "metadata": {},
   "outputs": [],
   "source": [
    "avatars_processing.groupby([\"position\"]).mean(numeric_only=True)[[\"goals_away\", \"goals_home\"]]"
   ]
  },
  {
   "cell_type": "code",
   "execution_count": null,
   "id": "60f3bf25",
   "metadata": {},
   "outputs": [],
   "source": [
    "avatars_noprocessing.groupby([\"position\"]).mean(numeric_only=True)[[\"goals_away\", \"goals_home\"]]"
   ]
  },
  {
   "cell_type": "markdown",
   "id": "c56c7dcd",
   "metadata": {},
   "source": [
    "### Computed variables\n",
    "\n",
    "To complete the anonymization process, computed variables (that have been removed from the data) should be added back to the avatarized data."
   ]
  },
  {
   "cell_type": "code",
   "execution_count": null,
   "id": "faf515a7",
   "metadata": {},
   "outputs": [],
   "source": [
    "avatars_processing[\"penalty_missed\"] = (\n",
    "    avatars_processing[\"penalty_attempts\"] - avatars_processing[\"penalty_goals\"]\n",
    ")\n",
    "avatars_noprocessing[\"penalty_missed\"] = (\n",
    "    avatars_noprocessing[\"penalty_attempts\"] - avatars_noprocessing[\"penalty_goals\"]\n",
    ")"
   ]
  },
  {
   "cell_type": "markdown",
   "id": "392115fc",
   "metadata": {},
   "source": [
    "### Perturbation level\n",
    "\n",
    "The perturbation processor can be used to control how close to the avatarized values, the final values of a variable will be. At the extremes, if using a perturbation level of zero, the avatarized values will not contribute at all to the final values. On the other hand, with a perturbation level of 1, the original values will not contribute. A perturbation level of 0.3 will mean that the final value will be closer to the original values than it is from the anonymized values. By default, the perturbation level is set to 1.\n"
   ]
  },
  {
   "cell_type": "code",
   "execution_count": null,
   "id": "2cfbb4a4",
   "metadata": {},
   "outputs": [],
   "source": [
    "perturbation_processor = PerturbationProcessor(perturbation_level={\"age\": 0, \"appearances\": 1})\n",
    "preprocessed = perturbation_processor.preprocess(df)"
   ]
  },
  {
   "cell_type": "code",
   "execution_count": null,
   "id": "62a18c4b",
   "metadata": {},
   "outputs": [],
   "source": [
    "runner = manager.create_runner(set_name=f\"tutorial5{secrets.token_hex(4)}\")\n",
    "runner.add_table(\n",
    "    \"game\",\n",
    "    preprocessed,\n",
    ")\n",
    "runner.set_parameters(\"game\", k=5)\n",
    "runner.run(jobs_to_run=[JobKind.standard])\n",
    "runner.get_all_results()\n",
    "avatars_perturbation = runner.shuffled(\"game\")"
   ]
  },
  {
   "cell_type": "code",
   "execution_count": null,
   "id": "594d8002",
   "metadata": {},
   "outputs": [],
   "source": [
    "postprocessed = perturbation_processor.postprocess(df, runner.shuffled(\"game\"))"
   ]
  },
  {
   "cell_type": "markdown",
   "id": "81160a9c",
   "metadata": {},
   "source": [
    "We observe that as expected, using a perturbation level of 0 on the variable `age`, this variable gets unchanged."
   ]
  },
  {
   "cell_type": "code",
   "execution_count": null,
   "id": "b781c208",
   "metadata": {},
   "outputs": [],
   "source": [
    "df[\"age\"].value_counts() - postprocessed[\"age\"].value_counts()"
   ]
  },
  {
   "cell_type": "markdown",
   "id": "45d41aec",
   "metadata": {},
   "source": [
    "The same comment does not hold when using a perturbation level of 1.   \n",
    "A count of the number of modalities shows that new modalities were created during avatarization"
   ]
  },
  {
   "cell_type": "code",
   "execution_count": null,
   "id": "b5fc037b",
   "metadata": {},
   "outputs": [],
   "source": [
    "df[\"appearances\"].value_counts() - postprocessed[\"appearances\"].value_counts()"
   ]
  }
 ],
 "metadata": {
  "language_info": {
   "name": "python"
  }
 },
 "nbformat": 4,
 "nbformat_minor": 5
}
