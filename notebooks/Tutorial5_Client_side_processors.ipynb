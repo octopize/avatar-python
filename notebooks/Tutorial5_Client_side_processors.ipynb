{
 "cells": [
  {
   "cell_type": "markdown",
   "id": "6a24fbbf",
   "metadata": {},
   "source": [
    "# Tutorial 5: Client-side processors"
   ]
  },
  {
   "cell_type": "markdown",
   "id": "dc36f0ea",
   "metadata": {},
   "source": [
    "In this tutorial, we will learn how to prepare the data prior to running an avatarization by using processors on your local machine.\n",
    "\n",
    "This step is necessary in some cases to handle and preserve data characteristics that are not natively handled by the avatarization or its embedded processors.\n",
    "\n",
    "We'll also show how custom client-side processors can be defined to integrate domain knowledge into an avatarization."
   ]
  },
  {
   "cell_type": "markdown",
   "id": "fca8bd04",
   "metadata": {},
   "source": [
    "## Principles"
   ]
  },
  {
   "cell_type": "markdown",
   "id": "02cef554",
   "metadata": {},
   "source": [
    "![pipeline](img/pipeline.png)"
   ]
  },
  {
   "cell_type": "markdown",
   "id": "8d2ab3ce",
   "metadata": {},
   "source": [
    "## Connection"
   ]
  },
  {
   "cell_type": "code",
   "execution_count": null,
   "id": "2bb80d4d",
   "metadata": {},
   "outputs": [],
   "source": [
    "import os\n",
    "import secrets\n",
    "\n",
    "import pandas as pd\n",
    "\n",
    "from avatars.manager import Manager\n",
    "from avatars.models import JobKind\n",
    "\n",
    "url = os.environ.get(\"AVATAR_BASE_API_URL\", \"https://www.octopize.app/api\")\n",
    "username = os.environ.get(\"AVATAR_USERNAME\", \"\")\n",
    "password = os.environ.get(\"AVATAR_PASSWORD\", \"\")"
   ]
  },
  {
   "cell_type": "code",
   "execution_count": null,
   "id": "04222d49",
   "metadata": {},
   "outputs": [],
   "source": [
    "manager = Manager(base_url=url)\n",
    "# Authenticate with the server\n",
    "manager.authenticate(username, password)\n",
    "# Verify that we can connect to the API server\n",
    "manager.get_health()"
   ]
  },
  {
   "cell_type": "markdown",
   "id": "a1f9d732",
   "metadata": {},
   "source": [
    "## A helper processor to reduce the number of modalities"
   ]
  },
  {
   "cell_type": "markdown",
   "id": "04336b1a",
   "metadata": {},
   "source": [
    "We have seen in the previous tutorial one approach to handle categorical variables with large cardinality. We propose here an alternative way of doing this using a client-side processor.\n",
    "\n",
    "This processor will group modalities together to ensure the target variable has a requested number of modalities. The least represented modalities will be brought together under a `other` modality. Note that this transformation is irreversible (the original value cannot be infered from `other`). \n",
    "\n",
    "Because this is an irreversible operation, this transformation of the data should be done outside the pipeline. The transformed data will be used as a basis for comparison when computing utility and privacy metrics."
   ]
  },
  {
   "cell_type": "code",
   "execution_count": null,
   "id": "f3fb4ac3",
   "metadata": {},
   "outputs": [],
   "source": [
    "df = pd.read_csv(\"../fixtures/adult_with_cities.csv\").head(1000).drop([\"native-country\"], axis=1)\n",
    "df.head()"
   ]
  },
  {
   "cell_type": "markdown",
   "id": "9a2018d7",
   "metadata": {},
   "source": [
    "After loading the data, we decide we wish to reduce the number of modalities for the variable `city` which contains originally over 80 distinct values."
   ]
  },
  {
   "cell_type": "code",
   "execution_count": null,
   "id": "aac32acc",
   "metadata": {},
   "outputs": [],
   "source": [
    "df[\"city\"].value_counts()"
   ]
  },
  {
   "cell_type": "code",
   "execution_count": null,
   "id": "7ed772de",
   "metadata": {},
   "outputs": [],
   "source": [
    "from avatars.processors import GroupModalitiesProcessor\n",
    "\n",
    "group_modalities_processor = GroupModalitiesProcessor(\n",
    "    min_unique=10,  # number of modalities for a variable to be considered for grouping\n",
    "    global_threshold=25,  # if considered for grouping, number of individuals in modality to preserve it\n",
    "    new_category=\"other\",\n",
    ")"
   ]
  },
  {
   "cell_type": "code",
   "execution_count": null,
   "id": "9ea3e9dd",
   "metadata": {},
   "outputs": [],
   "source": [
    "df_preprocessed = group_modalities_processor.preprocess(df)"
   ]
  },
  {
   "cell_type": "markdown",
   "id": "867622bc",
   "metadata": {},
   "source": [
    "Once the group modality processor has been applied, we can confirm that the number of modalities for the `city` variables has been reduced"
   ]
  },
  {
   "cell_type": "code",
   "execution_count": null,
   "id": "57c9829e",
   "metadata": {},
   "outputs": [],
   "source": [
    "df_preprocessed[\"city\"].value_counts()"
   ]
  },
  {
   "cell_type": "code",
   "execution_count": null,
   "id": "ed2fb613",
   "metadata": {},
   "outputs": [],
   "source": [
    "runner = manager.create_runner(set_name=f\"tutorial5{secrets.token_hex(4)}\")\n",
    "runner.add_table(\n",
    "    \"adult\",\n",
    "    df_preprocessed,\n",
    ")\n",
    "runner.set_parameters(\"adult\", k=5)\n",
    "runner.run(jobs_to_run=[JobKind.standard])\n",
    "runner.get_all_results()"
   ]
  },
  {
   "cell_type": "code",
   "execution_count": null,
   "id": "3bdd2a1b",
   "metadata": {},
   "outputs": [],
   "source": [
    "avatars = runner.shuffled(\"adult\")\n",
    "avatars.head(3)"
   ]
  },
  {
   "cell_type": "code",
   "execution_count": null,
   "id": "d5a99371",
   "metadata": {},
   "outputs": [],
   "source": [
    "avatars[\"city\"].value_counts()"
   ]
  },
  {
   "cell_type": "markdown",
   "id": "0327a9b2",
   "metadata": {},
   "source": [
    "We observe that the avatars produced have a reduced number of cities and an extra `other` modality for the `city` variable. Note that the use of a client-side processor made the transformation of the data straightforward."
   ]
  }
 ],
 "metadata": {
  "language_info": {
   "name": "python"
  }
 },
 "nbformat": 4,
 "nbformat_minor": 5
}
