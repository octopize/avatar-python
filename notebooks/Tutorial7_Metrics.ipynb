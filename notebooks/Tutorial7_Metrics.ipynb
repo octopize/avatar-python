{
 "cells": [
  {
   "cell_type": "code",
   "execution_count": null,
   "id": "baafac15",
   "metadata": {},
   "outputs": [],
   "source": []
  },
  {
   "cell_type": "code",
   "execution_count": null,
   "id": "1e3380f1",
   "metadata": {},
   "outputs": [],
   "source": [
    "import os\n",
    "\n",
    "url = os.environ.get(\"AVATAR_BASE_URL\")\n",
    "username = os.environ.get(\"AVATAR_USERNAME\")\n",
    "password = os.environ.get(\"AVATAR_PASSWORD\")"
   ]
  },
  {
   "cell_type": "code",
   "execution_count": null,
   "id": "1915d535",
   "metadata": {},
   "outputs": [],
   "source": [
    "# This is the client that you'll be using for all of your requests\n",
    "from avatars.client import ApiClient\n",
    "from avatars.models import (\n",
    "    AvatarizationJobCreate,\n",
    "    AvatarizationParameters,\n",
    "    ImputationParameters,\n",
    "    ImputeMethod,\n",
    "    ExcludeCategoricalParameters,\n",
    "    ExcludeCategoricalMethod,\n",
    "    RareCategoricalMethod,\n",
    "    PrivacyMetricsJobCreate,\n",
    "    PrivacyMetricsParameters,\n",
    "    SignalMetricsJobCreate,\n",
    "    SignalMetricsParameters,\n",
    ")\n",
    "from avatars.models import ReportCreate\n",
    "\n",
    "from avatars.api import AvatarizationPipelineCreate\n",
    "from avatars.processors import ProportionProcessor\n",
    "from avatars.processors import GroupModalitiesProcessor\n",
    "from avatars.processors import RelativeDifferenceProcessor\n",
    "from avatars.processors import PerturbationProcessor\n",
    "from avatars.processors import ExpectedMeanProcessor\n",
    "from avatars.processors import DatetimeProcessor\n",
    "\n",
    "# The following are not necessary to run avatar but are used in this tutorial\n",
    "import pandas as pd\n",
    "import io\n",
    "import numpy as np\n",
    "import matplotlib.pyplot as plt\n",
    "import seaborn as sns\n",
    "\n",
    "# Change this to your actual server endpoint, e.g. base_url=\"https://avatar.company.com\"\n",
    "client = ApiClient(base_url=url)\n",
    "client.authenticate(username=username, password=password)\n",
    "\n",
    "# Verify that we can connect to the API server\n",
    "client.health.get_health()"
   ]
  },
  {
   "cell_type": "code",
   "execution_count": null,
   "id": "db5b3dec",
   "metadata": {},
   "outputs": [],
   "source": [
    "data1 = pd.read_csv(\"../fixtures/iris.csv\")\n",
    "data2 = pd.read_csv(\"../fixtures/iris.csv\")"
   ]
  },
  {
   "cell_type": "code",
   "execution_count": null,
   "id": "a17c132f",
   "metadata": {},
   "outputs": [],
   "source": [
    "dataset1 = client.pandas_integration.upload_dataframe(data1)\n",
    "dataset2 = client.pandas_integration.upload_dataframe(data2)"
   ]
  },
  {
   "cell_type": "code",
   "execution_count": null,
   "id": "6bf94a27",
   "metadata": {},
   "outputs": [],
   "source": [
    "dataset1"
   ]
  },
  {
   "cell_type": "code",
   "execution_count": null,
   "id": "126a25af",
   "metadata": {},
   "outputs": [],
   "source": [
    "dataset2"
   ]
  },
  {
   "cell_type": "markdown",
   "id": "396a9cd1",
   "metadata": {},
   "source": [
    "# Run privacy metrics"
   ]
  },
  {
   "cell_type": "code",
   "execution_count": null,
   "id": "690c4855",
   "metadata": {},
   "outputs": [],
   "source": [
    "privacy_job = client.jobs.create_privacy_metrics_job(\n",
    "    PrivacyMetricsJobCreate(\n",
    "        parameters=PrivacyMetricsParameters(\n",
    "            original_id=dataset1.id,\n",
    "            unshuffled_avatars_id=dataset2.id,\n",
    "        )\n",
    "    ),\n",
    "    timeout=100,\n",
    ")"
   ]
  },
  {
   "cell_type": "code",
   "execution_count": null,
   "id": "c37a1eb7",
   "metadata": {},
   "outputs": [],
   "source": [
    "privacy_job = client.jobs.get_privacy_metrics(\n",
    "    privacy_job.id, timeout=100, per_request_timeout=100\n",
    ")"
   ]
  },
  {
   "cell_type": "code",
   "execution_count": null,
   "id": "a946a21c",
   "metadata": {},
   "outputs": [],
   "source": [
    "privacy_job"
   ]
  },
  {
   "cell_type": "markdown",
   "id": "91debf97",
   "metadata": {},
   "source": [
    "# Run utility metrics"
   ]
  },
  {
   "cell_type": "code",
   "execution_count": null,
   "id": "aac03434",
   "metadata": {},
   "outputs": [],
   "source": [
    "signal_job = client.jobs.create_signal_metrics_job(\n",
    "    SignalMetricsJobCreate(\n",
    "        parameters=SignalMetricsParameters(\n",
    "            original_id=dataset1.id, avatars_id=dataset2.id\n",
    "        )\n",
    "    ),\n",
    "    timeout=100,\n",
    ")\n",
    "\n",
    "signal_job = client.jobs.get_signal_metrics(\n",
    "    signal_job.id, timeout=100, per_request_timeout=100\n",
    ")"
   ]
  },
  {
   "cell_type": "code",
   "execution_count": null,
   "id": "05699b0b",
   "metadata": {},
   "outputs": [],
   "source": [
    "signal_job"
   ]
  },
  {
   "cell_type": "code",
   "execution_count": null,
   "id": "03098a9b",
   "metadata": {},
   "outputs": [],
   "source": []
  }
 ],
 "metadata": {
  "language_info": {
   "name": "python"
  }
 },
 "nbformat": 4,
 "nbformat_minor": 5
}
