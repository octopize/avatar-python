{
 "cells": [
  {
   "cell_type": "markdown",
   "id": "bd4da671",
   "metadata": {},
   "source": [
    "# Tutorial 4: Time Series"
   ]
  },
  {
   "cell_type": "markdown",
   "id": "e69b0adf",
   "metadata": {},
   "source": [
    "In this tutorial, we will perform the avatarization of data containing time series variables. This is a specific case of a multitable avatarization"
   ]
  },
  {
   "cell_type": "markdown",
   "id": "b5b13fd0",
   "metadata": {},
   "source": [
    "## Connection"
   ]
  },
  {
   "cell_type": "code",
   "execution_count": null,
   "id": "9a6ea71c",
   "metadata": {},
   "outputs": [],
   "source": [
    "# This is the main file for the Avatar tutorial.\n",
    "from avatars.manager import Manager\n",
    "# The following are not necessary to run avatar but are used in this tutorial\n",
    "from avatars.models import JobKind\n",
    "from avatars.runner import Results\n",
    "from avatar_yaml.models.schema import LinkMethod\n",
    "from avatar_yaml.models.parameters import ProjectionType\n",
    "import numpy as np\n",
    "\n",
    "import seaborn as sns\n",
    "import matplotlib.pyplot as plt\n",
    "import pandas as pd\n",
    "import os\n",
    "\n",
    "url = os.environ.get(\"AVATAR_BASE_API_URL\",\"https://www.octopize.app/api\")\n",
    "username = os.environ.get(\"AVATAR_USERNAME\")\n",
    "password = os.environ.get(\"AVATAR_PASSWORD\")"
   ]
  },
  {
   "cell_type": "code",
   "execution_count": null,
   "id": "a3768e91",
   "metadata": {},
   "outputs": [],
   "source": [
    "manager = Manager(base_url=url)\n",
    "# Authenticate with the server\n",
    "manager.authenticate(username, password)\n",
    "# Verify that we can connect to the API server\n",
    "manager.get_health()"
   ]
  },
  {
   "cell_type": "markdown",
   "id": "c711ae85",
   "metadata": {},
   "source": [
    "## Loading data"
   ]
  },
  {
   "cell_type": "markdown",
   "id": "ab736ab5",
   "metadata": {},
   "source": [
    "In this tutorial, we use data that contains readings from 3 sensors for 200 individuals. The data is divided into 3 datasets as follows:\n",
    "- `sensors_vanilla.csv`: demographic data on individuals, each line refers to one individual and contains 15 variables (similar to adult data seen in previous tutorials)\n",
    "- `sensors_timeseries1.csv`: time series data for `sensor1` and `sensor2`. The data contains an identifier variable (`id`) and a time variable (`t`). There are several lines for each individual.\n",
    "- `sensors_timeseries2.csv`: time series data for `sensor3`. Note that this time series data can have different timestamps than the other time series and a different number of measurements."
   ]
  },
  {
   "cell_type": "code",
   "execution_count": null,
   "id": "7284e76f",
   "metadata": {},
   "outputs": [],
   "source": [
    "vanilla_df = pd.read_csv(\"../fixtures/sensors_vanilla.csv\")\n",
    "ts1_df = pd.read_csv(\"../fixtures/sensors_timeseries1.csv\")\n",
    "ts2_df = pd.read_csv(\"../fixtures/sensors_timeseries2.csv\")"
   ]
  },
  {
   "cell_type": "code",
   "execution_count": null,
   "id": "c494db7c",
   "metadata": {},
   "outputs": [],
   "source": [
    "vanilla_df.head()"
   ]
  },
  {
   "cell_type": "markdown",
   "id": "bea7be40",
   "metadata": {},
   "source": [
    "**Note that the vanilla data contains a column `id` required to link time series data point with each individual.**"
   ]
  },
  {
   "cell_type": "code",
   "execution_count": null,
   "id": "2a073741",
   "metadata": {},
   "outputs": [],
   "source": [
    "ts1_df"
   ]
  },
  {
   "cell_type": "code",
   "execution_count": null,
   "id": "b60367b9",
   "metadata": {},
   "outputs": [],
   "source": [
    "ts2_df"
   ]
  },
  {
   "cell_type": "markdown",
   "id": "f720a5f1",
   "metadata": {},
   "source": [
    "## Overview of data"
   ]
  },
  {
   "cell_type": "markdown",
   "id": "2dd513a6",
   "metadata": {},
   "source": [
    "We provide below a basic visualization function to better understand how the time series data look like."
   ]
  },
  {
   "cell_type": "code",
   "execution_count": null,
   "id": "a4ef4394",
   "metadata": {},
   "outputs": [],
   "source": [
    "from typing import Optional, Tuple\n",
    "import matplotlib.pyplot as plt\n",
    "import matplotlib\n",
    "\n",
    "\n",
    "def plot_series(\n",
    "    df: pd.DataFrame,\n",
    "    variable_to_plot: str,\n",
    "    id_variable: str,\n",
    "    time_variable: str,\n",
    "    proportion_to_plot: float = 1.0,\n",
    "    n_series_to_plot: Optional[int] = None,\n",
    "    figsize: Tuple[int, int] = (14, 8),\n",
    ") -> matplotlib.figure.Figure:\n",
    "    \"\"\"Plot given series.\"\"\"\n",
    "    if n_series_to_plot is None:\n",
    "        n_series_to_plot = df[id_variable].unique().shape[0]\n",
    "\n",
    "    df_tmp = df.copy()\n",
    "    df_tmp = df_tmp.sort_values(by=[id_variable, time_variable]).reset_index(drop=True)\n",
    "\n",
    "    cmap = plt.get_cmap(\"gist_rainbow\")\n",
    "\n",
    "    fig, ax = plt.subplots(figsize=figsize)\n",
    "    for id_nb, id_name in enumerate(set(df_tmp[id_variable])):\n",
    "        if id_nb > n_series_to_plot:\n",
    "            break\n",
    "        selected_records = df_tmp[df_tmp[id_variable] == id_name]\n",
    "        n_points = int(proportion_to_plot * len(selected_records))\n",
    "        selected_indices = np.linspace(0, len(selected_records) - 1, num=n_points)\n",
    "\n",
    "        x = selected_records[time_variable].iloc[selected_indices]\n",
    "        y = selected_records[variable_to_plot].iloc[selected_indices]\n",
    "        ax.plot(x, y, color=cmap(id_nb / n_series_to_plot))\n",
    "    ax.set_title(f\"Series for variable {variable_to_plot}\")\n",
    "    return fig"
   ]
  },
  {
   "cell_type": "markdown",
   "id": "4ca8e7a5",
   "metadata": {},
   "source": [
    "and we use it to plot sensor data for some individuals"
   ]
  },
  {
   "cell_type": "markdown",
   "id": "f8363c8c",
   "metadata": {},
   "source": [
    "### `sensor1` data"
   ]
  },
  {
   "cell_type": "code",
   "execution_count": null,
   "id": "83e22a4d",
   "metadata": {},
   "outputs": [],
   "source": [
    "plot = plot_series(\n",
    "    df := ts1_df,\n",
    "    variable_to_plot=\"sensor1\",\n",
    "    id_variable=\"id\",\n",
    "    time_variable=\"t\",\n",
    "    proportion_to_plot=1.0,\n",
    "    n_series_to_plot=None,\n",
    "    figsize=(14, 8),\n",
    ")\n",
    "plot.show()"
   ]
  },
  {
   "cell_type": "markdown",
   "id": "ce98daf9",
   "metadata": {},
   "source": [
    "###  `sensor2` data"
   ]
  },
  {
   "cell_type": "code",
   "execution_count": null,
   "id": "2466d748",
   "metadata": {},
   "outputs": [],
   "source": [
    "plot = plot_series(\n",
    "    df := ts1_df,\n",
    "    variable_to_plot=\"sensor2\",\n",
    "    id_variable=\"id\",\n",
    "    time_variable=\"t\",\n",
    "    proportion_to_plot=1.0,\n",
    "    n_series_to_plot=None,\n",
    "    figsize=(14, 8),\n",
    ")\n",
    "plot.show()"
   ]
  },
  {
   "cell_type": "markdown",
   "id": "14853c7d",
   "metadata": {},
   "source": [
    "### `sensor3` data"
   ]
  },
  {
   "cell_type": "code",
   "execution_count": null,
   "id": "37e3d133",
   "metadata": {},
   "outputs": [],
   "source": [
    "plot = plot_series(\n",
    "    df := ts2_df,\n",
    "    variable_to_plot=\"sensor3\",\n",
    "    id_variable=\"id\",\n",
    "    time_variable=\"t\",\n",
    "    proportion_to_plot=1.0,\n",
    "    n_series_to_plot=None,\n",
    "    figsize=(14, 8),\n",
    ")\n",
    "plot.show()"
   ]
  },
  {
   "cell_type": "markdown",
   "id": "ac8f954f",
   "metadata": {},
   "source": [
    "Now that we know what data we are maniplating, we can anonymize it."
   ]
  },
  {
   "cell_type": "markdown",
   "id": "4adc7b60",
   "metadata": {},
   "source": [
    "## Avatars of time series data"
   ]
  },
  {
   "cell_type": "markdown",
   "id": "3c7ddc0d",
   "metadata": {},
   "source": [
    "Avatarizing time_series data is a specific case of multitable avatarization. Please see Tutorial3. \n",
    "You will need to use a specific LinkMethod : `TIME_SERIES` and to specify the time scale variable `t`"
   ]
  },
  {
   "cell_type": "markdown",
   "id": "6b777223",
   "metadata": {},
   "source": [
    "### Upload data and save datasets"
   ]
  },
  {
   "cell_type": "code",
   "execution_count": null,
   "id": "f99368d6",
   "metadata": {},
   "outputs": [],
   "source": [
    "# First initialize the runner\n",
    "runner = manager.create_runner(\"tutorial_time_series\")\n",
    "\n",
    "# Then upload the data\n",
    "runner.add_table(\"vanilla\", vanilla_df, \n",
    "                 individual_level=True,primary_key=\"id\")\n",
    "runner.add_table(\"sensor1\", ts1_df, \n",
    "                 primary_key=\"primary_key\", \n",
    "                 foreign_keys=[\"id\"], \n",
    "                 time_series_time=\"t\")\n",
    "runner.add_table(\"sensor2\", ts2_df,\n",
    "                 primary_key=\"primary_key\", \n",
    "                 foreign_keys=[\"id\"], \n",
    "                 time_series_time=\"t\")"
   ]
  },
  {
   "cell_type": "markdown",
   "id": "b4a311fe",
   "metadata": {},
   "source": [
    "### add links between tables"
   ]
  },
  {
   "cell_type": "code",
   "execution_count": null,
   "id": "4c378e3b",
   "metadata": {},
   "outputs": [],
   "source": [
    "runner.add_link(\n",
    "    parent_table_name='vanilla', parent_field='id', child_table_name='sensor1', child_field='id', method=LinkMethod.TIME_SERIES,\n",
    ")\n",
    "\n",
    "runner.add_link(\n",
    "    parent_table_name='vanilla', parent_field='id', child_table_name='sensor2', child_field='id', method=LinkMethod.TIME_SERIES,\n",
    ")"
   ]
  },
  {
   "cell_type": "markdown",
   "id": "6dd8cb5b",
   "metadata": {},
   "source": [
    "### Create job and retrieve results\n",
    "\n",
    "This is done in a similar way than for the anonymization of classic tabular data.\n",
    "\n",
    "The attributes that are specific to time_series anonymization are:\n",
    "- `time_series_projection_type`: The projection parameters defines how the data will be transformed (aka projected) so that avatars can be generated. \n",
    "- `time_series_nf`:  This is the number of components used to represent each time series variable in the projection.\n",
    "- `time_series_nb_points` : \n",
    "- `time_series_method`:"
   ]
  },
  {
   "cell_type": "code",
   "execution_count": null,
   "id": "1d435656",
   "metadata": {},
   "outputs": [],
   "source": [
    "runner.set_parameters(\"vanilla\", k=5)\n",
    "runner.set_parameters(\"sensor1\", time_series_projection_type=ProjectionType.FLATTEN,time_series_nf=10)\n",
    "runner.set_parameters(\"sensor2\", time_series_projection_type=ProjectionType.FLATTEN,time_series_nf=10)"
   ]
  },
  {
   "cell_type": "code",
   "execution_count": null,
   "id": "9d2e0dd7",
   "metadata": {},
   "outputs": [],
   "source": [
    "runner.run()\n",
    "results=runner.get_all_results()"
   ]
  },
  {
   "cell_type": "markdown",
   "id": "abcb90e2",
   "metadata": {},
   "source": [
    "### Retrieve avatars\n",
    "\n",
    "Once generated, the avatar dataset are stored on the server and can be retrieved using their dataset names."
   ]
  },
  {
   "cell_type": "markdown",
   "id": "635d1dbd",
   "metadata": {},
   "source": [
    "### Checking your avatars: vanilla data "
   ]
  },
  {
   "cell_type": "code",
   "execution_count": null,
   "id": "ea01767a",
   "metadata": {},
   "outputs": [],
   "source": [
    "avatars_vanilla=runner.shuffled(\"vanilla\")\n",
    "avatars_vanilla.head()"
   ]
  },
  {
   "cell_type": "markdown",
   "id": "2cbd1aea",
   "metadata": {},
   "source": [
    "### Checking your avatars: `sensor1` and `sensor2`"
   ]
  },
  {
   "cell_type": "code",
   "execution_count": null,
   "id": "13a8412e",
   "metadata": {},
   "outputs": [],
   "source": [
    "avatars_ts1_df=runner.shuffled(\"sensor1\")\n",
    "avatars_ts1_df.head()"
   ]
  },
  {
   "cell_type": "code",
   "execution_count": null,
   "id": "9653d3c7",
   "metadata": {},
   "outputs": [],
   "source": [
    "plot = plot_series(\n",
    "    df := avatars_ts1_df,\n",
    "    variable_to_plot=\"sensor1\",\n",
    "    id_variable=\"id\",\n",
    "    time_variable=\"t\",\n",
    "    proportion_to_plot=1.0,\n",
    "    n_series_to_plot=None,\n",
    "    figsize=(14, 8),\n",
    ")\n",
    "plot.show()"
   ]
  },
  {
   "cell_type": "code",
   "execution_count": null,
   "id": "c235ae1e",
   "metadata": {},
   "outputs": [],
   "source": [
    "plot = plot_series(\n",
    "    df := avatars_ts1_df,\n",
    "    variable_to_plot=\"sensor2\",\n",
    "    id_variable=\"id\",\n",
    "    time_variable=\"t\",\n",
    "    proportion_to_plot=1.0,\n",
    "    n_series_to_plot=None,\n",
    "    figsize=(14, 8),\n",
    ")\n",
    "plot.show()"
   ]
  },
  {
   "cell_type": "markdown",
   "id": "6d118c2a",
   "metadata": {},
   "source": [
    "### Checking your avatars: `sensor3`"
   ]
  },
  {
   "cell_type": "code",
   "execution_count": null,
   "id": "e826c062",
   "metadata": {},
   "outputs": [],
   "source": [
    "avatars_ts2_df=runner.shuffled(\"sensor2\")\n",
    "avatars_ts2_df.head()"
   ]
  },
  {
   "cell_type": "code",
   "execution_count": null,
   "id": "a0eca9ef",
   "metadata": {},
   "outputs": [],
   "source": [
    "plot = plot_series(\n",
    "    df := avatars_ts2_df,\n",
    "    variable_to_plot=\"sensor3\",\n",
    "    id_variable=\"id\",\n",
    "    time_variable=\"t\",\n",
    "    proportion_to_plot=1.0,\n",
    "    n_series_to_plot=None,\n",
    "    figsize=(14, 8),\n",
    ")\n",
    "plot.show()"
   ]
  },
  {
   "cell_type": "markdown",
   "id": "efd0c3db",
   "metadata": {},
   "source": [
    "## Privacy metrics for time series"
   ]
  },
  {
   "cell_type": "markdown",
   "id": "46773eb1",
   "metadata": {},
   "source": [
    "As for any data, privacy metrics need to be computed on the output time series data to confirm that it is anonymous. We first retrieve the data required by the privacy metrics, that is the original datasets and their sensitive unshuffled counterparts. The unshuffled datasets are only used for computing the privacy metrics"
   ]
  },
  {
   "cell_type": "markdown",
   "id": "3756eb84",
   "metadata": {},
   "source": [
    "Metric results are calculated for each dataset and are stored in `privacy_job.result`"
   ]
  },
  {
   "cell_type": "code",
   "execution_count": null,
   "id": "6fc07343",
   "metadata": {},
   "outputs": [],
   "source": [
    "for metric_details in runner.privacy_metrics(\"vanilla\").items():\n",
    "    print(metric_details)"
   ]
  },
  {
   "cell_type": "code",
   "execution_count": null,
   "id": "644a88d8",
   "metadata": {},
   "outputs": [],
   "source": [
    "for metric_details in runner.privacy_metrics(\"sensor1\").items():\n",
    "    print(metric_details)"
   ]
  },
  {
   "cell_type": "code",
   "execution_count": null,
   "id": "7ee07cde",
   "metadata": {},
   "outputs": [],
   "source": [
    "for metric_details in runner.privacy_metrics(\"sensor2\").items():\n",
    "    print(metric_details)"
   ]
  },
  {
   "cell_type": "markdown",
   "id": "47055623",
   "metadata": {},
   "source": [
    "## Signal metrics for time series data"
   ]
  },
  {
   "cell_type": "code",
   "execution_count": null,
   "id": "e86994b9",
   "metadata": {},
   "outputs": [],
   "source": [
    "for metric_details in runner.signal_metrics(\"vanilla\").items():\n",
    "    print(metric_details)"
   ]
  },
  {
   "cell_type": "code",
   "execution_count": null,
   "id": "e6085d73",
   "metadata": {},
   "outputs": [],
   "source": [
    "for metric_details in runner.signal_metrics(\"sensor1\").items():\n",
    "    print(metric_details)"
   ]
  },
  {
   "cell_type": "code",
   "execution_count": null,
   "id": "5080665a",
   "metadata": {},
   "outputs": [],
   "source": [
    "for metric_details in runner.signal_metrics(\"sensor2\").items():\n",
    "    print(metric_details)"
   ]
  }
 ],
 "metadata": {
  "language_info": {
   "name": "python"
  }
 },
 "nbformat": 4,
 "nbformat_minor": 5
}
