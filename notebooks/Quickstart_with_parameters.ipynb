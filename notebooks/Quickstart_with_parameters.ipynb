{
 "cells": [
  {
   "cell_type": "markdown",
   "id": "d9dedea0",
   "metadata": {},
   "source": [
    "# Quickstart - Avatarization with parameters"
   ]
  },
  {
   "cell_type": "markdown",
   "id": "0d19851f",
   "metadata": {},
   "source": [
    "## Connection"
   ]
  },
  {
   "cell_type": "code",
   "execution_count": null,
   "id": "f57dff28",
   "metadata": {},
   "outputs": [],
   "source": [
    "# This is the client that you'll be using for all of your requests\n",
    "from avatars.client import ApiClient\n",
    "from avatars.models import (\n",
    "    AvatarizationJobCreate,\n",
    "    AvatarizationParameters,\n",
    "    JobStatus,\n",
    "    ReportCreate,\n",
    "    PrivacyMetricsJobCreate,\n",
    "    PrivacyMetricsParameters,\n",
    "    SignalMetricsJobCreate,\n",
    "    SignalMetricsParameters,\n",
    ")\n",
    "\n",
    "# The following are not necessary to run avatar but are used in this tutorial\n",
    "import pandas as pd\n",
    "import io\n",
    "import os\n",
    "\n",
    "url = os.environ.get(\"AVATAR_BASE_URL\")\n",
    "username = os.environ.get(\"AVATAR_USERNAME\")\n",
    "password = os.environ.get(\"AVATAR_PASSWORD\")\n",
    "print(url)"
   ]
  },
  {
   "cell_type": "code",
   "execution_count": null,
   "id": "8218db7f",
   "metadata": {},
   "outputs": [],
   "source": [
    "# Change this to your actual server endpoint, e.g. base_url=\"https://avatar.company.com\"\n",
    "client = ApiClient(base_url=url)\n",
    "client.authenticate(username=username, password=password)"
   ]
  },
  {
   "cell_type": "markdown",
   "id": "d7b6e2e1",
   "metadata": {},
   "source": [
    "## Loading data"
   ]
  },
  {
   "cell_type": "code",
   "execution_count": null,
   "id": "91f08768",
   "metadata": {},
   "outputs": [],
   "source": [
    "df = pd.read_csv(\"../fixtures/wbcd.csv\")\n",
    "dataset = client.pandas_integration.upload_dataframe(df)"
   ]
  },
  {
   "cell_type": "markdown",
   "id": "6a6a6279",
   "metadata": {},
   "source": [
    "## Analyze your data"
   ]
  },
  {
   "cell_type": "code",
   "execution_count": null,
   "id": "ed1a2366",
   "metadata": {},
   "outputs": [],
   "source": [
    "dataset = client.datasets.analyze_dataset(dataset.id)\n",
    "print(f\"Lines: {dataset.nb_lines}, dimensions: {dataset.nb_dimensions}\")"
   ]
  },
  {
   "cell_type": "markdown",
   "id": "4950fdf3",
   "metadata": {},
   "source": [
    "## Creating and launching an avatarization job and metrics"
   ]
  },
  {
   "cell_type": "code",
   "execution_count": null,
   "id": "a05fc8ca",
   "metadata": {},
   "outputs": [],
   "source": [
    "avatarization_job = client.jobs.create_avatarization_job(\n",
    "    AvatarizationJobCreate(\n",
    "        parameters=AvatarizationParameters(k=10, dataset_id=dataset.id),\n",
    "    )\n",
    ")\n",
    "\n",
    "avatarization_job = client.jobs.get_avatarization_job(\n",
    "    avatarization_job.id, timeout=1800\n",
    ")\n",
    "\n",
    "print(avatarization_job.id)\n",
    "print(avatarization_job.status)"
   ]
  },
  {
   "cell_type": "markdown",
   "id": "de32a85c",
   "metadata": {},
   "source": [
    "## Calculate Privacy Metrics"
   ]
  },
  {
   "cell_type": "code",
   "execution_count": null,
   "id": "2a898edf",
   "metadata": {},
   "outputs": [],
   "source": [
    "privacy_job = client.jobs.create_privacy_metrics_job(\n",
    "    PrivacyMetricsJobCreate(\n",
    "        parameters=PrivacyMetricsParameters(\n",
    "            original_id=dataset.id,\n",
    "            unshuffled_avatars_id=avatarization_job.result.sensitive_unshuffled_avatars_datasets.id,\n",
    "            closest_rate_percentage_threshold=0.3,\n",
    "            closest_rate_ratio_threshold=0.3,\n",
    "            known_variables=[dataset.columns[0].label, dataset.columns[1].label],\n",
    "            target=dataset.columns[-1].label,\n",
    "        ),\n",
    "    )\n",
    ")"
   ]
  },
  {
   "cell_type": "code",
   "execution_count": null,
   "id": "8378cc66",
   "metadata": {},
   "outputs": [],
   "source": [
    "privacy_job = client.jobs.get_privacy_metrics(privacy_job.id, timeout=1800)\n",
    "print(privacy_job.id)\n",
    "print(privacy_job.status)\n",
    "print(\"*** Privacy metrics ***\")\n",
    "for metric in privacy_job.result:\n",
    "    print(metric)"
   ]
  },
  {
   "cell_type": "markdown",
   "id": "efc1999b",
   "metadata": {},
   "source": [
    "## Calculate Utility Metrics"
   ]
  },
  {
   "cell_type": "code",
   "execution_count": null,
   "id": "28e492b7",
   "metadata": {},
   "outputs": [],
   "source": [
    "signal_job = client.jobs.create_signal_metrics_job(\n",
    "    SignalMetricsJobCreate(\n",
    "        parameters=SignalMetricsParameters(\n",
    "            original_id=dataset.id,\n",
    "            avatars_id=avatarization_job.result.avatars_dataset.id,\n",
    "        ),\n",
    "    )\n",
    ")"
   ]
  },
  {
   "cell_type": "code",
   "execution_count": null,
   "id": "439c19b4",
   "metadata": {},
   "outputs": [],
   "source": [
    "signal_job = client.jobs.get_signal_metrics(signal_job.id, timeout=1800)\n",
    "print(signal_job.id)\n",
    "print(signal_job.status)\n",
    "print(\"*** Utility metrics ***\")\n",
    "for metric in signal_job.result:\n",
    "    print(metric)"
   ]
  },
  {
   "cell_type": "markdown",
   "id": "87129bd2",
   "metadata": {},
   "source": [
    "## Retrieve avatars"
   ]
  },
  {
   "cell_type": "code",
   "execution_count": null,
   "id": "8d496d1a",
   "metadata": {},
   "outputs": [],
   "source": [
    "# Download the avatars as a pandas dataframe\n",
    "avatars_df = client.pandas_integration.download_dataframe(\n",
    "    avatarization_job.result.avatars_dataset.id\n",
    ")\n",
    "\n",
    "avatars_str = avatars_df.to_csv()\n",
    "with open(\"./avatar_output.csv\", \"wb\") as f:\n",
    "    f.write(avatars_str.encode())"
   ]
  },
  {
   "cell_type": "markdown",
   "id": "01a9b7d5",
   "metadata": {},
   "source": [
    "## Retrieving the avatarization report"
   ]
  },
  {
   "cell_type": "code",
   "execution_count": null,
   "id": "297c77fd",
   "metadata": {},
   "outputs": [],
   "source": [
    "report = client.reports.create_report(\n",
    "    ReportCreate(\n",
    "        avatarization_job_id=avatarization_job.id,\n",
    "        privacy_job_id=privacy_job.id,\n",
    "        signal_job_id=signal_job.id,\n",
    "    ),\n",
    "    timeout=240,\n",
    ")\n",
    "print(report)\n",
    "print(report.id)"
   ]
  },
  {
   "cell_type": "code",
   "execution_count": null,
   "id": "20c30f54",
   "metadata": {},
   "outputs": [],
   "source": [
    "result = client.reports.download_report(id=report.id)\n",
    "\n",
    "with open(\"./my_avatarization_report.pdf\", \"wb\") as f:\n",
    "    f.write(result)"
   ]
  }
 ],
 "metadata": {
  "language_info": {
   "name": "python"
  }
 },
 "nbformat": 4,
 "nbformat_minor": 5
}
