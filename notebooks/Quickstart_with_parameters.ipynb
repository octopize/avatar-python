{
 "cells": [
  {
   "attachments": {},
   "cell_type": "markdown",
   "id": "d9dedea0",
   "metadata": {},
   "source": [
    "# Quickstart - Avatarization with parameters"
   ]
  },
  {
   "cell_type": "markdown",
   "id": "0d19851f",
   "metadata": {},
   "source": [
    "## Connection"
   ]
  },
  {
   "cell_type": "code",
   "execution_count": null,
   "id": "f57dff28",
   "metadata": {},
   "outputs": [],
   "source": [
    "# This is the client that you'll be using for all of your requests\n",
    "from avatars.client import ApiClient\n",
    "from avatars.models import AvatarizationJobCreate, AvatarizationParameters\n",
    "from avatars.models import ReportCreate\n",
    "from avatars.models import PrivacyMetricsJobCreate, PrivacyMetricsParameters\n",
    "from avatars.models import SignalMetricsJobCreate, SignalMetricsParameters\n",
    "\n",
    "# The following are not necessary to run avatar but are used in this tutorial\n",
    "import pandas as pd\n",
    "import io\n",
    "import os\n",
    "\n",
    "url = os.environ.get(\"AVATAR_BASE_URL\")\n",
    "username = os.environ.get(\"AVATAR_USERNAME\")\n",
    "password = os.environ.get(\"AVATAR_PASSWORD\")\n",
    "print(url)"
   ]
  },
  {
   "cell_type": "code",
   "execution_count": null,
   "id": "8218db7f",
   "metadata": {},
   "outputs": [],
   "source": [
    "# Change this to your actual server endpoint, e.g. base_url=\"https://avatar.company.com\"\n",
    "client = ApiClient(base_url=url)\n",
    "client.authenticate(username=username, password=password)"
   ]
  },
  {
   "cell_type": "markdown",
   "id": "d7b6e2e1",
   "metadata": {},
   "source": [
    "## Loading data"
   ]
  },
  {
   "cell_type": "code",
   "execution_count": null,
   "id": "91f08768",
   "metadata": {},
   "outputs": [],
   "source": [
    "df = pd.read_csv(\"../fixtures/iris.csv\")\n",
    "dataset = client.pandas_integration.upload_dataframe(df)"
   ]
  },
  {
   "attachments": {},
   "cell_type": "markdown",
   "id": "6a6a6279",
   "metadata": {},
   "source": [
    "## Analyze your data"
   ]
  },
  {
   "cell_type": "code",
   "execution_count": null,
   "id": "ed1a2366",
   "metadata": {},
   "outputs": [],
   "source": [
    "while dataset.summary is None:\n",
    "    dataset = client.datasets.analyze_dataset(dataset.id)"
   ]
  },
  {
   "cell_type": "code",
   "execution_count": null,
   "id": "3aab4ac0",
   "metadata": {},
   "outputs": [],
   "source": [
    "for var in dataset.summary.stats:\n",
    "    print(\"---------\")\n",
    "    for stat in var:\n",
    "        print(stat)"
   ]
  },
  {
   "attachments": {},
   "cell_type": "markdown",
   "id": "4950fdf3",
   "metadata": {},
   "source": [
    "## Creating and launching an avatarization job and metrics"
   ]
  },
  {
   "cell_type": "code",
   "execution_count": null,
   "id": "a05fc8ca",
   "metadata": {},
   "outputs": [],
   "source": [
    "avatarization_job = client.jobs.create_avatarization_job(\n",
    "    AvatarizationJobCreate(\n",
    "        parameters=AvatarizationParameters(k=20, dataset_id=dataset.id),\n",
    "    )\n",
    ")\n",
    "\n",
    "avatarization_job = client.jobs.get_avatarization_job(avatarization_job.id, timeout=10)\n",
    "print(avatarization_job.status)\n",
    "print(avatarization_job.result)  # there is no metrics"
   ]
  },
  {
   "attachments": {},
   "cell_type": "markdown",
   "id": "de32a85c",
   "metadata": {},
   "source": [
    "## Calculate Privacy Metrics"
   ]
  },
  {
   "cell_type": "code",
   "execution_count": null,
   "id": "2a898edf",
   "metadata": {},
   "outputs": [],
   "source": [
    "privacy_job = client.jobs.create_privacy_metrics_job(\n",
    "    PrivacyMetricsJobCreate(\n",
    "        parameters=PrivacyMetricsParameters(\n",
    "            original_id=dataset.id,\n",
    "            unshuffled_avatars_id=avatarization_job.result.sensitive_unshuffled_avatars_datasets.id,\n",
    "            closest_rate_percentage_threshold=0.3,\n",
    "            closest_rate_ratio_threshold=0.3,\n",
    "            known_variables=[\n",
    "                \"sepal.length\",\n",
    "                \"petal.length\",\n",
    "            ],\n",
    "            target=\"variety\"\n",
    "        ),\n",
    "    )\n",
    ")\n",
    "\n",
    "privacy_job = client.jobs.get_privacy_metrics(privacy_job.id, timeout=10)\n",
    "\n",
    "print(privacy_job.status)\n",
    "print(\"*** Privacy metrics ***\")\n",
    "for metric in privacy_job.result:\n",
    "    print(metric)"
   ]
  },
  {
   "attachments": {},
   "cell_type": "markdown",
   "id": "efc1999b",
   "metadata": {},
   "source": [
    "## Calculate Utility Metrics"
   ]
  },
  {
   "cell_type": "code",
   "execution_count": null,
   "id": "28e492b7",
   "metadata": {},
   "outputs": [],
   "source": [
    "signal_job = client.jobs.create_signal_metrics_job(\n",
    "    SignalMetricsJobCreate(\n",
    "        parameters=SignalMetricsParameters(\n",
    "            original_id=dataset.id,\n",
    "            avatars_id=avatarization_job.result.avatars_dataset.id\n",
    "        ),\n",
    "    )\n",
    ")\n",
    "\n",
    "signal_job = client.jobs.get_signal_metrics(signal_job.id, timeout=10)\n",
    "print(signal_job.status)\n",
    "print(\"*** Utility metrics ***\")\n",
    "for metric in signal_job.result:\n",
    "    print(metric)"
   ]
  },
  {
   "attachments": {},
   "cell_type": "markdown",
   "id": "87129bd2",
   "metadata": {},
   "source": [
    "## Retrieve avatars"
   ]
  },
  {
   "cell_type": "code",
   "execution_count": null,
   "id": "8d496d1a",
   "metadata": {},
   "outputs": [],
   "source": [
    "# Download the avatars as a string\n",
    "avatars_str = client.datasets.download_dataset(avatarization_job.result.avatars_dataset.id)\n",
    "\n",
    "# Download the avatars as a pandas dataframe\n",
    "avatars_df = client.pandas_integration.download_dataframe(avatarization_job.result.avatars_dataset.id)"
   ]
  },
  {
   "cell_type": "markdown",
   "id": "01a9b7d5",
   "metadata": {},
   "source": [
    "## Retrieving the avatarization report"
   ]
  },
  {
   "cell_type": "code",
   "execution_count": null,
   "id": "297c77fd",
   "metadata": {},
   "outputs": [],
   "source": [
    "report = client.reports.create_report(\n",
    "    ReportCreate(\n",
    "        avatarization_job_id=avatarization_job.id,\n",
    "        privacy_job_id=privacy_job.id,\n",
    "        signal_job_id=signal_job.id,\n",
    "    ),\n",
    "    timeout=10,\n",
    ")\n",
    "result = client.reports.download_report(id=report.id)\n",
    "\n",
    "with open(\"./my_avatarization_report.pdf\", \"wb\") as f:\n",
    "    f.write(result)"
   ]
  },
  {
   "cell_type": "markdown",
   "id": "47934893",
   "metadata": {},
   "source": [
    "The report is now generated and available on your machine"
   ]
  }
 ],
 "metadata": {
  "kernelspec": {
   "display_name": "env",
   "language": "python",
   "name": "python3"
  },
  "language_info": {
   "codemirror_mode": {
    "name": "ipython",
    "version": 3
   },
   "file_extension": ".py",
   "mimetype": "text/x-python",
   "name": "python",
   "nbconvert_exporter": "python",
   "pygments_lexer": "ipython3",
   "version": "3.9.16"
  },
  "vscode": {
   "interpreter": {
    "hash": "2c80c3d4a0763946398bf138754d171ee37a3966a956a24ed535955e309e42c7"
   }
  }
 },
 "nbformat": 4,
 "nbformat_minor": 5
}
