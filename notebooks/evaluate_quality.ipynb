{
 "cells": [
  {
   "cell_type": "markdown",
   "id": "767ea46a",
   "metadata": {},
   "source": [
    "## Comparison tutorial\n",
    "This tutorial offer a pipeline in order to evaluate the quality of an avatarization.\n"
   ]
  },
  {
   "cell_type": "code",
   "execution_count": null,
   "id": "4003228c",
   "metadata": {},
   "outputs": [],
   "source": [
    "import numpy as np\n",
    "import pandas as pd\n",
    "\n",
    "import seaborn as sns\n",
    "import missingno as msno\n",
    "import saiph\n",
    "import matplotlib.pyplot as plt\n",
    "\n",
    "from pandas_profiling import ProfileReport"
   ]
  },
  {
   "cell_type": "markdown",
   "id": "73c4def8",
   "metadata": {},
   "source": [
    "## Import data "
   ]
  },
  {
   "cell_type": "code",
   "execution_count": null,
   "id": "1a3e18cf",
   "metadata": {},
   "outputs": [],
   "source": [
    "path_original = \"https://raw.githubusercontent.com/octopize/avatar-paper/main/datasets/AIDS/aids_original_data.csv\"\n",
    "df = pd.read_csv(path_original, sep=\";\").drop(columns=[\"pidnum\"])\n",
    "\n",
    "path_avatar = \"https://raw.githubusercontent.com/octopize/avatar-paper/main/datasets/AIDS/aids_avatarized_base_k20_nf5.csv\"\n",
    "avatar = pd.read_csv(path_avatar)\n",
    "\n",
    "VALUE = 10\n",
    "for col in df.columns:\n",
    "    if len(np.unique(df[col])) < VALUE:\n",
    "        df[col] = df[col].astype(\"category\")\n",
    "\n",
    "avatar = avatar.astype(df.dtypes.to_dict())"
   ]
  },
  {
   "cell_type": "code",
   "execution_count": null,
   "id": "e86be724",
   "metadata": {},
   "outputs": [],
   "source": [
    "df"
   ]
  },
  {
   "cell_type": "code",
   "execution_count": null,
   "id": "911fbc17",
   "metadata": {},
   "outputs": [],
   "source": [
    "df[\"type\"] = \"original\"\n",
    "avatar[\"type\"] = \"avatar\"\n",
    "\n",
    "combined = pd.concat([df, avatar], axis=0).reset_index(drop=True)\n",
    "numerics = [\"int\", \"float\"]\n",
    "col_num = df.select_dtypes(include=numerics).columns\n",
    "categorical = [\"object\", \"category\"]\n",
    "col_cat = df.select_dtypes(include=categorical).columns\n",
    "\n",
    "\n",
    "combined.tail()"
   ]
  },
  {
   "cell_type": "markdown",
   "id": "4feaccb6",
   "metadata": {},
   "source": [
    "## Univariate comparison \n",
    "You can here compare distributions between original and avatar data.  \n",
    "\n",
    "If distributions are not well preserved, you can work with the parameter `columns_weight` in your avatarization."
   ]
  },
  {
   "cell_type": "code",
   "execution_count": null,
   "id": "507a9db8",
   "metadata": {},
   "outputs": [],
   "source": [
    "# Distribution continuous\n",
    "for col in col_num:\n",
    "    print(col)\n",
    "    sns.displot(data=combined, x=col, hue=\"type\", kind=\"kde\")"
   ]
  },
  {
   "cell_type": "code",
   "execution_count": null,
   "id": "4b410c8c",
   "metadata": {},
   "outputs": [],
   "source": [
    "# Distribution categorical\n",
    "for col in col_cat:\n",
    "    print(col)\n",
    "    plt.figure()\n",
    "    ax = sns.countplot(\n",
    "        data=combined,\n",
    "        x=col,\n",
    "        hue=\"type\",\n",
    "    )"
   ]
  },
  {
   "cell_type": "markdown",
   "id": "8c7347a5",
   "metadata": {},
   "source": [
    "#### Missing data\n",
    "You are here comparing missing data between original and avatar data. \n",
    "\n",
    "If you want to improve the quality of missing data, you can use the parameter `imputation` in your avatarization."
   ]
  },
  {
   "cell_type": "code",
   "execution_count": null,
   "id": "1313dce4",
   "metadata": {},
   "outputs": [],
   "source": [
    "# Missng nan\n",
    "msno.matrix(avatar)\n",
    "msno.matrix(df)\n",
    "\n",
    "print(f\"The total number of missing values in avatar : {avatar.isna().values.sum()}\")\n",
    "print(f\"The total number of missing values in original : {df.isna().values.sum()}\")\n",
    "\n",
    "avatar_missing_ratio = avatar.isna().values.sum() / avatar.count().count()\n",
    "df_missing_ratio = df.isna().values.sum() / df.count().count()\n",
    "\n",
    "print(f\"The percentage of missing values in avatar: {avatar_missing_ratio}\")\n",
    "print(f\"The percentage of missing values in original: {df_missing_ratio}\")"
   ]
  },
  {
   "cell_type": "markdown",
   "id": "ad4edaec",
   "metadata": {},
   "source": [
    "## Bivariate comparison\n",
    "\n",
    "We compare bivariate analysis. We are computing Pearson correlation. \n",
    "\n",
    "If you want to compare correlations between continuous and categorical variables, you can use Phik correlation (with the `phik` package).\n",
    "\n",
    "If correlations are not well preserved during the avatarization, you can work with the `column_weight` parameter to add weight to your variables of interest."
   ]
  },
  {
   "cell_type": "code",
   "execution_count": null,
   "id": "73f36d87",
   "metadata": {},
   "outputs": [],
   "source": [
    "# correlation differences\n",
    "original_corr = df.corr(method=\"pearson\")\n",
    "avatar_corr = avatar.corr(method=\"pearson\")\n",
    "corr_diff = abs(original_corr - avatar_corr).round(2)\n",
    "sns.heatmap(\n",
    "    corr_diff,\n",
    "    vmax=1,\n",
    "    vmin=0,\n",
    "    square=True,\n",
    "    linewidths=0.5,\n",
    "    cbar_kws={\"shrink\": 0.5},\n",
    ")"
   ]
  },
  {
   "cell_type": "markdown",
   "id": "e1e9cc66",
   "metadata": {},
   "source": [
    "## Multivariate comparison \n",
    "\n",
    "We compare multi-variate structures. \n",
    "\n",
    "In short, we are checking if the structure of the dataset is preserved. \n",
    "\n",
    "Datasets should have the same projection on the maximum of the dimensions.\n",
    "\n",
    "If your projections are not well preserved, you can work with the `ncp` parameter of your avatarization."
   ]
  },
  {
   "cell_type": "code",
   "execution_count": null,
   "id": "0ff30351",
   "metadata": {},
   "outputs": [],
   "source": [
    "# Projection\n",
    "missing_columns = [\"cd496\"]  # drop missing data to project\n",
    "df_proj = df.drop(columns=missing_columns)\n",
    "avatar_proj = avatar.drop(columns=missing_columns)\n",
    "\n",
    "NB_IND = 1000  # number of individuals to fit the model.\n",
    "model = saiph.fit(df_proj.sample(NB_IND).reset_index(drop=True), nf=5)\n",
    "coord_df = saiph.transform(df_proj, model)\n",
    "coord_avatar = saiph.transform(avatar_proj, model)\n",
    "coord_df"
   ]
  },
  {
   "cell_type": "code",
   "execution_count": null,
   "id": "8c71ea13",
   "metadata": {},
   "outputs": [],
   "source": [
    "from saiph.visualization import plot_projections\n",
    "\n",
    "plot_projections(model, df_proj)"
   ]
  },
  {
   "cell_type": "code",
   "execution_count": null,
   "id": "efabceca",
   "metadata": {},
   "outputs": [],
   "source": [
    "plot_projections(model, avatar_proj)"
   ]
  }
 ],
 "metadata": {
  "kernelspec": {
   "display_name": "Python env test",
   "language": "python",
   "name": "tmp-pole-emploi"
  },
  "language_info": {
   "codemirror_mode": {
    "name": "ipython",
    "version": 3
   },
   "file_extension": ".py",
   "mimetype": "text/x-python",
   "name": "python",
   "nbconvert_exporter": "python",
   "pygments_lexer": "ipython3",
   "version": "3.9.13"
  }
 },
 "nbformat": 4,
 "nbformat_minor": 5
}
