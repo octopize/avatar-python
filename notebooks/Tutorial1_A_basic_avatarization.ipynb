{
 "cells": [
  {
   "cell_type": "markdown",
   "id": "d9dedea0",
   "metadata": {},
   "source": [
    "# Tutorial 1: A basic avatarization"
   ]
  },
  {
   "cell_type": "markdown",
   "id": "272b8b07",
   "metadata": {},
   "source": [
    "In this tutorial, we will connect to a server to perform the avatarization of a dataset that does not require any pre-processing. We'll retrieve the anonymized dataset and the associated avatarization report. "
   ]
  },
  {
   "cell_type": "markdown",
   "id": "0d19851f",
   "metadata": {},
   "source": [
    "## Connection"
   ]
  },
  {
   "cell_type": "code",
   "execution_count": 1,
   "id": "f57dff28",
   "metadata": {},
   "outputs": [
    {
     "data": {
      "text/plain": [
       "'julien@octopize.io'"
      ]
     },
     "execution_count": 1,
     "metadata": {},
     "output_type": "execute_result"
    }
   ],
   "source": [
    "import os\n",
    "\n",
    "url = os.environ.get(\"AVATAR_BASE_URL\")\n",
    "username = os.environ.get(\"AVATAR_USERNAME\")\n",
    "password = os.environ.get(\"AVATAR_PASSWORD\")\n",
    "username"
   ]
  },
  {
   "cell_type": "code",
   "execution_count": 2,
   "id": "8218db7f",
   "metadata": {},
   "outputs": [],
   "source": [
    "# This is the client that you'll be using for all of your requests\n",
    "from avatars.client import ApiClient\n",
    "from avatars.models import AvatarizationJobCreate, AvatarizationParameters\n",
    "from avatars.models import ReportCreate\n",
    "\n",
    "import pandas as pd\n",
    "import io\n",
    "\n",
    "# Change this to your actual server endpoint, e.g. base_url=\"https://avatar.company.com\"\n",
    "client = ApiClient(base_url=url)\n",
    "client.authenticate(username=username, password=password)"
   ]
  },
  {
   "cell_type": "code",
   "execution_count": 3,
   "id": "bd6359a6",
   "metadata": {},
   "outputs": [
    {
     "data": {
      "text/plain": [
       "{'message': 'ok'}"
      ]
     },
     "execution_count": 3,
     "metadata": {},
     "output_type": "execute_result"
    }
   ],
   "source": [
    "# Verify that we can connect to the API server\n",
    "client.health.get_health()"
   ]
  },
  {
   "cell_type": "code",
   "execution_count": 4,
   "id": "4a10ae8e",
   "metadata": {},
   "outputs": [
    {
     "data": {
      "text/plain": [
       "CompatibilityResponse(message='Compatible client.', most_recent_compatible_client='0.10.0', status=<CompatibilityStatus.compatible: 'compatible'>)"
      ]
     },
     "execution_count": 4,
     "metadata": {},
     "output_type": "execute_result"
    }
   ],
   "source": [
    "# Verify that the client is compatible.\n",
    "client.compatibility.is_client_compatible()"
   ]
  },
  {
   "cell_type": "markdown",
   "id": "d7b6e2e1",
   "metadata": {},
   "source": [
    "## Loading data"
   ]
  },
  {
   "cell_type": "markdown",
   "id": "d21eac5a",
   "metadata": {},
   "source": [
    "We recommend loading your csv file as a pandas dataframe. It enables you to check your data before avatarization and to pre-process it if required. \n",
    "\n",
    "In this tutorial, we use the simple and well-known `iris` dataset to demonstrate the main steps of an avatarization."
   ]
  },
  {
   "cell_type": "code",
   "execution_count": 5,
   "id": "91f08768",
   "metadata": {},
   "outputs": [],
   "source": [
    "df = pd.read_csv(\"../fixtures/iris.csv\")"
   ]
  },
  {
   "cell_type": "code",
   "execution_count": 6,
   "id": "16f2c5ab",
   "metadata": {},
   "outputs": [
    {
     "data": {
      "text/html": [
       "<div>\n",
       "<style scoped>\n",
       "    .dataframe tbody tr th:only-of-type {\n",
       "        vertical-align: middle;\n",
       "    }\n",
       "\n",
       "    .dataframe tbody tr th {\n",
       "        vertical-align: top;\n",
       "    }\n",
       "\n",
       "    .dataframe thead th {\n",
       "        text-align: right;\n",
       "    }\n",
       "</style>\n",
       "<table border=\"1\" class=\"dataframe\">\n",
       "  <thead>\n",
       "    <tr style=\"text-align: right;\">\n",
       "      <th></th>\n",
       "      <th>sepal.length</th>\n",
       "      <th>sepal.width</th>\n",
       "      <th>petal.length</th>\n",
       "      <th>petal.width</th>\n",
       "      <th>variety</th>\n",
       "    </tr>\n",
       "  </thead>\n",
       "  <tbody>\n",
       "    <tr>\n",
       "      <th>0</th>\n",
       "      <td>5.1</td>\n",
       "      <td>3.5</td>\n",
       "      <td>1.4</td>\n",
       "      <td>0.2</td>\n",
       "      <td>Setosa</td>\n",
       "    </tr>\n",
       "    <tr>\n",
       "      <th>1</th>\n",
       "      <td>4.9</td>\n",
       "      <td>3.0</td>\n",
       "      <td>1.4</td>\n",
       "      <td>0.2</td>\n",
       "      <td>Setosa</td>\n",
       "    </tr>\n",
       "    <tr>\n",
       "      <th>2</th>\n",
       "      <td>4.7</td>\n",
       "      <td>3.2</td>\n",
       "      <td>1.3</td>\n",
       "      <td>0.2</td>\n",
       "      <td>Setosa</td>\n",
       "    </tr>\n",
       "    <tr>\n",
       "      <th>3</th>\n",
       "      <td>4.6</td>\n",
       "      <td>3.1</td>\n",
       "      <td>1.5</td>\n",
       "      <td>0.2</td>\n",
       "      <td>Setosa</td>\n",
       "    </tr>\n",
       "    <tr>\n",
       "      <th>4</th>\n",
       "      <td>5.0</td>\n",
       "      <td>3.6</td>\n",
       "      <td>1.4</td>\n",
       "      <td>0.2</td>\n",
       "      <td>Setosa</td>\n",
       "    </tr>\n",
       "    <tr>\n",
       "      <th>...</th>\n",
       "      <td>...</td>\n",
       "      <td>...</td>\n",
       "      <td>...</td>\n",
       "      <td>...</td>\n",
       "      <td>...</td>\n",
       "    </tr>\n",
       "    <tr>\n",
       "      <th>145</th>\n",
       "      <td>6.7</td>\n",
       "      <td>3.0</td>\n",
       "      <td>5.2</td>\n",
       "      <td>2.3</td>\n",
       "      <td>Virginica</td>\n",
       "    </tr>\n",
       "    <tr>\n",
       "      <th>146</th>\n",
       "      <td>6.3</td>\n",
       "      <td>2.5</td>\n",
       "      <td>5.0</td>\n",
       "      <td>1.9</td>\n",
       "      <td>Virginica</td>\n",
       "    </tr>\n",
       "    <tr>\n",
       "      <th>147</th>\n",
       "      <td>6.5</td>\n",
       "      <td>3.0</td>\n",
       "      <td>5.2</td>\n",
       "      <td>2.0</td>\n",
       "      <td>Virginica</td>\n",
       "    </tr>\n",
       "    <tr>\n",
       "      <th>148</th>\n",
       "      <td>6.2</td>\n",
       "      <td>3.4</td>\n",
       "      <td>5.4</td>\n",
       "      <td>2.3</td>\n",
       "      <td>Virginica</td>\n",
       "    </tr>\n",
       "    <tr>\n",
       "      <th>149</th>\n",
       "      <td>5.9</td>\n",
       "      <td>3.0</td>\n",
       "      <td>5.1</td>\n",
       "      <td>1.8</td>\n",
       "      <td>Virginica</td>\n",
       "    </tr>\n",
       "  </tbody>\n",
       "</table>\n",
       "<p>150 rows × 5 columns</p>\n",
       "</div>"
      ],
      "text/plain": [
       "     sepal.length  sepal.width  petal.length  petal.width    variety\n",
       "0             5.1          3.5           1.4          0.2     Setosa\n",
       "1             4.9          3.0           1.4          0.2     Setosa\n",
       "2             4.7          3.2           1.3          0.2     Setosa\n",
       "3             4.6          3.1           1.5          0.2     Setosa\n",
       "4             5.0          3.6           1.4          0.2     Setosa\n",
       "..            ...          ...           ...          ...        ...\n",
       "145           6.7          3.0           5.2          2.3  Virginica\n",
       "146           6.3          2.5           5.0          1.9  Virginica\n",
       "147           6.5          3.0           5.2          2.0  Virginica\n",
       "148           6.2          3.4           5.4          2.3  Virginica\n",
       "149           5.9          3.0           5.1          1.8  Virginica\n",
       "\n",
       "[150 rows x 5 columns]"
      ]
     },
     "execution_count": 6,
     "metadata": {},
     "output_type": "execute_result"
    }
   ],
   "source": [
    "df"
   ]
  },
  {
   "cell_type": "code",
   "execution_count": 7,
   "id": "879e71d7",
   "metadata": {},
   "outputs": [
    {
     "name": "stdout",
     "output_type": "stream",
     "text": [
      "id=UUID('ede1736a-93b9-46aa-9580-fec047e8016f') hash='e3b0c44298fc1c149afbf4c8996fb92427ae41e4649b934ca495991b7852b855' name=None columns=[ColumnDetail(type=<ColumnType.float: 'float'>, label='sepal.length', is_identifier=False), ColumnDetail(type=<ColumnType.float: 'float'>, label='sepal.width', is_identifier=False), ColumnDetail(type=<ColumnType.float: 'float'>, label='petal.length', is_identifier=False), ColumnDetail(type=<ColumnType.float: 'float'>, label='petal.width', is_identifier=False), ColumnDetail(type=<ColumnType.category: 'category'>, label='variety', is_identifier=False)] download_url='https://octopize.octopize.app/datasets/ede1736a-93b9-46aa-9580-fec047e8016f/download' analysis_status=None analysis_duration=None nb_lines=150 nb_dimensions=7 summary=None filetype=<FileType.parquet: 'parquet'>\n"
     ]
    }
   ],
   "source": [
    "dataset = client.pandas_integration.upload_dataframe(df)\n",
    "print(dataset)"
   ]
  },
  {
   "cell_type": "markdown",
   "id": "917ded7b",
   "metadata": {},
   "source": [
    "The data has now been loaded onto the server. \n",
    "\n",
    "Note that it is also possible to directly load a csv file without using pandas. "
   ]
  },
  {
   "cell_type": "code",
   "execution_count": 8,
   "id": "23d6de24",
   "metadata": {},
   "outputs": [
    {
     "name": "stdout",
     "output_type": "stream",
     "text": [
      "id=UUID('3f16a425-0335-4a4f-806c-82dfe9f1c62b') hash='e3b0c44298fc1c149afbf4c8996fb92427ae41e4649b934ca495991b7852b855' name=None columns=[ColumnDetail(type=<ColumnType.float: 'float'>, label='sepal.length', is_identifier=False), ColumnDetail(type=<ColumnType.float: 'float'>, label='sepal.width', is_identifier=False), ColumnDetail(type=<ColumnType.float: 'float'>, label='petal.length', is_identifier=False), ColumnDetail(type=<ColumnType.float: 'float'>, label='petal.width', is_identifier=False), ColumnDetail(type=<ColumnType.category: 'category'>, label='variety', is_identifier=False)] download_url='https://octopize.octopize.app/datasets/3f16a425-0335-4a4f-806c-82dfe9f1c62b/download' analysis_status=None analysis_duration=None nb_lines=150 nb_dimensions=7 summary=None filetype=<FileType.csv: 'csv'>\n"
     ]
    }
   ],
   "source": [
    "filename = \"../fixtures/iris.csv\"\n",
    "import time\n",
    "\n",
    "with open(filename, \"r\") as f:\n",
    "\n",
    "    dataset = client.datasets.create_dataset(request=f)\n",
    "print(dataset)"
   ]
  },
  {
   "cell_type": "markdown",
   "id": "6a6a6279",
   "metadata": {},
   "source": [
    "## Analyze your data\n",
    "\n",
    "A tool to analyze the data prior to an avatarization is provided. It computes several statistics that can be useful to:\n",
    "- confirm that the data loaded is as expected and\n",
    "- give insight on potential transformation to the data that are required (this will be covered in later tutorials)"
   ]
  },
  {
   "cell_type": "code",
   "execution_count": null,
   "id": "bbfe503e",
   "metadata": {},
   "outputs": [],
   "source": [
    "dataset"
   ]
  },
  {
   "cell_type": "code",
   "execution_count": null,
   "id": "ed1a2366",
   "metadata": {},
   "outputs": [],
   "source": [
    "import time\n",
    "from avatars.models import AnalysisStatus\n",
    "\n",
    "dataset = client.datasets.analyze_dataset(dataset.id)\n",
    "\n",
    "while dataset.analysis_status != AnalysisStatus.done:\n",
    "    dataset = client.datasets.get_dataset(dataset.id)\n",
    "    time.sleep(1)\n",
    "\n",
    "print(f\"Lines: {dataset.nb_lines}, dimensions: {dataset.nb_dimensions}\")"
   ]
  },
  {
   "cell_type": "code",
   "execution_count": null,
   "id": "e44d174d",
   "metadata": {},
   "outputs": [],
   "source": [
    "print(dataset.summary)"
   ]
  },
  {
   "cell_type": "code",
   "execution_count": null,
   "id": "3aab4ac0",
   "metadata": {},
   "outputs": [],
   "source": [
    "for var in dataset.summary.stats:\n",
    "    print(\"---------\")\n",
    "    for stat in var:\n",
    "        print(stat)"
   ]
  },
  {
   "cell_type": "markdown",
   "id": "4950fdf3",
   "metadata": {},
   "source": [
    "## Creating and launching an avatarization job"
   ]
  },
  {
   "cell_type": "code",
   "execution_count": null,
   "id": "a05fc8ca",
   "metadata": {},
   "outputs": [],
   "source": [
    "avatarization_job = client.jobs.create_avatarization_job(\n",
    "    AvatarizationJobCreate(\n",
    "        parameters=AvatarizationParameters(k=20, dataset_id=dataset.id),\n",
    "    )\n",
    ")"
   ]
  },
  {
   "cell_type": "markdown",
   "id": "dcbffef2",
   "metadata": {},
   "source": [
    "## Retrieving the completed avatarization job"
   ]
  },
  {
   "cell_type": "code",
   "execution_count": null,
   "id": "c85559dc",
   "metadata": {},
   "outputs": [],
   "source": [
    "avatarization_job = client.jobs.get_avatarization_job(avatarization_job.id, timeout=100)\n",
    "print(avatarization_job.status)\n",
    "print(avatarization_job.result)  # there is no metrics"
   ]
  },
  {
   "cell_type": "markdown",
   "id": "a5ba093b",
   "metadata": {},
   "source": [
    "## Retrieving the avatars"
   ]
  },
  {
   "cell_type": "code",
   "execution_count": null,
   "id": "26edc8a6",
   "metadata": {},
   "outputs": [],
   "source": [
    "# Download the avatars as a string\n",
    "avatars_str = client.datasets.download_dataset(avatarization_job.result.avatars_dataset.id)\n",
    "\n",
    "# Download the avatars as a pandas dataframe\n",
    "avatars_df = client.pandas_integration.download_dataframe(avatarization_job.result.avatars_dataset.id)"
   ]
  },
  {
   "cell_type": "code",
   "execution_count": null,
   "id": "e406b986",
   "metadata": {},
   "outputs": [],
   "source": [
    "print(avatars_str)"
   ]
  },
  {
   "cell_type": "code",
   "execution_count": null,
   "id": "6f468bef",
   "metadata": {},
   "outputs": [],
   "source": [
    "print(avatars_df)"
   ]
  },
  {
   "cell_type": "markdown",
   "id": "e8a484ae",
   "metadata": {},
   "source": [
    "## Creating and launching a privacy metrics job"
   ]
  },
  {
   "cell_type": "code",
   "execution_count": null,
   "id": "2a898edf",
   "metadata": {},
   "outputs": [],
   "source": [
    "from avatars.models import PrivacyMetricsJobCreate, PrivacyMetricsParameters\n",
    "\n",
    "privacy_job = client.jobs.create_privacy_metrics_job(\n",
    "    PrivacyMetricsJobCreate(\n",
    "        parameters=PrivacyMetricsParameters(\n",
    "            original_id=dataset.id,\n",
    "            unshuffled_avatars_id=avatarization_job.result.sensitive_unshuffled_avatars_datasets.id,\n",
    "            closest_rate_percentage_threshold=0.3,\n",
    "            closest_rate_ratio_threshold=0.3,\n",
    "            known_variables=[\n",
    "                \"sepal.length\",\n",
    "                \"petal.length\",\n",
    "            ],\n",
    "            target=\"variety\",\n",
    "            seed=42,\n",
    "        ),\n",
    "    )\n",
    ")\n",
    "\n",
    "privacy_job = client.jobs.get_privacy_metrics(privacy_job.id, timeout=100)\n",
    "\n",
    "print(privacy_job.status)\n",
    "print(privacy_job.result)"
   ]
  },
  {
   "cell_type": "code",
   "execution_count": null,
   "id": "e3dbe8c2",
   "metadata": {},
   "outputs": [],
   "source": [
    "privacy_metrics = privacy_job.result\n",
    "print(\"*** Privacy metrics ***\")\n",
    "for metric in privacy_metrics:\n",
    "    print(metric)"
   ]
  },
  {
   "cell_type": "markdown",
   "id": "dfd8c8e5",
   "metadata": {},
   "source": [
    "## Creating and launching a signal metrics job"
   ]
  },
  {
   "cell_type": "code",
   "execution_count": null,
   "id": "28e492b7",
   "metadata": {},
   "outputs": [],
   "source": [
    "from avatars.models import SignalMetricsJobCreate, SignalMetricsParameters\n",
    "\n",
    "signal_job = client.jobs.create_signal_metrics_job(\n",
    "    SignalMetricsJobCreate(\n",
    "        parameters=SignalMetricsParameters(\n",
    "            original_id=dataset.id,\n",
    "            avatars_id=avatarization_job.result.avatars_dataset.id,\n",
    "            seed=42,\n",
    "        ),\n",
    "    )\n",
    ")\n",
    "\n",
    "signal_job = client.jobs.get_signal_metrics(signal_job.id, timeout=100)\n",
    "print(signal_job.status)\n",
    "print(signal_job.result)"
   ]
  },
  {
   "cell_type": "code",
   "execution_count": null,
   "id": "5eca5e99",
   "metadata": {},
   "outputs": [],
   "source": [
    "utility_metrics = signal_job.result\n",
    "print(\"*** Utility metrics ***\")\n",
    "for metric in utility_metrics:\n",
    "    print(metric)"
   ]
  },
  {
   "cell_type": "markdown",
   "id": "01a9b7d5",
   "metadata": {},
   "source": [
    "## Retrieving the avatarization report"
   ]
  },
  {
   "cell_type": "code",
   "execution_count": null,
   "id": "297c77fd",
   "metadata": {},
   "outputs": [],
   "source": [
    "report = client.reports.create_report(\n",
    "    ReportCreate(\n",
    "        avatarization_job_id=avatarization_job.id,\n",
    "        privacy_job_id=privacy_job.id,\n",
    "        signal_job_id=signal_job.id,\n",
    "    ),\n",
    "    timeout=30,\n",
    ")\n",
    "result = client.reports.download_report(id=report.id)\n",
    "\n",
    "with open(\"./my_avatarization_report.pdf\", \"wb\") as f:\n",
    "    f.write(result)"
   ]
  },
  {
   "cell_type": "markdown",
   "id": "47934893",
   "metadata": {},
   "source": [
    "The report is now generated and available on your machine"
   ]
  },
  {
   "cell_type": "markdown",
   "id": "1cceb79b",
   "metadata": {},
   "source": [
    "# How to print an error message \n",
    "There are multiple types of error and we encourage you to have a look at our [documentation](https://python.docs.octopize.io/latest/user_guide.html#understanding-errors) to understand them.\n",
    "\n",
    "The most common error is when server validation prevents a job from running.\n",
    "\n",
    "The following section show how to print an error message. "
   ]
  },
  {
   "cell_type": "code",
   "execution_count": null,
   "id": "5191dfb1",
   "metadata": {},
   "outputs": [],
   "source": [
    "wrong_parameters = AvatarizationParameters(\n",
    "    k=500, dataset_id=dataset.id\n",
    ")  # k is too big (bigger than the dataset !)\n",
    "\n",
    "avatarization_job = client.jobs.create_avatarization_job(\n",
    "    AvatarizationJobCreate(\n",
    "        parameters=wrong_parameters,\n",
    "    )\n",
    ")\n",
    "\n",
    "avatarization_job = client.jobs.get_avatarization_job(avatarization_job.id, timeout=100)\n",
    "print(avatarization_job.status)\n",
    "print(\"----\")\n",
    "print(avatarization_job.error_message)"
   ]
  },
  {
   "cell_type": "markdown",
   "id": "c12a3cda",
   "metadata": {},
   "source": [
    "*In the next tutorial, we will show how to parameterize an avatarization.*"
   ]
  }
 ],
 "metadata": {
  "kernelspec": {
   "display_name": "Python 3 (ipykernel)",
   "language": "python",
   "name": "python3"
  },
  "language_info": {
   "codemirror_mode": {
    "name": "ipython",
    "version": 3
   },
   "file_extension": ".py",
   "mimetype": "text/x-python",
   "name": "python",
   "nbconvert_exporter": "python",
   "pygments_lexer": "ipython3",
   "version": "3.10.13"
  }
 },
 "nbformat": 4,
 "nbformat_minor": 5
}
