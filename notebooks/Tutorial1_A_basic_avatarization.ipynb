{
 "cells": [
  {
   "cell_type": "markdown",
   "id": "d9dedea0",
   "metadata": {},
   "source": [
    "# Tutorial 1: A basic avatarization"
   ]
  },
  {
   "cell_type": "markdown",
   "id": "272b8b07",
   "metadata": {},
   "source": [
    "In this tutorial, we will connect to a server to perform the avatarization of a dataset that does not require any pre-processing. We'll retrieve the anonymized dataset and the associated avatarization report. "
   ]
  },
  {
   "cell_type": "markdown",
   "id": "0d19851f",
   "metadata": {},
   "source": [
    "## Connection"
   ]
  },
  {
   "cell_type": "code",
   "execution_count": null,
   "id": "f57dff28",
   "metadata": {},
   "outputs": [],
   "source": [
    "import os\n",
    "\n",
    "url=os.environ.get(\"AVATAR_BASE_URL\")\n",
    "username=os.environ.get(\"AVATAR_USERNAME\")\n",
    "password=os.environ.get(\"AVATAR_PASSWORD\")"
   ]
  },
  {
   "cell_type": "code",
   "execution_count": null,
   "id": "8218db7f",
   "metadata": {},
   "outputs": [],
   "source": [
    "# This is the client that you'll be using for all of your requests\n",
    "from avatars.client import ApiClient\n",
    "from avatars.models import AvatarizationJobCreate, AvatarizationParameters\n",
    "from avatars.models import ReportCreate\n",
    "\n",
    "# The following are not necessary to run avatar but are used in this tutorial\n",
    "import pandas as pd\n",
    "import io\n",
    "\n",
    "# Change this to your actual server endpoint, e.g. base_url=\"https://avatar.company.com\"\n",
    "client = ApiClient(base_url=url)\n",
    "client.authenticate(\n",
    "    username=username, password=password\n",
    ")\n",
    "\n",
    "# Verify that we can connect to the API server\n",
    "client.health.get_health()"
   ]
  },
  {
   "cell_type": "markdown",
   "id": "d7b6e2e1",
   "metadata": {},
   "source": [
    "## Loading data"
   ]
  },
  {
   "cell_type": "markdown",
   "id": "d21eac5a",
   "metadata": {},
   "source": [
    "We recommend loading your csv file as a pandas dataframe. It enables you to check your data before avatarization and to pre-process it if required. \n",
    "\n",
    "In this tutorial, we use the simple and well-known `iris` dataset to demonstrate the main steps of an avatarization."
   ]
  },
  {
   "cell_type": "code",
   "execution_count": null,
   "id": "91f08768",
   "metadata": {},
   "outputs": [],
   "source": [
    "df = pd.read_csv(\"../fixtures/iris.csv\")"
   ]
  },
  {
   "cell_type": "code",
   "execution_count": null,
   "id": "16f2c5ab",
   "metadata": {},
   "outputs": [],
   "source": [
    "df"
   ]
  },
  {
   "cell_type": "code",
   "execution_count": null,
   "id": "879e71d7",
   "metadata": {},
   "outputs": [],
   "source": [
    "dataset = client.pandas_integration.upload_dataframe(df)\n",
    "print(dataset)"
   ]
  },
  {
   "cell_type": "markdown",
   "id": "917ded7b",
   "metadata": {},
   "source": [
    "The data has now been loaded onto the server. \n",
    "\n",
    "Note that it is also possible to directly load a csv file without using pandas. "
   ]
  },
  {
   "cell_type": "code",
   "execution_count": null,
   "id": "23d6de24",
   "metadata": {},
   "outputs": [],
   "source": [
    "filename = \"../fixtures/iris.csv\"\n",
    "\n",
    "with open(filename, \"r\") as f:\n",
    "    \n",
    "    dataset = client.datasets.create_dataset(request=f)\n",
    "print(dataset)"
   ]
  },
  {
   "cell_type": "markdown",
   "id": "6a6a6279",
   "metadata": {},
   "source": [
    "## Analyze your data\n",
    "\n",
    "A tool to analyze the data prior to an avatarization is provided. It computes several statistics that can be useful to:\n",
    "- confirm that the data loaded is as expected and\n",
    "- give insight on potential transformation to the data that are required (this will be covered in later tutorials)"
   ]
  },
  {
   "cell_type": "code",
   "execution_count": null,
   "id": "bbfe503e",
   "metadata": {},
   "outputs": [],
   "source": [
    "dataset"
   ]
  },
  {
   "cell_type": "code",
   "execution_count": null,
   "id": "ed1a2366",
   "metadata": {},
   "outputs": [],
   "source": [
    "while dataset.summary is None:\n",
    "    dataset = client.datasets.analyze_dataset(dataset.id)"
   ]
  },
  {
   "cell_type": "code",
   "execution_count": null,
   "id": "e44d174d",
   "metadata": {
    "scrolled": true
   },
   "outputs": [],
   "source": [
    "print(dataset.summary)"
   ]
  },
  {
   "cell_type": "code",
   "execution_count": null,
   "id": "3aab4ac0",
   "metadata": {},
   "outputs": [],
   "source": [
    "for var in dataset.summary.stats:\n",
    "    print('---------')\n",
    "    for stat in var:\n",
    "        print(stat)"
   ]
  },
  {
   "cell_type": "markdown",
   "id": "65604a26",
   "metadata": {},
   "source": [
    "## Creating and launching an avatarization job"
   ]
  },
  {
   "cell_type": "code",
   "execution_count": null,
   "id": "d1f9f824",
   "metadata": {},
   "outputs": [],
   "source": [
    "job = client.jobs.create_avatarization_job(\n",
    "    AvatarizationJobCreate(\n",
    "        parameters=AvatarizationParameters(\n",
    "            k = 5,\n",
    "            dataset_id=dataset.id\n",
    "        ),\n",
    "    )\n",
    ")\n",
    "\n",
    "print(job.status)"
   ]
  },
  {
   "cell_type": "markdown",
   "id": "dcbffef2",
   "metadata": {},
   "source": [
    "## Retrieving the completed avatarization job"
   ]
  },
  {
   "cell_type": "code",
   "execution_count": null,
   "id": "75319cba",
   "metadata": {},
   "outputs": [],
   "source": [
    "job = client.jobs.get_avatarization_job(id=job.id)\n",
    "\n",
    "print(job.status)"
   ]
  },
  {
   "cell_type": "markdown",
   "id": "a5ba093b",
   "metadata": {},
   "source": [
    "## Retrieving the avatars"
   ]
  },
  {
   "cell_type": "code",
   "execution_count": null,
   "id": "26edc8a6",
   "metadata": {},
   "outputs": [],
   "source": [
    "# Download the avatars as a string\n",
    "avatars_str = client.datasets.download_dataset(job.result.avatars_dataset.id)\n",
    "\n",
    "# Download the avatars as a pandas dataframe\n",
    "avatars_df = client.pandas_integration.download_dataframe(job.result.avatars_dataset.id)"
   ]
  },
  {
   "cell_type": "code",
   "execution_count": null,
   "id": "e406b986",
   "metadata": {},
   "outputs": [],
   "source": [
    "print(avatars_str)"
   ]
  },
  {
   "cell_type": "code",
   "execution_count": null,
   "id": "6f468bef",
   "metadata": {},
   "outputs": [],
   "source": [
    "print(avatars_df)"
   ]
  },
  {
   "cell_type": "markdown",
   "id": "4937a3b7",
   "metadata": {},
   "source": [
    "## Retrieving the utility and privacy metrics"
   ]
  },
  {
   "cell_type": "markdown",
   "id": "efd55aa4",
   "metadata": {},
   "source": [
    "Because this dataset did not require any pre-processing or post-processing outside the avatarization job, the metrics calculated at the end of the avatarization job can directly be used."
   ]
  },
  {
   "cell_type": "code",
   "execution_count": null,
   "id": "e3dbe8c2",
   "metadata": {},
   "outputs": [],
   "source": [
    "privacy_metrics = job.result.privacy_metrics\n",
    "print(\"*** Privacy metrics ***\")\n",
    "for metric in privacy_metrics:\n",
    "    print(metric)"
   ]
  },
  {
   "cell_type": "code",
   "execution_count": null,
   "id": "5eca5e99",
   "metadata": {},
   "outputs": [],
   "source": [
    "utility_metrics = job.result.signal_metrics\n",
    "print(\"*** Utility metrics ***\")\n",
    "for metric in utility_metrics:\n",
    "    print(metric)"
   ]
  },
  {
   "cell_type": "markdown",
   "id": "01a9b7d5",
   "metadata": {},
   "source": [
    "## Retrieving the avatarization report"
   ]
  },
  {
   "cell_type": "code",
   "execution_count": null,
   "id": "297c77fd",
   "metadata": {},
   "outputs": [],
   "source": [
    "report = client.reports.create_report(ReportCreate(job_id=job.id))\n",
    "result = client.reports.download_report(id=report.id)\n",
    "\n",
    "with open(\"./my_avatarization_report.pdf\", \"wb\") as f:\n",
    "    f.write(result)"
   ]
  },
  {
   "cell_type": "markdown",
   "id": "47934893",
   "metadata": {},
   "source": [
    "The report is now generated and available on your machine"
   ]
  },
  {
   "cell_type": "markdown",
   "id": "c12a3cda",
   "metadata": {},
   "source": [
    "*In the next tutorial, we will show how to parameterize an avatarization.*"
   ]
  }
 ],
 "metadata": {
  "kernelspec": {
   "display_name": "Python 3 (ipykernel)",
   "language": "python",
   "name": "python3"
  },
  "language_info": {
   "codemirror_mode": {
    "name": "ipython",
    "version": 3
   },
   "file_extension": ".py",
   "mimetype": "text/x-python",
   "name": "python",
   "nbconvert_exporter": "python",
   "pygments_lexer": "ipython3",
   "version": "3.9.10"
  }
 },
 "nbformat": 4,
 "nbformat_minor": 5
}
