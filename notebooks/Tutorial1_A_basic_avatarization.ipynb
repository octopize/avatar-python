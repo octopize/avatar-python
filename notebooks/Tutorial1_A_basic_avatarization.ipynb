{
 "cells": [
  {
   "cell_type": "markdown",
   "id": "d9dedea0",
   "metadata": {},
   "source": [
    "# Tutorial 1: A basic avatarization"
   ]
  },
  {
   "cell_type": "markdown",
   "id": "272b8b07",
   "metadata": {},
   "source": [
    "In this tutorial, we will connect to a server to perform the avatarization of a dataset that does not require any pre-processing. We'll retrieve the anonymized dataset and the associated avatarization report. "
   ]
  },
  {
   "cell_type": "markdown",
   "id": "0d19851f",
   "metadata": {},
   "source": [
    "## Connection"
   ]
  },
  {
   "cell_type": "code",
   "execution_count": null,
   "id": "f57dff28",
   "metadata": {},
   "outputs": [],
   "source": [
    "import os\n",
    "\n",
    "url = os.environ.get(\"AVATAR_BASE_URL\")\n",
    "username = os.environ.get(\"AVATAR_USERNAME\")\n",
    "password = os.environ.get(\"AVATAR_PASSWORD\")"
   ]
  },
  {
   "cell_type": "code",
   "execution_count": null,
   "id": "8218db7f",
   "metadata": {},
   "outputs": [],
   "source": [
    "# This is the client that you'll be using for all of your requests\n",
    "from avatars.client import ApiClient\n",
    "from avatars.models import AvatarizationJobCreate, AvatarizationParameters\n",
    "from avatars.models import ReportCreate\n",
    "\n",
    "import pandas as pd\n",
    "import io\n",
    "\n",
    "# Change this to your actual server endpoint, e.g. base_url=\"https://avatar.company.com\"\n",
    "client = ApiClient(base_url=url)\n",
    "client.authenticate(username=username, password=password)"
   ]
  },
  {
   "cell_type": "code",
   "execution_count": null,
   "id": "bd6359a6",
   "metadata": {},
   "outputs": [],
   "source": [
    "# Verify that we can connect to the API server\n",
    "client.health.get_health()"
   ]
  },
  {
   "cell_type": "code",
   "execution_count": null,
   "id": "4a10ae8e",
   "metadata": {},
   "outputs": [],
   "source": [
    "# Verify that the client is compatible.\n",
    "client.compatibility.is_client_compatible()"
   ]
  },
  {
   "cell_type": "markdown",
   "id": "d7b6e2e1",
   "metadata": {},
   "source": [
    "## Loading data"
   ]
  },
  {
   "cell_type": "markdown",
   "id": "d21eac5a",
   "metadata": {},
   "source": [
    "We recommend loading your csv file as a pandas dataframe. It enables you to check your data before avatarization and to pre-process it if required. \n",
    "\n",
    "In this tutorial, we use the simple and well-known `iris` dataset to demonstrate the main steps of an avatarization."
   ]
  },
  {
   "cell_type": "code",
   "execution_count": null,
   "id": "91f08768",
   "metadata": {},
   "outputs": [],
   "source": [
    "df = pd.read_csv(\"../fixtures/iris.csv\")"
   ]
  },
  {
   "cell_type": "code",
   "execution_count": null,
   "id": "16f2c5ab",
   "metadata": {},
   "outputs": [],
   "source": [
    "df"
   ]
  },
  {
   "cell_type": "code",
   "execution_count": null,
   "id": "879e71d7",
   "metadata": {},
   "outputs": [],
   "source": [
    "dataset = client.pandas_integration.upload_dataframe(df)\n",
    "print(dataset)"
   ]
  },
  {
   "cell_type": "markdown",
   "id": "917ded7b",
   "metadata": {},
   "source": [
    "The data has now been loaded onto the server. \n",
    "\n",
    "Note that it is also possible to directly load a csv file without using pandas. "
   ]
  },
  {
   "cell_type": "code",
   "execution_count": null,
   "id": "23d6de24",
   "metadata": {},
   "outputs": [],
   "source": [
    "filename = \"../fixtures/iris.csv\"\n",
    "import time\n",
    "\n",
    "with open(filename, \"r\") as f:\n",
    "\n",
    "    dataset = client.datasets.create_dataset(request=f)\n",
    "print(dataset)"
   ]
  },
  {
   "cell_type": "markdown",
   "id": "6a6a6279",
   "metadata": {},
   "source": [
    "## Analyze your data\n",
    "\n",
    "A tool to analyze the data prior to an avatarization is provided. It computes several statistics that can be useful to:\n",
    "- confirm that the data loaded is as expected and\n",
    "- give insight on potential transformation to the data that are required (this will be covered in later tutorials)"
   ]
  },
  {
   "cell_type": "code",
   "execution_count": null,
   "id": "bbfe503e",
   "metadata": {},
   "outputs": [],
   "source": [
    "dataset"
   ]
  },
  {
   "cell_type": "code",
   "execution_count": null,
   "id": "ed1a2366",
   "metadata": {},
   "outputs": [],
   "source": [
    "import time\n",
    "from avatars.models import AnalysisStatus\n",
    "\n",
    "dataset = client.datasets.analyze_dataset(dataset.id)\n",
    "\n",
    "while dataset.analysis_status != AnalysisStatus.done:\n",
    "    dataset = client.datasets.get_dataset(dataset.id)\n",
    "    time.sleep(1)\n",
    "\n",
    "print(f\"Lines: {dataset.nb_lines}, dimensions: {dataset.nb_dimensions}\")"
   ]
  },
  {
   "cell_type": "code",
   "execution_count": null,
   "id": "e44d174d",
   "metadata": {},
   "outputs": [],
   "source": [
    "print(dataset.summary)"
   ]
  },
  {
   "cell_type": "code",
   "execution_count": null,
   "id": "3aab4ac0",
   "metadata": {},
   "outputs": [],
   "source": [
    "for var in dataset.summary.stats:\n",
    "    print(\"---------\")\n",
    "    for stat in var:\n",
    "        print(stat)"
   ]
  },
  {
   "cell_type": "markdown",
   "id": "65604a26",
   "metadata": {},
   "source": [
    "## Creating and launching an avatarization job with metrics"
   ]
  },
  {
   "cell_type": "code",
   "execution_count": null,
   "id": "d1f9f824",
   "metadata": {},
   "outputs": [],
   "source": [
    "job = client.jobs.create_full_avatarization_job(\n",
    "    AvatarizationJobCreate(\n",
    "        parameters=AvatarizationParameters(k=20, dataset_id=dataset.id),\n",
    "    )\n",
    ")\n",
    "\n",
    "print(job.status)"
   ]
  },
  {
   "cell_type": "markdown",
   "id": "dcbffef2",
   "metadata": {},
   "source": [
    "## Retrieving the completed avatarization job"
   ]
  },
  {
   "cell_type": "code",
   "execution_count": null,
   "id": "75319cba",
   "metadata": {},
   "outputs": [],
   "source": [
    "job = client.jobs.get_avatarization_job(id=job.id, timeout=100)\n",
    "\n",
    "print(job.status)"
   ]
  },
  {
   "cell_type": "markdown",
   "id": "a5ba093b",
   "metadata": {},
   "source": [
    "## Retrieving the avatars"
   ]
  },
  {
   "cell_type": "code",
   "execution_count": null,
   "id": "26edc8a6",
   "metadata": {},
   "outputs": [],
   "source": [
    "# Download the avatars as a string\n",
    "avatars_str = client.datasets.download_dataset(job.result.avatars_dataset.id)\n",
    "\n",
    "# Download the avatars as a pandas dataframe\n",
    "avatars_df = client.pandas_integration.download_dataframe(job.result.avatars_dataset.id)"
   ]
  },
  {
   "cell_type": "code",
   "execution_count": null,
   "id": "e406b986",
   "metadata": {},
   "outputs": [],
   "source": [
    "print(avatars_str)"
   ]
  },
  {
   "cell_type": "code",
   "execution_count": null,
   "id": "6f468bef",
   "metadata": {},
   "outputs": [],
   "source": [
    "print(avatars_df)"
   ]
  },
  {
   "cell_type": "markdown",
   "id": "4937a3b7",
   "metadata": {},
   "source": [
    "## Retrieving the utility and privacy metrics"
   ]
  },
  {
   "cell_type": "markdown",
   "id": "efd55aa4",
   "metadata": {},
   "source": [
    "Because this dataset did not require any pre-processing or post-processing outside the avatarization job, the metrics calculated at the end of the avatarization job can directly be used."
   ]
  },
  {
   "cell_type": "code",
   "execution_count": null,
   "id": "e3dbe8c2",
   "metadata": {},
   "outputs": [],
   "source": [
    "privacy_metrics = job.result.privacy_metrics\n",
    "print(\"*** Privacy metrics ***\")\n",
    "for metric in privacy_metrics:\n",
    "    print(metric)"
   ]
  },
  {
   "cell_type": "code",
   "execution_count": null,
   "id": "5eca5e99",
   "metadata": {},
   "outputs": [],
   "source": [
    "utility_metrics = job.result.signal_metrics\n",
    "print(\"*** Utility metrics ***\")\n",
    "for metric in utility_metrics:\n",
    "    print(metric)"
   ]
  },
  {
   "cell_type": "markdown",
   "id": "4950fdf3",
   "metadata": {},
   "source": [
    "## Creating and launching an avatarization job without metrics"
   ]
  },
  {
   "cell_type": "code",
   "execution_count": null,
   "id": "a05fc8ca",
   "metadata": {},
   "outputs": [],
   "source": [
    "avatarization_job = client.jobs.create_avatarization_job(\n",
    "    AvatarizationJobCreate(\n",
    "        parameters=AvatarizationParameters(k=20, dataset_id=dataset.id),\n",
    "    )\n",
    ")\n",
    "\n",
    "\n",
    "avatarization_job = client.jobs.get_avatarization_job(avatarization_job.id, timeout=100)\n",
    "print(avatarization_job.status)\n",
    "print(avatarization_job.result)  # there is no metrics"
   ]
  },
  {
   "cell_type": "code",
   "execution_count": null,
   "id": "2a898edf",
   "metadata": {},
   "outputs": [],
   "source": [
    "from avatars.models import PrivacyMetricsJobCreate, PrivacyMetricsParameters\n",
    "\n",
    "privacy_job = client.jobs.create_privacy_metrics_job(\n",
    "    PrivacyMetricsJobCreate(\n",
    "        parameters=PrivacyMetricsParameters(\n",
    "            original_id=dataset.id,\n",
    "            unshuffled_avatars_id=job.result.sensitive_unshuffled_avatars_datasets.id,\n",
    "            closest_rate_percentage_threshold=0.3,\n",
    "            closest_rate_ratio_threshold=0.3,\n",
    "            known_variables=[\n",
    "                \"sepal.length\",\n",
    "                \"petal.length\",\n",
    "            ],\n",
    "            target=\"variety\",\n",
    "            seed=42,\n",
    "        ),\n",
    "    )\n",
    ")\n",
    "\n",
    "privacy_job = client.jobs.get_privacy_metrics(privacy_job.id, timeout=100)\n",
    "\n",
    "print(privacy_job.status)\n",
    "print(privacy_job.result)"
   ]
  },
  {
   "cell_type": "code",
   "execution_count": null,
   "id": "28e492b7",
   "metadata": {},
   "outputs": [],
   "source": [
    "from avatars.models import SignalMetricsJobCreate, SignalMetricsParameters\n",
    "\n",
    "signal_job = client.jobs.create_signal_metrics_job(\n",
    "    SignalMetricsJobCreate(\n",
    "        parameters=SignalMetricsParameters(\n",
    "            original_id=dataset.id,\n",
    "            avatars_id=job.result.avatars_dataset.id,\n",
    "            seed=42,\n",
    "        ),\n",
    "    )\n",
    ")\n",
    "\n",
    "signal_job = client.jobs.get_signal_metrics(signal_job.id, timeout=100)\n",
    "print(signal_job.status)\n",
    "print(signal_job.result)"
   ]
  },
  {
   "cell_type": "markdown",
   "id": "01a9b7d5",
   "metadata": {},
   "source": [
    "## Retrieving the avatarization report"
   ]
  },
  {
   "cell_type": "code",
   "execution_count": null,
   "id": "297c77fd",
   "metadata": {},
   "outputs": [],
   "source": [
    "report = client.reports.create_report(\n",
    "    ReportCreate(\n",
    "        avatarization_job_id=avatarization_job.id,\n",
    "        privacy_job_id=privacy_job.id,\n",
    "        signal_job_id=signal_job.id,\n",
    "    ),\n",
    "    timeout=30,\n",
    ")\n",
    "result = client.reports.download_report(id=report.id)\n",
    "\n",
    "with open(\"./my_avatarization_report.pdf\", \"wb\") as f:\n",
    "    f.write(result)"
   ]
  },
  {
   "cell_type": "markdown",
   "id": "47934893",
   "metadata": {},
   "source": [
    "The report is now generated and available on your machine"
   ]
  },
  {
   "cell_type": "markdown",
   "id": "c12a3cda",
   "metadata": {},
   "source": [
    "*In the next tutorial, we will show how to parameterize an avatarization.*"
   ]
  }
 ],
 "metadata": {
  "language_info": {
   "name": "python"
  }
 },
 "nbformat": 4,
 "nbformat_minor": 5
}
