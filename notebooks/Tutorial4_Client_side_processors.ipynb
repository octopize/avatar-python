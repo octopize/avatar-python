{
 "cells": [
  {
   "cell_type": "markdown",
   "id": "6a24fbbf",
   "metadata": {},
   "source": [
    "# Tutorial 4: Client-side processors"
   ]
  },
  {
   "cell_type": "markdown",
   "id": "dc36f0ea",
   "metadata": {},
   "source": [
    "In this tutorial, we will learn how to prepare the data prior to running an avatarization by using processors on your local machine.\n",
    "\n",
    "This step is necessary in some cases to handle and preserve data characteristics that are not natively handled by the avatarization or its embedded processors.\n",
    "\n",
    "We'll also show how custom client-side processors can be defined to integrate domain knowledge into an avatarization."
   ]
  },
  {
   "cell_type": "markdown",
   "id": "fca8bd04",
   "metadata": {},
   "source": [
    "## Principles"
   ]
  },
  {
   "cell_type": "markdown",
   "id": "02cef554",
   "metadata": {},
   "source": [
    "![pipeline](img/pipeline.png)"
   ]
  },
  {
   "cell_type": "markdown",
   "id": "8d2ab3ce",
   "metadata": {},
   "source": [
    "## Connection"
   ]
  },
  {
   "cell_type": "code",
   "execution_count": null,
   "id": "2bb80d4d",
   "metadata": {},
   "outputs": [],
   "source": [
    "import os\n",
    "\n",
    "url = os.environ.get(\"AVATAR_BASE_URL\")\n",
    "username = os.environ.get(\"AVATAR_USERNAME\")\n",
    "password = os.environ.get(\"AVATAR_PASSWORD\")"
   ]
  },
  {
   "cell_type": "code",
   "execution_count": null,
   "id": "8218db7f",
   "metadata": {},
   "outputs": [],
   "source": [
    "# This is the client that you'll be using for all of your requests\n",
    "from avatars.client import ApiClient\n",
    "from avatars.models import (\n",
    "    AvatarizationJobCreate,\n",
    "    AvatarizationParameters,\n",
    "    ImputationParameters,\n",
    "    ImputeMethod,\n",
    ")\n",
    "from avatars.models import ReportCreate\n",
    "\n",
    "from avatars.api import AvatarizationPipelineCreate\n",
    "from avatars.processors import ProportionProcessor\n",
    "from avatars.processors import GroupModalitiesProcessor\n",
    "from avatars.processors import RelativeDifferenceProcessor\n",
    "from avatars.processors import PerturbationProcessor\n",
    "from avatars.processors import ExpectedMeanProcessor\n",
    "from avatars.processors import DatetimeProcessor\n",
    "\n",
    "# The following are not necessary to run avatar but are used in this tutorial\n",
    "import pandas as pd\n",
    "import io\n",
    "import numpy as np\n",
    "import matplotlib.pyplot as plt\n",
    "import seaborn as sns\n",
    "\n",
    "# Change this to your actual server endpoint, e.g. base_url=\"https://avatar.company.com\"\n",
    "client = ApiClient(base_url=url)\n",
    "client.authenticate(username=username, password=password)\n",
    "\n",
    "# Verify that we can connect to the API server\n",
    "client.health.get_health()"
   ]
  },
  {
   "cell_type": "markdown",
   "id": "a1f9d732",
   "metadata": {},
   "source": [
    "## A helper processor to reduce the number of modalities"
   ]
  },
  {
   "cell_type": "markdown",
   "id": "04336b1a",
   "metadata": {},
   "source": [
    "We have seen in the previous tutorial one approach to handle categorical variables with large cardinality. We propose here an alternative way of doing this using a client-side processor.\n",
    "\n",
    "This processor will group modalities together to ensure the target variable has a requested number of modalities. The least represented modalities will be brought together under a `other` modality. Note that this transformation is irreversible (the original value cannot be infered from `other`). \n",
    "\n",
    "Because this is an irreversible operation, this transformation of the data should be done outside the pipeline. The transformed data will be used as a basis for comparison when computing utility and privacy metrics."
   ]
  },
  {
   "cell_type": "code",
   "execution_count": null,
   "id": "f3fb4ac3",
   "metadata": {},
   "outputs": [],
   "source": [
    "df = (\n",
    "    pd.read_csv(\"../fixtures/adult_with_cities.csv\")\n",
    "    .head(1000)\n",
    "    .drop([\"native-country\"], axis=1)\n",
    ")\n",
    "dataset = client.pandas_integration.upload_dataframe(df)\n",
    "print(df.shape)\n",
    "df.head()"
   ]
  },
  {
   "cell_type": "markdown",
   "id": "9a2018d7",
   "metadata": {},
   "source": [
    "After loading the data, we decide we wish to reduce the number of modalities for the variable `city` which contains originally over 80 distinct values."
   ]
  },
  {
   "cell_type": "code",
   "execution_count": null,
   "id": "aac32acc",
   "metadata": {},
   "outputs": [],
   "source": [
    "df[\"city\"].value_counts()"
   ]
  },
  {
   "cell_type": "code",
   "execution_count": null,
   "id": "7ed772de",
   "metadata": {},
   "outputs": [],
   "source": [
    "group_modalities_processor = GroupModalitiesProcessor(\n",
    "    min_unique=10,  # number of modalities for a variable to be considered for grouping\n",
    "    global_threshold=25,  # if considered for grouping, number of individuals in modality to preserve it\n",
    "    new_category=\"other\",\n",
    ")"
   ]
  },
  {
   "cell_type": "code",
   "execution_count": null,
   "id": "9ea3e9dd",
   "metadata": {},
   "outputs": [],
   "source": [
    "df_preprocessed = group_modalities_processor.preprocess(df)"
   ]
  },
  {
   "cell_type": "markdown",
   "id": "867622bc",
   "metadata": {},
   "source": [
    "Once the group modality processor has been applied, we can confirm that the number of modalities for the `city` variables has been reduced"
   ]
  },
  {
   "cell_type": "code",
   "execution_count": null,
   "id": "57c9829e",
   "metadata": {},
   "outputs": [],
   "source": [
    "df_preprocessed[\"city\"].value_counts()"
   ]
  },
  {
   "cell_type": "code",
   "execution_count": null,
   "id": "ed2fb613",
   "metadata": {},
   "outputs": [],
   "source": [
    "%%time\n",
    "dataset = client.pandas_integration.upload_dataframe(df_preprocessed)\n",
    "\n",
    "result = client.pipelines.avatarization_pipeline_with_processors(\n",
    "    AvatarizationPipelineCreate(\n",
    "        avatarization_job_create=AvatarizationJobCreate(\n",
    "            parameters=AvatarizationParameters(dataset_id=dataset.id, k=5),\n",
    "        ),\n",
    "        processors=[],\n",
    "        df=df,\n",
    "    ),\n",
    "    timeout=1000,\n",
    ")"
   ]
  },
  {
   "cell_type": "code",
   "execution_count": null,
   "id": "09c45d95",
   "metadata": {},
   "outputs": [],
   "source": [
    "result"
   ]
  },
  {
   "cell_type": "code",
   "execution_count": null,
   "id": "3bdd2a1b",
   "metadata": {},
   "outputs": [],
   "source": [
    "avatars = result.post_processed_avatars\n",
    "avatars.head(3)"
   ]
  },
  {
   "cell_type": "code",
   "execution_count": null,
   "id": "d5a99371",
   "metadata": {},
   "outputs": [],
   "source": [
    "avatars[\"city\"].value_counts()"
   ]
  },
  {
   "cell_type": "markdown",
   "id": "0327a9b2",
   "metadata": {},
   "source": [
    "We observe that the avatars produced have a reduced number of cities and an extra `other` modality for the `city` variable. Note that the use of a client-side processor made the transformation of the data straightforward. \n",
    "\n",
    "The calculation of the metrics has been performed during the execution of the pipeline. Results can be obtained as shown below."
   ]
  },
  {
   "cell_type": "code",
   "execution_count": null,
   "id": "3a1f1b8c",
   "metadata": {},
   "outputs": [],
   "source": [
    "privacy_metrics = result.privacy_metrics\n",
    "print(\"*** Privacy metrics ***\")\n",
    "for metric in privacy_metrics:\n",
    "    print(metric)\n",
    "\n",
    "utility_metrics = result.signal_metrics\n",
    "print(\"\\n*** Utility metrics ***\")\n",
    "for metric in utility_metrics:\n",
    "    print(metric)"
   ]
  },
  {
   "cell_type": "markdown",
   "id": "14b2a068",
   "metadata": {},
   "source": [
    "## Modeling inter-variables constraints with processors"
   ]
  },
  {
   "cell_type": "markdown",
   "id": "2d0bf0d6",
   "metadata": {},
   "source": [
    "We will now use two processors to enforce inter-variable constraints.\n",
    "\n",
    "The two processors we will now apply are processors that temporarily transform the data in order to improve the avatarization. This means that they both contain a `preprocess` step and a `postprocess` step, ensuring that the effect of the `preprocess` action can be reversed via the use of the `postprocess` action. \n",
    "\n",
    "These processors will be used to demonstrate the implementation of the pipeline tool that automates the use of processors, the avatarization and the metric computation in a single command. \n"
   ]
  },
  {
   "cell_type": "code",
   "execution_count": null,
   "id": "a80b4bfd",
   "metadata": {},
   "outputs": [],
   "source": [
    "df = pd.read_csv(\"../fixtures/epl.csv\")"
   ]
  },
  {
   "cell_type": "markdown",
   "id": "20da0a42",
   "metadata": {},
   "source": [
    "Prior to applying processors, it is important to check `dtypes` and eventually convert date variables to a `datetime` format using `pandas.to_datetime` function. "
   ]
  },
  {
   "cell_type": "code",
   "execution_count": null,
   "id": "ba883e7e",
   "metadata": {},
   "outputs": [],
   "source": [
    "df.dtypes"
   ]
  },
  {
   "cell_type": "code",
   "execution_count": null,
   "id": "08cc01d5",
   "metadata": {},
   "outputs": [],
   "source": [
    "df[\"career_start_date\"] = pd.to_datetime(\n",
    "    df[\"career_start_date\"], format=\"%Y-%m-%d %H:%M:%S\"\n",
    ")\n",
    "df[\"club_signing_date\"] = pd.to_datetime(\n",
    "    df[\"club_signing_date\"], format=\"%Y-%m-%d %H:%M:%S\"\n",
    ")"
   ]
  },
  {
   "cell_type": "markdown",
   "id": "d6729dc6",
   "metadata": {},
   "source": [
    "### Proportions\n",
    "\n",
    "Variables may have relationships in which one or many variables can be represented as a proportion of another. In order to best preserve this type of relationships during avatarization, it is recommended to express such variables as proportions. To do so, the proportion processor can be used.\n",
    "\n",
    "In our example, the `ProportionProcessor` can be used, because `minutes_in_game` is the sum of `minutes_played_home`, `minutes_played_away` and `minutes_on_bench`\n",
    "\n",
    "$\\displaystyle\\frac{minutes\\,in\\,game\\:+\\:minutes\\,played\\,away\\:+\\:minutes\\,on\\,bench}{ minutes\\,in\\,game} = 1$ "
   ]
  },
  {
   "cell_type": "code",
   "execution_count": null,
   "id": "207630e7",
   "metadata": {},
   "outputs": [],
   "source": [
    "proportion_processor = ProportionProcessor(\n",
    "    variable_names=[\"minutes_played_home\", \"minutes_played_away\", \"minutes_on_bench\"],\n",
    "    reference=\"minutes_in_game\",\n",
    "    sum_to_one=True,\n",
    "    decimal_count=0,\n",
    ")"
   ]
  },
  {
   "cell_type": "code",
   "execution_count": null,
   "id": "2ca284de",
   "metadata": {},
   "outputs": [],
   "source": [
    "df.head()"
   ]
  },
  {
   "cell_type": "markdown",
   "id": "93068f89",
   "metadata": {},
   "source": [
    "### Relative differences\n",
    "\n",
    "Some variables may have a hierarchy where one variable is always higher than an other. In order to be sure that this hierarchy is preserved in the avatarization, it is recommended to express one variable as the difference of another.\n",
    "\n",
    "We take `penalty_attempts` and `penalty_goals` as an example where one variable (`penalty_goals`) cannot be greater than the other (`penalty_attempts`)."
   ]
  },
  {
   "cell_type": "code",
   "execution_count": null,
   "id": "da93e809",
   "metadata": {},
   "outputs": [],
   "source": [
    "relative_difference_processor = RelativeDifferenceProcessor(\n",
    "    target=\"penalty_goals\",\n",
    "    references=[\"penalty_attempts\"],\n",
    ")"
   ]
  },
  {
   "cell_type": "markdown",
   "id": "2a5cf8f3",
   "metadata": {},
   "source": [
    "### Relative differences with datetime variables\n",
    "\n",
    "The relative difference processor can be used to express a date relative to another. To do so, it is required to use the `DatetimeProcessor` that will transform datetime variables into numeric values, by computing the differences between date variables.\n",
    "\n",
    "As the `DatetimeProcessor` has a post-processing function, the data produced by the avatarization pipeline will contain the datetime variables in their original format (i.e. as datetime values rather than numerical values)."
   ]
  },
  {
   "cell_type": "code",
   "execution_count": null,
   "id": "259066c5",
   "metadata": {},
   "outputs": [],
   "source": [
    "datetime_processor = DatetimeProcessor()"
   ]
  },
  {
   "cell_type": "code",
   "execution_count": null,
   "id": "cc27c388",
   "metadata": {},
   "outputs": [],
   "source": [
    "relative_difference_processor_dates = RelativeDifferenceProcessor(\n",
    "    target=\"club_signing_date\",\n",
    "    references=[\"career_start_date\"],\n",
    ")"
   ]
  },
  {
   "cell_type": "markdown",
   "id": "897a480c",
   "metadata": {},
   "source": [
    "### Computed variables\n",
    "\n",
    "The data also contains a third variable related to the penalty context: `penalty_misses`. This variable can be computed directly as the difference between `penalty_attempts` and `penalty_goals`. \n",
    "\n",
    "$\\ penalty\\:misses = penalty\\:attempts - penalty\\:goals $ \n",
    "\n",
    "Computed variables should be removed from the data prior to running the avtarization and re-computed after."
   ]
  },
  {
   "cell_type": "code",
   "execution_count": null,
   "id": "3e65d745",
   "metadata": {},
   "outputs": [],
   "source": [
    "df = df.drop(columns=[\"penalty_misses\"])"
   ]
  },
  {
   "cell_type": "markdown",
   "id": "4c77b0c8",
   "metadata": {},
   "source": [
    "### Run the pipeline"
   ]
  },
  {
   "cell_type": "code",
   "execution_count": null,
   "id": "6624235e",
   "metadata": {},
   "outputs": [],
   "source": [
    "%%time\n",
    "dataset = client.pandas_integration.upload_dataframe(df)\n",
    "\n",
    "result = client.pipelines.avatarization_pipeline_with_processors(\n",
    "    AvatarizationPipelineCreate(\n",
    "        avatarization_job_create=AvatarizationJobCreate(\n",
    "            parameters=AvatarizationParameters(dataset_id=dataset.id, k=5)\n",
    "        ),\n",
    "        processors=[\n",
    "            proportion_processor,\n",
    "            relative_difference_processor,\n",
    "            datetime_processor,\n",
    "            relative_difference_processor_dates,\n",
    "        ],\n",
    "        df=df,\n",
    "    ),\n",
    "    timeout=1000,\n",
    ")"
   ]
  },
  {
   "cell_type": "code",
   "execution_count": null,
   "id": "7dcf9ea2",
   "metadata": {},
   "outputs": [],
   "source": [
    "avatars = result.post_processed_avatars\n",
    "avatars.head(5)"
   ]
  },
  {
   "cell_type": "code",
   "execution_count": null,
   "id": "630b1366",
   "metadata": {},
   "outputs": [],
   "source": [
    "privacy_metrics = result.privacy_metrics\n",
    "print(\"*** Privacy metrics ***\")\n",
    "for metric in privacy_metrics:\n",
    "    print(metric)\n",
    "\n",
    "utility_metrics = result.signal_metrics\n",
    "print(\"\\n*** Utility metrics ***\")\n",
    "for metric in utility_metrics:\n",
    "    print(metric)"
   ]
  },
  {
   "cell_type": "markdown",
   "id": "fbc2d7aa",
   "metadata": {},
   "source": [
    "### Should these processors really be used ?\n",
    "\n",
    "Let's try without ..."
   ]
  },
  {
   "cell_type": "code",
   "execution_count": null,
   "id": "b9bc591a",
   "metadata": {},
   "outputs": [],
   "source": [
    "df2 = pd.read_csv(\"../fixtures/epl.csv\")\n",
    "df2[\"career_start_date\"] = pd.to_datetime(\n",
    "    df2[\"career_start_date\"], format=\"%Y-%m-%d %H:%M:%S\"\n",
    ")\n",
    "df2[\"club_signing_date\"] = pd.to_datetime(\n",
    "    df2[\"club_signing_date\"], format=\"%Y-%m-%d %H:%M:%S\"\n",
    ")\n",
    "\n",
    "dataset = client.pandas_integration.upload_dataframe(df2)\n",
    "job = client.jobs.create_avatarization_job(\n",
    "    AvatarizationJobCreate(\n",
    "        parameters=AvatarizationParameters(k=20, ncp=2, dataset_id=dataset.id)\n",
    "    )\n",
    ")\n",
    "job = client.jobs.get_avatarization_job(id=job.id, timeout=100)\n",
    "print(job.id)"
   ]
  },
  {
   "cell_type": "code",
   "execution_count": null,
   "id": "de545ffe",
   "metadata": {},
   "outputs": [],
   "source": [
    "avatars_noprocessing = client.pandas_integration.download_dataframe(\n",
    "    job.result.avatars_dataset.id, timeout=100\n",
    ")"
   ]
  },
  {
   "cell_type": "code",
   "execution_count": null,
   "id": "fa3ba679",
   "metadata": {},
   "outputs": [],
   "source": [
    "avatars_noprocessing.head(5)"
   ]
  },
  {
   "cell_type": "markdown",
   "id": "93a43c8c",
   "metadata": {},
   "source": [
    "#### Preservation of the proportions\n",
    "\n",
    "To confirm that proportions are well kept, we can compute the maximum difference between the reference variable (`minutes_in_game`) and the sum of the three proportion variables (`minutes_played_home`, `minutes_played_away` and `minutes_on_bench`). Where it may not be zero when no processor is used, this difference should be zero when using a proportion processor. "
   ]
  },
  {
   "cell_type": "code",
   "execution_count": null,
   "id": "9a66018f",
   "metadata": {},
   "outputs": [],
   "source": [
    "np.max(\n",
    "    abs(\n",
    "        avatars_noprocessing[\"minutes_in_game\"]\n",
    "        - (\n",
    "            avatars_noprocessing[\"minutes_played_home\"]\n",
    "            + avatars_noprocessing[\"minutes_played_away\"]\n",
    "            + avatars_noprocessing[\"minutes_on_bench\"]\n",
    "        )\n",
    "    )\n",
    ")"
   ]
  },
  {
   "cell_type": "code",
   "execution_count": null,
   "id": "63278917",
   "metadata": {},
   "outputs": [],
   "source": [
    "np.max(\n",
    "    abs(\n",
    "        avatars[\"minutes_in_game\"]\n",
    "        - (\n",
    "            avatars[\"minutes_played_home\"]\n",
    "            + avatars[\"minutes_played_away\"]\n",
    "            + avatars[\"minutes_on_bench\"]\n",
    "        )\n",
    "    )\n",
    ")"
   ]
  },
  {
   "cell_type": "markdown",
   "id": "6da276b0",
   "metadata": {},
   "source": [
    "#### Preservation of the relative difference"
   ]
  },
  {
   "cell_type": "markdown",
   "id": "968b3cef",
   "metadata": {},
   "source": [
    "To confirm that the relative difference is preserved, we can look at the number of players who have more `penalty_goals` than `penalty_attempts`. With the `RelativeDifferenceProcessor` zero players should have more goals than attempts, which is not necessarily the case without processor.\n"
   ]
  },
  {
   "cell_type": "code",
   "execution_count": null,
   "id": "5367c797",
   "metadata": {},
   "outputs": [],
   "source": [
    "print(\"Avatars with processors\")\n",
    "print(\n",
    "    \"Number of players with penalty attempts > penalty goals: \",\n",
    "    (sum(avatars[\"penalty_attempts\"] - avatars[\"penalty_goals\"] > 0)),\n",
    ")\n",
    "print(\n",
    "    \"Number of players with penalty attempts < penalty goals: \",\n",
    "    (sum(avatars[\"penalty_attempts\"] - avatars[\"penalty_goals\"] < 0)),\n",
    ")"
   ]
  },
  {
   "cell_type": "code",
   "execution_count": null,
   "id": "2f900dbc",
   "metadata": {},
   "outputs": [],
   "source": [
    "print(\"Avatars without processors\")\n",
    "print(\n",
    "    \"Number of players with penalty attempts > penalty goals: \",\n",
    "    (\n",
    "        sum(\n",
    "            avatars_noprocessing[\"penalty_attempts\"]\n",
    "            - avatars_noprocessing[\"penalty_goals\"]\n",
    "            > 0\n",
    "        )\n",
    "    ),\n",
    ")\n",
    "print(\n",
    "    \"Number of players with penalty attempts < penalty goals: \",\n",
    "    (\n",
    "        sum(\n",
    "            avatars_noprocessing[\"penalty_attempts\"]\n",
    "            - avatars_noprocessing[\"penalty_goals\"]\n",
    "            < 0\n",
    "        )\n",
    "    ),\n",
    ")"
   ]
  },
  {
   "cell_type": "markdown",
   "id": "8663201f",
   "metadata": {},
   "source": [
    "## Post-processors\n",
    "\n",
    "Post-processors do not transform the data prior to the avatarization but after only. These can be used to fix some variables that could have been altered beyond acceptable.\n",
    "\n",
    "Care should always be taken when using post-processors because they are likely to **decrease the level of privacy**. \n",
    "Using these processors via the pipeline feature, ensure that metrics are computed after application of the post-process step. This also make sure that privacy and utility metrics have taken these processors into consideration."
   ]
  },
  {
   "cell_type": "markdown",
   "id": "2a684865",
   "metadata": {},
   "source": [
    "### Expected mean"
   ]
  },
  {
   "cell_type": "markdown",
   "id": "f042c071",
   "metadata": {},
   "source": [
    "`ExpectedMeanProcessor` is used to force values to have similar mean to original data. In our example, we want to preserve the mean of `goals_away` and `goals_home` by the variable `position`.\n",
    "\n",
    "Care should be taken when using this processor as it only targets enhancement of unimodal utility. This may occur at the expense of multi-modal utility and **privacy**."
   ]
  },
  {
   "cell_type": "code",
   "execution_count": null,
   "id": "b35004ad",
   "metadata": {},
   "outputs": [],
   "source": [
    "expected_mean_processor = ExpectedMeanProcessor(\n",
    "    target_variables=[\"goals_away\", \"goals_home\"],\n",
    "    groupby_variables=[\"position\"],\n",
    "    same_std=False,\n",
    ")"
   ]
  },
  {
   "cell_type": "markdown",
   "id": "e1c2c70b",
   "metadata": {},
   "source": [
    "### Run the pipeline"
   ]
  },
  {
   "cell_type": "code",
   "execution_count": null,
   "id": "89a9b24f",
   "metadata": {},
   "outputs": [],
   "source": [
    "dataset = client.pandas_integration.upload_dataframe(df)\n",
    "\n",
    "result = client.pipelines.avatarization_pipeline_with_processors(\n",
    "    AvatarizationPipelineCreate(\n",
    "        avatarization_job_create=AvatarizationJobCreate(\n",
    "            parameters=AvatarizationParameters(dataset_id=dataset.id, k=5),\n",
    "        ),\n",
    "        processors=[\n",
    "            proportion_processor,\n",
    "            relative_difference_processor,\n",
    "            expected_mean_processor,\n",
    "        ],\n",
    "        df=df,\n",
    "    ),\n",
    "    timeout=1000,\n",
    ")\n",
    "print(result.avatarization_job_id)\n",
    "print(result.privacy_job_id)\n",
    "print(result.signal_job_id)"
   ]
  },
  {
   "cell_type": "code",
   "execution_count": null,
   "id": "9d2e6965",
   "metadata": {},
   "outputs": [],
   "source": [
    "avatars = result.post_processed_avatars\n",
    "avatars.head(5)"
   ]
  },
  {
   "cell_type": "markdown",
   "id": "80baf3e9",
   "metadata": {},
   "source": [
    "Looking at the mean of the two variables on which the expected mean processor was applied, we can confirm that the mean for each target category is preserved.\n",
    "\n",
    "The same statistics computed on avatars that did not get post-processed are more different than the statistics obtained on the original data."
   ]
  },
  {
   "cell_type": "code",
   "execution_count": null,
   "id": "9cfb106a",
   "metadata": {},
   "outputs": [],
   "source": [
    "df.groupby([\"position\"]).mean(numeric_only=True)[[\"goals_away\", \"goals_home\"]]"
   ]
  },
  {
   "cell_type": "code",
   "execution_count": null,
   "id": "ba53c37a",
   "metadata": {},
   "outputs": [],
   "source": [
    "avatars.groupby([\"position\"]).mean(numeric_only=True)[[\"goals_away\", \"goals_home\"]]"
   ]
  },
  {
   "cell_type": "code",
   "execution_count": null,
   "id": "b390e2e7",
   "metadata": {},
   "outputs": [],
   "source": [
    "avatars_noprocessing.groupby([\"position\"]).mean(numeric_only=True)[\n",
    "    [\"goals_away\", \"goals_home\"]\n",
    "]"
   ]
  },
  {
   "cell_type": "markdown",
   "id": "ab56d17f",
   "metadata": {},
   "source": [
    "### Computed variables\n",
    "\n",
    "To complete the anonymization process, computed variables (that have been removed from the data) should be added back to the avatarized data.\n"
   ]
  },
  {
   "cell_type": "code",
   "execution_count": null,
   "id": "e63c4c1c",
   "metadata": {},
   "outputs": [],
   "source": [
    "avatars[\"penalty_missed\"] = avatars[\"penalty_attempts\"] - avatars[\"penalty_goals\"]\n",
    "avatars_noprocessing[\"penalty_missed\"] = (\n",
    "    avatars_noprocessing[\"penalty_attempts\"] - avatars_noprocessing[\"penalty_goals\"]\n",
    ")"
   ]
  },
  {
   "cell_type": "code",
   "execution_count": null,
   "id": "8bf1dc58",
   "metadata": {},
   "outputs": [],
   "source": [
    "avatars.head()"
   ]
  },
  {
   "cell_type": "markdown",
   "id": "4be2aed2",
   "metadata": {},
   "source": [
    "### Perturbation level\n",
    "\n",
    "The perturbation processor can be used to control how close to the avatarized values, the final values of a variable will be. At the extremes, if using a perturbation level of zero, the avatarized values will not contribute at all to the final values. On the other hand, with a perturbation level of 1, the original values will not contribute. A perturbation level of 0.3 will mean that the final value will be closer to the original values than it is from the anonymized values. By default, the perturbation level is set to 1."
   ]
  },
  {
   "cell_type": "code",
   "execution_count": null,
   "id": "8ba0a1da",
   "metadata": {},
   "outputs": [],
   "source": [
    "perturbation_processor = PerturbationProcessor(perturbation_level={\"age\": 1})"
   ]
  },
  {
   "cell_type": "code",
   "execution_count": null,
   "id": "965fa2d9",
   "metadata": {},
   "outputs": [],
   "source": [
    "result = client.pipelines.avatarization_pipeline_with_processors(\n",
    "    AvatarizationPipelineCreate(\n",
    "        avatarization_job_create=AvatarizationJobCreate(\n",
    "            parameters=AvatarizationParameters(dataset_id=dataset.id, k=5),\n",
    "        ),\n",
    "        processors=[\n",
    "            proportion_processor,\n",
    "            relative_difference_processor,\n",
    "            expected_mean_processor,\n",
    "            perturbation_processor,\n",
    "        ],\n",
    "        df=df,\n",
    "    ),\n",
    "    timeout=1000,\n",
    ")\n",
    "print(result.avatarization_job_id)\n",
    "print(result.privacy_job_id)\n",
    "print(result.signal_job_id)\n",
    "avatars_perturbation_1 = result.post_processed_avatars\n",
    "\n",
    "perturbation_processor = PerturbationProcessor(perturbation_level={\"age\": 0})\n",
    "result = client.pipelines.avatarization_pipeline_with_processors(\n",
    "    AvatarizationPipelineCreate(\n",
    "        avatarization_job_create=AvatarizationJobCreate(\n",
    "            parameters=AvatarizationParameters(dataset_id=dataset.id, k=5),\n",
    "        ),\n",
    "        processors=[\n",
    "            proportion_processor,\n",
    "            relative_difference_processor,\n",
    "            expected_mean_processor,\n",
    "            perturbation_processor,\n",
    "        ],\n",
    "        df=df,\n",
    "    ),\n",
    "    timeout=1000,\n",
    ")\n",
    "print(result.avatarization_job_id)\n",
    "print(result.privacy_job_id)\n",
    "print(result.signal_job_id)\n",
    "avatars_perturbation_0 = result.post_processed_avatars\n",
    "\n",
    "perturbation_processor = PerturbationProcessor(perturbation_level={\"age\": 0.5})\n",
    "result = client.pipelines.avatarization_pipeline_with_processors(\n",
    "    AvatarizationPipelineCreate(\n",
    "        avatarization_job_create=AvatarizationJobCreate(\n",
    "            parameters=AvatarizationParameters(dataset_id=dataset.id, k=5),\n",
    "        ),\n",
    "        processors=[\n",
    "            proportion_processor,\n",
    "            relative_difference_processor,\n",
    "            expected_mean_processor,\n",
    "            perturbation_processor,\n",
    "        ],\n",
    "        df=df,\n",
    "    ),\n",
    "    timeout=1000,\n",
    ")\n",
    "avatars_perturbation_05 = result.post_processed_avatars\n",
    "print(result.avatarization_job_id)\n",
    "print(result.privacy_job_id)\n",
    "print(result.signal_job_id)"
   ]
  },
  {
   "cell_type": "markdown",
   "id": "076a7c1d",
   "metadata": {},
   "source": [
    "We observe that as expected, using a perturbation level of 0 on the variable `age`, this variable gets unchanged."
   ]
  },
  {
   "cell_type": "code",
   "execution_count": null,
   "id": "6cbabee6",
   "metadata": {},
   "outputs": [],
   "source": [
    "df[\"age\"].value_counts() - avatars_perturbation_0[\"age\"].value_counts()"
   ]
  },
  {
   "cell_type": "markdown",
   "id": "3f6d1a90",
   "metadata": {},
   "source": [
    "The same comment does not hold when using a perturbation level of 0.5 or 1. A count of each modality shows that new modalities were created during avatarization"
   ]
  },
  {
   "cell_type": "code",
   "execution_count": null,
   "id": "8979d0a3",
   "metadata": {},
   "outputs": [],
   "source": [
    "df[\"age\"].value_counts() - avatars_perturbation_05[\"age\"].value_counts()"
   ]
  },
  {
   "cell_type": "code",
   "execution_count": null,
   "id": "a28232a5",
   "metadata": {},
   "outputs": [],
   "source": [
    "df[\"age\"].value_counts() - avatars_perturbation_1[\"age\"].value_counts()"
   ]
  },
  {
   "cell_type": "markdown",
   "id": "2a6f5ad1",
   "metadata": {},
   "source": [
    "### Generate a report after running a pipeline\n",
    "\n",
    "In this final section, we will illustrate how to produce a report when using the pipeline to perform an avatarization. To do so, we simply need to retrieve the IDs of the avatarization job, privacy metric jobs and utility metric jobs already executed within the pipeline. Those 3 IDs are all in the `AvatarizationPipelineResult` object."
   ]
  },
  {
   "cell_type": "code",
   "execution_count": null,
   "id": "f39a298d",
   "metadata": {},
   "outputs": [],
   "source": [
    "result  # check the content of the AvatarizationPipelineResult object"
   ]
  },
  {
   "cell_type": "code",
   "execution_count": null,
   "id": "fa63e58c",
   "metadata": {},
   "outputs": [],
   "source": [
    "report = client.reports.create_report(\n",
    "    ReportCreate(\n",
    "        avatarization_job_id=result.avatarization_job_id,\n",
    "        privacy_job_id=result.privacy_job_id,\n",
    "        signal_job_id=result.signal_job_id,\n",
    "    ),\n",
    "    timeout=30,\n",
    ")\n",
    "result = client.reports.download_report(id=report.id)\n",
    "\n",
    "print(report.id)\n",
    "\n",
    "with open(\"./my_avatarization_report.pdf\", \"wb\") as f:\n",
    "    f.write(result)"
   ]
  },
  {
   "cell_type": "markdown",
   "id": "63bf8bfb",
   "metadata": {},
   "source": [
    "*In the next tutorial, we will show how to define your own processor to be executed client-side.*"
   ]
  }
 ],
 "metadata": {
  "language_info": {
   "name": "python"
  }
 },
 "nbformat": 4,
 "nbformat_minor": 5
}
