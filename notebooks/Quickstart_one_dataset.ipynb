{
 "cells": [
  {
   "cell_type": "markdown",
   "id": "d9dedea0",
   "metadata": {},
   "source": [
    "# Quickstart - Avatarization with one table"
   ]
  },
  {
   "cell_type": "markdown",
   "id": "0d19851f",
   "metadata": {},
   "source": [
    "## Connection"
   ]
  },
  {
   "cell_type": "code",
   "execution_count": null,
   "id": "f57dff28",
   "metadata": {},
   "outputs": [],
   "source": [
    "# This is the main file for the Avatar tutorial.\n",
    "from avatars.manager import Manager\n",
    "# The following are not necessary to run avatar but are used in this tutorial\n",
    "from avatars.models import JobKind\n",
    "from avatars.runner import Results\n",
    "\n",
    "import pandas as pd\n",
    "import os\n",
    "\n",
    "url = os.environ.get(\"AVATAR_BASE_API_URL\",\"https://www.octopize.app/api\")\n",
    "username = os.environ.get(\"AVATAR_USERNAME\")\n",
    "password = os.environ.get(\"AVATAR_PASSWORD\")"
   ]
  },
  {
   "cell_type": "code",
   "execution_count": null,
   "id": "8218db7f",
   "metadata": {},
   "outputs": [],
   "source": [
    "# Change this to your actual server endpoint, e.g. base_url=\"https://avatar.company.com\"\n",
    "manager = Manager(base_url=url)\n",
    "# Authenticate with the server\n",
    "manager.authenticate(username, password)"
   ]
  },
  {
   "cell_type": "markdown",
   "id": "f318ba9a",
   "metadata": {},
   "source": [
    "## Launching an avatarization"
   ]
  },
  {
   "cell_type": "code",
   "execution_count": null,
   "id": "ab9302bc",
   "metadata": {},
   "outputs": [],
   "source": [
    "# The runner is the object that will be used to upload data to the server and run the avatarization\n",
    "runner = manager.create_runner(set_name=\"test_wbcd\")\n",
    "# You can then find the result of the avatarization in the web with the set_name\n",
    "# Then you need to upload the data to the server\n",
    "runner.add_table(\"wbcd\", \"../fixtures/wbcd.csv\")\n",
    "# Choose the parameters for the avatarization\n"
   ]
  },
  {
   "cell_type": "code",
   "execution_count": null,
   "id": "fb6274c9",
   "metadata": {},
   "outputs": [],
   "source": [
    "runner.set_parameters(\"wbcd\", k=15)\n",
    "# Run the pipeline with avatarization, privacy and signal metrics and report\n",
    "runner.run()\n",
    "# Get the results\n",
    "results=runner.get_all_results()"
   ]
  },
  {
   "cell_type": "markdown",
   "id": "30676e16",
   "metadata": {},
   "source": [
    "## Retrieve avatars"
   ]
  },
  {
   "cell_type": "code",
   "execution_count": null,
   "id": "9290f1bc",
   "metadata": {},
   "outputs": [],
   "source": [
    "# Print the results\n",
    "print(\"Avatar data :\")\n",
    "runner.shuffled(\"wbcd\").head()"
   ]
  },
  {
   "cell_type": "markdown",
   "id": "17bc1d94",
   "metadata": {},
   "source": [
    "## Retrieve privacy metrics "
   ]
  },
  {
   "cell_type": "code",
   "execution_count": null,
   "id": "439c19b4",
   "metadata": {},
   "outputs": [],
   "source": [
    "for key, value in runner.privacy_metrics(\"wbcd\").items():\n",
    "    print(f\"{key}: {value}\")"
   ]
  },
  {
   "cell_type": "markdown",
   "id": "bab5e2f8",
   "metadata": {},
   "source": [
    "## Retrieve signal metrics "
   ]
  },
  {
   "cell_type": "code",
   "execution_count": null,
   "id": "5998cf92",
   "metadata": {},
   "outputs": [],
   "source": [
    "for key, value in runner.signal_metrics(\"wbcd\").items():\n",
    "    print(f\"{key}: {value}\")"
   ]
  },
  {
   "cell_type": "markdown",
   "id": "01a9b7d5",
   "metadata": {},
   "source": [
    "## Retrieving the avatarization report"
   ]
  },
  {
   "cell_type": "code",
   "execution_count": null,
   "id": "20c30f54",
   "metadata": {},
   "outputs": [],
   "source": [
    "runner.download_report('my_report.pdf')"
   ]
  }
 ],
 "metadata": {
  "language_info": {
   "name": "python"
  }
 },
 "nbformat": 4,
 "nbformat_minor": 5
}
