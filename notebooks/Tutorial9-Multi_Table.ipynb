{
 "cells": [
  {
   "cell_type": "markdown",
   "metadata": {},
   "source": [
    "# Tutorial 9: Multi Table\n"
   ]
  },
  {
   "cell_type": "markdown",
   "metadata": {},
   "source": [
    "In this tutorial, we will perform the avatarization of data containing time series variables."
   ]
  },
  {
   "cell_type": "markdown",
   "metadata": {},
   "source": [
    "## Connection"
   ]
  },
  {
   "cell_type": "code",
   "execution_count": 19,
   "metadata": {},
   "outputs": [],
   "source": [
    "import warnings\n",
    "\n",
    "warnings.filterwarnings(\"ignore\")\n",
    "import os\n",
    "import numpy as np\n",
    "import pandas as pd\n",
    "import seaborn as sns \n",
    "from avatars.models import (  # noqa: E402\n",
    "    AvatarizationParameters,\n",
    "    JobStatus,\n",
    ")\n",
    "\n",
    "from avatars.client import ApiClient\n",
    "from avatars.models import AvatarizationJobCreate, AvatarizationParameters\n",
    "from avatars.models import ReportCreate\n",
    "from avatars.models import (\n",
    "    PrivacyMetricsParameters,\n",
    "    TimeSeriesSignalMetricsPerDataset,\n",
    ")"
   ]
  },
  {
   "cell_type": "code",
   "execution_count": 27,
   "metadata": {},
   "outputs": [],
   "source": [
    "url = os.environ.get(\"AVATAR_BASE_URL\")\n",
    "username = os.environ.get(\"AVATAR_USERNAME\")\n",
    "password = os.environ.get(\"AVATAR_PASSWORD\")"
   ]
  },
  {
   "cell_type": "code",
   "execution_count": 28,
   "metadata": {},
   "outputs": [
    {
     "data": {
      "text/plain": [
       "{'message': 'ok'}"
      ]
     },
     "execution_count": 28,
     "metadata": {},
     "output_type": "execute_result"
    }
   ],
   "source": [
    "# Change this to your actual server endpoint, e.g. base_url=\"https://avatar.company.com\"\n",
    "client = ApiClient(base_url=url)\n",
    "client.authenticate(username=username, password=password)\n",
    "\n",
    "# Verify that we can connect to the API server\n",
    "client.health.get_health()"
   ]
  },
  {
   "cell_type": "markdown",
   "metadata": {},
   "source": [
    "## Loading data"
   ]
  },
  {
   "cell_type": "markdown",
   "metadata": {},
   "source": [
    "In this tutorial, we use three data tables. Doctor, Patient and Visit. \n",
    "Each doctor ant patient is referenced in at least 1 visit"
   ]
  },
  {
   "cell_type": "code",
   "execution_count": 7,
   "metadata": {},
   "outputs": [],
   "source": [
    "patient = pd.read_csv(\"../fixtures/table_patient.csv\")\n",
    "doctor = pd.read_csv(\"../fixtures/table_doctor.csv\")\n",
    "visit = pd.read_csv(\"../fixtures/table_visit.csv\")"
   ]
  },
  {
   "cell_type": "markdown",
   "metadata": {},
   "source": [
    "## Overview of data"
   ]
  },
  {
   "cell_type": "code",
   "execution_count": 11,
   "metadata": {},
   "outputs": [
    {
     "data": {
      "text/html": [
       "<div>\n",
       "<style scoped>\n",
       "    .dataframe tbody tr th:only-of-type {\n",
       "        vertical-align: middle;\n",
       "    }\n",
       "\n",
       "    .dataframe tbody tr th {\n",
       "        vertical-align: top;\n",
       "    }\n",
       "\n",
       "    .dataframe thead th {\n",
       "        text-align: right;\n",
       "    }\n",
       "</style>\n",
       "<table border=\"1\" class=\"dataframe\">\n",
       "  <thead>\n",
       "    <tr style=\"text-align: right;\">\n",
       "      <th></th>\n",
       "      <th>patient_id</th>\n",
       "      <th>gender</th>\n",
       "      <th>height</th>\n",
       "      <th>age</th>\n",
       "      <th>weight</th>\n",
       "    </tr>\n",
       "  </thead>\n",
       "  <tbody>\n",
       "    <tr>\n",
       "      <th>0</th>\n",
       "      <td>0</td>\n",
       "      <td>Female</td>\n",
       "      <td>162.309578</td>\n",
       "      <td>76.703574</td>\n",
       "      <td>61.558164</td>\n",
       "    </tr>\n",
       "    <tr>\n",
       "      <th>1</th>\n",
       "      <td>1</td>\n",
       "      <td>Female</td>\n",
       "      <td>172.857946</td>\n",
       "      <td>70.194769</td>\n",
       "      <td>82.745473</td>\n",
       "    </tr>\n",
       "    <tr>\n",
       "      <th>2</th>\n",
       "      <td>2</td>\n",
       "      <td>Female</td>\n",
       "      <td>168.418504</td>\n",
       "      <td>61.589210</td>\n",
       "      <td>55.877516</td>\n",
       "    </tr>\n",
       "    <tr>\n",
       "      <th>3</th>\n",
       "      <td>3</td>\n",
       "      <td>Female</td>\n",
       "      <td>165.360518</td>\n",
       "      <td>66.404999</td>\n",
       "      <td>63.712823</td>\n",
       "    </tr>\n",
       "    <tr>\n",
       "      <th>4</th>\n",
       "      <td>4</td>\n",
       "      <td>Female</td>\n",
       "      <td>160.123873</td>\n",
       "      <td>64.679730</td>\n",
       "      <td>72.821542</td>\n",
       "    </tr>\n",
       "  </tbody>\n",
       "</table>\n",
       "</div>"
      ],
      "text/plain": [
       "   patient_id  gender      height        age     weight\n",
       "0           0  Female  162.309578  76.703574  61.558164\n",
       "1           1  Female  172.857946  70.194769  82.745473\n",
       "2           2  Female  168.418504  61.589210  55.877516\n",
       "3           3  Female  165.360518  66.404999  63.712823\n",
       "4           4  Female  160.123873  64.679730  72.821542"
      ]
     },
     "execution_count": 11,
     "metadata": {},
     "output_type": "execute_result"
    }
   ],
   "source": [
    "patient.head()"
   ]
  },
  {
   "cell_type": "code",
   "execution_count": 20,
   "metadata": {},
   "outputs": [
    {
     "data": {
      "text/plain": [
       "<Axes: xlabel='height', ylabel='weight'>"
      ]
     },
     "execution_count": 20,
     "metadata": {},
     "output_type": "execute_result"
    },
    {
     "data": {
      "image/png": "[encoded data removed]",
      "text/plain": [
       "<Figure size 640x480 with 1 Axes>"
      ]
     },
     "metadata": {},
     "output_type": "display_data"
    }
   ],
   "source": [
    "# plot patient height vs age and color by sex \n",
    "sns.scatterplot(patient, x=\"height\", y=\"weight\", hue=\"gender\")"
   ]
  },
  {
   "cell_type": "code",
   "execution_count": 9,
   "metadata": {},
   "outputs": [
    {
     "data": {
      "text/html": [
       "<div>\n",
       "<style scoped>\n",
       "    .dataframe tbody tr th:only-of-type {\n",
       "        vertical-align: middle;\n",
       "    }\n",
       "\n",
       "    .dataframe tbody tr th {\n",
       "        vertical-align: top;\n",
       "    }\n",
       "\n",
       "    .dataframe thead th {\n",
       "        text-align: right;\n",
       "    }\n",
       "</style>\n",
       "<table border=\"1\" class=\"dataframe\">\n",
       "  <thead>\n",
       "    <tr style=\"text-align: right;\">\n",
       "      <th></th>\n",
       "      <th>doctor_id</th>\n",
       "      <th>job</th>\n",
       "      <th>age</th>\n",
       "    </tr>\n",
       "  </thead>\n",
       "  <tbody>\n",
       "    <tr>\n",
       "      <th>0</th>\n",
       "      <td>0</td>\n",
       "      <td>pediatrician</td>\n",
       "      <td>40.148021</td>\n",
       "    </tr>\n",
       "    <tr>\n",
       "      <th>1</th>\n",
       "      <td>1</td>\n",
       "      <td>pediatrician</td>\n",
       "      <td>39.210195</td>\n",
       "    </tr>\n",
       "    <tr>\n",
       "      <th>2</th>\n",
       "      <td>2</td>\n",
       "      <td>pediatrician</td>\n",
       "      <td>42.551937</td>\n",
       "    </tr>\n",
       "    <tr>\n",
       "      <th>3</th>\n",
       "      <td>3</td>\n",
       "      <td>pediatrician</td>\n",
       "      <td>41.370022</td>\n",
       "    </tr>\n",
       "    <tr>\n",
       "      <th>4</th>\n",
       "      <td>4</td>\n",
       "      <td>pediatrician</td>\n",
       "      <td>39.178037</td>\n",
       "    </tr>\n",
       "  </tbody>\n",
       "</table>\n",
       "</div>"
      ],
      "text/plain": [
       "   doctor_id           job        age\n",
       "0          0  pediatrician  40.148021\n",
       "1          1  pediatrician  39.210195\n",
       "2          2  pediatrician  42.551937\n",
       "3          3  pediatrician  41.370022\n",
       "4          4  pediatrician  39.178037"
      ]
     },
     "execution_count": 9,
     "metadata": {},
     "output_type": "execute_result"
    }
   ],
   "source": [
    "doctor.head()"
   ]
  },
  {
   "cell_type": "code",
   "execution_count": 21,
   "metadata": {},
   "outputs": [
    {
     "data": {
      "text/plain": [
       "<Axes: xlabel='job', ylabel='Count'>"
      ]
     },
     "execution_count": 21,
     "metadata": {},
     "output_type": "execute_result"
    },
    {
     "data": {
      "image/png": "[encoded data removed]",
      "text/plain": [
       "<Figure size 640x480 with 1 Axes>"
      ]
     },
     "metadata": {},
     "output_type": "display_data"
    }
   ],
   "source": [
    "sns.histplot(doctor, x=\"job\")\n"
   ]
  },
  {
   "cell_type": "code",
   "execution_count": 23,
   "metadata": {},
   "outputs": [
    {
     "data": {
      "text/html": [
       "<div>\n",
       "<style scoped>\n",
       "    .dataframe tbody tr th:only-of-type {\n",
       "        vertical-align: middle;\n",
       "    }\n",
       "\n",
       "    .dataframe tbody tr th {\n",
       "        vertical-align: top;\n",
       "    }\n",
       "\n",
       "    .dataframe thead th {\n",
       "        text-align: right;\n",
       "    }\n",
       "</style>\n",
       "<table border=\"1\" class=\"dataframe\">\n",
       "  <thead>\n",
       "    <tr style=\"text-align: right;\">\n",
       "      <th></th>\n",
       "      <th>visit_id</th>\n",
       "      <th>patient_id</th>\n",
       "      <th>doctor_id</th>\n",
       "      <th>day_visit</th>\n",
       "      <th>exam</th>\n",
       "      <th>gender</th>\n",
       "      <th>height</th>\n",
       "      <th>age</th>\n",
       "      <th>weight</th>\n",
       "    </tr>\n",
       "  </thead>\n",
       "  <tbody>\n",
       "    <tr>\n",
       "      <th>0</th>\n",
       "      <td>0</td>\n",
       "      <td>66</td>\n",
       "      <td>47</td>\n",
       "      <td>Tuesday</td>\n",
       "      <td>routine_check</td>\n",
       "      <td>Female</td>\n",
       "      <td>162.580905</td>\n",
       "      <td>72.714707</td>\n",
       "      <td>58.922842</td>\n",
       "    </tr>\n",
       "    <tr>\n",
       "      <th>1</th>\n",
       "      <td>1</td>\n",
       "      <td>149</td>\n",
       "      <td>35</td>\n",
       "      <td>Wednesday</td>\n",
       "      <td>routine_check</td>\n",
       "      <td>Male</td>\n",
       "      <td>186.913129</td>\n",
       "      <td>47.417028</td>\n",
       "      <td>81.116228</td>\n",
       "    </tr>\n",
       "    <tr>\n",
       "      <th>2</th>\n",
       "      <td>2</td>\n",
       "      <td>27</td>\n",
       "      <td>33</td>\n",
       "      <td>Thursday</td>\n",
       "      <td>vaccine</td>\n",
       "      <td>Female</td>\n",
       "      <td>158.118661</td>\n",
       "      <td>67.414294</td>\n",
       "      <td>45.554596</td>\n",
       "    </tr>\n",
       "    <tr>\n",
       "      <th>3</th>\n",
       "      <td>3</td>\n",
       "      <td>18</td>\n",
       "      <td>26</td>\n",
       "      <td>Thursday</td>\n",
       "      <td>routine_check</td>\n",
       "      <td>Female</td>\n",
       "      <td>167.302295</td>\n",
       "      <td>65.060046</td>\n",
       "      <td>73.505731</td>\n",
       "    </tr>\n",
       "    <tr>\n",
       "      <th>4</th>\n",
       "      <td>4</td>\n",
       "      <td>137</td>\n",
       "      <td>21</td>\n",
       "      <td>Friday</td>\n",
       "      <td>vaccine</td>\n",
       "      <td>Male</td>\n",
       "      <td>177.236460</td>\n",
       "      <td>57.060519</td>\n",
       "      <td>75.978947</td>\n",
       "    </tr>\n",
       "    <tr>\n",
       "      <th>...</th>\n",
       "      <td>...</td>\n",
       "      <td>...</td>\n",
       "      <td>...</td>\n",
       "      <td>...</td>\n",
       "      <td>...</td>\n",
       "      <td>...</td>\n",
       "      <td>...</td>\n",
       "      <td>...</td>\n",
       "      <td>...</td>\n",
       "    </tr>\n",
       "    <tr>\n",
       "      <th>295</th>\n",
       "      <td>295</td>\n",
       "      <td>118</td>\n",
       "      <td>3</td>\n",
       "      <td>Thursday</td>\n",
       "      <td>pediatrics</td>\n",
       "      <td>Male</td>\n",
       "      <td>170.864789</td>\n",
       "      <td>62.687192</td>\n",
       "      <td>55.697650</td>\n",
       "    </tr>\n",
       "    <tr>\n",
       "      <th>296</th>\n",
       "      <td>296</td>\n",
       "      <td>117</td>\n",
       "      <td>47</td>\n",
       "      <td>Friday</td>\n",
       "      <td>vaccine</td>\n",
       "      <td>Male</td>\n",
       "      <td>178.922298</td>\n",
       "      <td>47.095660</td>\n",
       "      <td>72.737838</td>\n",
       "    </tr>\n",
       "    <tr>\n",
       "      <th>297</th>\n",
       "      <td>297</td>\n",
       "      <td>69</td>\n",
       "      <td>29</td>\n",
       "      <td>Thursday</td>\n",
       "      <td>vaccine</td>\n",
       "      <td>Female</td>\n",
       "      <td>170.613982</td>\n",
       "      <td>62.747378</td>\n",
       "      <td>54.414073</td>\n",
       "    </tr>\n",
       "    <tr>\n",
       "      <th>298</th>\n",
       "      <td>298</td>\n",
       "      <td>88</td>\n",
       "      <td>37</td>\n",
       "      <td>Monday</td>\n",
       "      <td>vaccine</td>\n",
       "      <td>Female</td>\n",
       "      <td>165.023675</td>\n",
       "      <td>72.963210</td>\n",
       "      <td>69.656349</td>\n",
       "    </tr>\n",
       "    <tr>\n",
       "      <th>299</th>\n",
       "      <td>299</td>\n",
       "      <td>93</td>\n",
       "      <td>39</td>\n",
       "      <td>Tuesday</td>\n",
       "      <td>routine_check</td>\n",
       "      <td>Female</td>\n",
       "      <td>142.702490</td>\n",
       "      <td>71.167349</td>\n",
       "      <td>41.726650</td>\n",
       "    </tr>\n",
       "  </tbody>\n",
       "</table>\n",
       "<p>300 rows × 9 columns</p>\n",
       "</div>"
      ],
      "text/plain": [
       "     visit_id  patient_id  doctor_id  day_visit           exam  gender  \\\n",
       "0           0          66         47    Tuesday  routine_check  Female   \n",
       "1           1         149         35  Wednesday  routine_check    Male   \n",
       "2           2          27         33   Thursday        vaccine  Female   \n",
       "3           3          18         26   Thursday  routine_check  Female   \n",
       "4           4         137         21     Friday        vaccine    Male   \n",
       "..        ...         ...        ...        ...            ...     ...   \n",
       "295       295         118          3   Thursday     pediatrics    Male   \n",
       "296       296         117         47     Friday        vaccine    Male   \n",
       "297       297          69         29   Thursday        vaccine  Female   \n",
       "298       298          88         37     Monday        vaccine  Female   \n",
       "299       299          93         39    Tuesday  routine_check  Female   \n",
       "\n",
       "         height        age     weight  \n",
       "0    162.580905  72.714707  58.922842  \n",
       "1    186.913129  47.417028  81.116228  \n",
       "2    158.118661  67.414294  45.554596  \n",
       "3    167.302295  65.060046  73.505731  \n",
       "4    177.236460  57.060519  75.978947  \n",
       "..          ...        ...        ...  \n",
       "295  170.864789  62.687192  55.697650  \n",
       "296  178.922298  47.095660  72.737838  \n",
       "297  170.613982  62.747378  54.414073  \n",
       "298  165.023675  72.963210  69.656349  \n",
       "299  142.702490  71.167349  41.726650  \n",
       "\n",
       "[300 rows x 9 columns]"
      ]
     },
     "execution_count": 23,
     "metadata": {},
     "output_type": "execute_result"
    }
   ],
   "source": [
    "visit.head()\n",
    "visit_joined = visit.merge(patient, on=\"patient_id\", how=\"left\")\n",
    "visit_joined"
   ]
  },
  {
   "cell_type": "code",
   "execution_count": 25,
   "metadata": {},
   "outputs": [
    {
     "data": {
      "text/plain": [
       "<Axes: xlabel='day_visit', ylabel='Count'>"
      ]
     },
     "execution_count": 25,
     "metadata": {},
     "output_type": "execute_result"
    },
    {
     "data": {
      "image/png": "[encoded data removed]",
      "text/plain": [
       "<Figure size 640x480 with 1 Axes>"
      ]
     },
     "metadata": {},
     "output_type": "display_data"
    }
   ],
   "source": [
    "sns.histplot(visit_joined, x=\"day_visit\", hue=\"gender\")\n"
   ]
  },
  {
   "cell_type": "markdown",
   "metadata": {},
   "source": [
    "Now that we know what data we are maniplating, we can anonymize it."
   ]
  },
  {
   "cell_type": "markdown",
   "metadata": {},
   "source": [
    "### Upload data and save datasets"
   ]
  },
  {
   "cell_type": "code",
   "execution_count": 29,
   "metadata": {},
   "outputs": [],
   "source": [
    "dataset_patient  = client.pandas_integration.upload_dataframe(patient, name=\"patient\")\n",
    "dataset_doctor  = client.pandas_integration.upload_dataframe(doctor, name=\"doctor\")\n",
    "dataset_visit  = client.pandas_integration.upload_dataframe(visit, name=\"visit\")"
   ]
  },
  {
   "cell_type": "markdown",
   "metadata": {},
   "source": [
    "### Create job and retrieve results\n",
    "\n",
    "This is done in a similar way than for the anonymization of classic tabular data. However, the objects are different. For data containing time series, it is necessary to parameterize a `AvatarizationWithTimeSeriesJobCreate` with parameters of type `AvatarizationWithTimeSeriesParameters`.\n",
    "\n",
    "The attributes to specify in `AvatarizationWithTimeSeriesParameters` are:\n",
    "- `k`\n",
    "- the dataset_id of the vanilla dataset (i.e. the individual-centric dataset containing one line per individual)\n",
    "- a list of `AvatarizationTimeSeriesParameters` containing 1 item per time series dataset.\n",
    "\n",
    "\n",
    "Each `AvatarizationTimeSeriesParameters` specifies the dataset_id of the time series data and the projection parameters. The projection parameters defines how the data will be transformed (aka projected) so that avatars can be generated. \n",
    "\n",
    "Supported time series projection is Functional Principal Component Analysis (FPCA). `nf` is the number of components used to represent each time series variable in the projection.\n",
    "\n",
    "Note that it is possible to generate avatars of data containing only time series dataset (i.e. without any vanilla data). In this case, dataset_id can be set to `None`"
   ]
  },
  {
   "cell_type": "code",
   "execution_count": null,
   "metadata": {},
   "outputs": [],
   "source": [
    "job = client.jobs.create_avatarization_with_time_series_job(\n",
    "    AvatarizationWithTimeSeriesJobCreate(\n",
    "        parameters=AvatarizationWithTimeSeriesParameters(\n",
    "            vanilla_dataset_id=dataset_vanilla.id,\n",
    "            k=5,\n",
    "            time_series=[\n",
    "                AvatarizationTimeSeriesParameters(\n",
    "                    dataset_id=dataset_ts.id,\n",
    "                    projection_parameters=FPCAParameters(\n",
    "                        nf=10,\n",
    "                    ),\n",
    "                )\n",
    "                for dataset_ts in datasets_ts\n",
    "            ],\n",
    "        )\n",
    "    ),\n",
    "    timeout=50,\n",
    ")\n",
    "job = client.jobs.get_avatarization_time_series_job(job.id, timeout=60)"
   ]
  },
  {
   "cell_type": "markdown",
   "metadata": {},
   "source": [
    "### Retrieve avatars\n",
    "\n",
    "Once generated, the avatar dataset are stored on the server and can be retrieved using theuir dataset ID. The dataset ID  for each avatar dataset is contained in `job.result.datasets`."
   ]
  },
  {
   "cell_type": "code",
   "execution_count": null,
   "metadata": {},
   "outputs": [],
   "source": [
    "print(\n",
    "    f\"There are {len(job.result.datasets)} avatars datasets following anonymization.\\n\"\n",
    ")\n",
    "\n",
    "print(f\"Their UUIDs are : {[x.avatars_dataset.id for x in job.result.datasets]}\\n\")\n",
    "\n",
    "originals_to_avatars = {\n",
    "    x.original_id: x.avatars_dataset.id for x in job.result.datasets\n",
    "}\n",
    "print(f\"The mapping original to avatar is: {originals_to_avatars}\")"
   ]
  },
  {
   "cell_type": "markdown",
   "metadata": {},
   "source": [
    "### Checking your avatars: vanilla data "
   ]
  },
  {
   "cell_type": "code",
   "execution_count": null,
   "metadata": {},
   "outputs": [],
   "source": [
    "avatars_vanilla_df = client.pandas_integration.download_dataframe(\n",
    "    job.result.datasets[0].avatars_dataset.id\n",
    ")"
   ]
  },
  {
   "cell_type": "code",
   "execution_count": null,
   "metadata": {},
   "outputs": [],
   "source": [
    "avatars_vanilla_df.head()"
   ]
  },
  {
   "cell_type": "markdown",
   "metadata": {},
   "source": [
    "### Checking your avatars: `sensor1` and `sensor2`"
   ]
  },
  {
   "cell_type": "code",
   "execution_count": null,
   "metadata": {},
   "outputs": [],
   "source": [
    "avatars_ts1_df = client.pandas_integration.download_dataframe(\n",
    "    job.result.datasets[1].avatars_dataset.id\n",
    ")"
   ]
  },
  {
   "cell_type": "code",
   "execution_count": null,
   "metadata": {},
   "outputs": [],
   "source": [
    "plot = plot_series(\n",
    "    df := avatars_ts1_df,\n",
    "    variable_to_plot=\"sensor1\",\n",
    "    id_variable=\"id\",\n",
    "    time_variable=\"t\",\n",
    "    proportion_to_plot=1.0,\n",
    "    n_series_to_plot=None,\n",
    "    figsize=(14, 8),\n",
    ")\n",
    "plot.show()"
   ]
  },
  {
   "cell_type": "code",
   "execution_count": null,
   "metadata": {},
   "outputs": [],
   "source": [
    "plot = plot_series(\n",
    "    df := avatars_ts1_df,\n",
    "    variable_to_plot=\"sensor2\",\n",
    "    id_variable=\"id\",\n",
    "    time_variable=\"t\",\n",
    "    proportion_to_plot=1.0,\n",
    "    n_series_to_plot=None,\n",
    "    figsize=(14, 8),\n",
    ")\n",
    "plot.show()"
   ]
  },
  {
   "cell_type": "markdown",
   "metadata": {},
   "source": [
    "### Checking your avatars: `sensor3`"
   ]
  },
  {
   "cell_type": "code",
   "execution_count": null,
   "metadata": {},
   "outputs": [],
   "source": [
    "avatars_ts2_df = client.pandas_integration.download_dataframe(\n",
    "    job.result.datasets[2].avatars_dataset.id\n",
    ")"
   ]
  },
  {
   "cell_type": "code",
   "execution_count": null,
   "metadata": {},
   "outputs": [],
   "source": [
    "plot = plot_series(\n",
    "    df := avatars_ts2_df,\n",
    "    variable_to_plot=\"sensor3\",\n",
    "    id_variable=\"id\",\n",
    "    time_variable=\"t\",\n",
    "    proportion_to_plot=1.0,\n",
    "    n_series_to_plot=None,\n",
    "    figsize=(14, 8),\n",
    ")\n",
    "plot.show()"
   ]
  },
  {
   "cell_type": "markdown",
   "metadata": {},
   "source": [
    "## Privacy metrics for time series"
   ]
  },
  {
   "cell_type": "markdown",
   "metadata": {},
   "source": [
    "As for any data, privacy metrics need to be computed on the output time series data to confirm that it is anonymous. We first retrieve the data required by the privacy metrics, that is the original datasets and their sensitive unshuffled counterparts. The unshuffled datasets are only used for computing the privacy metrics"
   ]
  },
  {
   "cell_type": "code",
   "execution_count": null,
   "metadata": {},
   "outputs": [],
   "source": [
    "# we get the unshuffled vanilla avatars from the job result based on the original id\n",
    "vanilla_unshuffled_avatars = [\n",
    "    result.sensitive_unshuffled_avatars_datasets\n",
    "    for result in job.result.datasets\n",
    "    if result.original_id == dataset_vanilla.id\n",
    "][0]\n",
    "\n",
    "# we get the unshuffled time series avatars from the job result based on their original ids\n",
    "dataset_pairs = [\n",
    "    (result.original_id, result.sensitive_unshuffled_avatars_datasets)\n",
    "    for result in job.result.datasets\n",
    "    if result.original_id != dataset_vanilla.id\n",
    "]\n",
    "ts_original_ids = [pair[0] for pair in dataset_pairs]\n",
    "ts_unshuffled_avatars = [pair[1] for pair in dataset_pairs]"
   ]
  },
  {
   "cell_type": "code",
   "execution_count": null,
   "metadata": {},
   "outputs": [],
   "source": [
    "privacy_job = client.jobs.create_privacy_metrics_time_series_job(\n",
    "    PrivacyMetricsWithTimeSeriesJobCreate(\n",
    "        parameters=PrivacyMetricsWithTimeSeriesParameters(\n",
    "            vanilla_original_id=dataset_vanilla.id,\n",
    "            vanilla_unshuffled_avatars_id=vanilla_unshuffled_avatars.id,\n",
    "            time_series=[\n",
    "                PrivacyMetricsTimeSeriesParameters(\n",
    "                    dataset_id=original_id,\n",
    "                    unshuffled_avatar_dataset_id=avatar.id,\n",
    "                    projection_parameters=FPCAParameters(nf=3),\n",
    "                )\n",
    "                for original_id, avatar in zip(ts_original_ids, ts_unshuffled_avatars)\n",
    "            ],\n",
    "        )\n",
    "    )\n",
    ")\n",
    "\n",
    "privacy_job = client.jobs.get_privacy_metrics_time_series_job(\n",
    "    privacy_job.id, timeout=10\n",
    ")"
   ]
  },
  {
   "cell_type": "markdown",
   "metadata": {},
   "source": [
    "Metric results are calculated for each dataset and are stored in `privacy_job.result`"
   ]
  },
  {
   "cell_type": "code",
   "execution_count": null,
   "metadata": {},
   "outputs": [],
   "source": [
    "for metric_details in privacy_job.result.details:\n",
    "    print(\"-------------\")\n",
    "    print(f\"Metrics for avatar of original dataset {metric_details.original_id} are: \")\n",
    "    print(metric_details)"
   ]
  },
  {
   "cell_type": "markdown",
   "metadata": {},
   "source": [
    "## Signal metrics for time series data"
   ]
  },
  {
   "cell_type": "code",
   "execution_count": null,
   "metadata": {},
   "outputs": [],
   "source": [
    "signal_job = client.jobs.create_signal_metrics_time_series_job(\n",
    "    SignalMetricsWithTimeSeriesJobCreate(\n",
    "        parameters=SignalMetricsWithTimeSeriesParameters(\n",
    "            vanilla_original_id=dataset_vanilla.id,\n",
    "            vanilla_avatars_id=vanilla_unshuffled_avatars.id,\n",
    "            time_series=[\n",
    "                SignalMetricsTimeSeriesParameters(\n",
    "                    dataset_id=original_id,\n",
    "                    avatar_dataset_id=avatar.id,\n",
    "                )\n",
    "                for original_id, avatar in zip(ts_original_ids, ts_unshuffled_avatars)\n",
    "            ],\n",
    "        )\n",
    "    )\n",
    ")\n",
    "\n",
    "signal_job = client.jobs.get_signal_metrics_time_series_job(signal_job.id, timeout=10)"
   ]
  },
  {
   "cell_type": "markdown",
   "metadata": {},
   "source": [
    "Metric results are calculated for each dataset and are stored in `signal_job.result`"
   ]
  },
  {
   "cell_type": "code",
   "execution_count": null,
   "metadata": {},
   "outputs": [],
   "source": [
    "for metric_details in signal_job.result.details:\n",
    "    print(\"-------------\")\n",
    "    print(f\"Metrics for avatar of original dataset {metric_details.original_id} are: \")\n",
    "    print(metric_details)"
   ]
  },
  {
   "cell_type": "code",
   "execution_count": null,
   "metadata": {},
   "outputs": [],
   "source": [
    "from typing import Optional, Tuple\n",
    "import matplotlib.pyplot as plt\n",
    "import matplotlib\n",
    "\n",
    "\n",
    "def plot_series(\n",
    "    df: pd.DataFrame,\n",
    "    variable_to_plot: str,\n",
    "    id_variable: str,\n",
    "    time_variable: str,\n",
    "    proportion_to_plot: float = 1.0,\n",
    "    n_series_to_plot: Optional[int] = None,\n",
    "    figsize: Tuple[int, int] = (14, 8),\n",
    ") -> matplotlib.figure.Figure:\n",
    "    \"\"\"Plot given series.\"\"\"\n",
    "    if n_series_to_plot is None:\n",
    "        n_series_to_plot = df[id_variable].unique().shape[0]\n",
    "\n",
    "    df_tmp = df.copy()\n",
    "    df_tmp = df_tmp.sort_values(by=[id_variable, time_variable]).reset_index(drop=True)\n",
    "\n",
    "    cmap = matplotlib.cm.get_cmap(\"gist_rainbow\")\n",
    "\n",
    "    fig, ax = plt.subplots(figsize=figsize)\n",
    "    for id_nb, id_name in enumerate(set(df_tmp[id_variable])):\n",
    "        if id_nb > n_series_to_plot:\n",
    "            break\n",
    "        selected_records = df_tmp[df_tmp[id_variable] == id_name]\n",
    "        n_points = int(proportion_to_plot * len(selected_records))\n",
    "        selected_indices = np.linspace(0, len(selected_records) - 1, num=n_points)\n",
    "\n",
    "        x = selected_records[time_variable].iloc[selected_indices]\n",
    "        y = selected_records[variable_to_plot].iloc[selected_indices]\n",
    "        ax.plot(x, y, color=cmap(id_nb / n_series_to_plot))\n",
    "    ax.set_title(f\"Series for variable {variable_to_plot}\")\n",
    "    return fig"
   ]
  },
  {
   "cell_type": "markdown",
   "metadata": {},
   "source": [
    "and we use it to plot sensor data for some individuals"
   ]
  },
  {
   "cell_type": "markdown",
   "metadata": {},
   "source": [
    "### `sensor1` data"
   ]
  },
  {
   "cell_type": "code",
   "execution_count": null,
   "metadata": {},
   "outputs": [],
   "source": [
    "plot = plot_series(\n",
    "    df := ts1_df,\n",
    "    variable_to_plot=\"sensor1\",\n",
    "    id_variable=\"id\",\n",
    "    time_variable=\"t\",\n",
    "    proportion_to_plot=1.0,\n",
    "    n_series_to_plot=None,\n",
    "    figsize=(14, 8),\n",
    ")\n",
    "plot.show()"
   ]
  },
  {
   "cell_type": "markdown",
   "metadata": {},
   "source": [
    "###  `sensor2` data"
   ]
  },
  {
   "cell_type": "code",
   "execution_count": null,
   "metadata": {},
   "outputs": [],
   "source": [
    "plot = plot_series(\n",
    "    df := ts1_df,\n",
    "    variable_to_plot=\"sensor2\",\n",
    "    id_variable=\"id\",\n",
    "    time_variable=\"t\",\n",
    "    proportion_to_plot=1.0,\n",
    "    n_series_to_plot=None,\n",
    "    figsize=(14, 8),\n",
    ")\n",
    "plot.show()"
   ]
  },
  {
   "cell_type": "markdown",
   "metadata": {},
   "source": [
    "### `sensor3` data"
   ]
  },
  {
   "cell_type": "code",
   "execution_count": null,
   "metadata": {},
   "outputs": [],
   "source": [
    "plot = plot_series(\n",
    "    df := ts2_df,\n",
    "    variable_to_plot=\"sensor3\",\n",
    "    id_variable=\"id\",\n",
    "    time_variable=\"t\",\n",
    "    proportion_to_plot=1.0,\n",
    "    n_series_to_plot=None,\n",
    "    figsize=(14, 8),\n",
    ")\n",
    "plot.show()"
   ]
  },
  {
   "cell_type": "markdown",
   "metadata": {},
   "source": [
    "Now that we know what data we are maniplating, we can anonymize it."
   ]
  },
  {
   "cell_type": "markdown",
   "metadata": {},
   "source": [
    "## Avatars of time series data"
   ]
  },
  {
   "cell_type": "markdown",
   "metadata": {},
   "source": [
    "### Upload data and save datasets"
   ]
  },
  {
   "cell_type": "code",
   "execution_count": null,
   "metadata": {},
   "outputs": [],
   "source": [
    "dataset_vanilla = client.pandas_integration.upload_dataframe(vanilla_df)\n",
    "\n",
    "ts_dfs = [\n",
    "    ts1_df,\n",
    "    ts2_df,\n",
    "]  # we put all time series dataframes in a list to simplify further operations\n",
    "datasets_ts = []\n",
    "for ts_df in ts_dfs:\n",
    "    datasets_ts.append(client.pandas_integration.upload_dataframe(ts_df))"
   ]
  },
  {
   "cell_type": "markdown",
   "metadata": {},
   "source": [
    "### Create job and retrieve results\n",
    "\n",
    "This is done in a similar way than for the anonymization of classic tabular data. However, the objects are different. For data containing time series, it is necessary to parameterize a `AvatarizationWithTimeSeriesJobCreate` with parameters of type `AvatarizationWithTimeSeriesParameters`.\n",
    "\n",
    "The attributes to specify in `AvatarizationWithTimeSeriesParameters` are:\n",
    "- `k`\n",
    "- the dataset_id of the vanilla dataset (i.e. the individual-centric dataset containing one line per individual)\n",
    "- a list of `AvatarizationTimeSeriesParameters` containing 1 item per time series dataset.\n",
    "\n",
    "\n",
    "Each `AvatarizationTimeSeriesParameters` specifies the dataset_id of the time series data and the projection parameters. The projection parameters defines how the data will be transformed (aka projected) so that avatars can be generated. \n",
    "\n",
    "Supported time series projection is Functional Principal Component Analysis (FPCA). `nf` is the number of components used to represent each time series variable in the projection.\n",
    "\n",
    "Note that it is possible to generate avatars of data containing only time series dataset (i.e. without any vanilla data). In this case, dataset_id can be set to `None`"
   ]
  },
  {
   "cell_type": "code",
   "execution_count": null,
   "metadata": {},
   "outputs": [],
   "source": [
    "job = client.jobs.create_avatarization_with_time_series_job(\n",
    "    AvatarizationWithTimeSeriesJobCreate(\n",
    "        parameters=AvatarizationWithTimeSeriesParameters(\n",
    "            vanilla_dataset_id=dataset_vanilla.id,\n",
    "            k=5,\n",
    "            time_series=[\n",
    "                AvatarizationTimeSeriesParameters(\n",
    "                    dataset_id=dataset_ts.id,\n",
    "                    projection_parameters=FPCAParameters(\n",
    "                        nf=10,\n",
    "                    ),\n",
    "                )\n",
    "                for dataset_ts in datasets_ts\n",
    "            ],\n",
    "        )\n",
    "    ),\n",
    "    timeout=50,\n",
    ")\n",
    "job = client.jobs.get_avatarization_time_series_job(job.id, timeout=60)"
   ]
  },
  {
   "cell_type": "markdown",
   "metadata": {},
   "source": [
    "### Retrieve avatars\n",
    "\n",
    "Once generated, the avatar dataset are stored on the server and can be retrieved using theuir dataset ID. The dataset ID  for each avatar dataset is contained in `job.result.datasets`."
   ]
  },
  {
   "cell_type": "code",
   "execution_count": null,
   "metadata": {},
   "outputs": [],
   "source": [
    "print(\n",
    "    f\"There are {len(job.result.datasets)} avatars datasets following anonymization.\\n\"\n",
    ")\n",
    "\n",
    "print(f\"Their UUIDs are : {[x.avatars_dataset.id for x in job.result.datasets]}\\n\")\n",
    "\n",
    "originals_to_avatars = {\n",
    "    x.original_id: x.avatars_dataset.id for x in job.result.datasets\n",
    "}\n",
    "print(f\"The mapping original to avatar is: {originals_to_avatars}\")"
   ]
  },
  {
   "cell_type": "markdown",
   "metadata": {},
   "source": [
    "### Checking your avatars: vanilla data "
   ]
  },
  {
   "cell_type": "code",
   "execution_count": null,
   "metadata": {},
   "outputs": [],
   "source": [
    "avatars_vanilla_df = client.pandas_integration.download_dataframe(\n",
    "    job.result.datasets[0].avatars_dataset.id\n",
    ")"
   ]
  },
  {
   "cell_type": "code",
   "execution_count": null,
   "metadata": {},
   "outputs": [],
   "source": [
    "avatars_vanilla_df.head()"
   ]
  },
  {
   "cell_type": "markdown",
   "metadata": {},
   "source": [
    "### Checking your avatars: `sensor1` and `sensor2`"
   ]
  },
  {
   "cell_type": "code",
   "execution_count": null,
   "metadata": {},
   "outputs": [],
   "source": [
    "avatars_ts1_df = client.pandas_integration.download_dataframe(\n",
    "    job.result.datasets[1].avatars_dataset.id\n",
    ")"
   ]
  },
  {
   "cell_type": "code",
   "execution_count": null,
   "metadata": {},
   "outputs": [],
   "source": [
    "plot = plot_series(\n",
    "    df := avatars_ts1_df,\n",
    "    variable_to_plot=\"sensor1\",\n",
    "    id_variable=\"id\",\n",
    "    time_variable=\"t\",\n",
    "    proportion_to_plot=1.0,\n",
    "    n_series_to_plot=None,\n",
    "    figsize=(14, 8),\n",
    ")\n",
    "plot.show()"
   ]
  },
  {
   "cell_type": "code",
   "execution_count": null,
   "metadata": {},
   "outputs": [],
   "source": [
    "plot = plot_series(\n",
    "    df := avatars_ts1_df,\n",
    "    variable_to_plot=\"sensor2\",\n",
    "    id_variable=\"id\",\n",
    "    time_variable=\"t\",\n",
    "    proportion_to_plot=1.0,\n",
    "    n_series_to_plot=None,\n",
    "    figsize=(14, 8),\n",
    ")\n",
    "plot.show()"
   ]
  },
  {
   "cell_type": "markdown",
   "metadata": {},
   "source": [
    "### Checking your avatars: `sensor3`"
   ]
  },
  {
   "cell_type": "code",
   "execution_count": null,
   "metadata": {},
   "outputs": [],
   "source": [
    "avatars_ts2_df = client.pandas_integration.download_dataframe(\n",
    "    job.result.datasets[2].avatars_dataset.id\n",
    ")"
   ]
  },
  {
   "cell_type": "code",
   "execution_count": null,
   "metadata": {},
   "outputs": [],
   "source": [
    "plot = plot_series(\n",
    "    df := avatars_ts2_df,\n",
    "    variable_to_plot=\"sensor3\",\n",
    "    id_variable=\"id\",\n",
    "    time_variable=\"t\",\n",
    "    proportion_to_plot=1.0,\n",
    "    n_series_to_plot=None,\n",
    "    figsize=(14, 8),\n",
    ")\n",
    "plot.show()"
   ]
  },
  {
   "cell_type": "markdown",
   "metadata": {},
   "source": [
    "## Privacy metrics for time series"
   ]
  },
  {
   "cell_type": "markdown",
   "metadata": {},
   "source": [
    "As for any data, privacy metrics need to be computed on the output time series data to confirm that it is anonymous. We first retrieve the data required by the privacy metrics, that is the original datasets and their sensitive unshuffled counterparts. The unshuffled datasets are only used for computing the privacy metrics"
   ]
  },
  {
   "cell_type": "code",
   "execution_count": null,
   "metadata": {},
   "outputs": [],
   "source": [
    "# we get the unshuffled vanilla avatars from the job result based on the original id\n",
    "vanilla_unshuffled_avatars = [\n",
    "    result.sensitive_unshuffled_avatars_datasets\n",
    "    for result in job.result.datasets\n",
    "    if result.original_id == dataset_vanilla.id\n",
    "][0]\n",
    "\n",
    "# we get the unshuffled time series avatars from the job result based on their original ids\n",
    "dataset_pairs = [\n",
    "    (result.original_id, result.sensitive_unshuffled_avatars_datasets)\n",
    "    for result in job.result.datasets\n",
    "    if result.original_id != dataset_vanilla.id\n",
    "]\n",
    "ts_original_ids = [pair[0] for pair in dataset_pairs]\n",
    "ts_unshuffled_avatars = [pair[1] for pair in dataset_pairs]"
   ]
  },
  {
   "cell_type": "code",
   "execution_count": null,
   "metadata": {},
   "outputs": [],
   "source": [
    "privacy_job = client.jobs.create_privacy_metrics_time_series_job(\n",
    "    PrivacyMetricsWithTimeSeriesJobCreate(\n",
    "        parameters=PrivacyMetricsWithTimeSeriesParameters(\n",
    "            vanilla_original_id=dataset_vanilla.id,\n",
    "            vanilla_unshuffled_avatars_id=vanilla_unshuffled_avatars.id,\n",
    "            time_series=[\n",
    "                PrivacyMetricsTimeSeriesParameters(\n",
    "                    dataset_id=original_id,\n",
    "                    unshuffled_avatar_dataset_id=avatar.id,\n",
    "                    projection_parameters=FPCAParameters(nf=3),\n",
    "                )\n",
    "                for original_id, avatar in zip(ts_original_ids, ts_unshuffled_avatars)\n",
    "            ],\n",
    "        )\n",
    "    )\n",
    ")\n",
    "\n",
    "privacy_job = client.jobs.get_privacy_metrics_time_series_job(\n",
    "    privacy_job.id, timeout=10\n",
    ")"
   ]
  },
  {
   "cell_type": "markdown",
   "metadata": {},
   "source": [
    "Metric results are calculated for each dataset and are stored in `privacy_job.result`"
   ]
  },
  {
   "cell_type": "code",
   "execution_count": null,
   "metadata": {},
   "outputs": [],
   "source": [
    "for metric_details in privacy_job.result.details:\n",
    "    print(\"-------------\")\n",
    "    print(f\"Metrics for avatar of original dataset {metric_details.original_id} are: \")\n",
    "    print(metric_details)"
   ]
  },
  {
   "cell_type": "markdown",
   "metadata": {},
   "source": [
    "## Signal metrics for time series data"
   ]
  },
  {
   "cell_type": "code",
   "execution_count": null,
   "metadata": {},
   "outputs": [],
   "source": [
    "signal_job = client.jobs.create_signal_metrics_time_series_job(\n",
    "    SignalMetricsWithTimeSeriesJobCreate(\n",
    "        parameters=SignalMetricsWithTimeSeriesParameters(\n",
    "            vanilla_original_id=dataset_vanilla.id,\n",
    "            vanilla_avatars_id=vanilla_unshuffled_avatars.id,\n",
    "            time_series=[\n",
    "                SignalMetricsTimeSeriesParameters(\n",
    "                    dataset_id=original_id,\n",
    "                    avatar_dataset_id=avatar.id,\n",
    "                )\n",
    "                for original_id, avatar in zip(ts_original_ids, ts_unshuffled_avatars)\n",
    "            ],\n",
    "        )\n",
    "    )\n",
    ")\n",
    "\n",
    "signal_job = client.jobs.get_signal_metrics_time_series_job(signal_job.id, timeout=10)"
   ]
  },
  {
   "cell_type": "markdown",
   "metadata": {},
   "source": [
    "Metric results are calculated for each dataset and are stored in `signal_job.result`"
   ]
  },
  {
   "cell_type": "code",
   "execution_count": null,
   "metadata": {},
   "outputs": [],
   "source": [
    "for metric_details in signal_job.result.details:\n",
    "    print(\"-------------\")\n",
    "    print(f\"Metrics for avatar of original dataset {metric_details.original_id} are: \")\n",
    "    print(metric_details)"
   ]
  }
 ],
 "metadata": {
  "kernelspec": {
   "display_name": ".venv",
   "language": "python",
   "name": "python3"
  },
  "language_info": {
   "codemirror_mode": {
    "name": "ipython",
    "version": 3
   },
   "file_extension": ".py",
   "mimetype": "text/x-python",
   "name": "python",
   "nbconvert_exporter": "python",
   "pygments_lexer": "ipython3",
   "version": "3.9.17"
  }
 },
 "nbformat": 4,
 "nbformat_minor": 2
}
