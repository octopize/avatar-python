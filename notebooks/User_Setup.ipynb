{
 "cells": [
  {
   "attachments": {},
   "cell_type": "markdown",
   "id": "d9dedea0",
   "metadata": {},
   "source": [
    "# User account activation and set password"
   ]
  },
  {
   "attachments": {},
   "cell_type": "markdown",
   "id": "a8701797",
   "metadata": {},
   "source": [
    "## Configuration\n",
    "\n",
    "You can put your own configuration here"
   ]
  },
  {
   "cell_type": "code",
   "execution_count": null,
   "id": "d6425b52",
   "metadata": {},
   "outputs": [],
   "source": [
    "# If not defined in your environment variables you can overload your avatar API url here :\n",
    "avatar_url = \"\"\n",
    "\n",
    "# Start by only providing the email, you will then get a token by email.\n",
    "email = \"\"\n",
    "\n",
    "# Once you get that token by mail, you can fill it below along with a new password.\n",
    "token = \"\"\n",
    "new_password = \"\""
   ]
  },
  {
   "attachments": {},
   "cell_type": "markdown",
   "id": "0d19851f",
   "metadata": {},
   "source": [
    "## Script itself"
   ]
  },
  {
   "cell_type": "code",
   "execution_count": null,
   "id": "f57dff28",
   "metadata": {},
   "outputs": [],
   "source": [
    "from avatars.client import ApiClient\n",
    "import os\n",
    "\n",
    "if avatar_url is None or avatar_url == \"\":\n",
    "    avatar_url = os.environ.get(\"AVATAR_BASE_URL\")\n",
    "\n",
    "client = ApiClient(base_url=avatar_url)\n",
    "\n",
    "if token == \"\" or token is None:\n",
    "    client.forgotten_password(email)\n",
    "else:\n",
    "    if new_password == \"\" or new_password is None:\n",
    "        raise ValueError(\"Password is mandatory\")\n",
    "\n",
    "    client.reset_password(\n",
    "        email=email,\n",
    "        new_password=new_password,\n",
    "        new_password_repeated=new_password,\n",
    "        token=token,\n",
    "    )"
   ]
  }
 ],
 "metadata": {
  "language_info": {
   "name": "python"
  }
 },
 "nbformat": 4,
 "nbformat_minor": 5
}
