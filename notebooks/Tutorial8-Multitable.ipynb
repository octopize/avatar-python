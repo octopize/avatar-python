{
 "cells": [
  {
   "cell_type": "markdown",
   "id": "767ea46a",
   "metadata": {},
   "source": [
    "# Tutorial 9: Multitable \n"
   ]
  },
  {
   "cell_type": "markdown",
   "id": "8beba51e",
   "metadata": {},
   "source": [
    "In this tutorial, we will execute the avatarization of a multi-table dataset. If you want to know more about how the anonymization is performed, you can read [this page](https://docs.octopize.io/docs/understanding/multi_table/).\n"
   ]
  },
  {
   "cell_type": "markdown",
   "id": "49307d35",
   "metadata": {},
   "source": [
    "### Setup"
   ]
  },
  {
   "cell_type": "code",
   "execution_count": null,
   "id": "17740436",
   "metadata": {},
   "outputs": [],
   "source": [
    "import numpy as np\n",
    "import pandas as pd\n",
    "import io\n",
    "\n",
    "import seaborn as sns\n",
    "import missingno as msno\n",
    "import matplotlib.pyplot as plt\n",
    "import os\n",
    "\n",
    "url = os.environ.get(\"AVATAR_BASE_URL\")\n",
    "username = os.environ.get(\"AVATAR_USERNAME\")\n",
    "password = os.environ.get(\"AVATAR_PASSWORD\")\n",
    "\n",
    "# This is the client that you'll be using for all of your requests\n",
    "from avatars.client import ApiClient\n",
    "from avatars.models import (\n",
    "    AvatarizationJobCreate,\n",
    "    AvatarizationParameters,\n",
    "    PrivacyMetricsMultiTableJobCreate,\n",
    "    AvatarizationMultiTableJobCreate,\n",
    "    BasePrivacyMetricsParameters,\n",
    ")\n",
    "from avatars.models import ReportCreate, SignalMetricsJobCreate, SignalMetricsParameters\n",
    "from avatars.models import (\n",
    "    TableReference,\n",
    "    TableLink,\n",
    "    LinkMethod, \n",
    "    PrivacyMetricsParameters,\n",
    "    PrivacyMetricsMultiTableParameters,\n",
    "    AvatarizationMultiTableParameters,\n",
    "    BasePrivacyMetricsParameters,\n",
    "    BaseAvatarizationParameters,\n",
    ")\n",
    "\n",
    "# Change this to your actual server endpoint, e.g. base_url=\"https://avatar.company.com\"\n",
    "client = ApiClient(base_url=url)\n",
    "client.authenticate(username=username, password=password)\n",
    "\n",
    "# Verify that we can connect to the API server\n",
    "client.health.get_health()"
   ]
  },
  {
   "cell_type": "code",
   "execution_count": null,
   "id": "2db290bc",
   "metadata": {},
   "outputs": [],
   "source": [
    "%matplotlib inline"
   ]
  },
  {
   "cell_type": "markdown",
   "id": "7f5bcede",
   "metadata": {},
   "source": [
    "## Loading data"
   ]
  },
  {
   "cell_type": "markdown",
   "id": "5342cb53",
   "metadata": {},
   "source": [
    "In this tutorial, we will avatarise data that contains a patient table, a doctor table and a visit table \n",
    "- There are 130 patients having at least 1 visit\n",
    "- There are 50 doctors, they all did at least one visit \n",
    "- There are 300 visits\n",
    "\n",
    "Note: \n",
    "- Each table has a primary key with only unique values\n",
    "- Each child table refers to a parent table using a foreign key"
   ]
  },
  {
   "cell_type": "markdown",
   "id": "e96aba01",
   "metadata": {},
   "source": [
    "<img src=\"img/multitable.png\" style=\"height:500px\" />"
   ]
  },
  {
   "cell_type": "code",
   "execution_count": null,
   "id": "5ffb1064",
   "metadata": {},
   "outputs": [],
   "source": [
    "doctor = pd.read_csv(\"../fixtures/doctor.csv\", sep=\",\")\n",
    "patient = pd.read_csv(\"../fixtures/patient.csv\", sep=\",\")\n",
    "visit = pd.read_csv(\"../fixtures/visit.csv\", sep=\",\")"
   ]
  },
  {
   "cell_type": "code",
   "execution_count": null,
   "id": "5691f14e",
   "metadata": {},
   "outputs": [],
   "source": [
    "patient.head()"
   ]
  },
  {
   "cell_type": "code",
   "execution_count": null,
   "id": "ba767058",
   "metadata": {},
   "outputs": [],
   "source": [
    "doctor.head()"
   ]
  },
  {
   "cell_type": "code",
   "execution_count": null,
   "id": "4f894929",
   "metadata": {},
   "outputs": [],
   "source": [
    "visit.head()"
   ]
  },
  {
   "cell_type": "markdown",
   "id": "8ff3099b",
   "metadata": {},
   "source": [
    "## Upload data\n",
    "First we need to upload each table in the database.\n",
    "Each id column name MUST be specified in the `identifier_variables` parameter\n",
    "\n",
    "Note: \n",
    "- A table with no ancestor has only 1 id variable (primary key)\n",
    "- Any other table has 1 id variable per link with a parent table (foreign key) + its primary key."
   ]
  },
  {
   "cell_type": "code",
   "execution_count": null,
   "id": "1d593953",
   "metadata": {},
   "outputs": [],
   "source": [
    "dataset_patient = client.pandas_integration.upload_dataframe(\n",
    "    patient,\n",
    "    name=\"patient\",\n",
    "    identifier_variables=[\n",
    "        \"p_id\",\n",
    "    ],\n",
    ")\n",
    "\n",
    "dataset_doctor = client.pandas_integration.upload_dataframe(\n",
    "    doctor,\n",
    "    name=\"doctor\",\n",
    "    identifier_variables=[\n",
    "        \"d_id\",\n",
    "    ],\n",
    ")\n",
    "\n",
    "dataset_visit = client.pandas_integration.upload_dataframe(\n",
    "    visit,\n",
    "    name=\"visit\",\n",
    "    identifier_variables=[\"visit_id\", \"patient_id\", \"doctor_id\"],\n",
    ")"
   ]
  },
  {
   "cell_type": "markdown",
   "id": "3ee663f1",
   "metadata": {},
   "source": [
    "## Parameters setup\n",
    "Once the tables have been uploaded, you need to specify which ones are at individual level.\n",
    "\n",
    "Note:\n",
    "- An individual level table is a dataframe where each row refers to a UNIQUE physical individual. Privacy metrics assess the re-identification risk of these individuals.\n",
    "- A table with no ancestor must be at individual level."
   ]
  },
  {
   "cell_type": "code",
   "execution_count": null,
   "id": "3bb2ce4d",
   "metadata": {},
   "outputs": [],
   "source": [
    "patient_ref = TableReference(\n",
    "    dataset_id=dataset_patient.id,\n",
    "    is_individual_level=True,\n",
    ")\n",
    "\n",
    "doctor_ref = TableReference(\n",
    "    dataset_id=dataset_doctor.id,\n",
    "    is_individual_level=True,\n",
    ")\n",
    "\n",
    "visit_ref = TableReference(\n",
    "    dataset_id=dataset_visit.id,\n",
    "    is_individual_level=False,\n",
    ")"
   ]
  },
  {
   "cell_type": "markdown",
   "id": "5c18a5c6",
   "metadata": {},
   "source": [
    "Finally, before proceeding to anonymization, you need to specify the links between each table, as well as the anonymization parameters for each table.\n",
    "\n",
    "Note:\n",
    "- A link is a relation between 1 parent table and 1 child table"
   ]
  },
  {
   "cell_type": "code",
   "execution_count": null,
   "id": "0db9cb97",
   "metadata": {},
   "outputs": [],
   "source": [
    "table_links = [\n",
    "    TableLink(\n",
    "        parent_table=patient_ref,\n",
    "        child_table=visit_ref,\n",
    "        parent_link_key=\"p_id\",\n",
    "        child_link_key=\"patient_id\",\n",
    "        link_method=LinkMethod.linear_sum_assignment\n",
    "        # Linear sum assignment consumes lots of ressource. Change the method if you have a large dataset.\n",
    "    ),\n",
    "    TableLink(\n",
    "        parent_table=doctor_ref,\n",
    "        child_table=visit_ref,\n",
    "        parent_link_key=\"d_id\",\n",
    "        child_link_key=\"doctor_id\",\n",
    "        link_method=LinkMethod.linear_sum_assignment\n",
    "    ),\n",
    "]\n",
    "\n",
    "# The k parameter for each table needs to be adjusted regarding the number of records.\n",
    "avat_parameters = [\n",
    "    BaseAvatarizationParameters(dataset_id=dataset_patient.id, k=15),\n",
    "    BaseAvatarizationParameters(dataset_id=dataset_doctor.id, k=5),\n",
    "    BaseAvatarizationParameters(dataset_id=dataset_visit.id, k=30),\n",
    "]"
   ]
  },
  {
   "cell_type": "markdown",
   "id": "349b68ab",
   "metadata": {},
   "source": [
    "## Anonymization"
   ]
  },
  {
   "cell_type": "code",
   "execution_count": null,
   "id": "687e19dc",
   "metadata": {},
   "outputs": [],
   "source": [
    "avat_job = client.jobs.create_avatarization_multi_table_job(\n",
    "    AvatarizationMultiTableJobCreate(\n",
    "        parameters=AvatarizationMultiTableParameters(\n",
    "            table_links=table_links, table_parameters=avat_parameters\n",
    "        )\n",
    "    )\n",
    ")\n",
    "\n",
    "avat_job = client.jobs.get_avatarization_multi_table_job(avat_job.id)\n",
    "print(avat_job.id)\n",
    "results = avat_job.result.datasets\n",
    "\n",
    "# Get back avatar tables from the results\n",
    "\n",
    "# Patient\n",
    "patient_avatar_id = results[0].avatars_dataset.id\n",
    "patient_avatar = client.pandas_integration.download_dataframe(patient_avatar_id)\n",
    "# Doctor\n",
    "doctor_avatar_id = results[1].avatars_dataset.id\n",
    "doctor_avatar = client.pandas_integration.download_dataframe(doctor_avatar_id)\n",
    "\n",
    "# Visit\n",
    "visit_avatar_id = results[2].avatars_dataset.id\n",
    "visit_avatar = client.pandas_integration.download_dataframe(visit_avatar_id)"
   ]
  },
  {
   "cell_type": "code",
   "execution_count": null,
   "id": "a5bf0452",
   "metadata": {},
   "outputs": [],
   "source": [
    "patient_avatar.head()"
   ]
  },
  {
   "cell_type": "code",
   "execution_count": null,
   "id": "ed78e87e",
   "metadata": {},
   "outputs": [],
   "source": [
    "doctor_avatar.head()"
   ]
  },
  {
   "cell_type": "code",
   "execution_count": null,
   "id": "64916251",
   "metadata": {},
   "outputs": [],
   "source": [
    "visit_avatar.head()"
   ]
  },
  {
   "cell_type": "markdown",
   "id": "31e12d70",
   "metadata": {},
   "source": [
    "## Privacy metric computation\n",
    "Similarly to multitable avatarization, privacy metrics calculation requires the specification of one set of parameter per table. "
   ]
  },
  {
   "cell_type": "code",
   "execution_count": null,
   "id": "7ade44a8",
   "metadata": {},
   "outputs": [],
   "source": [
    "privacy_parameters = parameters = [\n",
    "    BasePrivacyMetricsParameters(\n",
    "        original_id=results[0].original_id,\n",
    "        unshuffled_avatars_id=results[0].sensitive_unshuffled_avatars_datasets.id,\n",
    "        closest_rate_percentage_threshold=0.3,\n",
    "        closest_rate_ratio_threshold=0.3,\n",
    "        known_variables=[\n",
    "            \"gender\",\n",
    "            \"age\",\n",
    "        ],\n",
    "        target=\"weight\",\n",
    "    ),\n",
    "    BasePrivacyMetricsParameters(\n",
    "        original_id=results[1].original_id,\n",
    "        unshuffled_avatars_id=results[1].sensitive_unshuffled_avatars_datasets.id,\n",
    "        closest_rate_percentage_threshold=0.3,\n",
    "        closest_rate_ratio_threshold=0.3,\n",
    "        known_variables=[\n",
    "            \"age\",\n",
    "        ],\n",
    "        target=\"job\",\n",
    "    ),\n",
    "    BasePrivacyMetricsParameters(\n",
    "        original_id=results[2].original_id,\n",
    "        unshuffled_avatars_id=results[2].sensitive_unshuffled_avatars_datasets.id,\n",
    "    ),\n",
    "]\n",
    "\n",
    "privacy_job = client.jobs.create_privacy_metrics_multi_table_job(\n",
    "    PrivacyMetricsMultiTableJobCreate(\n",
    "        parameters=PrivacyMetricsMultiTableParameters(\n",
    "            table_links=table_links,\n",
    "            table_parameters=privacy_parameters,\n",
    "        )\n",
    "    )\n",
    ")\n",
    "\n",
    "privacy_job = client.jobs.get_privacy_metrics_multi_table_job(privacy_job.id)\n",
    "print(privacy_job.id)"
   ]
  },
  {
   "cell_type": "code",
   "execution_count": null,
   "id": "bb6661a7",
   "metadata": {},
   "outputs": [],
   "source": [
    "# You can run this line again if the job is still pending (default timeout = 60 seconds)\n",
    "privacy_job = client.jobs.get_privacy_metrics_multi_table_job(privacy_job.id)"
   ]
  },
  {
   "cell_type": "markdown",
   "id": "a16895e3",
   "metadata": {},
   "source": [
    "## Privacy metric results\n",
    "The privacy metrics results are computed on multiple tables to verify as many attack scenario as possible.\n",
    "\n",
    "All types of multi table privacy scenario are further described [here](https://docs.octopize.io/docs/understanding/multi_table/)."
   ]
  },
  {
   "cell_type": "markdown",
   "id": "3830e5e0",
   "metadata": {},
   "source": [
    "<img src=\"img/multitable_privacy.png\" style=\"height:500px\" />"
   ]
  },
  {
   "cell_type": "markdown",
   "id": "4cdac3e7",
   "metadata": {},
   "source": [
    "## RAW results"
   ]
  },
  {
   "cell_type": "code",
   "execution_count": null,
   "id": "d23f3f03",
   "metadata": {},
   "outputs": [],
   "source": [
    "privacy_metrics = privacy_job.result.details\n",
    "print(\"*** Privacy metrics ***\")\n",
    "for metric in privacy_metrics:\n",
    "    print(\"--------\")\n",
    "    print(metric)"
   ]
  },
  {
   "cell_type": "markdown",
   "id": "414a5e29",
   "metadata": {},
   "source": [
    "## Summary table"
   ]
  },
  {
   "cell_type": "code",
   "execution_count": null,
   "id": "822b42c4",
   "metadata": {},
   "outputs": [],
   "source": [
    "index = [\n",
    "    \"doctor_standalone\",\n",
    "    \"patient_standalone\",\n",
    "    \"visit_to_bottom_id_propagated_doctor.doctor_id\",\n",
    "    \"visit_to_bottom_id_propagated_patient.patient_id\",\n",
    "    \"doctor_to_top_enriched_doctor.doctor_id\",\n",
    "    \"patient_to_top_enriched_patient.patient_id\",\n",
    "    \"visit_full_enriched_doctor.doctor_id\",\n",
    "    \"visit_full_enriched_patient.patient_id\",\n",
    "]\n",
    "privacy_job\n",
    "data = privacy_job.result.details\n",
    "data_dict = {\n",
    "    \"Hidden Rate\": [round(d.hidden_rate, 2) for d in data],\n",
    "    \"Local Cloaking\": [round(d.local_cloaking, 2) for d in data],\n",
    "    \"Distance to Closest\": [round(d.distance_to_closest, 4) for d in data],\n",
    "    \"Closest Distances Ratio\": [round(d.closest_distances_ratio, 4) for d in data],\n",
    "    \"Column Direct Match Protection\": [\n",
    "        round(d.column_direct_match_protection, 2) for d in data\n",
    "    ],\n",
    "    \"Categorical Hidden Rate\": [round(d.categorical_hidden_rate, 2) if d.categorical_hidden_rate is not None else None  for d in data],\n",
    "    \"Row Direct Match Protection\": [\n",
    "        round(d.row_direct_match_protection, 2) for d in data\n",
    "    ],\n",
    "    \"Table\": [\n",
    "        d.dataset_name\n",
    "        + \"_\"\n",
    "        + d.computation_type.name\n",
    "        + (\n",
    "            \"_\" + d.individual_identifier_variable\n",
    "            if d.computation_type.name != \"standalone\"\n",
    "            else \"\"\n",
    "        )\n",
    "        for d in data\n",
    "    ],\n",
    "}\n",
    "\n",
    "summary_table = pd.DataFrame(data_dict)\n",
    "summary_table.set_index(\"Table\", inplace=True)\n",
    "summary_table.loc[\"TARGET\", :] = [\n",
    "    metric.targets.hidden_rate,\n",
    "    metric.targets.local_cloaking,\n",
    "    metric.targets.distance_to_closest,\n",
    "    metric.targets.closest_distances_ratio,\n",
    "    metric.targets.column_direct_match_protection,\n",
    "    metric.targets.categorical_hidden_rate,\n",
    "    metric.targets.row_direct_match_protection,\n",
    "]"
   ]
  },
  {
   "cell_type": "code",
   "execution_count": null,
   "id": "70d8298b",
   "metadata": {},
   "outputs": [],
   "source": [
    "summary_table"
   ]
  },
  {
   "cell_type": "markdown",
   "id": "66761fca",
   "metadata": {},
   "source": [
    "# Utility evaluation"
   ]
  },
  {
   "cell_type": "markdown",
   "id": "a7b33ea4",
   "metadata": {},
   "source": [
    "## Univariate comparison \n",
    "\n",
    "You can here compare distributions between original and avatar data.  \n",
    "If distributions are not well preserved, you can work with the parameter `columns_weight` in your avatarization."
   ]
  },
  {
   "cell_type": "markdown",
   "id": "04080889",
   "metadata": {},
   "source": [
    "### Patient"
   ]
  },
  {
   "cell_type": "code",
   "execution_count": null,
   "id": "22b6597b",
   "metadata": {},
   "outputs": [],
   "source": [
    "AVATAR_COLOR = \"#3BD6B0\"\n",
    "ORIGINAL_COLOR = \"dimgrey\"\n",
    "map_color = {\"original\": ORIGINAL_COLOR, \"avatar\": AVATAR_COLOR}\n",
    "\n",
    "patient_combined = pd.concat([patient, patient_avatar]).reset_index(drop=True)\n",
    "patient_combined[\"type\"] = np.repeat([\"original\", \"avatar\"], len(patient))\n",
    "\n",
    "# Continuous distributions\n",
    "fig, axes = plt.subplots(2, 2, figsize=(12, 8))\n",
    "sns.histplot(\n",
    "    data=patient_combined,\n",
    "    x=\"height\",\n",
    "    hue=\"type\",\n",
    "    palette=map_color,\n",
    "    kde=True,\n",
    "    ax=axes[0, 0],\n",
    "    stat=\"density\",\n",
    ")\n",
    "sns.histplot(\n",
    "    data=patient_combined,\n",
    "    x=\"weight\",\n",
    "    hue=\"type\",\n",
    "    palette=map_color,\n",
    "    kde=True,\n",
    "    ax=axes[0, 1],\n",
    "    stat=\"density\",\n",
    ")\n",
    "sns.histplot(\n",
    "    data=patient_combined,\n",
    "    x=\"age\",\n",
    "    hue=\"type\",\n",
    "    palette=map_color,\n",
    "    kde=True,\n",
    "    ax=axes[1, 0],\n",
    "    stat=\"density\",\n",
    ")\n",
    "\n",
    "# Categorical distribution\n",
    "sns.countplot(\n",
    "    data=patient_combined, x=\"gender\", hue=\"type\", palette=map_color, ax=axes[1, 1]\n",
    ")\n",
    "\n",
    "axes[0, 0].set_title(\"Height Distribution\")\n",
    "axes[0, 1].set_title(\"Weight Distribution\")\n",
    "axes[1, 0].set_title(\"Age Distribution\")\n",
    "axes[1, 1].set_title(\"Gender Distribution\")"
   ]
  },
  {
   "cell_type": "markdown",
   "id": "2bfc0bbe",
   "metadata": {},
   "source": [
    "### Doctor"
   ]
  },
  {
   "cell_type": "code",
   "execution_count": null,
   "id": "43d88619",
   "metadata": {},
   "outputs": [],
   "source": [
    "doctor_combined = pd.concat([doctor, doctor_avatar]).reset_index(drop=True)\n",
    "doctor_combined[\"type\"] = np.repeat([\"original\", \"avatar\"], len(doctor))\n",
    "\n",
    "fig, axes = plt.subplots(1, 2, figsize=(12, 4))\n",
    "\n",
    "# Continuous distribution\n",
    "sns.histplot(\n",
    "    data=doctor_combined,\n",
    "    x=\"age\",\n",
    "    hue=\"type\",\n",
    "    palette=map_color,\n",
    "    kde=True,\n",
    "    ax=axes[0],\n",
    "    stat=\"density\",\n",
    ")\n",
    "\n",
    "# Categorical distribution\n",
    "sns.countplot(data=doctor_combined, x=\"job\", hue=\"type\", palette=map_color, ax=axes[1])\n",
    "\n",
    "axes[0].set_title(\"Age Distribution\")\n",
    "axes[1].set_title(\"Job Distribution\")"
   ]
  },
  {
   "cell_type": "markdown",
   "id": "40923792",
   "metadata": {},
   "source": [
    "### Visit"
   ]
  },
  {
   "cell_type": "code",
   "execution_count": null,
   "id": "95c44cd7",
   "metadata": {},
   "outputs": [],
   "source": [
    "visit_combined = pd.concat([visit, visit_avatar]).reset_index(drop=True)\n",
    "visit_combined[\"type\"] = np.repeat([\"original\", \"avatar\"], len(visit))\n",
    "\n",
    "fig, axes = plt.subplots(1, 3, figsize=(16, 4))\n",
    "sns.kdeplot(\n",
    "    data=visit_combined, x=\"patient_id\", hue=\"type\", ax=axes[0], palette=map_color\n",
    ")\n",
    "day_order = list(visit[\"day_visit\"].unique())\n",
    "visit_combined[\"day_visit\"] = pd.Categorical(\n",
    "    visit_combined[\"day_visit\"], categories=day_order, ordered=True\n",
    ")\n",
    "visit_combined = visit_combined.sort_values(\"day_visit\")\n",
    "sns.countplot(\n",
    "    data=visit_combined, x=\"day_visit\", hue=\"type\", palette=map_color, ax=axes[1]\n",
    ")\n",
    "sns.countplot(data=visit_combined, x=\"exam\", hue=\"type\", palette=map_color, ax=axes[2])"
   ]
  },
  {
   "cell_type": "markdown",
   "id": "7565f93c",
   "metadata": {},
   "source": [
    "## Multivariate comparison \n"
   ]
  },
  {
   "cell_type": "markdown",
   "id": "7fde2b3a",
   "metadata": {},
   "source": [
    "### Visit x Patient"
   ]
  },
  {
   "cell_type": "code",
   "execution_count": null,
   "id": "2144668e",
   "metadata": {},
   "outputs": [],
   "source": [
    "doctor_avatar_renamed = doctor_avatar.rename(columns={\"age\": \"age_doctor\"})\n",
    "visit_avatar_flat = visit_avatar.join(\n",
    "    doctor_avatar_renamed.set_index(\"d_id\"), on=\"doctor_id\"\n",
    ")\n",
    "visit_avatar_flat = visit_avatar_flat.join(\n",
    "    patient_avatar.set_index(\"p_id\"), on=\"patient_id\"\n",
    ")\n",
    "\n",
    "\n",
    "doctor_renamed = doctor.rename(columns={\"age\": \"age_doctor\"})\n",
    "visit_flat = visit.join(doctor_renamed.set_index(\"d_id\"), on=\"doctor_id\")\n",
    "visit_flat = visit_flat.join(patient.set_index(\"p_id\"), on=\"patient_id\")"
   ]
  },
  {
   "cell_type": "code",
   "execution_count": null,
   "id": "d24e6cfa",
   "metadata": {},
   "outputs": [],
   "source": [
    "visit_flat[\"day_visit\"] = pd.Categorical(\n",
    "    visit_flat[\"day_visit\"], categories=day_order, ordered=True\n",
    ")\n",
    "visit_flat = visit_flat.sort_values(\"day_visit\")\n",
    "visit_avatar_flat[\"day_visit\"] = pd.Categorical(\n",
    "    visit_avatar_flat[\"day_visit\"], categories=day_order, ordered=True\n",
    ")\n",
    "visit_avatar_flat = visit_avatar_flat.sort_values(\"day_visit\")\n",
    "fig, axes = plt.subplots(1, 2, figsize=(12, 4))\n",
    "sns.countplot(\n",
    "    data=visit_flat,\n",
    "    x=\"day_visit\",\n",
    "    hue=\"gender\",\n",
    "    ax=axes[0],\n",
    "    palette=[ORIGINAL_COLOR, \"lightgrey\"],\n",
    ")\n",
    "sns.countplot(\n",
    "    data=visit_avatar_flat,\n",
    "    x=\"day_visit\",\n",
    "    hue=\"gender\",\n",
    "    ax=axes[1],\n",
    "    palette=[AVATAR_COLOR, \"#9fe9d7\"],\n",
    ")\n",
    "axes[0].set_title(\"Original\")\n",
    "axes[1].set_title(\"Avatar\")"
   ]
  },
  {
   "cell_type": "markdown",
   "id": "fd356c68",
   "metadata": {},
   "source": [
    "### Visit x Doctor"
   ]
  },
  {
   "cell_type": "code",
   "execution_count": null,
   "id": "6d47bb06",
   "metadata": {},
   "outputs": [],
   "source": [
    "visit_flat[\"day_visit\"] = pd.Categorical(\n",
    "    visit_flat[\"day_visit\"], categories=day_order, ordered=True\n",
    ")\n",
    "visit_flat = visit_flat.sort_values([\"day_visit\", \"exam\"])\n",
    "visit_avatar_flat[\"day_visit\"] = pd.Categorical(\n",
    "    visit_avatar_flat[\"day_visit\"], categories=day_order, ordered=True\n",
    ")\n",
    "visit_avatar_flat = visit_avatar_flat.sort_values([\"day_visit\", \"exam\"])\n",
    "fig, axes = plt.subplots(1, 2, figsize=(12, 4))\n",
    "sns.boxplot(\n",
    "    data=visit_flat,\n",
    "    x=\"age_doctor\",\n",
    "    y=\"day_visit\",\n",
    "    ax=axes[0],\n",
    "    color=ORIGINAL_COLOR,\n",
    ")\n",
    "sns.boxplot(\n",
    "    data=visit_avatar_flat,\n",
    "    x=\"age_doctor\",\n",
    "    y=\"day_visit\",\n",
    "    ax=axes[1],\n",
    "    color=AVATAR_COLOR,\n",
    ")\n",
    "axes[0].set_xlim(30, 70)\n",
    "axes[1].set_xlim(30, 70)\n",
    "axes[0].set_title(\"Original\")\n",
    "axes[1].set_title(\"Avatar\")"
   ]
  },
  {
   "cell_type": "code",
   "execution_count": null,
   "id": "b12d274a",
   "metadata": {},
   "outputs": [],
   "source": [
    "visit_avatar_flat = visit_avatar_flat.sort_values(\"exam\")\n",
    "visit_flat = visit_flat.sort_values(\"exam\")\n",
    "fig, axes = plt.subplots(1, 2, figsize=(12, 4))\n",
    "sns.countplot(\n",
    "    data=visit_flat,\n",
    "    x=\"exam\",\n",
    "    hue=\"job\",\n",
    "    ax=axes[0],\n",
    "    palette=[ORIGINAL_COLOR, \"lightgrey\"],\n",
    "\n",
    ")\n",
    "sns.countplot(\n",
    "    data=visit_avatar_flat,\n",
    "    x=\"exam\",\n",
    "    hue=\"job\",\n",
    "    ax=axes[1],\n",
    "    palette=[AVATAR_COLOR, \"#9fe9d7\"],\n",
    ")\n",
    "axes[0].set_title(\"Original\")\n",
    "axes[1].set_title(\"Avatar\")"
   ]
  },
  {
   "cell_type": "markdown",
   "id": "b66c7889",
   "metadata": {},
   "source": [
    "### Patient x Doctor"
   ]
  },
  {
   "cell_type": "code",
   "execution_count": null,
   "id": "d252b4c4",
   "metadata": {},
   "outputs": [],
   "source": [
    "sns.kdeplot(\n",
    "    data=visit_flat, x=\"age\", y=\"age_doctor\", fill=True, color=ORIGINAL_COLOR, alpha=0.8\n",
    ")\n",
    "sns.kdeplot(\n",
    "    data=visit_avatar_flat,\n",
    "    x=\"age\",\n",
    "    y=\"age_doctor\",\n",
    "    fill=True,\n",
    "    color=AVATAR_COLOR,\n",
    "    alpha=0.8,\n",
    ")"
   ]
  },
  {
   "cell_type": "code",
   "execution_count": null,
   "id": "42ad1c02",
   "metadata": {},
   "outputs": [],
   "source": []
  },
  {
   "cell_type": "code",
   "execution_count": null,
   "id": "db44cfe8",
   "metadata": {},
   "outputs": [],
   "source": []
  },
  {
   "cell_type": "code",
   "execution_count": null,
   "id": "7b727094",
   "metadata": {},
   "outputs": [],
   "source": []
  },
  {
   "cell_type": "code",
   "execution_count": null,
   "id": "ddfd99fe",
   "metadata": {},
   "outputs": [],
   "source": []
  }
 ],
 "metadata": {
  "language_info": {
   "name": "python"
  }
 },
 "nbformat": 4,
 "nbformat_minor": 5
}
