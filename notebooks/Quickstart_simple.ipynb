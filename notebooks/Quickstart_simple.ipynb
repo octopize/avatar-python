{
 "cells": [
  {
   "attachments": {},
   "cell_type": "markdown",
   "id": "d9dedea0",
   "metadata": {},
   "source": [
    "# Quickstart - Simple avatarization"
   ]
  },
  {
   "cell_type": "code",
   "execution_count": null,
   "id": "f57dff28",
   "metadata": {},
   "outputs": [],
   "source": [
    "# This is the client that you'll be using for all of your requests\n",
    "from avatars.client import ApiClient\n",
    "from avatars.models import AvatarizationJobCreate, AvatarizationParameters, JobStatus\n",
    "from avatars.models import ReportCreate\n",
    "from avatars.models import PrivacyMetricsJobCreate, PrivacyMetricsParameters\n",
    "from avatars.models import SignalMetricsJobCreate, SignalMetricsParameters\n",
    "\n",
    "# The following are not necessary to run avatar but are used in this tutorial\n",
    "import pandas as pd\n",
    "import io\n",
    "import os\n",
    "import datetime"
   ]
  },
  {
   "cell_type": "code",
   "execution_count": null,
   "id": "12639545",
   "metadata": {},
   "outputs": [],
   "source": [
    "url = os.environ.get(\"AVATAR_BASE_URL\")\n",
    "username = os.environ.get(\"AVATAR_USERNAME\")\n",
    "password = os.environ.get(\"AVATAR_PASSWORD\")\n",
    "print(url)"
   ]
  },
  {
   "cell_type": "code",
   "execution_count": null,
   "id": "8218db7f",
   "metadata": {},
   "outputs": [],
   "source": [
    "# Change this to your actual server endpoint, e.g. base_url=\"https://avatar.company.com\"\n",
    "client = ApiClient(base_url=url)\n",
    "client.authenticate(username=username, password=password)"
   ]
  },
  {
   "cell_type": "markdown",
   "id": "d7b6e2e1",
   "metadata": {},
   "source": [
    "## Loading data"
   ]
  },
  {
   "cell_type": "code",
   "execution_count": null,
   "id": "91f08768",
   "metadata": {},
   "outputs": [],
   "source": [
    "df = pd.read_csv(\"../fixtures/iris.csv\")\n",
    "dataset = client.pandas_integration.upload_dataframe(df)"
   ]
  },
  {
   "attachments": {},
   "cell_type": "markdown",
   "id": "6a6a6279",
   "metadata": {},
   "source": [
    "## Analyze your data"
   ]
  },
  {
   "cell_type": "code",
   "execution_count": null,
   "id": "ed1a2366",
   "metadata": {},
   "outputs": [],
   "source": [
    "while dataset.summary is None:\n",
    "    dataset = client.datasets.analyze_dataset(dataset.id)\n",
    "print(f\"Lines: {dataset.nb_lines}, dimensions: {dataset.nb_dimensions}\")"
   ]
  },
  {
   "attachments": {},
   "cell_type": "markdown",
   "id": "4950fdf3",
   "metadata": {},
   "source": [
    "## Creating and launching a avatarization job and metrics"
   ]
  },
  {
   "cell_type": "code",
   "execution_count": null,
   "id": "a05fc8ca",
   "metadata": {},
   "outputs": [],
   "source": [
    "avatarization_job = client.jobs.create_full_avatarization_job(\n",
    "    AvatarizationJobCreate(\n",
    "        parameters=AvatarizationParameters(k=20, dataset_id=dataset.id),\n",
    "    )\n",
    ")\n",
    "avatarization_job = client.jobs.get_avatarization_job(avatarization_job.id, timeout=10)"
   ]
  },
  {
   "attachments": {},
   "cell_type": "markdown",
   "id": "de32a85c",
   "metadata": {},
   "source": [
    "## View Privacy & Utility metrics"
   ]
  },
  {
   "cell_type": "code",
   "execution_count": null,
   "id": "841e79b6",
   "metadata": {},
   "outputs": [],
   "source": [
    "privacy_metrics = avatarization_job.result.privacy_metrics\n",
    "print(\"*** Privacy metrics ***\")\n",
    "for metric in privacy_metrics:\n",
    "    print(metric)"
   ]
  },
  {
   "cell_type": "code",
   "execution_count": null,
   "id": "149ec60f",
   "metadata": {},
   "outputs": [],
   "source": [
    "utility_metrics = avatarization_job.result.signal_metrics\n",
    "print(\"*** Utility metrics ***\")\n",
    "for metric in utility_metrics:\n",
    "    print(metric)"
   ]
  },
  {
   "attachments": {},
   "cell_type": "markdown",
   "id": "b5d523aa",
   "metadata": {},
   "source": [
    "## Retrieves avatars"
   ]
  },
  {
   "cell_type": "code",
   "execution_count": null,
   "id": "f3b6e535",
   "metadata": {},
   "outputs": [],
   "source": [
    "# Download the avatars as a string\n",
    "avatars_str = client.datasets.download_dataset(\n",
    "    avatarization_job.result.avatars_dataset.id\n",
    ")\n",
    "\n",
    "# Download the avatars as a pandas dataframe\n",
    "avatars_df = client.pandas_integration.download_dataframe(\n",
    "    avatarization_job.result.avatars_dataset.id\n",
    ")"
   ]
  }
 ],
 "metadata": {
  "language_info": {
   "name": "python"
  }
 },
 "nbformat": 4,
 "nbformat_minor": 5
}
