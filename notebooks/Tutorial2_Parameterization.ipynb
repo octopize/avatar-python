{
 "cells": [
  {
   "cell_type": "markdown",
   "id": "6a24fbbf",
   "metadata": {},
   "source": [
    "# Tutorial 2: Parameterizing an avatarization"
   ]
  },
  {
   "cell_type": "markdown",
   "id": "dc36f0ea",
   "metadata": {},
   "source": [
    "In this tutorial, we will learn how to set key parameters of the avatarization and how they impact privacy and utility.  "
   ]
  },
  {
   "cell_type": "markdown",
   "id": "8d2ab3ce",
   "metadata": {},
   "source": [
    "## Connection"
   ]
  },
  {
   "cell_type": "code",
   "execution_count": null,
   "id": "2bb80d4d",
   "metadata": {},
   "outputs": [],
   "source": [
    "import os\n",
    "import secrets\n",
    "\n",
    "import pandas as pd\n",
    "from avatar_yaml.models.parameters import (\n",
    "    ExcludeVariablesMethod,\n",
    "    ImputeMethod,\n",
    ")\n",
    "\n",
    "from avatars.constants import PlotKind\n",
    "from avatars.manager import Manager\n",
    "from avatars.models import JobKind\n",
    "\n",
    "url = os.environ.get(\"AVATAR_BASE_API_URL\", \"https://www.octopize.app/api\")\n",
    "username = os.environ.get(\"AVATAR_USERNAME\", \"\")\n",
    "password = os.environ.get(\"AVATAR_PASSWORD\", \"\")"
   ]
  },
  {
   "cell_type": "markdown",
   "id": "1f5ca538",
   "metadata": {},
   "source": [
    "Run the following cell if your environment does not have all the listed packages already installed."
   ]
  },
  {
   "cell_type": "code",
   "execution_count": null,
   "id": "8218db7f",
   "metadata": {},
   "outputs": [],
   "source": [
    "manager = Manager(base_url=url)\n",
    "# Authenticate with the server\n",
    "manager.authenticate(username, password)\n",
    "# Verify that we can connect to the API server\n",
    "manager.get_health()"
   ]
  },
  {
   "cell_type": "markdown",
   "id": "a86742e9",
   "metadata": {},
   "source": [
    "## Loading data\n",
    "\n",
    "This tutorial uses the `iris` dataset, allowing us to run several avatarization without delays."
   ]
  },
  {
   "cell_type": "code",
   "execution_count": null,
   "id": "66dd1f75",
   "metadata": {},
   "outputs": [],
   "source": [
    "df = pd.read_csv(\"../fixtures/iris.csv\")"
   ]
  },
  {
   "cell_type": "code",
   "execution_count": null,
   "id": "257f0a54",
   "metadata": {},
   "outputs": [],
   "source": [
    "df.head()"
   ]
  },
  {
   "cell_type": "code",
   "execution_count": null,
   "id": "ccd7428b",
   "metadata": {},
   "outputs": [],
   "source": [
    "# The runner is the object that will be used to upload data to the server and run the avatarization\n",
    "runner_k2 = manager.create_runner(f\"iris_k2_{secrets.token_hex(4)}\")\n",
    "\n",
    "# Then upload the data, you can either use a pandas dataframe or a file\n",
    "runner_k2.add_table(\"iris\", df)"
   ]
  },
  {
   "cell_type": "markdown",
   "id": "9825a632",
   "metadata": {},
   "source": [
    "## Varying k\n",
    "\n",
    "The parameter *k* can be used to control the tradeoff between privacy and utility. To increase privacy, we recommend increasing the value of k. Because k is the parameter that also impacts the most the utility, it is recommended to alter it gradually.\n",
    "\n",
    "We demonstrate here the effect of varying *k*.\n"
   ]
  },
  {
   "cell_type": "code",
   "execution_count": null,
   "id": "d1f9f824",
   "metadata": {},
   "outputs": [],
   "source": [
    "# Set k\n",
    "k = 2\n",
    "runner_k2.set_parameters(\"iris\", k=k)\n",
    "\n",
    "runner_k2.run()\n",
    "\n",
    "# Retrieve selected metric\n",
    "hidden_rate = runner_k2.privacy_metrics(\"iris\")[0][\"hidden_rate\"]\n",
    "local_cloaking = runner_k2.privacy_metrics(\"iris\")[0][\"local_cloaking\"]\n",
    "hellinger_distance = runner_k2.signal_metrics(\"iris\")[0][\"hellinger_mean\"]\n",
    "\n",
    "print(f\"With k={k}, the hidden_rate (privacy) is : {hidden_rate}\")\n",
    "print(f\"With k={k}, the local_cloaking (privacy) is : {local_cloaking}\")\n",
    "print(f\"With k={k}, the hellinger_distance (utility) is : {hellinger_distance}\")"
   ]
  },
  {
   "cell_type": "code",
   "execution_count": null,
   "id": "c2ec935b",
   "metadata": {},
   "outputs": [],
   "source": [
    "# Create a new runner to run with a different k\n",
    "runner_k30 = manager.create_runner(f\"iris_k30_{secrets.token_hex(4)}\")\n",
    "runner_k30.add_table(\"iris\", \"../fixtures/iris.csv\")\n",
    "\n",
    "# Set k\n",
    "k = 30\n",
    "runner_k30.set_parameters(\"iris\", k=k)\n",
    "\n",
    "runner_k30.run()\n",
    "\n",
    "# Retrieve selected metric\n",
    "hidden_rate = runner_k30.privacy_metrics(\"iris\")[0][\"hidden_rate\"]\n",
    "local_cloaking = runner_k30.privacy_metrics(\"iris\")[0][\"local_cloaking\"]\n",
    "hellinger_distance = runner_k30.signal_metrics(\"iris\")[0][\"hellinger_mean\"]\n",
    "\n",
    "print(f\"With k={k}, the hidden_rate (privacy) is : {hidden_rate}\")\n",
    "print(f\"With k={k}, the local_cloaking (privacy) is : {local_cloaking}\")\n",
    "print(f\"With k={k}, the hellinger_distance (utility) is : {hellinger_distance}\")\n",
    "\n",
    "# download the projections\n",
    "original_coord_k_30, avatars_coord_k_30 = runner_k30.projections(\"iris\")"
   ]
  },
  {
   "cell_type": "markdown",
   "id": "56c2bea8",
   "metadata": {},
   "source": [
    "We observe that we are able to increase the level of privacy by simply increasing *k*. But this is at the expense of the utility.  "
   ]
  },
  {
   "cell_type": "markdown",
   "id": "f615fff2",
   "metadata": {},
   "source": [
    "## Visualization of originals and avatars"
   ]
  },
  {
   "cell_type": "markdown",
   "id": "44b5fd2d",
   "metadata": {},
   "source": [
    "By looking at originals and avatars in the projected space, we can observe the area covered by avatars and if it covers the same space as the original data."
   ]
  },
  {
   "cell_type": "code",
   "execution_count": null,
   "id": "b6a0c019",
   "metadata": {},
   "outputs": [],
   "source": [
    "# if you are having issues rendering the plot in your notebook, you can use the following line to open the plot in your browser\n",
    "# runner_k2.render_plot(\"iris\", PlotKind.PROJECTION_3D, open_in_browser=True)\n",
    "runner_k2.render_plot(\"iris\", PlotKind.PROJECTION_3D)"
   ]
  },
  {
   "cell_type": "code",
   "execution_count": null,
   "id": "0aac229d",
   "metadata": {},
   "outputs": [],
   "source": [
    "runner_k30.render_plot(\"iris\", PlotKind.PROJECTION_3D)"
   ]
  },
  {
   "cell_type": "markdown",
   "id": "5cb798ea",
   "metadata": {},
   "source": [
    "We observe that the area covered by avatars generated with a low *k* is much closer to the area covered by original data points. We can also see that with a low *k*, some avatars are close to original points that are isolated. This may pose a risk of re-identification. This explains the drop in privacy level when reducing *k*.   \n",
    "\n",
    "Avatars produced with a large *k* are significantly further away from isolated originals and so ensure their privacy. However **care should be taken in setting *k***  with values that are not too high to prevent a drop in utility level. The drop in utility level is represented by the area covered by avatars being much smaller than the ones of originals. "
   ]
  },
  {
   "cell_type": "markdown",
   "id": "acc8e13e",
   "metadata": {},
   "source": [
    "## Other parameters "
   ]
  },
  {
   "cell_type": "markdown",
   "id": "61b3da89",
   "metadata": {},
   "source": [
    "### Column weights\n",
    "\n",
    "Column weights represent the importance of each variable during the projection process. The higher the value for one variable, the more the individuals will be separated regarding this variable. \n",
    "\n",
    "By default, all variables are given equal weight of 1, but custom weights can be defined to bias the projection towards some specific variables."
   ]
  },
  {
   "cell_type": "code",
   "execution_count": null,
   "id": "df0976a9",
   "metadata": {},
   "outputs": [],
   "source": [
    "column_weights = {\"variety\": 3.0}"
   ]
  },
  {
   "cell_type": "markdown",
   "id": "88714206",
   "metadata": {},
   "source": [
    "### Number of components\n",
    "\n",
    "The number of components represents the number of dimensions to consider for the KNN algorithm. With a low value, computation will mostly be based on well-represented variables in the projection. \n",
    "\n",
    "By default, `ncp` is set to 5, meaning that the 5 dimensions in the projected space that represent the most the variance on the data are used when computing neighbors."
   ]
  },
  {
   "cell_type": "code",
   "execution_count": null,
   "id": "c3ce4407",
   "metadata": {},
   "outputs": [],
   "source": [
    "ncp = 5"
   ]
  },
  {
   "cell_type": "markdown",
   "id": "49104ff8",
   "metadata": {},
   "source": [
    "### Reduction of highly dimensional data\n",
    "\n",
    "When dealing with variables with a high number of modalities, the number of dimensions created during the projection increase accordingly. This could lead to situations where the number of dimension is too high compared to the number of records.\n",
    "\n",
    "We developed a parameter to transform categorical data into a restricted number of continuous dimensions embedding categorical variables in vectors.\n",
    "\n",
    "By default, `use_categorical_reduction` is set to `False`, meaning that categorical variables are left unprocessed. Furthermore, since categorical variables are converted into 20 dimensions by default, it's recommended to enable this parameter if the total number of modalities in the dataset exceeds 20."
   ]
  },
  {
   "cell_type": "code",
   "execution_count": null,
   "id": "b8f636ed",
   "metadata": {},
   "outputs": [],
   "source": [
    "# Turning on categorical reduction will create 20 numeric columns that embed the categorical columns as vectors\n",
    "# In this particular example it is conterproductive as it dilutes the signal even more (only three modalities in the original dataset)\n",
    "use_categorical_reduction = True"
   ]
  },
  {
   "cell_type": "markdown",
   "id": "1fb2ee54",
   "metadata": {},
   "source": [
    "## Categorical variables with large cardinality"
   ]
  },
  {
   "cell_type": "markdown",
   "id": "eaf5c9cc",
   "metadata": {},
   "source": [
    "The anonymization of datasets containing categorical variables with large cardinality is not trivial. We recommend to exclude the variable from the avatarization before re-assigning it by individual similarity (`coordinate_similarity`) or by the original row order (`row_order`). Using row order is more likely to preserve identifying information than coordinate similarity. Privacy metrics must be calculated at the end of the process to confirm that the data generated is anonymous.\n",
    "\n",
    "Metrics are computed after re-assignment of the excluded variables, so a variable that has been excluded is still anonymized as long as the privacy targets are reached."
   ]
  },
  {
   "cell_type": "code",
   "execution_count": null,
   "id": "ff507c1f",
   "metadata": {},
   "outputs": [],
   "source": [
    "exclude_variable_names = [\"variety\"]\n",
    "exclude_replacement_strategy = ExcludeVariablesMethod.COORDINATE_SIMILARITY"
   ]
  },
  {
   "cell_type": "markdown",
   "id": "b714944f",
   "metadata": {},
   "source": [
    "## Missing data\n",
    "\n",
    "Missing data is common in datasets and is a property that should be modelled.\n",
    "\n",
    "The Avatar solution can handle variables with missing data without requiring pre-processing. To do so, an additional variable defining whether a value is missing or not will be temporarily added to the data and the missing values will be temporarily imputed. These variables will be part of the anonymization process. \n",
    "\n",
    "In the presence of missing values, the last step in the avatarization will be to remove temporary variables and add back missing values.\n",
    "\n",
    "These parameters allow you to choose the method to impute the missing values. `imputation_method` could be : `fast_knn`, `knn` , `mean` , `mode`, `median`. By default we use the `fast_knn` method. "
   ]
  },
  {
   "cell_type": "code",
   "execution_count": null,
   "id": "b1654997",
   "metadata": {},
   "outputs": [],
   "source": [
    "imputation_method = ImputeMethod.MEAN"
   ]
  },
  {
   "cell_type": "markdown",
   "id": "83df9aa7",
   "metadata": {},
   "source": [
    "# Running the avatarization"
   ]
  },
  {
   "cell_type": "markdown",
   "id": "118bdbf4",
   "metadata": {},
   "source": [
    "The avatarization can now be run with different parameters"
   ]
  },
  {
   "cell_type": "code",
   "execution_count": null,
   "id": "da442910",
   "metadata": {},
   "outputs": [],
   "source": [
    "runner = manager.create_runner(f\"iris_multi_params_{secrets.token_hex(4)}\")\n",
    "runner.add_table(\"iris\", \"../fixtures/iris.csv\")\n",
    "\n",
    "runner.set_parameters(\n",
    "    \"iris\",\n",
    "    k=k,\n",
    "    ncp=ncp,\n",
    "    column_weights=column_weights,\n",
    "    use_categorical_reduction=use_categorical_reduction,\n",
    "    # exclude_variable_names=exclude_variable_names,\n",
    "    # exclude_replacement_strategy=exclude_replacement_strategy,\n",
    "    # imputation_method=imputation_method,\n",
    ")\n",
    "\n",
    "runner.run(jobs_to_run=[JobKind.standard])"
   ]
  },
  {
   "cell_type": "markdown",
   "id": "f36a46de",
   "metadata": {},
   "source": [
    "We will now observe the impact of the parameters on the projections. We recommend executing this last part of the tutorial several times with different settings."
   ]
  },
  {
   "cell_type": "code",
   "execution_count": null,
   "id": "bea373d5",
   "metadata": {},
   "outputs": [],
   "source": [
    "original_coord, avatars_coord = runner.projections(\"iris\")\n",
    "\n",
    "runner.render_plot(\"iris\", PlotKind.PROJECTION_3D)"
   ]
  },
  {
   "cell_type": "markdown",
   "id": "41878f0e",
   "metadata": {},
   "source": [
    "## Get suggestions for a parameter set\n",
    "\n",
    "If you don't need to refine the parameter set around your usage, you can use the application's recommendations.\n"
   ]
  },
  {
   "cell_type": "code",
   "execution_count": null,
   "id": "99ca52a5",
   "metadata": {},
   "outputs": [],
   "source": [
    "runner = manager.create_runner(f\"iris_automated_{secrets.token_hex(4)}\")\n",
    "\n",
    "runner.add_table(\"iris\", \"../fixtures/iris.csv\")\n",
    "runner.advise_parameters()\n",
    "\n",
    "# See the automated parameters\n",
    "runner.print_parameters()"
   ]
  },
  {
   "cell_type": "code",
   "execution_count": null,
   "id": "3cad7488",
   "metadata": {},
   "outputs": [],
   "source": [
    "runner.run()"
   ]
  },
  {
   "cell_type": "markdown",
   "id": "456a9f8b",
   "metadata": {},
   "source": [
    "You can also update the suggested parameters:"
   ]
  },
  {
   "cell_type": "code",
   "execution_count": null,
   "id": "abc64165",
   "metadata": {},
   "outputs": [],
   "source": [
    "runner.update_parameters(\"iris\", k=2)\n",
    "runner.print_parameters()\n",
    "runner.run()"
   ]
  },
  {
   "cell_type": "markdown",
   "id": "63bf8bfb",
   "metadata": {},
   "source": [
    "*In the next tutorial, we will show how to run an avatarization with multiple tables.*\n"
   ]
  }
 ],
 "metadata": {
  "language_info": {
   "name": "python"
  }
 },
 "nbformat": 4,
 "nbformat_minor": 5
}
