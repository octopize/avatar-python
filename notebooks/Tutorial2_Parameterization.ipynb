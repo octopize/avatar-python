{
 "cells": [
  {
   "cell_type": "markdown",
   "id": "6a24fbbf",
   "metadata": {},
   "source": [
    "# Tutorial 2: Parameterizing an avatarization"
   ]
  },
  {
   "cell_type": "markdown",
   "id": "dc36f0ea",
   "metadata": {},
   "source": [
    "In this tutorial, we will learn how to set key parameters of the avatarization and how they impact privacy and utility.  "
   ]
  },
  {
   "cell_type": "markdown",
   "id": "8d2ab3ce",
   "metadata": {},
   "source": [
    "## Connection"
   ]
  },
  {
   "cell_type": "code",
   "execution_count": null,
   "id": "2bb80d4d",
   "metadata": {},
   "outputs": [],
   "source": [
    "import os\n",
    "\n",
    "url=os.environ.get(\"AVATAR_BASE_URL\")\n",
    "username=os.environ.get(\"AVATAR_USERNAME\")\n",
    "password=os.environ.get(\"AVATAR_PASSWORD\")"
   ]
  },
  {
   "cell_type": "code",
   "execution_count": null,
   "id": "8218db7f",
   "metadata": {},
   "outputs": [],
   "source": [
    "# This is the client that you'll be using for all of your requests\n",
    "from avatars.client import ApiClient\n",
    "from avatars.models import AvatarizationJobCreate, AvatarizationParameters\n",
    "from avatars.models import ReportCreate\n",
    "\n",
    "# The following are not necessary to run avatar but are used in this tutorial\n",
    "import pandas as pd\n",
    "import io\n",
    "import numpy as np\n",
    "import matplotlib.pyplot as plt\n",
    "import seaborn as sns\n",
    "\n",
    "# Change this to your actual server endpoint, e.g. base_url=\"https://avatar.company.com\"\n",
    "client = ApiClient(base_url=url)\n",
    "client.authenticate(\n",
    "    username=username, password=password\n",
    ")\n",
    "\n",
    "# Verify that we can connect to the API server\n",
    "client.health.get_health()"
   ]
  },
  {
   "cell_type": "markdown",
   "id": "a86742e9",
   "metadata": {},
   "source": [
    "## Loading data\n",
    "\n",
    "This tutorial uses the `iris` dataset, allowing us to run several avatarization without delays."
   ]
  },
  {
   "cell_type": "code",
   "execution_count": null,
   "id": "66dd1f75",
   "metadata": {},
   "outputs": [],
   "source": [
    "df = pd.read_csv(\"../fixtures/iris.csv\")\n",
    "dataset = client.pandas_integration.upload_dataframe(df)"
   ]
  },
  {
   "cell_type": "code",
   "execution_count": null,
   "id": "257f0a54",
   "metadata": {},
   "outputs": [],
   "source": [
    "df.head()"
   ]
  },
  {
   "cell_type": "markdown",
   "id": "9825a632",
   "metadata": {},
   "source": [
    "## Varying k\n",
    "\n",
    "The parameter *k* can be used to control the tradeoff between privacy and utility. To increase privacy, we recommend increasing the value of k. Because k is the parameter that also impacts the most the utility, it is recommended to alter it gradually.\n",
    "\n",
    "We demonstrate here the effect of varying *k*.\n"
   ]
  },
  {
   "cell_type": "code",
   "execution_count": null,
   "id": "d1f9f824",
   "metadata": {},
   "outputs": [],
   "source": [
    "# Set k\n",
    "k = 2\n",
    "\n",
    "# Create and run avatarization\n",
    "job_small_k = client.jobs.create_avatarization_job(\n",
    "    AvatarizationJobCreate(parameters=AvatarizationParameters(k = k, dataset_id=dataset.id)))\n",
    "job_small_k = client.jobs.get_avatarization_job(id=job_small_k.id)\n",
    "\n",
    "# Retrieve selected metric\n",
    "hidden_rate = job_small_k.result.privacy_metrics.hidden_rate\n",
    "local_cloaking = job_small_k.result.privacy_metrics.local_cloaking\n",
    "hellinger_distance = job_small_k.result.signal_metrics.hellinger_mean\n",
    "\n",
    "print(f\"With k={k}, the hidden_rate (privacy) is : {hidden_rate}\")\n",
    "print(f\"With k={k}, the local_cloaking (privacy) is : {local_cloaking}\")\n",
    "print(f\"With k={k}, the hellinger_distance (utility) is : {hellinger_distance}\")\n"
   ]
  },
  {
   "cell_type": "code",
   "execution_count": null,
   "id": "c2ec935b",
   "metadata": {},
   "outputs": [],
   "source": [
    "# Set k\n",
    "k = 30\n",
    "\n",
    "# Create and run avatarization\n",
    "job_large_k = client.jobs.create_avatarization_job(\n",
    "    AvatarizationJobCreate(parameters=AvatarizationParameters(k = k, dataset_id=dataset.id)))\n",
    "job_large_k = client.jobs.get_avatarization_job(id=job_large_k.id)\n",
    "\n",
    "# Retrieve selected metric\n",
    "hidden_rate = job_large_k.result.privacy_metrics.hidden_rate\n",
    "local_cloaking = job_large_k.result.privacy_metrics.local_cloaking\n",
    "hellinger_distance = job_large_k.result.signal_metrics.hellinger_mean\n",
    "\n",
    "print(f\"With k={k}, the hidden_rate (privacy) is : {hidden_rate}\")\n",
    "print(f\"With k={k}, the local_cloaking (privacy) is : {local_cloaking}\")\n",
    "print(f\"With k={k}, the hellinger_distance (utility) is : {hellinger_distance}\")"
   ]
  },
  {
   "cell_type": "markdown",
   "id": "56c2bea8",
   "metadata": {},
   "source": [
    "We observe that we are able to increase the level of privacy by simply increasing *k*. But this is at the expense of the utility.  "
   ]
  },
  {
   "cell_type": "markdown",
   "id": "f615fff2",
   "metadata": {},
   "source": [
    "## Visualization of originals and avatars"
   ]
  },
  {
   "cell_type": "markdown",
   "id": "44b5fd2d",
   "metadata": {},
   "source": [
    "By looking at original and avatars in the projected space, we can understand the area covered by avatars and if it covers the same space as the original data."
   ]
  },
  {
   "cell_type": "code",
   "execution_count": null,
   "id": "21e325a9",
   "metadata": {},
   "outputs": [],
   "source": [
    "projections = client.metrics.get_job_projections(job_id=job_small_k.id)\n",
    "projections_records = np.array(projections.records)[:,0:2]  # First 2 dimensions of projected records\n",
    "projections_avatars = np.array(projections.avatars)[:,0:2]  # First 2 dimensions of projected records"
   ]
  },
  {
   "cell_type": "code",
   "execution_count": null,
   "id": "b6a0c019",
   "metadata": {},
   "outputs": [],
   "source": [
    "fig, ax = plt.subplots(1, 1)\n",
    "sns.scatterplot(\n",
    "    ax=ax,\n",
    "    x=projections_records[:,0],\n",
    "    y=projections_records[:,1],\n",
    "    alpha=0.6,\n",
    "    color = \"dimgrey\",\n",
    "    label = 'Original'\n",
    ")\n",
    "\n",
    "sns.scatterplot(\n",
    "    ax=ax,\n",
    "    x=projections_avatars[:,0],\n",
    "    y=projections_avatars[:,1],\n",
    "    alpha=0.6,\n",
    "    color = \"#3BD6B0\",\n",
    "    label = 'Avatars'\n",
    ")\n",
    "\n",
    "ax.set_title(\"Projections of original and avatars produced with small k\")"
   ]
  },
  {
   "cell_type": "code",
   "execution_count": null,
   "id": "0aac229d",
   "metadata": {},
   "outputs": [],
   "source": [
    "projections = client.metrics.get_job_projections(job_id=job_large_k.id)\n",
    "projections_records = np.array(projections.records)[:,0:2]  # First 2 dimensions of projected records\n",
    "projections_avatars = np.array(projections.avatars)[:,0:2]  # First 2 dimensions of projected records\n",
    "\n",
    "fig, ax = plt.subplots(1, 1)\n",
    "sns.scatterplot(\n",
    "    ax=ax,\n",
    "    x=projections_records[:,0],\n",
    "    y=projections_records[:,1],\n",
    "    alpha=0.6,\n",
    "    color = \"dimgrey\",\n",
    "    label = 'Original'\n",
    ")\n",
    "\n",
    "sns.scatterplot(\n",
    "    ax=ax,\n",
    "    x=projections_avatars[:,0],\n",
    "    y=projections_avatars[:,1],\n",
    "    alpha=0.6,\n",
    "    color = \"#3BD6B0\",\n",
    "    label = 'Avatars'\n",
    ")\n",
    "\n",
    "ax.set_title(\"Projections of original and avatars produced with large k\")"
   ]
  },
  {
   "cell_type": "markdown",
   "id": "5cb798ea",
   "metadata": {},
   "source": [
    "We observe that the area covered by avatars generated with a low *k* is much closer to the area covered by original data points. We can also see that with a low *k*, some avatars are close to original points that are isolated. This may pose a risk of re-identification. This explains the drop in privacy level when reducing *k*.   \n",
    "\n",
    "Avatars produced with a large *k* are significantly further away from isolated originals and so ensure their privacy. However care should be taken in setting *k*  with values that are not too high to prevent a drop in utility level. The drop in utility level is represented by the area covered by avatars being much smaller than the ones of originals. "
   ]
  },
  {
   "cell_type": "markdown",
   "id": "acc8e13e",
   "metadata": {},
   "source": [
    "## Other parameters "
   ]
  },
  {
   "cell_type": "markdown",
   "id": "61b3da89",
   "metadata": {},
   "source": [
    "### Column weights\n",
    "\n",
    "Column weights represent the importance of each variable during the projection process. The higher the value for one variable, the more the individuals will be separated regarding this variable. \n",
    "\n",
    "By default, all variables are given equal weight of 1, but custom weights can be defined to bias the projection towards some specific variables."
   ]
  },
  {
   "cell_type": "code",
   "execution_count": null,
   "id": "df0976a9",
   "metadata": {},
   "outputs": [],
   "source": [
    "column_weights = {'variety': 3}"
   ]
  },
  {
   "cell_type": "markdown",
   "id": "88714206",
   "metadata": {},
   "source": [
    "### Number of components\n",
    "\n",
    "The number of components represents the number of dimensions to consider for the KNN algorithm. With a low value, computation will mostly be based on well-represented variables in the projection. \n",
    "\n",
    "By default, `ncp` is set to `None`, meaning that all dimensions are used when computing neighbors."
   ]
  },
  {
   "cell_type": "code",
   "execution_count": null,
   "id": "d3ea462a",
   "metadata": {},
   "outputs": [],
   "source": [
    "ncp = 5"
   ]
  },
  {
   "cell_type": "markdown",
   "id": "408bc627",
   "metadata": {},
   "source": [
    "### Seed\n",
    "\n",
    "A seed is a helpful feature to enable reproducible experiments. However, a seed should not be set in production to ensure that avatars are unique and that the originals cannot be retro-engineered.\n",
    "\n",
    "By default, `seed` is set to `None`."
   ]
  },
  {
   "cell_type": "code",
   "execution_count": null,
   "id": "f080ae99",
   "metadata": {},
   "outputs": [],
   "source": [
    "seed = 123"
   ]
  },
  {
   "cell_type": "markdown",
   "id": "118bdbf4",
   "metadata": {},
   "source": [
    "The avatarization can now be run with different parameters"
   ]
  },
  {
   "cell_type": "code",
   "execution_count": null,
   "id": "da442910",
   "metadata": {},
   "outputs": [],
   "source": [
    "parameters=AvatarizationParameters(\n",
    "    k = k, \n",
    "    dataset_id=dataset.id,\n",
    "    column_weights = column_weights,\n",
    "    ncp = ncp, \n",
    "    seed = seed\n",
    ")\n",
    "\n",
    "job = client.jobs.create_avatarization_job(AvatarizationJobCreate(parameters=parameters))\n",
    "job = client.jobs.get_avatarization_job(id=job.id)"
   ]
  },
  {
   "cell_type": "markdown",
   "id": "f36a46de",
   "metadata": {},
   "source": [
    "We will now observe the impact of the parameters on the projections. We recommend executing this last part of the tutorial several times with different settings."
   ]
  },
  {
   "cell_type": "code",
   "execution_count": null,
   "id": "bea373d5",
   "metadata": {},
   "outputs": [],
   "source": [
    "projections = client.metrics.get_job_projections(job_id=job.id)\n",
    "projections_records = np.array(projections.records)[:,0:2]  # First 2 dimensions of projected records\n",
    "projections_avatars = np.array(projections.avatars)[:,0:2]  # First 2 dimensions of projected records\n",
    "\n",
    "fig, ax = plt.subplots(1, 1)\n",
    "sns.scatterplot(\n",
    "    ax=ax,\n",
    "    x=projections_records[:,0],\n",
    "    y=projections_records[:,1],\n",
    "    alpha=0.6,\n",
    "    color = \"dimgrey\",\n",
    "    label = 'Original'\n",
    ")\n",
    "\n",
    "sns.scatterplot(\n",
    "    ax=ax,\n",
    "    x=projections_avatars[:,0],\n",
    "    y=projections_avatars[:,1],\n",
    "    alpha=0.6,\n",
    "    color = \"#3BD6B0\",\n",
    "    label = 'Avatars'\n",
    ")\n",
    "\n",
    "ax.set_title(\"Projections of original and avatars produced with custom settings\")"
   ]
  },
  {
   "cell_type": "markdown",
   "id": "63bf8bfb",
   "metadata": {},
   "source": [
    "*In the next tutorial, we will show how to use some embedded processors to handle some characteristics of your dataset, for example, the presence of missing values, numeric variables with low cardinality, categorical variables with large cardinality or rare modalities.*\n"
   ]
  }
 ],
 "metadata": {
  "kernelspec": {
   "display_name": "Python 3 (ipykernel)",
   "language": "python",
   "name": "python3"
  },
  "language_info": {
   "codemirror_mode": {
    "name": "ipython",
    "version": 3
   },
   "file_extension": ".py",
   "mimetype": "text/x-python",
   "name": "python",
   "nbconvert_exporter": "python",
   "pygments_lexer": "ipython3",
   "version": "3.9.10"
  }
 },
 "nbformat": 4,
 "nbformat_minor": 5
}
