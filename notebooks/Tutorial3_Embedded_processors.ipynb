{
 "cells": [
  {
   "cell_type": "markdown",
   "id": "6a24fbbf",
   "metadata": {},
   "source": [
    "## Tutorial 3: Using embedded processors"
   ]
  },
  {
   "cell_type": "markdown",
   "id": "dc36f0ea",
   "metadata": {},
   "source": [
    "In this tutorial, we will learn how to to use some embedded processors to handle some characteristics of your dataset, for example, the presence of missing values, numeric variables with low cardinality, categorical variables with large cardinality or rare modalities. "
   ]
  },
  {
   "cell_type": "markdown",
   "id": "6789eb90",
   "metadata": {},
   "source": [
    "<img src=\"img/embedded.png\" style=\"height:500px\" />"
   ]
  },
  {
   "cell_type": "markdown",
   "id": "8d2ab3ce",
   "metadata": {},
   "source": [
    "## Connection"
   ]
  },
  {
   "cell_type": "code",
   "execution_count": null,
   "id": "2bb80d4d",
   "metadata": {},
   "outputs": [],
   "source": [
    "import os\n",
    "\n",
    "url=os.environ.get(\"AVATAR_BASE_URL\")\n",
    "username=os.environ.get(\"AVATAR_USERNAME\")\n",
    "password=os.environ.get(\"AVATAR_PASSWORD\")"
   ]
  },
  {
   "cell_type": "code",
   "execution_count": null,
   "id": "8218db7f",
   "metadata": {},
   "outputs": [],
   "source": [
    "# This is the client that you'll be using for all of your requests\n",
    "from avatars.client import ApiClient\n",
    "from avatars.models import AvatarizationJobCreate, AvatarizationParameters, ImputationParameters, ImputeMethod, ExcludeCategoricalParameters, ExcludeCategoricalMethod, RareCategoricalMethod\n",
    "from avatars.models import ReportCreate\n",
    "\n",
    "# The following are not necessary to run avatar but are used in this tutorial\n",
    "import pandas as pd\n",
    "import io\n",
    "import numpy as np\n",
    "import matplotlib.pyplot as plt\n",
    "import seaborn as sns\n",
    "import missingno as msno\n",
    "\n",
    "\n",
    "# Change this to your actual server endpoint, e.g. base_url=\"https://avatar.company.com\"\n",
    "client = ApiClient(base_url=url)\n",
    "client.authenticate(\n",
    "    username=username, password=password\n",
    ")\n",
    "\n",
    "# Verify that we can connect to the API server\n",
    "client.health.get_health()"
   ]
  },
  {
   "cell_type": "markdown",
   "id": "a86742e9",
   "metadata": {},
   "source": [
    "## Loading data\n",
    "\n",
    "To demonstrate the first embedded processor, we load the `adult` dataset which contains missing values. This dataset contains census data about the US population."
   ]
  },
  {
   "cell_type": "code",
   "execution_count": null,
   "id": "66dd1f75",
   "metadata": {},
   "outputs": [],
   "source": [
    "df = pd.read_csv(\"../fixtures/adult_with_missing.csv\")\n",
    "dataset = client.pandas_integration.upload_dataframe(df)\n",
    "print(df.shape)\n",
    "df.head()"
   ]
  },
  {
   "cell_type": "markdown",
   "id": "9825a632",
   "metadata": {},
   "source": [
    "## Missing data\n",
    "\n",
    "Missing data is common in datasets and is a property that should be modelled.\n",
    "\n",
    "The Avatar solution can handle variables with missing data without requiring pre-processing. To do so, an additional variable defining whether a value is missing or not will be temporarily added to the data and the missing values will be temporarily imputed. These variables will be part of the anonymization process. \n",
    "\n",
    "In the presence of missing values, the last step in the avatarization will be to remove temporary variables and add back missing values.\n",
    "\n",
    "This transformation is embedded in the avatarization and only requires a user to set some imputation parameters."
   ]
  },
  {
   "cell_type": "code",
   "execution_count": null,
   "id": "e0b8c6c4",
   "metadata": {},
   "outputs": [],
   "source": [
    "print(\"Proportion of missing values per variable in originals\")\n",
    "df.isna().sum() / len(df)"
   ]
  },
  {
   "cell_type": "code",
   "execution_count": null,
   "id": "961e7991",
   "metadata": {},
   "outputs": [],
   "source": [
    "imputation_parameters = ImputationParameters(\n",
    "    k=5,\n",
    "    method= ImputeMethod.knn\n",
    ")"
   ]
  },
  {
   "cell_type": "code",
   "execution_count": null,
   "id": "d1f9f824",
   "metadata": {},
   "outputs": [],
   "source": [
    "%%time\n",
    "# Create and run avatarization\n",
    "job = client.jobs.create_avatarization_job(\n",
    "    AvatarizationJobCreate(\n",
    "        parameters=AvatarizationParameters(\n",
    "            k = 5,\n",
    "            dataset_id=dataset.id,\n",
    "            imputation=imputation_parameters\n",
    "        )\n",
    "    )\n",
    ")\n",
    "job = client.jobs.get_avatarization_job(id=job.id, timeout=1000)\n",
    "\n",
    "# Download the avatars as a pandas dataframe\n",
    "avatars = client.pandas_integration.download_dataframe(job.result.avatars_dataset.id)"
   ]
  },
  {
   "cell_type": "code",
   "execution_count": null,
   "id": "e55bde3b",
   "metadata": {},
   "outputs": [],
   "source": [
    "print(\"Proportion of missing values per variable in avatars\")\n",
    "avatars.isna().sum() / len(avatars)"
   ]
  },
  {
   "cell_type": "markdown",
   "id": "cc128b4d",
   "metadata": {},
   "source": [
    "We observe that we the avatarization keeps the same proportion of missing values. But the location of the missing value cells in the data is not similar. This is because the missing value characteristics has also been anonymized."
   ]
  },
  {
   "cell_type": "code",
   "execution_count": null,
   "id": "a05af918",
   "metadata": {},
   "outputs": [],
   "source": [
    "msno.matrix(df)"
   ]
  },
  {
   "cell_type": "code",
   "execution_count": null,
   "id": "f2144a26",
   "metadata": {},
   "outputs": [],
   "source": [
    "msno.matrix(avatars)"
   ]
  },
  {
   "cell_type": "markdown",
   "id": "91bb6c4c",
   "metadata": {},
   "source": [
    "### Handling missing data on large volumes "
   ]
  },
  {
   "cell_type": "markdown",
   "id": "a79a25da",
   "metadata": {},
   "source": [
    "Because there is an imputation step in the avatarization of data with missing values, it may yield long runtimes with some settings of the imputation. It is the case with the `ImputeMethod.knn` imputer demonstrated previously.\n",
    "\n",
    "To reduce the runtime caused by the imputation, it is possible to use an alternative imputation such as:\n",
    "- `ImputeMethod.fast_knn`, an appromixation of a knn imputer\n",
    "- `ImputeMethod.mean` that imputes using the mean of each variable (or mode if non-numeric)\n",
    "- `ImputeMethod.mode` that imputes using the mode of each variable\n",
    "- `ImputeMethod.median` that imputes using the median of each variable\n",
    "\n",
    "Another alternative is to use a fraction of the data for the impute step. This is controlled by the parameter `training_fraction` (the fraction of the dataset used to train the knn imputer)."
   ]
  },
  {
   "cell_type": "code",
   "execution_count": null,
   "id": "928fe231",
   "metadata": {},
   "outputs": [],
   "source": [
    "# With this setting, only a 5th of the data will be used for imputation\n",
    "imputation_parameters = ImputationParameters(\n",
    "    k=5,\n",
    "    method= ImputeMethod.knn,\n",
    "    training_fraction=0.05 \n",
    ")"
   ]
  },
  {
   "cell_type": "code",
   "execution_count": null,
   "id": "669aa891",
   "metadata": {},
   "outputs": [],
   "source": [
    "%%time\n",
    "# Create and run avatarization\n",
    "job = client.jobs.create_avatarization_job(\n",
    "    AvatarizationJobCreate(\n",
    "        parameters=AvatarizationParameters(\n",
    "            k = 5,\n",
    "            dataset_id=dataset.id,\n",
    "            imputation=imputation_parameters\n",
    "        )\n",
    "    )\n",
    ")\n",
    "job = client.jobs.get_avatarization_job(id=job.id, timeout=1000)\n",
    "\n",
    "print(job.status)"
   ]
  },
  {
   "cell_type": "markdown",
   "id": "8fd3129f",
   "metadata": {},
   "source": [
    "We observe faster runtime when using a fraction of the data for imputation."
   ]
  },
  {
   "cell_type": "markdown",
   "id": "f615fff2",
   "metadata": {},
   "source": [
    "## Numeric variables with low cardinality"
   ]
  },
  {
   "cell_type": "markdown",
   "id": "08ec847d",
   "metadata": {},
   "source": [
    "Some variables may be numeric but only contain several unique values. If their distributions show some peaks, these may not be preserved during avatarization. \n",
    "\n",
    "Let's take the Wisconcin Breast Cancer dataset (WBCD) as an example. This dataset contains categorical variables encoded as integers ranging between 0 and 10. The variable `Clump_Thickness` is one of them and exhibits a non-Gaussian distribution with peaks at different values"
   ]
  },
  {
   "cell_type": "code",
   "execution_count": null,
   "id": "6738abe4",
   "metadata": {},
   "outputs": [],
   "source": [
    "df = pd.read_csv(\"../fixtures/wbcd.csv\")"
   ]
  },
  {
   "cell_type": "code",
   "execution_count": null,
   "id": "256d7540",
   "metadata": {},
   "outputs": [],
   "source": [
    "df.dtypes"
   ]
  },
  {
   "cell_type": "code",
   "execution_count": null,
   "id": "966c7d0b",
   "metadata": {},
   "outputs": [],
   "source": [
    "print(\"Number of distinct values:\", df['Clump_Thickness'].nunique())\n",
    "df['Clump_Thickness'].hist()"
   ]
  },
  {
   "cell_type": "markdown",
   "id": "33cbf582",
   "metadata": {},
   "source": [
    "### Avatarization as numeric"
   ]
  },
  {
   "cell_type": "code",
   "execution_count": null,
   "id": "a015d206",
   "metadata": {},
   "outputs": [],
   "source": [
    "dataset = client.pandas_integration.upload_dataframe(df)\n",
    "\n",
    "job = client.jobs.create_avatarization_job(\n",
    "    AvatarizationJobCreate(\n",
    "        parameters=AvatarizationParameters(\n",
    "            k = 20,\n",
    "            dataset_id=dataset.id,\n",
    "            imputation=ImputationParameters(\n",
    "                method= ImputeMethod.mode \n",
    "            )\n",
    "        )\n",
    "    )\n",
    ")\n",
    "job = client.jobs.get_avatarization_job(id=job.id, timeout=1000)\n",
    "\n",
    "# Download the avatars as a pandas dataframe\n",
    "avatars = client.pandas_integration.download_dataframe(job.result.avatars_dataset.id)"
   ]
  },
  {
   "cell_type": "code",
   "execution_count": null,
   "id": "b7dc94bc",
   "metadata": {},
   "outputs": [],
   "source": [
    "print(\"Number of distinct values in avatars:\", avatars['Clump_Thickness'].nunique())\n",
    "avatars['Clump_Thickness'].hist()"
   ]
  },
  {
   "cell_type": "markdown",
   "id": "64ecceaf",
   "metadata": {},
   "source": [
    "An avatarization of this dataset without transformation of the low-cardinality numeric variables yields differences in the distribution. "
   ]
  },
  {
   "cell_type": "markdown",
   "id": "0159e994",
   "metadata": {},
   "source": [
    "### Avatarization as categorical"
   ]
  },
  {
   "cell_type": "code",
   "execution_count": null,
   "id": "fe90557d",
   "metadata": {},
   "outputs": [],
   "source": [
    "job = client.jobs.create_avatarization_job(\n",
    "    AvatarizationJobCreate(\n",
    "        parameters=AvatarizationParameters(\n",
    "            k = 20,\n",
    "            dataset_id=dataset.id,\n",
    "            imputation=ImputationParameters(\n",
    "                method= ImputeMethod.mode \n",
    "            ),\n",
    "            to_categorical_threshold=20\n",
    "        )\n",
    "    )\n",
    ")\n",
    "job = client.jobs.get_avatarization_job(id=job.id, timeout=1000)\n",
    "\n",
    "# Download the avatars as a pandas dataframe\n",
    "avatars = client.pandas_integration.download_dataframe(job.result.avatars_dataset.id)"
   ]
  },
  {
   "cell_type": "code",
   "execution_count": null,
   "id": "64a3c08b",
   "metadata": {},
   "outputs": [],
   "source": [
    "print(\"Number of distinct values in avatars:\", avatars['Clump_Thickness'].nunique())\n",
    "avatars['Clump_Thickness'].hist()"
   ]
  },
  {
   "cell_type": "markdown",
   "id": "c527cce0",
   "metadata": {},
   "source": [
    "We observe that transforming some numeric variables to categorical can be beneficial. In our example, we preserve the proportion of each unique value where it may not be the case if we keep the variables as numeric. "
   ]
  },
  {
   "cell_type": "markdown",
   "id": "0c01aabb",
   "metadata": {},
   "source": [
    "## Categorical variables with large cardinality"
   ]
  },
  {
   "cell_type": "markdown",
   "id": "d7fe38c5",
   "metadata": {},
   "source": [
    "The anonymization of datasets containing categorical variables with large cardinality is not trivial and we recommend to exclude the variable from the avatarization before re-assigning it probabilistically. \n",
    "\n",
    "This necessary step is included in the avatarization job and can be managed via a set of parameters ExcludeCategoricalParameters.\n",
    "\n",
    "Metrics are computed after re-assignment of the excluded variables, so a variable that has been excluded is still anonymized as long as the privacy targets are reached.\n",
    "\n",
    "Note that we'll see in the next tutorial how other processors can be used as an alternative.\n",
    "\n",
    "First, let's load the `adult` dataset that now contains a `city` variable. This variable is categorical and contains over a 100 modalities."
   ]
  },
  {
   "cell_type": "code",
   "execution_count": null,
   "id": "94b98cd1",
   "metadata": {},
   "outputs": [],
   "source": [
    "df = pd.read_csv(\"../fixtures/adult_with_cities.csv\")"
   ]
  },
  {
   "cell_type": "code",
   "execution_count": null,
   "id": "59c23ed7",
   "metadata": {},
   "outputs": [],
   "source": [
    "df.head()"
   ]
  },
  {
   "cell_type": "code",
   "execution_count": null,
   "id": "913b36c8",
   "metadata": {
    "scrolled": true
   },
   "outputs": [],
   "source": [
    "counts = df['city'].value_counts()\n",
    "rare_values = set(counts[counts == 1].index)\n",
    "print('Rare values for variable city are: ', rare_values)"
   ]
  },
  {
   "cell_type": "code",
   "execution_count": null,
   "id": "b440c7cb",
   "metadata": {},
   "outputs": [],
   "source": [
    "counts"
   ]
  },
  {
   "cell_type": "markdown",
   "id": "d17d4d40",
   "metadata": {},
   "source": [
    "### Excluding variables and re-assigning them probabilistically"
   ]
  },
  {
   "cell_type": "code",
   "execution_count": null,
   "id": "3d7f7acf",
   "metadata": {},
   "outputs": [],
   "source": [
    "%%time\n",
    "dataset = client.pandas_integration.upload_dataframe(df)\n",
    "\n",
    "exclude_parameters = ExcludeCategoricalParameters(\n",
    "        exclude_cardinality_threshold = 30,\n",
    "        exclude_replacement_strategy=ExcludeCategoricalMethod.coordinate_similarity,\n",
    "        rare_occurence_threshold = 1,\n",
    "        rare_replacement_strategy=RareCategoricalMethod.most_similar,\n",
    "#         number_reference_records=1000\n",
    "        )\n",
    "\n",
    "job = client.jobs.create_avatarization_job(\n",
    "    AvatarizationJobCreate(\n",
    "        parameters=AvatarizationParameters(\n",
    "            k = 20,\n",
    "            dataset_id=dataset.id,\n",
    "            imputation=ImputationParameters(\n",
    "                method= ImputeMethod.mode \n",
    "            ),\n",
    "            exclude_categorical=exclude_parameters\n",
    "        )\n",
    "    )\n",
    ")\n",
    "job = client.jobs.get_avatarization_job(id=job.id, timeout=1000)\n",
    "\n",
    "# Download the avatars as a pandas dataframe\n",
    "avatars = client.pandas_integration.download_dataframe(job.result.avatars_dataset.id)"
   ]
  },
  {
   "cell_type": "code",
   "execution_count": null,
   "id": "2ede8d94",
   "metadata": {},
   "outputs": [],
   "source": [
    "avatars.head()"
   ]
  },
  {
   "cell_type": "code",
   "execution_count": null,
   "id": "be9d4469",
   "metadata": {},
   "outputs": [],
   "source": [
    "avatars['city'].value_counts()"
   ]
  },
  {
   "cell_type": "markdown",
   "id": "1394210e",
   "metadata": {},
   "source": [
    "The exclude variable processor also ensures that rare modalities are not kept as they could be re-identifying. We can confirm this by looking at rare values from the original data still present in the avatars."
   ]
  },
  {
   "cell_type": "code",
   "execution_count": null,
   "id": "30a6612d",
   "metadata": {
    "scrolled": true
   },
   "outputs": [],
   "source": [
    "rare_values.intersection(set(avatars['city'].unique()))"
   ]
  },
  {
   "cell_type": "markdown",
   "id": "63bf8bfb",
   "metadata": {},
   "source": [
    "*In the next tutorial, we will show how to prepare the data prior to running an avatarization by using other processors on your local machine in order to handle and preserve other data characteristics.*"
   ]
  }
 ],
 "metadata": {
  "kernelspec": {
   "display_name": "Python 3 (ipykernel)",
   "language": "python",
   "name": "python3"
  },
  "language_info": {
   "codemirror_mode": {
    "name": "ipython",
    "version": 3
   },
   "file_extension": ".py",
   "mimetype": "text/x-python",
   "name": "python",
   "nbconvert_exporter": "python",
   "pygments_lexer": "ipython3",
   "version": "3.9.10"
  }
 },
 "nbformat": 4,
 "nbformat_minor": 5
}
