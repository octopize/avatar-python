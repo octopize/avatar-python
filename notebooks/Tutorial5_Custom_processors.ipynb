{
 "cells": [
  {
   "cell_type": "markdown",
   "id": "6a24fbbf",
   "metadata": {},
   "source": [
    "# Tutorial 5: Custom processors"
   ]
  },
  {
   "cell_type": "markdown",
   "id": "dc36f0ea",
   "metadata": {},
   "source": [
    "In this tutorial, we will learn how to define your own processor to be executed client-side.\n",
    "\n",
    "This is a useful feature allowing the integration of domain knowledge in the avatarization."
   ]
  },
  {
   "cell_type": "markdown",
   "id": "8d2ab3ce",
   "metadata": {},
   "source": [
    "## Connection"
   ]
  },
  {
   "cell_type": "code",
   "execution_count": null,
   "id": "2bb80d4d",
   "metadata": {},
   "outputs": [],
   "source": [
    "import os\n",
    "\n",
    "url=os.environ.get(\"AVATAR_BASE_URL\")\n",
    "username=os.environ.get(\"AVATAR_USERNAME\")\n",
    "password=os.environ.get(\"AVATAR_PASSWORD\")"
   ]
  },
  {
   "cell_type": "code",
   "execution_count": null,
   "id": "8218db7f",
   "metadata": {},
   "outputs": [],
   "source": [
    "# This is the client that you'll be using for all of your requests\n",
    "from avatars.client import ApiClient\n",
    "from avatars.models import AvatarizationJobCreate, AvatarizationParameters, ImputationParameters, ImputeMethod, ExcludeCategoricalParameters, ExcludeCategoricalMethod, RareCategoricalMethod\n",
    "from avatars.models import ReportCreate\n",
    "\n",
    "from avatars.api import AvatarizationPipelineCreate\n",
    "from avatars.processors.proportions import ProportionProcessor\n",
    "from avatars.processors.group_modalities import GroupModalitiesProcessor\n",
    "from avatars.processors.relative_difference import RelativeDifferenceProcessor\n",
    "from avatars.processors.perturbation import PerturbationProcessor\n",
    "from avatars.processors.expected_mean import ExpectedMeanProcessor\n",
    "\n",
    "# The following are not necessary to run avatar but are used in this tutorial\n",
    "import pandas as pd\n",
    "import io\n",
    "import numpy as np\n",
    "import matplotlib.pyplot as plt\n",
    "import seaborn as sns\n",
    "\n",
    "# Change this to your actual server endpoint, e.g. base_url=\"https://avatar.company.com\"\n",
    "client = ApiClient(base_url=url)\n",
    "client.authenticate(\n",
    "    username=username, password=password\n",
    ")\n",
    "\n",
    "# Verify that we can connect to the API server\n",
    "client.health.get_health()"
   ]
  },
  {
   "cell_type": "markdown",
   "id": "a1f9d732",
   "metadata": {},
   "source": [
    "## Defining a custom processor"
   ]
  },
  {
   "cell_type": "markdown",
   "id": "04336b1a",
   "metadata": {},
   "source": [
    "We will use the `adult` dataset to demonstrate how a custom processor can be defined."
   ]
  },
  {
   "cell_type": "code",
   "execution_count": null,
   "id": "f3fb4ac3",
   "metadata": {},
   "outputs": [],
   "source": [
    "df = pd.read_csv(\"../fixtures/adult_with_cities.csv\").head(1000)\n",
    "dataset = client.pandas_integration.upload_dataframe(df)\n",
    "print(df.shape)\n",
    "df.head()"
   ]
  },
  {
   "cell_type": "code",
   "execution_count": null,
   "id": "f2cfd559",
   "metadata": {},
   "outputs": [],
   "source": [
    "df['relationship'].value_counts()"
   ]
  },
  {
   "cell_type": "markdown",
   "id": "578c8732",
   "metadata": {},
   "source": [
    "To be compatible with the avatarization pipeline, a processor must be defined following the structure:\n",
    "    \n",
    "```python\n",
    "class MyCustomProcessor:\n",
    "    def __init__(\n",
    "        self, <some_arguments>\n",
    "    ):\n",
    "        ...\n",
    "    \n",
    "    def preprocess(self, df: pd.DataFrame) -> pd.DataFrame:\n",
    "        ...\n",
    "        \n",
    "    def postprocess(self, source: pd.DataFrame, dest: pd.DataFrame) -> pd.DataFrame:\n",
    "        ...\n",
    "```"
   ]
  },
  {
   "cell_type": "markdown",
   "id": "30835be8",
   "metadata": {},
   "source": [
    "We can define a simple example processor that will group some modalities together in a preprocessing step and sample from the original modalities on the basis of the original frequencies in the postprocessing step. \n",
    "\n",
    "We can call this processor `GroupRelationshipProcessor`."
   ]
  },
  {
   "cell_type": "markdown",
   "id": "b2167236",
   "metadata": {},
   "source": [
    "We first define a constructor. To keep things simple, this processor will only take the name of the variable to transform.\n",
    "\n",
    "We then define a preprocess step. This step always takes a pandas dataframe as input and output a pandas dataframe"
   ]
  },
  {
   "cell_type": "code",
   "execution_count": null,
   "id": "17f70aae",
   "metadata": {},
   "outputs": [],
   "source": [
    "class GroupRelationshipProcessor:\n",
    "    def __init__(\n",
    "        self, variable_to_transform: str\n",
    "    ):\n",
    "        self.variable_to_transform = variable_to_transform\n",
    "        # Define modalities for new family and nofamily categories\n",
    "        # Initialize frequencies to None\n",
    "        self.family_frequencies = {'Husband': None, 'Own-child': None, 'Wife': None}\n",
    "        self.nofamily_frequencies = {'Not-in-family': None, 'Unmarried': None, 'Other-relative': None}\n",
    "        \n",
    "    def preprocess(self, df: pd.DataFrame) -> pd.DataFrame:\n",
    "        working = df.copy()\n",
    "        \n",
    "        # Store frequencies for family modalities\n",
    "        family_data = working[working[self.variable_to_transform].isin(self.family_frequencies.keys())]\n",
    "        self.family_frequencies = (family_data[self.variable_to_transform].value_counts()/len(family_data)).to_dict()\n",
    "\n",
    "        # Store frequencies for nofamily modalities\n",
    "        nofamily_data = working[working[self.variable_to_transform].isin(self.nofamily_frequencies.keys())]\n",
    "        self.nofamily_frequencies = (nofamily_data[self.variable_to_transform].value_counts()/len(nofamily_data)).to_dict()\n",
    "        \n",
    "        # Replace original modality by new ones\n",
    "        working[self.variable_to_transform] = ['family' if x in self.family_frequencies else 'no_family' for x in working[self.variable_to_transform]]\n",
    "        return working\n",
    "    \n",
    "    def postprocess(self, source: pd.DataFrame, dest: pd.DataFrame) -> pd.DataFrame:\n",
    "        working = dest.copy()\n",
    "        \n",
    "        # Sample an old modality for each value\n",
    "        working[self.variable_to_transform] = [np.random.choice(a=list(self.family_frequencies.keys()), p=list(self.family_frequencies.values())) if x == 'family' else np.random.choice(list(self.nofamily_frequencies.keys())) for x in working[self.variable_to_transform]]\n",
    "        return working\n",
    "        "
   ]
  },
  {
   "cell_type": "code",
   "execution_count": null,
   "id": "fe433c90",
   "metadata": {},
   "outputs": [],
   "source": [
    "group_relationship_processor = GroupRelationshipProcessor(variable_to_transform = 'relationship')"
   ]
  },
  {
   "cell_type": "code",
   "execution_count": null,
   "id": "3ef658c1",
   "metadata": {},
   "outputs": [],
   "source": [
    "preprocessed_df = group_relationship_processor.preprocess(df)"
   ]
  },
  {
   "cell_type": "code",
   "execution_count": null,
   "id": "902273d3",
   "metadata": {},
   "outputs": [],
   "source": [
    "preprocessed_df['relationship'].value_counts()"
   ]
  },
  {
   "cell_type": "code",
   "execution_count": null,
   "id": "dd3ac791",
   "metadata": {},
   "outputs": [],
   "source": [
    "postprocessed_df = group_relationship_processor.postprocess(df, preprocessed_df)"
   ]
  },
  {
   "cell_type": "code",
   "execution_count": null,
   "id": "7e994451",
   "metadata": {},
   "outputs": [],
   "source": [
    "postprocessed_df.head()"
   ]
  },
  {
   "cell_type": "markdown",
   "id": "f3437c2c",
   "metadata": {},
   "source": [
    "We now check that the postprocessed data contains approximatively each modality in the same proportion as in the original data"
   ]
  },
  {
   "cell_type": "code",
   "execution_count": null,
   "id": "20b75ca3",
   "metadata": {},
   "outputs": [],
   "source": [
    "postprocessed_df['relationship'].value_counts()"
   ]
  },
  {
   "cell_type": "code",
   "execution_count": null,
   "id": "3074571b",
   "metadata": {},
   "outputs": [],
   "source": [
    "df['relationship'].value_counts()"
   ]
  },
  {
   "cell_type": "markdown",
   "id": "4c77b0c8",
   "metadata": {},
   "source": [
    "## Use custom processor  in the avatarization pipeline"
   ]
  },
  {
   "cell_type": "code",
   "execution_count": null,
   "id": "6624235e",
   "metadata": {},
   "outputs": [],
   "source": [
    "%%time\n",
    "dataset = client.pandas_integration.upload_dataframe(df)\n",
    "\n",
    "result = client.pipelines.avatarization_pipeline_with_processors(\n",
    "    AvatarizationPipelineCreate(\n",
    "        avatarization_job_create=AvatarizationJobCreate(\n",
    "            parameters=AvatarizationParameters(\n",
    "                dataset_id=dataset.id,\n",
    "                k=5\n",
    "            ),\n",
    "        ),\n",
    "        processors=[group_relationship_processor],\n",
    "        df=df,\n",
    "    ), per_request_timeout=1000, \n",
    "    timeout = 1000\n",
    ")"
   ]
  },
  {
   "cell_type": "code",
   "execution_count": null,
   "id": "7dcf9ea2",
   "metadata": {},
   "outputs": [],
   "source": [
    "avatars = result.post_processed_avatars\n",
    "avatars.head(5)"
   ]
  },
  {
   "cell_type": "code",
   "execution_count": null,
   "id": "630b1366",
   "metadata": {},
   "outputs": [],
   "source": [
    "privacy_metrics = result.privacy_metrics\n",
    "print(\"*** Privacy metrics ***\")\n",
    "for metric in privacy_metrics:\n",
    "    print(metric)\n",
    "    \n",
    "utility_metrics = result.signal_metrics\n",
    "print(\"\\n*** Utility metrics ***\")\n",
    "for metric in utility_metrics:\n",
    "    print(metric)"
   ]
  },
  {
   "cell_type": "code",
   "execution_count": null,
   "id": "96330174",
   "metadata": {},
   "outputs": [],
   "source": []
  }
 ],
 "metadata": {
  "kernelspec": {
   "display_name": "Python 3 (ipykernel)",
   "language": "python",
   "name": "python3"
  },
  "language_info": {
   "codemirror_mode": {
    "name": "ipython",
    "version": 3
   },
   "file_extension": ".py",
   "mimetype": "text/x-python",
   "name": "python",
   "nbconvert_exporter": "python",
   "pygments_lexer": "ipython3",
   "version": "3.9.10"
  }
 },
 "nbformat": 4,
 "nbformat_minor": 5
}
