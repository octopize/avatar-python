{
 "cells": [
  {
   "attachments": {},
   "cell_type": "markdown",
   "metadata": {},
   "source": [
    "# Tutorial 7: Batch avatarization"
   ]
  },
  {
   "attachments": {},
   "cell_type": "markdown",
   "metadata": {},
   "source": [
    "In this tutorial, we will perform the avatarization on batch of data. This can be useful if you have to much data that can be avatarized in one shot.\n",
    "\n",
    "# TODO: add a schema of the process\n"
   ]
  },
  {
   "attachments": {},
   "cell_type": "markdown",
   "metadata": {},
   "source": [
    "## Connection"
   ]
  },
  {
   "cell_type": "code",
   "execution_count": 20,
   "metadata": {},
   "outputs": [],
   "source": [
    "import warnings\n",
    "\n",
    "warnings.filterwarnings(\"ignore\")"
   ]
  },
  {
   "cell_type": "code",
   "execution_count": 21,
   "metadata": {},
   "outputs": [],
   "source": [
    "import os\n",
    "\n",
    "url = os.environ.get(\"AVATAR_BASE_URL\")\n",
    "username = os.environ.get(\"AVATAR_USERNAME\")\n",
    "password = os.environ.get(\"AVATAR_PASSWORD\")"
   ]
  },
  {
   "cell_type": "code",
   "execution_count": 22,
   "metadata": {},
   "outputs": [
    {
     "ename": "ConnectError",
     "evalue": "[Errno 61] Connection refused",
     "output_type": "error",
     "traceback": [
      "\u001b[0;31m---------------------------------------------------------------------------\u001b[0m",
      "\u001b[0;31mConnectionRefusedError\u001b[0m                    Traceback (most recent call last)",
      "File \u001b[0;32m~/projets/avatar-python/.venv/lib/python3.9/site-packages/httpcore/_exceptions.py:10\u001b[0m, in \u001b[0;36mmap_exceptions\u001b[0;34m(map)\u001b[0m\n\u001b[1;32m      9\u001b[0m \u001b[39mtry\u001b[39;00m:\n\u001b[0;32m---> 10\u001b[0m     \u001b[39myield\u001b[39;00m\n\u001b[1;32m     11\u001b[0m \u001b[39mexcept\u001b[39;00m \u001b[39mException\u001b[39;00m \u001b[39mas\u001b[39;00m exc:  \u001b[39m# noqa: PIE786\u001b[39;00m\n",
      "File \u001b[0;32m~/projets/avatar-python/.venv/lib/python3.9/site-packages/httpcore/backends/sync.py:94\u001b[0m, in \u001b[0;36mSyncBackend.connect_tcp\u001b[0;34m(self, host, port, timeout, local_address)\u001b[0m\n\u001b[1;32m     93\u001b[0m \u001b[39mwith\u001b[39;00m map_exceptions(exc_map):\n\u001b[0;32m---> 94\u001b[0m     sock \u001b[39m=\u001b[39m socket\u001b[39m.\u001b[39;49mcreate_connection(\n\u001b[1;32m     95\u001b[0m         address, timeout, source_address\u001b[39m=\u001b[39;49msource_address\n\u001b[1;32m     96\u001b[0m     )\n\u001b[1;32m     97\u001b[0m \u001b[39mreturn\u001b[39;00m SyncStream(sock)\n",
      "File \u001b[0;32m/opt/homebrew/Cellar/python@3.9/3.9.16/Frameworks/Python.framework/Versions/3.9/lib/python3.9/socket.py:844\u001b[0m, in \u001b[0;36mcreate_connection\u001b[0;34m(address, timeout, source_address)\u001b[0m\n\u001b[1;32m    843\u001b[0m \u001b[39mtry\u001b[39;00m:\n\u001b[0;32m--> 844\u001b[0m     \u001b[39mraise\u001b[39;00m err\n\u001b[1;32m    845\u001b[0m \u001b[39mfinally\u001b[39;00m:\n\u001b[1;32m    846\u001b[0m     \u001b[39m# Break explicitly a reference cycle\u001b[39;00m\n",
      "File \u001b[0;32m/opt/homebrew/Cellar/python@3.9/3.9.16/Frameworks/Python.framework/Versions/3.9/lib/python3.9/socket.py:832\u001b[0m, in \u001b[0;36mcreate_connection\u001b[0;34m(address, timeout, source_address)\u001b[0m\n\u001b[1;32m    831\u001b[0m     sock\u001b[39m.\u001b[39mbind(source_address)\n\u001b[0;32m--> 832\u001b[0m sock\u001b[39m.\u001b[39;49mconnect(sa)\n\u001b[1;32m    833\u001b[0m \u001b[39m# Break explicitly a reference cycle\u001b[39;00m\n",
      "\u001b[0;31mConnectionRefusedError\u001b[0m: [Errno 61] Connection refused",
      "\nDuring handling of the above exception, another exception occurred:\n",
      "\u001b[0;31mConnectError\u001b[0m                              Traceback (most recent call last)",
      "File \u001b[0;32m~/projets/avatar-python/.venv/lib/python3.9/site-packages/httpx/_transports/default.py:60\u001b[0m, in \u001b[0;36mmap_httpcore_exceptions\u001b[0;34m()\u001b[0m\n\u001b[1;32m     59\u001b[0m \u001b[39mtry\u001b[39;00m:\n\u001b[0;32m---> 60\u001b[0m     \u001b[39myield\u001b[39;00m\n\u001b[1;32m     61\u001b[0m \u001b[39mexcept\u001b[39;00m \u001b[39mException\u001b[39;00m \u001b[39mas\u001b[39;00m exc:  \u001b[39m# noqa: PIE-786\u001b[39;00m\n",
      "File \u001b[0;32m~/projets/avatar-python/.venv/lib/python3.9/site-packages/httpx/_transports/default.py:218\u001b[0m, in \u001b[0;36mHTTPTransport.handle_request\u001b[0;34m(self, request)\u001b[0m\n\u001b[1;32m    217\u001b[0m \u001b[39mwith\u001b[39;00m map_httpcore_exceptions():\n\u001b[0;32m--> 218\u001b[0m     resp \u001b[39m=\u001b[39m \u001b[39mself\u001b[39;49m\u001b[39m.\u001b[39;49m_pool\u001b[39m.\u001b[39;49mhandle_request(req)\n\u001b[1;32m    220\u001b[0m \u001b[39massert\u001b[39;00m \u001b[39misinstance\u001b[39m(resp\u001b[39m.\u001b[39mstream, typing\u001b[39m.\u001b[39mIterable)\n",
      "File \u001b[0;32m~/projets/avatar-python/.venv/lib/python3.9/site-packages/httpcore/_sync/connection_pool.py:253\u001b[0m, in \u001b[0;36mConnectionPool.handle_request\u001b[0;34m(self, request)\u001b[0m\n\u001b[1;32m    252\u001b[0m     \u001b[39mself\u001b[39m\u001b[39m.\u001b[39mresponse_closed(status)\n\u001b[0;32m--> 253\u001b[0m     \u001b[39mraise\u001b[39;00m exc\n\u001b[1;32m    254\u001b[0m \u001b[39melse\u001b[39;00m:\n",
      "File \u001b[0;32m~/projets/avatar-python/.venv/lib/python3.9/site-packages/httpcore/_sync/connection_pool.py:237\u001b[0m, in \u001b[0;36mConnectionPool.handle_request\u001b[0;34m(self, request)\u001b[0m\n\u001b[1;32m    236\u001b[0m \u001b[39mtry\u001b[39;00m:\n\u001b[0;32m--> 237\u001b[0m     response \u001b[39m=\u001b[39m connection\u001b[39m.\u001b[39;49mhandle_request(request)\n\u001b[1;32m    238\u001b[0m \u001b[39mexcept\u001b[39;00m ConnectionNotAvailable:\n\u001b[1;32m    239\u001b[0m     \u001b[39m# The ConnectionNotAvailable exception is a special case, that\u001b[39;00m\n\u001b[1;32m    240\u001b[0m     \u001b[39m# indicates we need to retry the request on a new connection.\u001b[39;00m\n\u001b[0;32m   (...)\u001b[0m\n\u001b[1;32m    244\u001b[0m     \u001b[39m# might end up as an HTTP/2 connection, but which actually ends\u001b[39;00m\n\u001b[1;32m    245\u001b[0m     \u001b[39m# up as HTTP/1.1.\u001b[39;00m\n",
      "File \u001b[0;32m~/projets/avatar-python/.venv/lib/python3.9/site-packages/httpcore/_sync/connection.py:86\u001b[0m, in \u001b[0;36mHTTPConnection.handle_request\u001b[0;34m(self, request)\u001b[0m\n\u001b[1;32m     85\u001b[0m         \u001b[39mself\u001b[39m\u001b[39m.\u001b[39m_connect_failed \u001b[39m=\u001b[39m \u001b[39mTrue\u001b[39;00m\n\u001b[0;32m---> 86\u001b[0m         \u001b[39mraise\u001b[39;00m exc\n\u001b[1;32m     87\u001b[0m \u001b[39melif\u001b[39;00m \u001b[39mnot\u001b[39;00m \u001b[39mself\u001b[39m\u001b[39m.\u001b[39m_connection\u001b[39m.\u001b[39mis_available():\n",
      "File \u001b[0;32m~/projets/avatar-python/.venv/lib/python3.9/site-packages/httpcore/_sync/connection.py:63\u001b[0m, in \u001b[0;36mHTTPConnection.handle_request\u001b[0;34m(self, request)\u001b[0m\n\u001b[1;32m     62\u001b[0m \u001b[39mtry\u001b[39;00m:\n\u001b[0;32m---> 63\u001b[0m     stream \u001b[39m=\u001b[39m \u001b[39mself\u001b[39;49m\u001b[39m.\u001b[39;49m_connect(request)\n\u001b[1;32m     65\u001b[0m     ssl_object \u001b[39m=\u001b[39m stream\u001b[39m.\u001b[39mget_extra_info(\u001b[39m\"\u001b[39m\u001b[39mssl_object\u001b[39m\u001b[39m\"\u001b[39m)\n",
      "File \u001b[0;32m~/projets/avatar-python/.venv/lib/python3.9/site-packages/httpcore/_sync/connection.py:111\u001b[0m, in \u001b[0;36mHTTPConnection._connect\u001b[0;34m(self, request)\u001b[0m\n\u001b[1;32m    108\u001b[0m \u001b[39mwith\u001b[39;00m Trace(\n\u001b[1;32m    109\u001b[0m     \u001b[39m\"\u001b[39m\u001b[39mconnection.connect_tcp\u001b[39m\u001b[39m\"\u001b[39m, request, kwargs\n\u001b[1;32m    110\u001b[0m ) \u001b[39mas\u001b[39;00m trace:\n\u001b[0;32m--> 111\u001b[0m     stream \u001b[39m=\u001b[39m \u001b[39mself\u001b[39;49m\u001b[39m.\u001b[39;49m_network_backend\u001b[39m.\u001b[39;49mconnect_tcp(\u001b[39m*\u001b[39;49m\u001b[39m*\u001b[39;49mkwargs)\n\u001b[1;32m    112\u001b[0m     trace\u001b[39m.\u001b[39mreturn_value \u001b[39m=\u001b[39m stream\n",
      "File \u001b[0;32m~/projets/avatar-python/.venv/lib/python3.9/site-packages/httpcore/backends/sync.py:94\u001b[0m, in \u001b[0;36mSyncBackend.connect_tcp\u001b[0;34m(self, host, port, timeout, local_address)\u001b[0m\n\u001b[1;32m     93\u001b[0m \u001b[39mwith\u001b[39;00m map_exceptions(exc_map):\n\u001b[0;32m---> 94\u001b[0m     sock \u001b[39m=\u001b[39m socket\u001b[39m.\u001b[39mcreate_connection(\n\u001b[1;32m     95\u001b[0m         address, timeout, source_address\u001b[39m=\u001b[39msource_address\n\u001b[1;32m     96\u001b[0m     )\n\u001b[1;32m     97\u001b[0m \u001b[39mreturn\u001b[39;00m SyncStream(sock)\n",
      "File \u001b[0;32m/opt/homebrew/Cellar/python@3.9/3.9.16/Frameworks/Python.framework/Versions/3.9/lib/python3.9/contextlib.py:137\u001b[0m, in \u001b[0;36m_GeneratorContextManager.__exit__\u001b[0;34m(self, typ, value, traceback)\u001b[0m\n\u001b[1;32m    136\u001b[0m \u001b[39mtry\u001b[39;00m:\n\u001b[0;32m--> 137\u001b[0m     \u001b[39mself\u001b[39;49m\u001b[39m.\u001b[39;49mgen\u001b[39m.\u001b[39;49mthrow(typ, value, traceback)\n\u001b[1;32m    138\u001b[0m \u001b[39mexcept\u001b[39;00m \u001b[39mStopIteration\u001b[39;00m \u001b[39mas\u001b[39;00m exc:\n\u001b[1;32m    139\u001b[0m     \u001b[39m# Suppress StopIteration *unless* it's the same exception that\u001b[39;00m\n\u001b[1;32m    140\u001b[0m     \u001b[39m# was passed to throw().  This prevents a StopIteration\u001b[39;00m\n\u001b[1;32m    141\u001b[0m     \u001b[39m# raised inside the \"with\" statement from being suppressed.\u001b[39;00m\n",
      "File \u001b[0;32m~/projets/avatar-python/.venv/lib/python3.9/site-packages/httpcore/_exceptions.py:14\u001b[0m, in \u001b[0;36mmap_exceptions\u001b[0;34m(map)\u001b[0m\n\u001b[1;32m     13\u001b[0m     \u001b[39mif\u001b[39;00m \u001b[39misinstance\u001b[39m(exc, from_exc):\n\u001b[0;32m---> 14\u001b[0m         \u001b[39mraise\u001b[39;00m to_exc(exc)\n\u001b[1;32m     15\u001b[0m \u001b[39mraise\u001b[39;00m\n",
      "\u001b[0;31mConnectError\u001b[0m: [Errno 61] Connection refused",
      "\nThe above exception was the direct cause of the following exception:\n",
      "\u001b[0;31mConnectError\u001b[0m                              Traceback (most recent call last)",
      "Cell \u001b[0;32mIn[22], line 16\u001b[0m\n\u001b[1;32m     14\u001b[0m \u001b[39m# Change this to your actual server endpoint, e.g. base_url=\"https://avatar.company.com\"\u001b[39;00m\n\u001b[1;32m     15\u001b[0m client \u001b[39m=\u001b[39m ApiClient(base_url\u001b[39m=\u001b[39murl)\n\u001b[0;32m---> 16\u001b[0m client\u001b[39m.\u001b[39;49mauthenticate(username\u001b[39m=\u001b[39;49musername, password\u001b[39m=\u001b[39;49mpassword)\n\u001b[1;32m     18\u001b[0m \u001b[39m# Verify that we can connect to the API server\u001b[39;00m\n\u001b[1;32m     19\u001b[0m client\u001b[39m.\u001b[39mhealth\u001b[39m.\u001b[39mget_health()\n",
      "File \u001b[0;32m~/projets/avatar-python/avatars/client.py:88\u001b[0m, in \u001b[0;36mApiClient.authenticate\u001b[0;34m(self, username, password, timeout)\u001b[0m\n\u001b[1;32m     85\u001b[0m \u001b[39mdef\u001b[39;00m \u001b[39mauthenticate\u001b[39m(\n\u001b[1;32m     86\u001b[0m     \u001b[39mself\u001b[39m, username: \u001b[39mstr\u001b[39m, password: \u001b[39mstr\u001b[39m, timeout: Optional[\u001b[39mint\u001b[39m] \u001b[39m=\u001b[39m \u001b[39mNone\u001b[39;00m\n\u001b[1;32m     87\u001b[0m ) \u001b[39m-\u001b[39m\u001b[39m>\u001b[39m \u001b[39mNone\u001b[39;00m:\n\u001b[0;32m---> 88\u001b[0m     result \u001b[39m=\u001b[39m \u001b[39mself\u001b[39;49m\u001b[39m.\u001b[39;49mauth\u001b[39m.\u001b[39;49mlogin(\n\u001b[1;32m     89\u001b[0m         Login(username\u001b[39m=\u001b[39;49musername, password\u001b[39m=\u001b[39;49mpassword),\n\u001b[1;32m     90\u001b[0m         timeout\u001b[39m=\u001b[39;49mtimeout \u001b[39mor\u001b[39;49;00m \u001b[39mself\u001b[39;49m\u001b[39m.\u001b[39;49mtimeout,\n\u001b[1;32m     91\u001b[0m     )\n\u001b[1;32m     92\u001b[0m     \u001b[39mself\u001b[39m\u001b[39m.\u001b[39m_headers[\u001b[39m\"\u001b[39m\u001b[39mAuthorization\u001b[39m\u001b[39m\"\u001b[39m] \u001b[39m=\u001b[39m \u001b[39mf\u001b[39m\u001b[39m\"\u001b[39m\u001b[39mBearer \u001b[39m\u001b[39m{\u001b[39;00mresult\u001b[39m.\u001b[39maccess_token\u001b[39m}\u001b[39;00m\u001b[39m\"\u001b[39m\n",
      "File \u001b[0;32m~/projets/avatar-python/avatars/api.py:155\u001b[0m, in \u001b[0;36mAuth.login\u001b[0;34m(self, request, timeout)\u001b[0m\n\u001b[1;32m    145\u001b[0m \u001b[39m\"\"\"Login the user.\"\"\"\u001b[39;00m\n\u001b[1;32m    147\u001b[0m kwargs \u001b[39m=\u001b[39m {\n\u001b[1;32m    148\u001b[0m     \u001b[39m\"\u001b[39m\u001b[39mmethod\u001b[39m\u001b[39m\"\u001b[39m: \u001b[39m\"\u001b[39m\u001b[39mpost\u001b[39m\u001b[39m\"\u001b[39m,\n\u001b[1;32m    149\u001b[0m     \u001b[39m\"\u001b[39m\u001b[39murl\u001b[39m\u001b[39m\"\u001b[39m: \u001b[39mf\u001b[39m\u001b[39m\"\u001b[39m\u001b[39m/login\u001b[39m\u001b[39m\"\u001b[39m,\n\u001b[0;32m   (...)\u001b[0m\n\u001b[1;32m    152\u001b[0m     \u001b[39m\"\u001b[39m\u001b[39mverify_auth\u001b[39m\u001b[39m\"\u001b[39m: \u001b[39mFalse\u001b[39;00m,\n\u001b[1;32m    153\u001b[0m }\n\u001b[0;32m--> 155\u001b[0m \u001b[39mreturn\u001b[39;00m LoginResponse(\u001b[39m*\u001b[39m\u001b[39m*\u001b[39m\u001b[39mself\u001b[39;49m\u001b[39m.\u001b[39;49mclient\u001b[39m.\u001b[39;49mrequest(\u001b[39m*\u001b[39;49m\u001b[39m*\u001b[39;49mkwargs))\n",
      "File \u001b[0;32m~/projets/avatar-python/avatars/client.py:167\u001b[0m, in \u001b[0;36mApiClient.request\u001b[0;34m(self, method, url, params, json, form_data, file, timeout, **kwargs)\u001b[0m\n\u001b[1;32m    157\u001b[0m request \u001b[39m=\u001b[39m client\u001b[39m.\u001b[39mbuild_request(\n\u001b[1;32m    158\u001b[0m     method\u001b[39m=\u001b[39mmethod,\n\u001b[1;32m    159\u001b[0m     url\u001b[39m=\u001b[39murl,\n\u001b[0;32m   (...)\u001b[0m\n\u001b[1;32m    164\u001b[0m     headers\u001b[39m=\u001b[39m\u001b[39mself\u001b[39m\u001b[39m.\u001b[39m_headers,\n\u001b[1;32m    165\u001b[0m )\n\u001b[1;32m    166\u001b[0m \u001b[39mtry\u001b[39;00m:\n\u001b[0;32m--> 167\u001b[0m     result \u001b[39m=\u001b[39m client\u001b[39m.\u001b[39;49msend(\n\u001b[1;32m    168\u001b[0m         request\u001b[39m=\u001b[39;49mrequest,\n\u001b[1;32m    169\u001b[0m         stream\u001b[39m=\u001b[39;49mshould_stream,\n\u001b[1;32m    170\u001b[0m     )\n\u001b[1;32m    172\u001b[0m     \u001b[39mif\u001b[39;00m should_stream:\n\u001b[1;32m    173\u001b[0m         \u001b[39mreturn\u001b[39;00m \u001b[39mself\u001b[39m\u001b[39m.\u001b[39m_handle_streaming_response(result)\n",
      "File \u001b[0;32m~/projets/avatar-python/.venv/lib/python3.9/site-packages/httpx/_client.py:908\u001b[0m, in \u001b[0;36mClient.send\u001b[0;34m(self, request, stream, auth, follow_redirects)\u001b[0m\n\u001b[1;32m    900\u001b[0m follow_redirects \u001b[39m=\u001b[39m (\n\u001b[1;32m    901\u001b[0m     \u001b[39mself\u001b[39m\u001b[39m.\u001b[39mfollow_redirects\n\u001b[1;32m    902\u001b[0m     \u001b[39mif\u001b[39;00m \u001b[39misinstance\u001b[39m(follow_redirects, UseClientDefault)\n\u001b[1;32m    903\u001b[0m     \u001b[39melse\u001b[39;00m follow_redirects\n\u001b[1;32m    904\u001b[0m )\n\u001b[1;32m    906\u001b[0m auth \u001b[39m=\u001b[39m \u001b[39mself\u001b[39m\u001b[39m.\u001b[39m_build_request_auth(request, auth)\n\u001b[0;32m--> 908\u001b[0m response \u001b[39m=\u001b[39m \u001b[39mself\u001b[39;49m\u001b[39m.\u001b[39;49m_send_handling_auth(\n\u001b[1;32m    909\u001b[0m     request,\n\u001b[1;32m    910\u001b[0m     auth\u001b[39m=\u001b[39;49mauth,\n\u001b[1;32m    911\u001b[0m     follow_redirects\u001b[39m=\u001b[39;49mfollow_redirects,\n\u001b[1;32m    912\u001b[0m     history\u001b[39m=\u001b[39;49m[],\n\u001b[1;32m    913\u001b[0m )\n\u001b[1;32m    914\u001b[0m \u001b[39mtry\u001b[39;00m:\n\u001b[1;32m    915\u001b[0m     \u001b[39mif\u001b[39;00m \u001b[39mnot\u001b[39;00m stream:\n",
      "File \u001b[0;32m~/projets/avatar-python/.venv/lib/python3.9/site-packages/httpx/_client.py:936\u001b[0m, in \u001b[0;36mClient._send_handling_auth\u001b[0;34m(self, request, auth, follow_redirects, history)\u001b[0m\n\u001b[1;32m    933\u001b[0m request \u001b[39m=\u001b[39m \u001b[39mnext\u001b[39m(auth_flow)\n\u001b[1;32m    935\u001b[0m \u001b[39mwhile\u001b[39;00m \u001b[39mTrue\u001b[39;00m:\n\u001b[0;32m--> 936\u001b[0m     response \u001b[39m=\u001b[39m \u001b[39mself\u001b[39;49m\u001b[39m.\u001b[39;49m_send_handling_redirects(\n\u001b[1;32m    937\u001b[0m         request,\n\u001b[1;32m    938\u001b[0m         follow_redirects\u001b[39m=\u001b[39;49mfollow_redirects,\n\u001b[1;32m    939\u001b[0m         history\u001b[39m=\u001b[39;49mhistory,\n\u001b[1;32m    940\u001b[0m     )\n\u001b[1;32m    941\u001b[0m     \u001b[39mtry\u001b[39;00m:\n\u001b[1;32m    942\u001b[0m         \u001b[39mtry\u001b[39;00m:\n",
      "File \u001b[0;32m~/projets/avatar-python/.venv/lib/python3.9/site-packages/httpx/_client.py:973\u001b[0m, in \u001b[0;36mClient._send_handling_redirects\u001b[0;34m(self, request, follow_redirects, history)\u001b[0m\n\u001b[1;32m    970\u001b[0m \u001b[39mfor\u001b[39;00m hook \u001b[39min\u001b[39;00m \u001b[39mself\u001b[39m\u001b[39m.\u001b[39m_event_hooks[\u001b[39m\"\u001b[39m\u001b[39mrequest\u001b[39m\u001b[39m\"\u001b[39m]:\n\u001b[1;32m    971\u001b[0m     hook(request)\n\u001b[0;32m--> 973\u001b[0m response \u001b[39m=\u001b[39m \u001b[39mself\u001b[39;49m\u001b[39m.\u001b[39;49m_send_single_request(request)\n\u001b[1;32m    974\u001b[0m \u001b[39mtry\u001b[39;00m:\n\u001b[1;32m    975\u001b[0m     \u001b[39mfor\u001b[39;00m hook \u001b[39min\u001b[39;00m \u001b[39mself\u001b[39m\u001b[39m.\u001b[39m_event_hooks[\u001b[39m\"\u001b[39m\u001b[39mresponse\u001b[39m\u001b[39m\"\u001b[39m]:\n",
      "File \u001b[0;32m~/projets/avatar-python/.venv/lib/python3.9/site-packages/httpx/_client.py:1009\u001b[0m, in \u001b[0;36mClient._send_single_request\u001b[0;34m(self, request)\u001b[0m\n\u001b[1;32m   1004\u001b[0m     \u001b[39mraise\u001b[39;00m \u001b[39mRuntimeError\u001b[39;00m(\n\u001b[1;32m   1005\u001b[0m         \u001b[39m\"\u001b[39m\u001b[39mAttempted to send an async request with a sync Client instance.\u001b[39m\u001b[39m\"\u001b[39m\n\u001b[1;32m   1006\u001b[0m     )\n\u001b[1;32m   1008\u001b[0m \u001b[39mwith\u001b[39;00m request_context(request\u001b[39m=\u001b[39mrequest):\n\u001b[0;32m-> 1009\u001b[0m     response \u001b[39m=\u001b[39m transport\u001b[39m.\u001b[39;49mhandle_request(request)\n\u001b[1;32m   1011\u001b[0m \u001b[39massert\u001b[39;00m \u001b[39misinstance\u001b[39m(response\u001b[39m.\u001b[39mstream, SyncByteStream)\n\u001b[1;32m   1013\u001b[0m response\u001b[39m.\u001b[39mrequest \u001b[39m=\u001b[39m request\n",
      "File \u001b[0;32m~/projets/avatar-python/.venv/lib/python3.9/site-packages/httpx/_transports/default.py:218\u001b[0m, in \u001b[0;36mHTTPTransport.handle_request\u001b[0;34m(self, request)\u001b[0m\n\u001b[1;32m    205\u001b[0m req \u001b[39m=\u001b[39m httpcore\u001b[39m.\u001b[39mRequest(\n\u001b[1;32m    206\u001b[0m     method\u001b[39m=\u001b[39mrequest\u001b[39m.\u001b[39mmethod,\n\u001b[1;32m    207\u001b[0m     url\u001b[39m=\u001b[39mhttpcore\u001b[39m.\u001b[39mURL(\n\u001b[0;32m   (...)\u001b[0m\n\u001b[1;32m    215\u001b[0m     extensions\u001b[39m=\u001b[39mrequest\u001b[39m.\u001b[39mextensions,\n\u001b[1;32m    216\u001b[0m )\n\u001b[1;32m    217\u001b[0m \u001b[39mwith\u001b[39;00m map_httpcore_exceptions():\n\u001b[0;32m--> 218\u001b[0m     resp \u001b[39m=\u001b[39m \u001b[39mself\u001b[39m\u001b[39m.\u001b[39m_pool\u001b[39m.\u001b[39mhandle_request(req)\n\u001b[1;32m    220\u001b[0m \u001b[39massert\u001b[39;00m \u001b[39misinstance\u001b[39m(resp\u001b[39m.\u001b[39mstream, typing\u001b[39m.\u001b[39mIterable)\n\u001b[1;32m    222\u001b[0m \u001b[39mreturn\u001b[39;00m Response(\n\u001b[1;32m    223\u001b[0m     status_code\u001b[39m=\u001b[39mresp\u001b[39m.\u001b[39mstatus,\n\u001b[1;32m    224\u001b[0m     headers\u001b[39m=\u001b[39mresp\u001b[39m.\u001b[39mheaders,\n\u001b[1;32m    225\u001b[0m     stream\u001b[39m=\u001b[39mResponseStream(resp\u001b[39m.\u001b[39mstream),\n\u001b[1;32m    226\u001b[0m     extensions\u001b[39m=\u001b[39mresp\u001b[39m.\u001b[39mextensions,\n\u001b[1;32m    227\u001b[0m )\n",
      "File \u001b[0;32m/opt/homebrew/Cellar/python@3.9/3.9.16/Frameworks/Python.framework/Versions/3.9/lib/python3.9/contextlib.py:137\u001b[0m, in \u001b[0;36m_GeneratorContextManager.__exit__\u001b[0;34m(self, typ, value, traceback)\u001b[0m\n\u001b[1;32m    135\u001b[0m     value \u001b[39m=\u001b[39m typ()\n\u001b[1;32m    136\u001b[0m \u001b[39mtry\u001b[39;00m:\n\u001b[0;32m--> 137\u001b[0m     \u001b[39mself\u001b[39;49m\u001b[39m.\u001b[39;49mgen\u001b[39m.\u001b[39;49mthrow(typ, value, traceback)\n\u001b[1;32m    138\u001b[0m \u001b[39mexcept\u001b[39;00m \u001b[39mStopIteration\u001b[39;00m \u001b[39mas\u001b[39;00m exc:\n\u001b[1;32m    139\u001b[0m     \u001b[39m# Suppress StopIteration *unless* it's the same exception that\u001b[39;00m\n\u001b[1;32m    140\u001b[0m     \u001b[39m# was passed to throw().  This prevents a StopIteration\u001b[39;00m\n\u001b[1;32m    141\u001b[0m     \u001b[39m# raised inside the \"with\" statement from being suppressed.\u001b[39;00m\n\u001b[1;32m    142\u001b[0m     \u001b[39mreturn\u001b[39;00m exc \u001b[39mis\u001b[39;00m \u001b[39mnot\u001b[39;00m value\n",
      "File \u001b[0;32m~/projets/avatar-python/.venv/lib/python3.9/site-packages/httpx/_transports/default.py:77\u001b[0m, in \u001b[0;36mmap_httpcore_exceptions\u001b[0;34m()\u001b[0m\n\u001b[1;32m     74\u001b[0m     \u001b[39mraise\u001b[39;00m\n\u001b[1;32m     76\u001b[0m message \u001b[39m=\u001b[39m \u001b[39mstr\u001b[39m(exc)\n\u001b[0;32m---> 77\u001b[0m \u001b[39mraise\u001b[39;00m mapped_exc(message) \u001b[39mfrom\u001b[39;00m \u001b[39mexc\u001b[39;00m\n",
      "\u001b[0;31mConnectError\u001b[0m: [Errno 61] Connection refused"
     ]
    }
   ],
   "source": [
    "# This is the client that you'll be using for all of your requests\n",
    "from avatars.client import ApiClient\n",
    "from avatars.models import (\n",
    "    AvatarizationJobCreate,\n",
    "    AvatarizationParameters,\n",
    "    ImputationParameters,\n",
    ")\n",
    "from avatars.lib.split import get_split_for_batch\n",
    "\n",
    "# The following are not necessary to run avatar but are used in this tutorial\n",
    "import pandas as pd\n",
    "from sklearn.model_selection import train_test_split\n",
    "\n",
    "# Change this to your actual server endpoint, e.g. base_url=\"https://avatar.company.com\"\n",
    "client = ApiClient(base_url=url)\n",
    "client.authenticate(username=username, password=password)\n",
    "\n",
    "# Verify that we can connect to the API server\n",
    "client.health.get_health()"
   ]
  },
  {
   "cell_type": "code",
   "execution_count": null,
   "metadata": {},
   "outputs": [],
   "source": [
    "\n",
    "\n",
    "df_1 = pd.read_csv(\"../fixtures/adult_with_cities.csv\")\n",
    "df = pd.concat([df_1 for i in range(4)])\n"
   ]
  },
  {
   "cell_type": "code",
   "execution_count": 23,
   "metadata": {},
   "outputs": [],
   "source": [
    "from typing import Any, Dict, List, Tuple\n",
    "import math\n",
    "\n",
    "import time\n",
    "\n",
    "\n",
    "import numpy as np\n",
    "\n",
    "from avatars.models import (\n",
    "    AvatarizationBatchJobCreate,\n",
    "    AvatarizationBatchParameters,\n",
    "    AvatarizationBatchResult,\n",
    "    AvatarizationJob,\n",
    "    PrivacyMetricsBatchJobCreate,\n",
    "    PrivacyMetricsBatchParameters,\n",
    "    PrivacyMetricsJob,\n",
    "    PrivacyMetricsJobCreate,\n",
    "    PrivacyMetricsParameters,\n",
    "    PrivacyMetricsPerBatchParameters,\n",
    "    PrivacyMetricsReferenceParameters,\n",
    "    SignalMetricsBatchJobCreate,\n",
    "    SignalMetricsBatchParameters,\n",
    "    SignalMetricsReferenceParameters,\n",
    ")\n",
    "\n",
    "from avatars.lib.split import get_split_for_batch\n",
    "\n",
    "def get_avatar_using_batch(\n",
    "    reference_df: pd.DataFrame, splits: List[pd.DataFrame], parameters: Dict[str, Any]\n",
    ") -> AvatarizationBatchResult:\n",
    "\n",
    "    start = time.time()\n",
    "\n",
    "    dataset_ref = client.pandas_integration.upload_dataframe(reference_df, timeout=10)\n",
    "    dataset_splited_ids = [ client.pandas_integration.upload_dataframe(split, timeout=10).id for split in splits]\n",
    "    batch_job = client.jobs.create_avatarization_batch_job(\n",
    "        AvatarizationBatchJobCreate(parameters=\n",
    "        AvatarizationBatchParameters(\n",
    "        reference_dataset_id=dataset_ref.id,\n",
    "        dataset_ids=dataset_splited_ids,\n",
    "        **parameters,\n",
    "        )\n",
    "        )\n",
    "    )\n",
    "    batch_job = client.jobs.get_avatarization_batch_job(batch_job.id, timeout=10000)\n",
    "    print(\"time\", time.time() - start)\n",
    "\n",
    "    return batch_job\n",
    "\n",
    "\n",
    "\n",
    "\n",
    "\n",
    "def get_privacy_metrics_with_batch(\n",
    "    batch_job: AvatarizationBatchResult, parameters: Dict[str, Any]\n",
    ") -> List[PrivacyMetricsJob]:\n",
    "    # Initialization\n",
    "    start = time.time()\n",
    "    privacy_job_ref = client.jobs.create_privacy_metrics_batch_job(\n",
    "        PrivacyMetricsBatchJobCreate(\n",
    "            parameters=PrivacyMetricsBatchParameters(\n",
    "                avatarization_batch_job_id=batch_job.id,\n",
    "                reference_parameters=PrivacyMetricsReferenceParameters(**parameters)\n",
    "            ),\n",
    "        )\n",
    "    )\n",
    "    print(privacy_job_ref.id)\n",
    "    privacy_job = client.jobs.get_privacy_metrics_batch_job(privacy_job_ref.id, timeout=100000)\n",
    "    print(time.time() - start)\n",
    "    \n",
    "    return privacy_job\n",
    "\n",
    "\n",
    "def get_signal_metrics_with_batch(\n",
    "    batch_job: AvatarizationBatchResult, parameters: Dict[str, Any]\n",
    ") -> List[PrivacyMetricsJob]:\n",
    "    # Initialization\n",
    "    start = time.time()\n",
    "    signal_job_ref = client.jobs.create_signal_metrics_batch_job(\n",
    "        SignalMetricsBatchJobCreate(\n",
    "            parameters=SignalMetricsBatchParameters(\n",
    "                avatarization_batch_job_id=batch_job.id,\n",
    "                reference_parameters=SignalMetricsReferenceParameters(**parameters)\n",
    "            ),\n",
    "        )\n",
    "    )\n",
    "    signal_job = client.jobs.get_signal_metrics_batch_job(signal_job_ref.id)\n",
    "    print(time.time() - start)\n",
    "    \n",
    "    return signal_job\n"
   ]
  },
  {
   "attachments": {},
   "cell_type": "markdown",
   "metadata": {},
   "source": []
  },
  {
   "cell_type": "code",
   "execution_count": 24,
   "metadata": {},
   "outputs": [
    {
     "data": {
      "text/plain": [
       "age                float64\n",
       "workclass           object\n",
       "fnlwgt             float64\n",
       "education           object\n",
       "educational-num    float64\n",
       "marital-status      object\n",
       "occupation          object\n",
       "relationship        object\n",
       "race                object\n",
       "gender              object\n",
       "capital-gain       float64\n",
       "capital-loss       float64\n",
       "hours-per-week     float64\n",
       "native-country      object\n",
       "income              object\n",
       "city                object\n",
       "dtype: object"
      ]
     },
     "execution_count": 24,
     "metadata": {},
     "output_type": "execute_result"
    }
   ],
   "source": [
    "df.dtypes"
   ]
  },
  {
   "cell_type": "code",
   "execution_count": 25,
   "metadata": {},
   "outputs": [
    {
     "name": "stdout",
     "output_type": "stream",
     "text": [
      "48842\n"
     ]
    }
   ],
   "source": [
    "RowLimit = 50000\n",
    "\n",
    "ref, splits = get_split_for_batch(\n",
    "    df,\n",
    "    row_limit=RowLimit,\n",
    ")\n",
    "\n",
    "\n",
    "print(len(splits[0]))\n",
    "\n",
    "# 44875 -> 35974"
   ]
  },
  {
   "cell_type": "code",
   "execution_count": 7,
   "metadata": {},
   "outputs": [
    {
     "name": "stdout",
     "output_type": "stream",
     "text": [
      "time 69.68974208831787\n"
     ]
    },
    {
     "data": {
      "text/plain": [
       "AvatarizationBatchJob(id=UUID('11578ef0-73da-464d-a605-e77b011d6a28'), status=<JobStatus.success: 'success'>, error_message=None, traceback=None, result=AvatarizationBatchResult(privacy_metrics=None, signal_metrics=None, reference_result=AvatarizationPerBatchResult(privacy_metrics=None, signal_metrics=None, avatars_dataset=Dataset(id=UUID('8a6619fe-9dcc-4f4f-83e6-2a7d055f8d3a'), hash='372f020864eac5f55962ca6b9d7a8175fd5e6d851e69d3cdbd961941a2f58060', name=None, columns=[ColumnDetail(type=<ColumnType.float: 'float'>, label='age'), ColumnDetail(type=<ColumnType.category: 'category'>, label='workclass'), ColumnDetail(type=<ColumnType.float: 'float'>, label='fnlwgt'), ColumnDetail(type=<ColumnType.category: 'category'>, label='education'), ColumnDetail(type=<ColumnType.float: 'float'>, label='educational-num'), ColumnDetail(type=<ColumnType.category: 'category'>, label='marital-status'), ColumnDetail(type=<ColumnType.category: 'category'>, label='occupation'), ColumnDetail(type=<ColumnType.category: 'category'>, label='relationship'), ColumnDetail(type=<ColumnType.category: 'category'>, label='race'), ColumnDetail(type=<ColumnType.category: 'category'>, label='gender'), ColumnDetail(type=<ColumnType.float: 'float'>, label='capital-gain'), ColumnDetail(type=<ColumnType.float: 'float'>, label='capital-loss'), ColumnDetail(type=<ColumnType.float: 'float'>, label='hours-per-week'), ColumnDetail(type=<ColumnType.category: 'category'>, label='native-country'), ColumnDetail(type=<ColumnType.category: 'category'>, label='income'), ColumnDetail(type=<ColumnType.category: 'category'>, label='city')], download_url='http://localhost:8000/datasets/8a6619fe-9dcc-4f4f-83e6-2a7d055f8d3a/download', analysis_status=None, analysis_duration=None, nb_lines=48842, nb_dimensions=220, summary=None), sensitive_unshuffled_avatars_datasets=Dataset(id=UUID('5a03706d-8935-47d9-a354-1b90400f1a28'), hash='8e9b63a893cc5d20424482d702906bfc07c5875f7c741b63461da037db9b880e', name=None, columns=[ColumnDetail(type=<ColumnType.float: 'float'>, label='age'), ColumnDetail(type=<ColumnType.category: 'category'>, label='workclass'), ColumnDetail(type=<ColumnType.float: 'float'>, label='fnlwgt'), ColumnDetail(type=<ColumnType.category: 'category'>, label='education'), ColumnDetail(type=<ColumnType.float: 'float'>, label='educational-num'), ColumnDetail(type=<ColumnType.category: 'category'>, label='marital-status'), ColumnDetail(type=<ColumnType.category: 'category'>, label='occupation'), ColumnDetail(type=<ColumnType.category: 'category'>, label='relationship'), ColumnDetail(type=<ColumnType.category: 'category'>, label='race'), ColumnDetail(type=<ColumnType.category: 'category'>, label='gender'), ColumnDetail(type=<ColumnType.float: 'float'>, label='capital-gain'), ColumnDetail(type=<ColumnType.float: 'float'>, label='capital-loss'), ColumnDetail(type=<ColumnType.float: 'float'>, label='hours-per-week'), ColumnDetail(type=<ColumnType.category: 'category'>, label='native-country'), ColumnDetail(type=<ColumnType.category: 'category'>, label='income'), ColumnDetail(type=<ColumnType.category: 'category'>, label='city')], download_url='http://localhost:8000/datasets/5a03706d-8935-47d9-a354-1b90400f1a28/download', analysis_status=None, analysis_duration=None, nb_lines=48842, nb_dimensions=237, summary=None), original_id=UUID('2e4357a5-dc56-4dac-9e64-be5f52d89aa5')), batch_results=[AvatarizationPerBatchResult(privacy_metrics=None, signal_metrics=None, avatars_dataset=Dataset(id=UUID('dab53d97-4130-41e0-970f-22fb8a1bde2c'), hash='12fa10684b2029a62d503a4c4824b9771ff102f1beb85273a3d84f11f534cf17', name=None, columns=[ColumnDetail(type=<ColumnType.float: 'float'>, label='age'), ColumnDetail(type=<ColumnType.category: 'category'>, label='workclass'), ColumnDetail(type=<ColumnType.float: 'float'>, label='fnlwgt'), ColumnDetail(type=<ColumnType.category: 'category'>, label='education'), ColumnDetail(type=<ColumnType.float: 'float'>, label='educational-num'), ColumnDetail(type=<ColumnType.category: 'category'>, label='marital-status'), ColumnDetail(type=<ColumnType.category: 'category'>, label='occupation'), ColumnDetail(type=<ColumnType.category: 'category'>, label='relationship'), ColumnDetail(type=<ColumnType.category: 'category'>, label='race'), ColumnDetail(type=<ColumnType.category: 'category'>, label='gender'), ColumnDetail(type=<ColumnType.float: 'float'>, label='capital-gain'), ColumnDetail(type=<ColumnType.float: 'float'>, label='capital-loss'), ColumnDetail(type=<ColumnType.float: 'float'>, label='hours-per-week'), ColumnDetail(type=<ColumnType.category: 'category'>, label='native-country'), ColumnDetail(type=<ColumnType.category: 'category'>, label='income'), ColumnDetail(type=<ColumnType.category: 'category'>, label='city')], download_url='http://localhost:8000/datasets/dab53d97-4130-41e0-970f-22fb8a1bde2c/download', analysis_status=None, analysis_duration=None, nb_lines=48842, nb_dimensions=222, summary=None), sensitive_unshuffled_avatars_datasets=Dataset(id=UUID('8beb4593-526d-462a-84b5-c42cc64f2204'), hash='7a75fe5a2c5f27e4fda9fecc1e89b7c8d0748f798c12c4c4c2190c3a4e4a67c3', name=None, columns=[ColumnDetail(type=<ColumnType.float: 'float'>, label='age'), ColumnDetail(type=<ColumnType.category: 'category'>, label='workclass'), ColumnDetail(type=<ColumnType.float: 'float'>, label='fnlwgt'), ColumnDetail(type=<ColumnType.category: 'category'>, label='education'), ColumnDetail(type=<ColumnType.float: 'float'>, label='educational-num'), ColumnDetail(type=<ColumnType.category: 'category'>, label='marital-status'), ColumnDetail(type=<ColumnType.category: 'category'>, label='occupation'), ColumnDetail(type=<ColumnType.category: 'category'>, label='relationship'), ColumnDetail(type=<ColumnType.category: 'category'>, label='race'), ColumnDetail(type=<ColumnType.category: 'category'>, label='gender'), ColumnDetail(type=<ColumnType.float: 'float'>, label='capital-gain'), ColumnDetail(type=<ColumnType.float: 'float'>, label='capital-loss'), ColumnDetail(type=<ColumnType.float: 'float'>, label='hours-per-week'), ColumnDetail(type=<ColumnType.category: 'category'>, label='native-country'), ColumnDetail(type=<ColumnType.category: 'category'>, label='income'), ColumnDetail(type=<ColumnType.category: 'category'>, label='city')], download_url='http://localhost:8000/datasets/8beb4593-526d-462a-84b5-c42cc64f2204/download', analysis_status=None, analysis_duration=None, nb_lines=48842, nb_dimensions=237, summary=None), original_id=UUID('3273bf02-d049-4883-b9d9-e06c008705b9')), AvatarizationPerBatchResult(privacy_metrics=None, signal_metrics=None, avatars_dataset=Dataset(id=UUID('fc3ddcde-573a-4577-9633-cb4e67dfd338'), hash='0e0f689141d92414963d3b14de165a5d98ae18497df3c58eedf7802736c85efd', name=None, columns=[ColumnDetail(type=<ColumnType.float: 'float'>, label='age'), ColumnDetail(type=<ColumnType.category: 'category'>, label='workclass'), ColumnDetail(type=<ColumnType.float: 'float'>, label='fnlwgt'), ColumnDetail(type=<ColumnType.category: 'category'>, label='education'), ColumnDetail(type=<ColumnType.float: 'float'>, label='educational-num'), ColumnDetail(type=<ColumnType.category: 'category'>, label='marital-status'), ColumnDetail(type=<ColumnType.category: 'category'>, label='occupation'), ColumnDetail(type=<ColumnType.category: 'category'>, label='relationship'), ColumnDetail(type=<ColumnType.category: 'category'>, label='race'), ColumnDetail(type=<ColumnType.category: 'category'>, label='gender'), ColumnDetail(type=<ColumnType.float: 'float'>, label='capital-gain'), ColumnDetail(type=<ColumnType.float: 'float'>, label='capital-loss'), ColumnDetail(type=<ColumnType.float: 'float'>, label='hours-per-week'), ColumnDetail(type=<ColumnType.category: 'category'>, label='native-country'), ColumnDetail(type=<ColumnType.category: 'category'>, label='income'), ColumnDetail(type=<ColumnType.category: 'category'>, label='city')], download_url='http://localhost:8000/datasets/fc3ddcde-573a-4577-9633-cb4e67dfd338/download', analysis_status=None, analysis_duration=None, nb_lines=48842, nb_dimensions=221, summary=None), sensitive_unshuffled_avatars_datasets=Dataset(id=UUID('12b5decc-1960-42e5-919d-715b9be198c0'), hash='5ae5210c3d07a9e7e616902c7fcb0af0b3b91996b0c9046aa66f86629bcfb80e', name=None, columns=[ColumnDetail(type=<ColumnType.float: 'float'>, label='age'), ColumnDetail(type=<ColumnType.category: 'category'>, label='workclass'), ColumnDetail(type=<ColumnType.float: 'float'>, label='fnlwgt'), ColumnDetail(type=<ColumnType.category: 'category'>, label='education'), ColumnDetail(type=<ColumnType.float: 'float'>, label='educational-num'), ColumnDetail(type=<ColumnType.category: 'category'>, label='marital-status'), ColumnDetail(type=<ColumnType.category: 'category'>, label='occupation'), ColumnDetail(type=<ColumnType.category: 'category'>, label='relationship'), ColumnDetail(type=<ColumnType.category: 'category'>, label='race'), ColumnDetail(type=<ColumnType.category: 'category'>, label='gender'), ColumnDetail(type=<ColumnType.float: 'float'>, label='capital-gain'), ColumnDetail(type=<ColumnType.float: 'float'>, label='capital-loss'), ColumnDetail(type=<ColumnType.float: 'float'>, label='hours-per-week'), ColumnDetail(type=<ColumnType.category: 'category'>, label='native-country'), ColumnDetail(type=<ColumnType.category: 'category'>, label='income'), ColumnDetail(type=<ColumnType.category: 'category'>, label='city')], download_url='http://localhost:8000/datasets/12b5decc-1960-42e5-919d-715b9be198c0/download', analysis_status=None, analysis_duration=None, nb_lines=48842, nb_dimensions=237, summary=None), original_id=UUID('9584aa1c-15dd-4db0-acc1-6fc7a5be5d6d')), AvatarizationPerBatchResult(privacy_metrics=None, signal_metrics=None, avatars_dataset=Dataset(id=UUID('698038d7-12ba-449d-9080-d85ee8ec7ace'), hash='bdeff3a0bd28133a047bc2ca88dd829f1f9f4272ea09a027027484d3ab8c6aa5', name=None, columns=[ColumnDetail(type=<ColumnType.float: 'float'>, label='age'), ColumnDetail(type=<ColumnType.category: 'category'>, label='workclass'), ColumnDetail(type=<ColumnType.float: 'float'>, label='fnlwgt'), ColumnDetail(type=<ColumnType.category: 'category'>, label='education'), ColumnDetail(type=<ColumnType.float: 'float'>, label='educational-num'), ColumnDetail(type=<ColumnType.category: 'category'>, label='marital-status'), ColumnDetail(type=<ColumnType.category: 'category'>, label='occupation'), ColumnDetail(type=<ColumnType.category: 'category'>, label='relationship'), ColumnDetail(type=<ColumnType.category: 'category'>, label='race'), ColumnDetail(type=<ColumnType.category: 'category'>, label='gender'), ColumnDetail(type=<ColumnType.float: 'float'>, label='capital-gain'), ColumnDetail(type=<ColumnType.float: 'float'>, label='capital-loss'), ColumnDetail(type=<ColumnType.float: 'float'>, label='hours-per-week'), ColumnDetail(type=<ColumnType.category: 'category'>, label='native-country'), ColumnDetail(type=<ColumnType.category: 'category'>, label='income'), ColumnDetail(type=<ColumnType.category: 'category'>, label='city')], download_url='http://localhost:8000/datasets/698038d7-12ba-449d-9080-d85ee8ec7ace/download', analysis_status=None, analysis_duration=None, nb_lines=48842, nb_dimensions=224, summary=None), sensitive_unshuffled_avatars_datasets=Dataset(id=UUID('d8020496-1cbe-46e6-b4d0-df914852a19b'), hash='d1732d6b382ed70f45c72b4e48f401c669099f11632048b3bec247805221db8b', name=None, columns=[ColumnDetail(type=<ColumnType.float: 'float'>, label='age'), ColumnDetail(type=<ColumnType.category: 'category'>, label='workclass'), ColumnDetail(type=<ColumnType.float: 'float'>, label='fnlwgt'), ColumnDetail(type=<ColumnType.category: 'category'>, label='education'), ColumnDetail(type=<ColumnType.float: 'float'>, label='educational-num'), ColumnDetail(type=<ColumnType.category: 'category'>, label='marital-status'), ColumnDetail(type=<ColumnType.category: 'category'>, label='occupation'), ColumnDetail(type=<ColumnType.category: 'category'>, label='relationship'), ColumnDetail(type=<ColumnType.category: 'category'>, label='race'), ColumnDetail(type=<ColumnType.category: 'category'>, label='gender'), ColumnDetail(type=<ColumnType.float: 'float'>, label='capital-gain'), ColumnDetail(type=<ColumnType.float: 'float'>, label='capital-loss'), ColumnDetail(type=<ColumnType.float: 'float'>, label='hours-per-week'), ColumnDetail(type=<ColumnType.category: 'category'>, label='native-country'), ColumnDetail(type=<ColumnType.category: 'category'>, label='income'), ColumnDetail(type=<ColumnType.category: 'category'>, label='city')], download_url='http://localhost:8000/datasets/d8020496-1cbe-46e6-b4d0-df914852a19b/download', analysis_status=None, analysis_duration=None, nb_lines=48842, nb_dimensions=239, summary=None), original_id=UUID('0bcd14af-67ad-417c-bec2-f7ff7e11198d')), AvatarizationPerBatchResult(privacy_metrics=None, signal_metrics=None, avatars_dataset=Dataset(id=UUID('bacb5211-688c-4e36-953c-c41c75907f3f'), hash='56006e47f1ec3382d43c3b49fad8a5326a5396d4c18227a56d9440df1bd8abfd', name=None, columns=[ColumnDetail(type=<ColumnType.float: 'float'>, label='age'), ColumnDetail(type=<ColumnType.category: 'category'>, label='workclass'), ColumnDetail(type=<ColumnType.float: 'float'>, label='fnlwgt'), ColumnDetail(type=<ColumnType.category: 'category'>, label='education'), ColumnDetail(type=<ColumnType.float: 'float'>, label='educational-num'), ColumnDetail(type=<ColumnType.category: 'category'>, label='marital-status'), ColumnDetail(type=<ColumnType.category: 'category'>, label='occupation'), ColumnDetail(type=<ColumnType.category: 'category'>, label='relationship'), ColumnDetail(type=<ColumnType.category: 'category'>, label='race'), ColumnDetail(type=<ColumnType.category: 'category'>, label='gender'), ColumnDetail(type=<ColumnType.float: 'float'>, label='capital-gain'), ColumnDetail(type=<ColumnType.float: 'float'>, label='capital-loss'), ColumnDetail(type=<ColumnType.float: 'float'>, label='hours-per-week'), ColumnDetail(type=<ColumnType.category: 'category'>, label='native-country'), ColumnDetail(type=<ColumnType.category: 'category'>, label='income'), ColumnDetail(type=<ColumnType.category: 'category'>, label='city')], download_url='http://localhost:8000/datasets/bacb5211-688c-4e36-953c-c41c75907f3f/download', analysis_status=None, analysis_duration=None, nb_lines=48842, nb_dimensions=228, summary=None), sensitive_unshuffled_avatars_datasets=Dataset(id=UUID('68faf670-cefb-4c0c-87a2-e72261a788fa'), hash='a20cbb9108befd8c628d1894e5ee0525d03542ffa8e8aaa9a02fbb805a194b1b', name=None, columns=[ColumnDetail(type=<ColumnType.float: 'float'>, label='age'), ColumnDetail(type=<ColumnType.category: 'category'>, label='workclass'), ColumnDetail(type=<ColumnType.float: 'float'>, label='fnlwgt'), ColumnDetail(type=<ColumnType.category: 'category'>, label='education'), ColumnDetail(type=<ColumnType.float: 'float'>, label='educational-num'), ColumnDetail(type=<ColumnType.category: 'category'>, label='marital-status'), ColumnDetail(type=<ColumnType.category: 'category'>, label='occupation'), ColumnDetail(type=<ColumnType.category: 'category'>, label='relationship'), ColumnDetail(type=<ColumnType.category: 'category'>, label='race'), ColumnDetail(type=<ColumnType.category: 'category'>, label='gender'), ColumnDetail(type=<ColumnType.float: 'float'>, label='capital-gain'), ColumnDetail(type=<ColumnType.float: 'float'>, label='capital-loss'), ColumnDetail(type=<ColumnType.float: 'float'>, label='hours-per-week'), ColumnDetail(type=<ColumnType.category: 'category'>, label='native-country'), ColumnDetail(type=<ColumnType.category: 'category'>, label='income'), ColumnDetail(type=<ColumnType.category: 'category'>, label='city')], download_url='http://localhost:8000/datasets/68faf670-cefb-4c0c-87a2-e72261a788fa/download', analysis_status=None, analysis_duration=None, nb_lines=48842, nb_dimensions=239, summary=None), original_id=UUID('aaf68447-fe5a-4dc2-a476-49dc4715f1fb'))]), parameters=AvatarizationBatchParameters(k=20, column_weights=None, ncp=None, seed=None, imputation=ImputationParameters(method=<ImputeMethod.mean: 'mean'>, k=None, training_fraction=None), use_categorical_reduction=None, to_categorical_threshold=None, exclude_categorical=None, reference_dataset_id=UUID('2e4357a5-dc56-4dac-9e64-be5f52d89aa5'), dataset_ids=[UUID('3273bf02-d049-4883-b9d9-e06c008705b9'), UUID('0bcd14af-67ad-417c-bec2-f7ff7e11198d'), UUID('9584aa1c-15dd-4db0-acc1-6fc7a5be5d6d'), UUID('aaf68447-fe5a-4dc2-a476-49dc4715f1fb')]), current_progress=JobProgress(completion_rate_100=100, name='postprocessing:DatetimeProcessor', created_at=datetime.datetime(2023, 5, 23, 8, 41, 29, 275202, tzinfo=datetime.timezone.utc)))"
      ]
     },
     "execution_count": 7,
     "metadata": {},
     "output_type": "execute_result"
    }
   ],
   "source": [
    "splits = get_avatar_using_batch(\n",
    "    reference_df=ref,\n",
    "    splits=splits,\n",
    "    parameters={\"k\": 20, \"imputation\": ImputationParameters(method=\"mean\")},\n",
    ")\n",
    "splits"
   ]
  },
  {
   "cell_type": "code",
   "execution_count": 8,
   "metadata": {},
   "outputs": [
    {
     "data": {
      "text/plain": [
       "[GenericJob(id=UUID('11578ef0-73da-464d-a605-e77b011d6a28'), status=<JobStatus.success: 'success'>, error_message=None, traceback=None, result=None, parameters=GenericParameters(), current_progress=None),\n",
       " GenericJob(id=UUID('2aa81d1a-e2b3-4221-b930-4b64723e1976'), status=<JobStatus.success: 'success'>, error_message=None, traceback=None, result=None, parameters=GenericParameters(), current_progress=None),\n",
       " GenericJob(id=UUID('473dea96-cec3-44ab-8d77-ba6af12c122a'), status=<JobStatus.pending: 'pending'>, error_message=None, traceback=None, result=None, parameters=GenericParameters(), current_progress=None),\n",
       " GenericJob(id=UUID('31303790-1d94-4067-aefa-c69704325943'), status=<JobStatus.pending: 'pending'>, error_message=None, traceback=None, result=None, parameters=GenericParameters(), current_progress=None),\n",
       " GenericJob(id=UUID('68def5e3-a910-4f6b-a29d-0b850927b589'), status=<JobStatus.pending: 'pending'>, error_message=None, traceback=None, result=None, parameters=GenericParameters(), current_progress=None),\n",
       " GenericJob(id=UUID('964dfb60-c840-4cf1-93df-4ef607ef2079'), status=<JobStatus.pending: 'pending'>, error_message=None, traceback=None, result=None, parameters=GenericParameters(), current_progress=None),\n",
       " GenericJob(id=UUID('0575a91b-6737-4bb1-906f-7277efa8eee2'), status=<JobStatus.success: 'success'>, error_message=None, traceback=None, result=None, parameters=GenericParameters(), current_progress=None),\n",
       " GenericJob(id=UUID('36b03ea7-d4cd-4c62-8f2a-4c2f3664f559'), status=<JobStatus.success: 'success'>, error_message=None, traceback=None, result=None, parameters=GenericParameters(), current_progress=None),\n",
       " GenericJob(id=UUID('ad3029fc-acac-44cc-be02-6c4741dbad24'), status=<JobStatus.success: 'success'>, error_message=None, traceback=None, result=None, parameters=GenericParameters(), current_progress=None),\n",
       " GenericJob(id=UUID('71182da3-90f5-4040-85a0-00e4fb2543fb'), status=<JobStatus.success: 'success'>, error_message=None, traceback=None, result=None, parameters=GenericParameters(), current_progress=None),\n",
       " GenericJob(id=UUID('121e0cdf-8476-4eac-b6e9-8af09a2e57af'), status=<JobStatus.failure: 'failure'>, error_message='internal error', traceback=None, result=None, parameters=GenericParameters(), current_progress=None),\n",
       " GenericJob(id=UUID('4615cae2-842d-4b5b-88df-42db112f291e'), status=<JobStatus.success: 'success'>, error_message=None, traceback=None, result=None, parameters=GenericParameters(), current_progress=None),\n",
       " GenericJob(id=UUID('728112f3-d769-496c-9d90-c5d426e314f9'), status=<JobStatus.success: 'success'>, error_message=None, traceback=None, result=None, parameters=GenericParameters(), current_progress=None),\n",
       " GenericJob(id=UUID('13a8de39-8dea-4c20-85f9-dec5465f23de'), status=<JobStatus.success: 'success'>, error_message=None, traceback=None, result=None, parameters=GenericParameters(), current_progress=None),\n",
       " GenericJob(id=UUID('55405f94-022c-4c97-ba9f-79ee044b0d8a'), status=<JobStatus.success: 'success'>, error_message=None, traceback=None, result=None, parameters=GenericParameters(), current_progress=None),\n",
       " GenericJob(id=UUID('cc5fbb66-3bc3-46c0-90f9-a0353908147f'), status=<JobStatus.success: 'success'>, error_message=None, traceback=None, result=None, parameters=GenericParameters(), current_progress=None),\n",
       " GenericJob(id=UUID('e10c90f6-e79c-4e17-b819-6b01f05e3cff'), status=<JobStatus.success: 'success'>, error_message=None, traceback=None, result=None, parameters=GenericParameters(), current_progress=None),\n",
       " GenericJob(id=UUID('56a7de8c-11e6-4f2b-9af0-51becb4c286f'), status=<JobStatus.success: 'success'>, error_message=None, traceback=None, result=None, parameters=GenericParameters(), current_progress=None),\n",
       " GenericJob(id=UUID('042ff04e-2f32-4acc-8dff-e893f4ff0761'), status=<JobStatus.success: 'success'>, error_message=None, traceback=None, result=None, parameters=GenericParameters(), current_progress=None),\n",
       " GenericJob(id=UUID('13457440-2a2b-4b77-82bb-a0147c84927f'), status=<JobStatus.success: 'success'>, error_message=None, traceback=None, result=None, parameters=GenericParameters(), current_progress=None),\n",
       " GenericJob(id=UUID('588dddf3-9ddb-451c-8a89-c5391533b630'), status=<JobStatus.success: 'success'>, error_message=None, traceback=None, result=None, parameters=GenericParameters(), current_progress=None),\n",
       " GenericJob(id=UUID('b8b9cfa6-e74b-4215-89f3-bdbf6cbbe39b'), status=<JobStatus.success: 'success'>, error_message=None, traceback=None, result=None, parameters=GenericParameters(), current_progress=None),\n",
       " GenericJob(id=UUID('9f873442-113b-4dca-8214-1e1863e611a3'), status=<JobStatus.success: 'success'>, error_message=None, traceback=None, result=None, parameters=GenericParameters(), current_progress=None),\n",
       " GenericJob(id=UUID('894a4754-92bc-4e42-bdc0-e5049f7d6f41'), status=<JobStatus.success: 'success'>, error_message=None, traceback=None, result=None, parameters=GenericParameters(), current_progress=None),\n",
       " GenericJob(id=UUID('b28a73d0-0cd9-4c1c-81e4-efcc99c39fd2'), status=<JobStatus.success: 'success'>, error_message=None, traceback=None, result=None, parameters=GenericParameters(), current_progress=None),\n",
       " GenericJob(id=UUID('a4e13ab3-e4a4-4be2-923d-75935294b861'), status=<JobStatus.success: 'success'>, error_message=None, traceback=None, result=None, parameters=GenericParameters(), current_progress=None),\n",
       " GenericJob(id=UUID('e6a99c10-3370-4c39-bee5-25db112359ac'), status=<JobStatus.success: 'success'>, error_message=None, traceback=None, result=None, parameters=GenericParameters(), current_progress=None),\n",
       " GenericJob(id=UUID('ee1efc69-d06b-4c1b-9f8d-89fcbb3d3b15'), status=<JobStatus.success: 'success'>, error_message=None, traceback=None, result=None, parameters=GenericParameters(), current_progress=None),\n",
       " GenericJob(id=UUID('2d4d9cfe-b294-4168-bfdb-fac4a962b0df'), status=<JobStatus.success: 'success'>, error_message=None, traceback=None, result=None, parameters=GenericParameters(), current_progress=None),\n",
       " GenericJob(id=UUID('334aa51e-a7dd-4225-b386-5aa0b09a2128'), status=<JobStatus.success: 'success'>, error_message=None, traceback=None, result=None, parameters=GenericParameters(), current_progress=None),\n",
       " GenericJob(id=UUID('e32815d8-1bd5-4812-b149-c08e141da029'), status=<JobStatus.success: 'success'>, error_message=None, traceback=None, result=None, parameters=GenericParameters(), current_progress=None),\n",
       " GenericJob(id=UUID('023de79a-8f9e-46f2-9a40-3d71b5fa21ec'), status=<JobStatus.success: 'success'>, error_message=None, traceback=None, result=None, parameters=GenericParameters(), current_progress=None),\n",
       " GenericJob(id=UUID('2cd6ee84-2b99-4b11-b54a-8ae9e59ac624'), status=<JobStatus.success: 'success'>, error_message=None, traceback=None, result=None, parameters=GenericParameters(), current_progress=None),\n",
       " GenericJob(id=UUID('23bbcbc0-e086-483c-9ca5-5b0f2611fc34'), status=<JobStatus.success: 'success'>, error_message=None, traceback=None, result=None, parameters=GenericParameters(), current_progress=None),\n",
       " GenericJob(id=UUID('e6fb5dbd-b608-4774-9d83-04919afc8f72'), status=<JobStatus.success: 'success'>, error_message=None, traceback=None, result=None, parameters=GenericParameters(), current_progress=None),\n",
       " GenericJob(id=UUID('2dd0971d-b88a-4bf6-8029-6b3d6f715440'), status=<JobStatus.success: 'success'>, error_message=None, traceback=None, result=None, parameters=GenericParameters(), current_progress=None),\n",
       " GenericJob(id=UUID('159f6459-4169-470d-9c7d-faeafdd2dd1c'), status=<JobStatus.success: 'success'>, error_message=None, traceback=None, result=None, parameters=GenericParameters(), current_progress=None),\n",
       " GenericJob(id=UUID('56bf0ca0-e042-40ca-8689-38fe60762368'), status=<JobStatus.success: 'success'>, error_message=None, traceback=None, result=None, parameters=GenericParameters(), current_progress=None),\n",
       " GenericJob(id=UUID('3b08c1c9-2a3f-4919-8f6a-aee1774c73dd'), status=<JobStatus.success: 'success'>, error_message=None, traceback=None, result=None, parameters=GenericParameters(), current_progress=None),\n",
       " GenericJob(id=UUID('08a925e9-a99f-4635-8758-9ef4f51a618e'), status=<JobStatus.success: 'success'>, error_message=None, traceback=None, result=None, parameters=GenericParameters(), current_progress=None),\n",
       " GenericJob(id=UUID('fb01f04f-ed0d-4a83-b79e-69f18b33e6c5'), status=<JobStatus.success: 'success'>, error_message=None, traceback=None, result=None, parameters=GenericParameters(), current_progress=None),\n",
       " GenericJob(id=UUID('21e60d4d-c80a-4abb-8644-79eee9cc5c03'), status=<JobStatus.success: 'success'>, error_message=None, traceback=None, result=None, parameters=GenericParameters(), current_progress=None),\n",
       " GenericJob(id=UUID('82dab54e-a982-412d-ad25-8f661ffb30c6'), status=<JobStatus.success: 'success'>, error_message=None, traceback=None, result=None, parameters=GenericParameters(), current_progress=None),\n",
       " GenericJob(id=UUID('43c5be77-b0ae-470d-80a3-3739cf27dd2c'), status=<JobStatus.success: 'success'>, error_message=None, traceback=None, result=None, parameters=GenericParameters(), current_progress=None),\n",
       " GenericJob(id=UUID('dfcc542d-a724-4c10-941a-fb0a0639b86b'), status=<JobStatus.success: 'success'>, error_message=None, traceback=None, result=None, parameters=GenericParameters(), current_progress=None),\n",
       " GenericJob(id=UUID('534ef047-8914-4230-a3f8-8effc4a26700'), status=<JobStatus.success: 'success'>, error_message=None, traceback=None, result=None, parameters=GenericParameters(), current_progress=None),\n",
       " GenericJob(id=UUID('52306073-3fdf-4e1c-926c-ca44e37f89ad'), status=<JobStatus.success: 'success'>, error_message=None, traceback=None, result=None, parameters=GenericParameters(), current_progress=None),\n",
       " GenericJob(id=UUID('0102901f-c2d6-41a4-91f7-05b82cc61437'), status=<JobStatus.success: 'success'>, error_message=None, traceback=None, result=None, parameters=GenericParameters(), current_progress=None),\n",
       " GenericJob(id=UUID('da0fa41a-79f4-4b31-a1b7-2991cd0aafb2'), status=<JobStatus.success: 'success'>, error_message=None, traceback=None, result=None, parameters=GenericParameters(), current_progress=None),\n",
       " GenericJob(id=UUID('2548c36d-c059-42fa-9fdd-83e38bc2a501'), status=<JobStatus.success: 'success'>, error_message=None, traceback=None, result=None, parameters=GenericParameters(), current_progress=None),\n",
       " GenericJob(id=UUID('4f52da7d-dcc4-4d90-ae3a-85ab7b772c23'), status=<JobStatus.success: 'success'>, error_message=None, traceback=None, result=None, parameters=GenericParameters(), current_progress=None),\n",
       " GenericJob(id=UUID('04f87db2-53bd-4e0f-bc1b-756dd1dafbf8'), status=<JobStatus.success: 'success'>, error_message=None, traceback=None, result=None, parameters=GenericParameters(), current_progress=None),\n",
       " GenericJob(id=UUID('ee7e1625-fa99-4e0e-b2ed-f00d360801d5'), status=<JobStatus.success: 'success'>, error_message=None, traceback=None, result=None, parameters=GenericParameters(), current_progress=None),\n",
       " GenericJob(id=UUID('bca73ddc-95d4-4185-a584-ee041b5f6e6f'), status=<JobStatus.success: 'success'>, error_message=None, traceback=None, result=None, parameters=GenericParameters(), current_progress=None),\n",
       " GenericJob(id=UUID('ef1b5967-c16c-495c-8228-f9b28c78c0ef'), status=<JobStatus.success: 'success'>, error_message=None, traceback=None, result=None, parameters=GenericParameters(), current_progress=None)]"
      ]
     },
     "execution_count": 8,
     "metadata": {},
     "output_type": "execute_result"
    }
   ],
   "source": [
    "client.jobs.find_all_jobs_by_user(nb_days=1)\n"
   ]
  },
  {
   "cell_type": "code",
   "execution_count": 9,
   "metadata": {},
   "outputs": [
    {
     "name": "stdout",
     "output_type": "stream",
     "text": [
      "774aa7df-bdc7-435a-be7d-1bb651bbc385\n",
      "565.377733707428\n"
     ]
    },
    {
     "data": {
      "text/plain": [
       "PrivacyMetricsBatchJob(id=UUID('774aa7df-bdc7-435a-be7d-1bb651bbc385'), status=<JobStatus.success: 'success'>, error_message=None, traceback=None, result=PrivacyMetricsBatchResult(worst_metrics=PrivacyMetrics(hidden_rate=98.04676303181688, local_cloaking=53.0, distance_to_closest=4.5530009269714355, closest_distances_ratio=0.8474568118897553, column_direct_match_protection=98.4778423616288, categorical_hidden_rate=99.65390981592014, row_direct_match_protection=99.99795258179435, correlation_protection_rate=100.0, inference_continuous=None, inference_categorical=39.69124933458909, closest_rate=99.96513893161078), reference_metrics=PrivacyMetricsPerBatchResult(hidden_rate=98.18598746980058, local_cloaking=54.0, distance_to_closest=4.588808059692383, closest_distances_ratio=0.8481453541926993, column_direct_match_protection=98.48025145880497, categorical_hidden_rate=99.66268942254443, row_direct_match_protection=100.0, correlation_protection_rate=100.0, inference_continuous=None, inference_categorical=49.40624872036362, closest_rate=99.96514107611549, original_id=UUID('2e4357a5-dc56-4dac-9e64-be5f52d89aa5'), unshuffled_avatars_id=UUID('5a03706d-8935-47d9-a354-1b90400f1a28')), batch_metrics=[PrivacyMetricsPerBatchResult(hidden_rate=98.15937103312723, local_cloaking=53.0, distance_to_closest=4.564780235290527, closest_distances_ratio=0.8489349934098275, column_direct_match_protection=98.52584380102056, categorical_hidden_rate=99.73317222977394, row_direct_match_protection=100.0, correlation_protection_rate=100.0, inference_continuous=None, inference_categorical=43.59977068916096, closest_rate=99.96513893161078, original_id=UUID('3273bf02-d049-4883-b9d9-e06c008705b9'), unshuffled_avatars_id=UUID('8beb4593-526d-462a-84b5-c42cc64f2204')), PrivacyMetricsPerBatchResult(hidden_rate=98.3354489988125, local_cloaking=53.0, distance_to_closest=4.5530009269714355, closest_distances_ratio=0.8499099121635536, column_direct_match_protection=98.5450288834361, categorical_hidden_rate=99.72262847344798, row_direct_match_protection=99.99795258179435, correlation_protection_rate=100.0, inference_continuous=None, inference_categorical=40.32390156013267, closest_rate=99.96927111074692, original_id=UUID('9584aa1c-15dd-4db0-acc1-6fc7a5be5d6d'), unshuffled_avatars_id=UUID('12b5decc-1960-42e5-919d-715b9be198c0')), PrivacyMetricsPerBatchResult(hidden_rate=98.30064288931656, local_cloaking=54.0, distance_to_closest=4.594393014907837, closest_distances_ratio=0.8509692710567042, column_direct_match_protection=98.4778423616288, categorical_hidden_rate=99.79350289599597, row_direct_match_protection=100.0, correlation_protection_rate=100.0, inference_continuous=None, inference_categorical=44.45763891732525, closest_rate=99.9795052569016, original_id=UUID('0bcd14af-67ad-417c-bec2-f7ff7e11198d'), unshuffled_avatars_id=UUID('d8020496-1cbe-46e6-b4d0-df914852a19b')), PrivacyMetricsPerBatchResult(hidden_rate=98.04676303181688, local_cloaking=54.0, distance_to_closest=4.568000793457031, closest_distances_ratio=0.8474568118897553, column_direct_match_protection=98.58027506083103, categorical_hidden_rate=99.65390981592014, row_direct_match_protection=100.0, correlation_protection_rate=100.0, inference_continuous=None, inference_categorical=39.69124933458909, closest_rate=99.98155208461444, original_id=UUID('aaf68447-fe5a-4dc2-a476-49dc4715f1fb'), unshuffled_avatars_id=UUID('68faf670-cefb-4c0c-87a2-e72261a788fa'))]), parameters=PrivacyMetricsBatchParameters(avatarization_batch_job_id=UUID('11578ef0-73da-464d-a605-e77b011d6a28'), reference_parameters=PrivacyMetricsReferenceParameters(imputation=ImputationParameters(method=<ImputeMethod.mean: 'mean'>, k=None, training_fraction=None), ncp=None, seed=42, use_categorical_reduction=None, known_variables=['age', 'workclass'], target='income', closest_rate_percentage_threshold=0.3, closest_rate_ratio_threshold=0.3, original_id=None, unshuffled_avatars_id=None), per_batch_parameters=None), current_progress=JobProgress(completion_rate_100=100, name='done', created_at=datetime.datetime(2023, 5, 23, 8, 44, 38, 573871, tzinfo=datetime.timezone.utc)))"
      ]
     },
     "execution_count": 9,
     "metadata": {},
     "output_type": "execute_result"
    }
   ],
   "source": [
    "privacy_results = get_privacy_metrics_with_batch(\n",
    "    batch_job = splits,\n",
    "    parameters={\n",
    "        \"closest_rate_percentage_threshold\": 0.3,\n",
    "        \"closest_rate_ratio_threshold\": 0.3,\n",
    "        \"known_variables\": [\n",
    "            \"age\",\n",
    "            \"workclass\",\n",
    "        ],\n",
    "        \"target\": \"income\",\n",
    "        \"imputation\": ImputationParameters(method=\"mean\"),\n",
    "        \"seed\": 42,\n",
    "    },\n",
    ")\n",
    "\n",
    "privacy_results"
   ]
  },
  {
   "cell_type": "code",
   "execution_count": 10,
   "metadata": {},
   "outputs": [],
   "source": [
    "privacy_job = client.jobs.get_privacy_metrics_batch_job('2aa81d1a-e2b3-4221-b930-4b64723e1976', timeout=100000)\n"
   ]
  },
  {
   "cell_type": "code",
   "execution_count": null,
   "metadata": {},
   "outputs": [],
   "source": [
    "signal_results = get_signal_metrics_with_batch(\n",
    "    batch_job = splits,\n",
    ")\n",
    "\n",
    "signal_results"
   ]
  },
  {
   "cell_type": "code",
   "execution_count": null,
   "metadata": {},
   "outputs": [],
   "source": []
  }
 ],
 "metadata": {
  "kernelspec": {
   "display_name": ".venv",
   "language": "python",
   "name": "python3"
  },
  "language_info": {
   "codemirror_mode": {
    "name": "ipython",
    "version": 3
   },
   "file_extension": ".py",
   "mimetype": "text/x-python",
   "name": "python",
   "nbconvert_exporter": "python",
   "pygments_lexer": "ipython3",
   "version": "3.9.16"
  }
 },
 "nbformat": 4,
 "nbformat_minor": 2
}
