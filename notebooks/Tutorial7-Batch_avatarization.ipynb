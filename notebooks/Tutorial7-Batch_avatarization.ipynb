{
 "cells": [
  {
   "attachments": {},
   "cell_type": "markdown",
   "metadata": {},
   "source": [
    "# Tutorial 7: Batch avatarization"
   ]
  },
  {
   "attachments": {},
   "cell_type": "markdown",
   "metadata": {},
   "source": [
    "In this tutorial, we will perform the avatarization on batch of data. This can be useful if you have to much data that can be avatarized in one shot.\n",
    "\n",
    "# TODO: add a schema of the process\n"
   ]
  },
  {
   "attachments": {},
   "cell_type": "markdown",
   "metadata": {},
   "source": [
    "## Connection"
   ]
  },
  {
   "cell_type": "code",
   "execution_count": 1,
   "metadata": {},
   "outputs": [],
   "source": [
    "import warnings\n",
    "\n",
    "warnings.filterwarnings(\"ignore\")\n",
    "\n",
    "from avatars.client import ApiClient\n"
   ]
  },
  {
   "cell_type": "code",
   "execution_count": 2,
   "metadata": {},
   "outputs": [],
   "source": [
    "import os\n",
    "\n",
    "url = os.environ.get(\"AVATAR_BASE_URL\")\n",
    "username = os.environ.get(\"AVATAR_USERNAME\")\n",
    "password = os.environ.get(\"AVATAR_PASSWORD\")"
   ]
  },
  {
   "cell_type": "code",
   "execution_count": 3,
   "metadata": {},
   "outputs": [
    {
     "data": {
      "text/plain": [
       "{'message': 'ok'}"
      ]
     },
     "execution_count": 3,
     "metadata": {},
     "output_type": "execute_result"
    }
   ],
   "source": [
    "# This is the client that you'll be using for all of your requests\n",
    "from avatars.models import (\n",
    "    AvatarizationJobCreate,\n",
    "    AvatarizationParameters,\n",
    "    ImputationParameters,\n",
    ")\n",
    "from avatars.lib.split import get_split_for_batch\n",
    "from typing import Any, Dict, List, Tuple\n",
    "import math\n",
    "\n",
    "import time\n",
    "\n",
    "import numpy as np\n",
    "\n",
    "from avatars.client import ApiClient\n",
    "\n",
    "from avatars.models import (\n",
    "    AvatarizationBatchJobCreate,\n",
    "    AvatarizationBatchParameters,\n",
    "    AvatarizationBatchResult,\n",
    "    AvatarizationJob,\n",
    "    PrivacyMetricsBaseParameters,\n",
    "    PrivacyMetricsBatchJobCreate,\n",
    "    PrivacyMetricsBatchParameters,\n",
    "    PrivacyMetricsJob,\n",
    "    PrivacyMetricsJobCreate,\n",
    "    PrivacyMetricsParameters,\n",
    "    PrivacyBatchDatasetMapping,\n",
    "    SignalBatchDatasetMapping,\n",
    "    SignalMetricsBaseParameters,\n",
    "    SignalMetricsBatchJobCreate,\n",
    "    SignalMetricsBatchParameters,\n",
    ")\n",
    "\n",
    "from avatars.lib.split import get_split_for_batch\n",
    "\n",
    "# The following are not necessary to \n",
    "# run avatar but are used in this tutorial\n",
    "import pandas as pd\n",
    "# from sklearn.model_selection import train_test_split\n",
    "\n",
    "# Change this to your actual server endpoint, e.g. base_url=\"https://avatar.company.com\"\n",
    "client = ApiClient(base_url=url)\n",
    "client.authenticate(username=username, password=password)\n",
    "\n",
    "# Verify that we can connect to the API server\n",
    "client.health.get_health()"
   ]
  },
  {
   "attachments": {},
   "cell_type": "markdown",
   "metadata": {},
   "source": [
    "## Load the data\n",
    "We will use the dataset `adult`."
   ]
  },
  {
   "cell_type": "code",
   "execution_count": 4,
   "metadata": {},
   "outputs": [
    {
     "name": "stdout",
     "output_type": "stream",
     "text": [
      "48842\n"
     ]
    }
   ],
   "source": [
    "\n",
    "df = pd.read_csv(\"../fixtures/adult_with_missing.csv\")\n",
    "print(len(df))\n"
   ]
  },
  {
   "cell_type": "code",
   "execution_count": 5,
   "metadata": {},
   "outputs": [
    {
     "name": "stdout",
     "output_type": "stream",
     "text": [
      "(4885, 15)\n",
      "9\n"
     ]
    }
   ],
   "source": [
    "# create some batches with from the df\n",
    "\n",
    "RowLimit = 5000\n",
    "\n",
    "training, splits = get_split_for_batch(\n",
    "    df,\n",
    "    row_limit=RowLimit,\n",
    ")\n",
    "print(training.shape)\n",
    "print(len(splits))"
   ]
  },
  {
   "attachments": {},
   "cell_type": "markdown",
   "metadata": {},
   "source": [
    "## Launch batch avatarization\n"
   ]
  },
  {
   "cell_type": "code",
   "execution_count": 6,
   "metadata": {},
   "outputs": [],
   "source": [
    "from avatars.models import ImputeMethod\n",
    "\n",
    "\n",
    "dataset_ref = client.pandas_integration.upload_dataframe(training, timeout=10)\n",
    "dataset_splited_ids = [\n",
    "    client.pandas_integration.upload_dataframe(split, timeout=10).id for split in splits\n",
    "]\n",
    "\n",
    "\n",
    "batch_job = client.jobs.create_avatarization_batch_job(\n",
    "    AvatarizationBatchJobCreate(\n",
    "        parameters=AvatarizationBatchParameters(\n",
    "            training_dataset_id=dataset_ref.id,\n",
    "            dataset_ids=dataset_splited_ids,\n",
    "            k=20,\n",
    "            imputation=ImputationParameters(method=ImputeMethod.mean)\n",
    "        )\n",
    "    )\n",
    ")\n",
    "batch_job = client.jobs.get_avatarization_batch_job(batch_job.id, timeout=10)\n"
   ]
  },
  {
   "cell_type": "code",
   "execution_count": 7,
   "metadata": {},
   "outputs": [
    {
     "data": {
      "text/plain": [
       "AvatarizationBatchJob(id=UUID('b1edcadc-d9c7-4b30-b1b7-367a7c40582c'), status=<JobStatus.success: 'success'>, error_message=None, traceback=None, result=AvatarizationBatchResult(privacy_metrics=None, signal_metrics=None, training_result=AvatarizationPerBatchResult(privacy_metrics=None, signal_metrics=None, avatars_dataset=Dataset(id=UUID('da631a2a-1198-44a6-be30-e75d8c3264f3'), hash='b87090d5ca82da243cc42497bf15eff22f300cccdf0472cc639e31170f158c7e', name=None, columns=[ColumnDetail(type=<ColumnType.float: 'float'>, label='age'), ColumnDetail(type=<ColumnType.category: 'category'>, label='workclass'), ColumnDetail(type=<ColumnType.float: 'float'>, label='fnlwgt'), ColumnDetail(type=<ColumnType.category: 'category'>, label='education'), ColumnDetail(type=<ColumnType.float: 'float'>, label='educational-num'), ColumnDetail(type=<ColumnType.category: 'category'>, label='marital-status'), ColumnDetail(type=<ColumnType.category: 'category'>, label='occupation'), ColumnDetail(type=<ColumnType.category: 'category'>, label='relationship'), ColumnDetail(type=<ColumnType.category: 'category'>, label='race'), ColumnDetail(type=<ColumnType.category: 'category'>, label='gender'), ColumnDetail(type=<ColumnType.float: 'float'>, label='capital-gain'), ColumnDetail(type=<ColumnType.float: 'float'>, label='capital-loss'), ColumnDetail(type=<ColumnType.float: 'float'>, label='hours-per-week'), ColumnDetail(type=<ColumnType.category: 'category'>, label='native-country'), ColumnDetail(type=<ColumnType.category: 'category'>, label='income')], download_url='http://localhost:8000/datasets/da631a2a-1198-44a6-be30-e75d8c3264f3/download', analysis_status=None, analysis_duration=None, nb_lines=4885, nb_dimensions=117, summary=None), sensitive_unshuffled_avatars_datasets=Dataset(id=UUID('bdd284c5-2fe1-46eb-84a0-0704645a7d2c'), hash='522078bc4fa07e9dc1695cd91bf9213a987bfd05879567a2cd03b78b81bec3c9', name=None, columns=[ColumnDetail(type=<ColumnType.float: 'float'>, label='age'), ColumnDetail(type=<ColumnType.category: 'category'>, label='workclass'), ColumnDetail(type=<ColumnType.float: 'float'>, label='fnlwgt'), ColumnDetail(type=<ColumnType.category: 'category'>, label='education'), ColumnDetail(type=<ColumnType.float: 'float'>, label='educational-num'), ColumnDetail(type=<ColumnType.category: 'category'>, label='marital-status'), ColumnDetail(type=<ColumnType.category: 'category'>, label='occupation'), ColumnDetail(type=<ColumnType.category: 'category'>, label='relationship'), ColumnDetail(type=<ColumnType.category: 'category'>, label='race'), ColumnDetail(type=<ColumnType.category: 'category'>, label='gender'), ColumnDetail(type=<ColumnType.float: 'float'>, label='capital-gain'), ColumnDetail(type=<ColumnType.float: 'float'>, label='capital-loss'), ColumnDetail(type=<ColumnType.float: 'float'>, label='hours-per-week'), ColumnDetail(type=<ColumnType.category: 'category'>, label='native-country'), ColumnDetail(type=<ColumnType.category: 'category'>, label='income')], download_url='http://localhost:8000/datasets/bdd284c5-2fe1-46eb-84a0-0704645a7d2c/download', analysis_status=None, analysis_duration=None, nb_lines=4885, nb_dimensions=125, summary=None), original_id=UUID('b4e59c58-aafd-4d93-9287-10519f33bab9')), batch_results=[AvatarizationPerBatchResult(privacy_metrics=None, signal_metrics=None, avatars_dataset=Dataset(id=UUID('eefa896f-882b-40ad-89ad-8f70957c9fb9'), hash='7cf8eded2fd10e8085bb45ca1db1861aa9ef44c8f590a01cd4db6ddf01e6941c', name=None, columns=[ColumnDetail(type=<ColumnType.float: 'float'>, label='age'), ColumnDetail(type=<ColumnType.category: 'category'>, label='workclass'), ColumnDetail(type=<ColumnType.float: 'float'>, label='fnlwgt'), ColumnDetail(type=<ColumnType.category: 'category'>, label='education'), ColumnDetail(type=<ColumnType.float: 'float'>, label='educational-num'), ColumnDetail(type=<ColumnType.category: 'category'>, label='marital-status'), ColumnDetail(type=<ColumnType.category: 'category'>, label='occupation'), ColumnDetail(type=<ColumnType.category: 'category'>, label='relationship'), ColumnDetail(type=<ColumnType.category: 'category'>, label='race'), ColumnDetail(type=<ColumnType.category: 'category'>, label='gender'), ColumnDetail(type=<ColumnType.float: 'float'>, label='capital-gain'), ColumnDetail(type=<ColumnType.float: 'float'>, label='capital-loss'), ColumnDetail(type=<ColumnType.float: 'float'>, label='hours-per-week'), ColumnDetail(type=<ColumnType.category: 'category'>, label='native-country'), ColumnDetail(type=<ColumnType.category: 'category'>, label='income')], download_url='http://localhost:8000/datasets/eefa896f-882b-40ad-89ad-8f70957c9fb9/download', analysis_status=None, analysis_duration=None, nb_lines=4885, nb_dimensions=115, summary=None), sensitive_unshuffled_avatars_datasets=Dataset(id=UUID('bf0c748e-2c99-4318-9a8d-8232e0a751d5'), hash='80ce84bbbedf7f5d63a15cbdf18b536e52bbda344cc3c289b2195baef1b743b7', name=None, columns=[ColumnDetail(type=<ColumnType.float: 'float'>, label='age'), ColumnDetail(type=<ColumnType.category: 'category'>, label='workclass'), ColumnDetail(type=<ColumnType.float: 'float'>, label='fnlwgt'), ColumnDetail(type=<ColumnType.category: 'category'>, label='education'), ColumnDetail(type=<ColumnType.float: 'float'>, label='educational-num'), ColumnDetail(type=<ColumnType.category: 'category'>, label='marital-status'), ColumnDetail(type=<ColumnType.category: 'category'>, label='occupation'), ColumnDetail(type=<ColumnType.category: 'category'>, label='relationship'), ColumnDetail(type=<ColumnType.category: 'category'>, label='race'), ColumnDetail(type=<ColumnType.category: 'category'>, label='gender'), ColumnDetail(type=<ColumnType.float: 'float'>, label='capital-gain'), ColumnDetail(type=<ColumnType.float: 'float'>, label='capital-loss'), ColumnDetail(type=<ColumnType.float: 'float'>, label='hours-per-week'), ColumnDetail(type=<ColumnType.category: 'category'>, label='native-country'), ColumnDetail(type=<ColumnType.category: 'category'>, label='income')], download_url='http://localhost:8000/datasets/bf0c748e-2c99-4318-9a8d-8232e0a751d5/download', analysis_status=None, analysis_duration=None, nb_lines=4885, nb_dimensions=122, summary=None), original_id=UUID('893f0e29-d50d-493d-a4bf-e6234baae1a7')), AvatarizationPerBatchResult(privacy_metrics=None, signal_metrics=None, avatars_dataset=Dataset(id=UUID('45a778eb-340c-4b56-b489-8556bc7cd7f4'), hash='e3835e381ea7c1fd756d3254e1302c7778da978e657d3e84ceee0d5dc53f4e17', name=None, columns=[ColumnDetail(type=<ColumnType.float: 'float'>, label='age'), ColumnDetail(type=<ColumnType.category: 'category'>, label='workclass'), ColumnDetail(type=<ColumnType.float: 'float'>, label='fnlwgt'), ColumnDetail(type=<ColumnType.category: 'category'>, label='education'), ColumnDetail(type=<ColumnType.float: 'float'>, label='educational-num'), ColumnDetail(type=<ColumnType.category: 'category'>, label='marital-status'), ColumnDetail(type=<ColumnType.category: 'category'>, label='occupation'), ColumnDetail(type=<ColumnType.category: 'category'>, label='relationship'), ColumnDetail(type=<ColumnType.category: 'category'>, label='race'), ColumnDetail(type=<ColumnType.category: 'category'>, label='gender'), ColumnDetail(type=<ColumnType.float: 'float'>, label='capital-gain'), ColumnDetail(type=<ColumnType.float: 'float'>, label='capital-loss'), ColumnDetail(type=<ColumnType.float: 'float'>, label='hours-per-week'), ColumnDetail(type=<ColumnType.category: 'category'>, label='native-country'), ColumnDetail(type=<ColumnType.category: 'category'>, label='income')], download_url='http://localhost:8000/datasets/45a778eb-340c-4b56-b489-8556bc7cd7f4/download', analysis_status=None, analysis_duration=None, nb_lines=4884, nb_dimensions=116, summary=None), sensitive_unshuffled_avatars_datasets=Dataset(id=UUID('89b6e50b-5d25-4167-8e34-50598af7bdf3'), hash='452c0d2831aa6298e0b7c7e831ff9c2c0dc105e7886a5b1cf1493a110f8ce1da', name=None, columns=[ColumnDetail(type=<ColumnType.float: 'float'>, label='age'), ColumnDetail(type=<ColumnType.category: 'category'>, label='workclass'), ColumnDetail(type=<ColumnType.float: 'float'>, label='fnlwgt'), ColumnDetail(type=<ColumnType.category: 'category'>, label='education'), ColumnDetail(type=<ColumnType.float: 'float'>, label='educational-num'), ColumnDetail(type=<ColumnType.category: 'category'>, label='marital-status'), ColumnDetail(type=<ColumnType.category: 'category'>, label='occupation'), ColumnDetail(type=<ColumnType.category: 'category'>, label='relationship'), ColumnDetail(type=<ColumnType.category: 'category'>, label='race'), ColumnDetail(type=<ColumnType.category: 'category'>, label='gender'), ColumnDetail(type=<ColumnType.float: 'float'>, label='capital-gain'), ColumnDetail(type=<ColumnType.float: 'float'>, label='capital-loss'), ColumnDetail(type=<ColumnType.float: 'float'>, label='hours-per-week'), ColumnDetail(type=<ColumnType.category: 'category'>, label='native-country'), ColumnDetail(type=<ColumnType.category: 'category'>, label='income')], download_url='http://localhost:8000/datasets/89b6e50b-5d25-4167-8e34-50598af7bdf3/download', analysis_status=None, analysis_duration=None, nb_lines=4884, nb_dimensions=122, summary=None), original_id=UUID('355ed518-65f3-421a-a834-7dfe40fc3009')), AvatarizationPerBatchResult(privacy_metrics=None, signal_metrics=None, avatars_dataset=Dataset(id=UUID('9e4c4211-d418-4bb6-b612-f9a0bdbc17b2'), hash='aaf62effc66f60873951f22cbabd6b75e8fd36a8c7310daa52f29d6ce95d9759', name=None, columns=[ColumnDetail(type=<ColumnType.float: 'float'>, label='age'), ColumnDetail(type=<ColumnType.category: 'category'>, label='workclass'), ColumnDetail(type=<ColumnType.float: 'float'>, label='fnlwgt'), ColumnDetail(type=<ColumnType.category: 'category'>, label='education'), ColumnDetail(type=<ColumnType.float: 'float'>, label='educational-num'), ColumnDetail(type=<ColumnType.category: 'category'>, label='marital-status'), ColumnDetail(type=<ColumnType.category: 'category'>, label='occupation'), ColumnDetail(type=<ColumnType.category: 'category'>, label='relationship'), ColumnDetail(type=<ColumnType.category: 'category'>, label='race'), ColumnDetail(type=<ColumnType.category: 'category'>, label='gender'), ColumnDetail(type=<ColumnType.float: 'float'>, label='capital-gain'), ColumnDetail(type=<ColumnType.float: 'float'>, label='capital-loss'), ColumnDetail(type=<ColumnType.float: 'float'>, label='hours-per-week'), ColumnDetail(type=<ColumnType.category: 'category'>, label='native-country'), ColumnDetail(type=<ColumnType.category: 'category'>, label='income')], download_url='http://localhost:8000/datasets/9e4c4211-d418-4bb6-b612-f9a0bdbc17b2/download', analysis_status=None, analysis_duration=None, nb_lines=4884, nb_dimensions=115, summary=None), sensitive_unshuffled_avatars_datasets=Dataset(id=UUID('dcd030b0-abbf-4f29-8b76-38f4e70f2adb'), hash='ab0e29d21f3eef5208effa4f2ed8dafb8298ad950ac72342d0c4da79569a9d1a', name=None, columns=[ColumnDetail(type=<ColumnType.float: 'float'>, label='age'), ColumnDetail(type=<ColumnType.category: 'category'>, label='workclass'), ColumnDetail(type=<ColumnType.float: 'float'>, label='fnlwgt'), ColumnDetail(type=<ColumnType.category: 'category'>, label='education'), ColumnDetail(type=<ColumnType.float: 'float'>, label='educational-num'), ColumnDetail(type=<ColumnType.category: 'category'>, label='marital-status'), ColumnDetail(type=<ColumnType.category: 'category'>, label='occupation'), ColumnDetail(type=<ColumnType.category: 'category'>, label='relationship'), ColumnDetail(type=<ColumnType.category: 'category'>, label='race'), ColumnDetail(type=<ColumnType.category: 'category'>, label='gender'), ColumnDetail(type=<ColumnType.float: 'float'>, label='capital-gain'), ColumnDetail(type=<ColumnType.float: 'float'>, label='capital-loss'), ColumnDetail(type=<ColumnType.float: 'float'>, label='hours-per-week'), ColumnDetail(type=<ColumnType.category: 'category'>, label='native-country'), ColumnDetail(type=<ColumnType.category: 'category'>, label='income')], download_url='http://localhost:8000/datasets/dcd030b0-abbf-4f29-8b76-38f4e70f2adb/download', analysis_status=None, analysis_duration=None, nb_lines=4884, nb_dimensions=123, summary=None), original_id=UUID('6244d02f-33df-4e9b-a867-bb2268ea939e')), AvatarizationPerBatchResult(privacy_metrics=None, signal_metrics=None, avatars_dataset=Dataset(id=UUID('8a5bd052-86ce-46ba-84ed-080c76257410'), hash='9eebf2e52e293a211334b430a280031bd403a74535b4108805cb2c168808eb24', name=None, columns=[ColumnDetail(type=<ColumnType.float: 'float'>, label='age'), ColumnDetail(type=<ColumnType.category: 'category'>, label='workclass'), ColumnDetail(type=<ColumnType.float: 'float'>, label='fnlwgt'), ColumnDetail(type=<ColumnType.category: 'category'>, label='education'), ColumnDetail(type=<ColumnType.float: 'float'>, label='educational-num'), ColumnDetail(type=<ColumnType.category: 'category'>, label='marital-status'), ColumnDetail(type=<ColumnType.category: 'category'>, label='occupation'), ColumnDetail(type=<ColumnType.category: 'category'>, label='relationship'), ColumnDetail(type=<ColumnType.category: 'category'>, label='race'), ColumnDetail(type=<ColumnType.category: 'category'>, label='gender'), ColumnDetail(type=<ColumnType.float: 'float'>, label='capital-gain'), ColumnDetail(type=<ColumnType.float: 'float'>, label='capital-loss'), ColumnDetail(type=<ColumnType.float: 'float'>, label='hours-per-week'), ColumnDetail(type=<ColumnType.category: 'category'>, label='native-country'), ColumnDetail(type=<ColumnType.category: 'category'>, label='income')], download_url='http://localhost:8000/datasets/8a5bd052-86ce-46ba-84ed-080c76257410/download', analysis_status=None, analysis_duration=None, nb_lines=4884, nb_dimensions=112, summary=None), sensitive_unshuffled_avatars_datasets=Dataset(id=UUID('2db35484-9b67-4d97-8cae-becdad6b35b4'), hash='94dfb10b52612c6590c780b3099de7502e568686e76fbc682f5a8bd72cb9d210', name=None, columns=[ColumnDetail(type=<ColumnType.float: 'float'>, label='age'), ColumnDetail(type=<ColumnType.category: 'category'>, label='workclass'), ColumnDetail(type=<ColumnType.float: 'float'>, label='fnlwgt'), ColumnDetail(type=<ColumnType.category: 'category'>, label='education'), ColumnDetail(type=<ColumnType.float: 'float'>, label='educational-num'), ColumnDetail(type=<ColumnType.category: 'category'>, label='marital-status'), ColumnDetail(type=<ColumnType.category: 'category'>, label='occupation'), ColumnDetail(type=<ColumnType.category: 'category'>, label='relationship'), ColumnDetail(type=<ColumnType.category: 'category'>, label='race'), ColumnDetail(type=<ColumnType.category: 'category'>, label='gender'), ColumnDetail(type=<ColumnType.float: 'float'>, label='capital-gain'), ColumnDetail(type=<ColumnType.float: 'float'>, label='capital-loss'), ColumnDetail(type=<ColumnType.float: 'float'>, label='hours-per-week'), ColumnDetail(type=<ColumnType.category: 'category'>, label='native-country'), ColumnDetail(type=<ColumnType.category: 'category'>, label='income')], download_url='http://localhost:8000/datasets/2db35484-9b67-4d97-8cae-becdad6b35b4/download', analysis_status=None, analysis_duration=None, nb_lines=4884, nb_dimensions=123, summary=None), original_id=UUID('075d1c5c-96e9-4abf-9789-6734e5dc88cd')), AvatarizationPerBatchResult(privacy_metrics=None, signal_metrics=None, avatars_dataset=Dataset(id=UUID('1ff573d8-6f63-4435-94d6-e1745afeb320'), hash='07cc7eb9b650f2d671babc6831b90e2913b6a9f2eb2d8310042e03665363fcd4', name=None, columns=[ColumnDetail(type=<ColumnType.float: 'float'>, label='age'), ColumnDetail(type=<ColumnType.category: 'category'>, label='workclass'), ColumnDetail(type=<ColumnType.float: 'float'>, label='fnlwgt'), ColumnDetail(type=<ColumnType.category: 'category'>, label='education'), ColumnDetail(type=<ColumnType.float: 'float'>, label='educational-num'), ColumnDetail(type=<ColumnType.category: 'category'>, label='marital-status'), ColumnDetail(type=<ColumnType.category: 'category'>, label='occupation'), ColumnDetail(type=<ColumnType.category: 'category'>, label='relationship'), ColumnDetail(type=<ColumnType.category: 'category'>, label='race'), ColumnDetail(type=<ColumnType.category: 'category'>, label='gender'), ColumnDetail(type=<ColumnType.float: 'float'>, label='capital-gain'), ColumnDetail(type=<ColumnType.float: 'float'>, label='capital-loss'), ColumnDetail(type=<ColumnType.float: 'float'>, label='hours-per-week'), ColumnDetail(type=<ColumnType.category: 'category'>, label='native-country'), ColumnDetail(type=<ColumnType.category: 'category'>, label='income')], download_url='http://localhost:8000/datasets/1ff573d8-6f63-4435-94d6-e1745afeb320/download', analysis_status=None, analysis_duration=None, nb_lines=4884, nb_dimensions=108, summary=None), sensitive_unshuffled_avatars_datasets=Dataset(id=UUID('55007ac1-e7e6-46ff-974c-67e0d580a7f9'), hash='bc777085412705f710bb87b62091147cf3e23b7ec524ee8fe788d25709646830', name=None, columns=[ColumnDetail(type=<ColumnType.float: 'float'>, label='age'), ColumnDetail(type=<ColumnType.category: 'category'>, label='workclass'), ColumnDetail(type=<ColumnType.float: 'float'>, label='fnlwgt'), ColumnDetail(type=<ColumnType.category: 'category'>, label='education'), ColumnDetail(type=<ColumnType.float: 'float'>, label='educational-num'), ColumnDetail(type=<ColumnType.category: 'category'>, label='marital-status'), ColumnDetail(type=<ColumnType.category: 'category'>, label='occupation'), ColumnDetail(type=<ColumnType.category: 'category'>, label='relationship'), ColumnDetail(type=<ColumnType.category: 'category'>, label='race'), ColumnDetail(type=<ColumnType.category: 'category'>, label='gender'), ColumnDetail(type=<ColumnType.float: 'float'>, label='capital-gain'), ColumnDetail(type=<ColumnType.float: 'float'>, label='capital-loss'), ColumnDetail(type=<ColumnType.float: 'float'>, label='hours-per-week'), ColumnDetail(type=<ColumnType.category: 'category'>, label='native-country'), ColumnDetail(type=<ColumnType.category: 'category'>, label='income')], download_url='http://localhost:8000/datasets/55007ac1-e7e6-46ff-974c-67e0d580a7f9/download', analysis_status=None, analysis_duration=None, nb_lines=4884, nb_dimensions=120, summary=None), original_id=UUID('35e7b958-e5e3-45c1-8b13-d9f834f518bb')), AvatarizationPerBatchResult(privacy_metrics=None, signal_metrics=None, avatars_dataset=Dataset(id=UUID('97d53092-c786-4a8b-a933-b2b64cf5d750'), hash='2535fea9a04f004b64dab3fe5f1b005777104c35e67f3f93f65875ee16cf37cf', name=None, columns=[ColumnDetail(type=<ColumnType.float: 'float'>, label='age'), ColumnDetail(type=<ColumnType.category: 'category'>, label='workclass'), ColumnDetail(type=<ColumnType.float: 'float'>, label='fnlwgt'), ColumnDetail(type=<ColumnType.category: 'category'>, label='education'), ColumnDetail(type=<ColumnType.float: 'float'>, label='educational-num'), ColumnDetail(type=<ColumnType.category: 'category'>, label='marital-status'), ColumnDetail(type=<ColumnType.category: 'category'>, label='occupation'), ColumnDetail(type=<ColumnType.category: 'category'>, label='relationship'), ColumnDetail(type=<ColumnType.category: 'category'>, label='race'), ColumnDetail(type=<ColumnType.category: 'category'>, label='gender'), ColumnDetail(type=<ColumnType.float: 'float'>, label='capital-gain'), ColumnDetail(type=<ColumnType.float: 'float'>, label='capital-loss'), ColumnDetail(type=<ColumnType.float: 'float'>, label='hours-per-week'), ColumnDetail(type=<ColumnType.category: 'category'>, label='native-country'), ColumnDetail(type=<ColumnType.category: 'category'>, label='income')], download_url='http://localhost:8000/datasets/97d53092-c786-4a8b-a933-b2b64cf5d750/download', analysis_status=None, analysis_duration=None, nb_lines=4884, nb_dimensions=116, summary=None), sensitive_unshuffled_avatars_datasets=Dataset(id=UUID('e12dfe0c-cb09-4aa5-a1dc-25fdbc82533d'), hash='14a2f959cfd9f58b88035b35aabe122f1515485ae8db8da8a9a5b30c3d10d709', name=None, columns=[ColumnDetail(type=<ColumnType.float: 'float'>, label='age'), ColumnDetail(type=<ColumnType.category: 'category'>, label='workclass'), ColumnDetail(type=<ColumnType.float: 'float'>, label='fnlwgt'), ColumnDetail(type=<ColumnType.category: 'category'>, label='education'), ColumnDetail(type=<ColumnType.float: 'float'>, label='educational-num'), ColumnDetail(type=<ColumnType.category: 'category'>, label='marital-status'), ColumnDetail(type=<ColumnType.category: 'category'>, label='occupation'), ColumnDetail(type=<ColumnType.category: 'category'>, label='relationship'), ColumnDetail(type=<ColumnType.category: 'category'>, label='race'), ColumnDetail(type=<ColumnType.category: 'category'>, label='gender'), ColumnDetail(type=<ColumnType.float: 'float'>, label='capital-gain'), ColumnDetail(type=<ColumnType.float: 'float'>, label='capital-loss'), ColumnDetail(type=<ColumnType.float: 'float'>, label='hours-per-week'), ColumnDetail(type=<ColumnType.category: 'category'>, label='native-country'), ColumnDetail(type=<ColumnType.category: 'category'>, label='income')], download_url='http://localhost:8000/datasets/e12dfe0c-cb09-4aa5-a1dc-25fdbc82533d/download', analysis_status=None, analysis_duration=None, nb_lines=4884, nb_dimensions=121, summary=None), original_id=UUID('df37283b-489d-4113-a2ba-444afea1ff1c')), AvatarizationPerBatchResult(privacy_metrics=None, signal_metrics=None, avatars_dataset=Dataset(id=UUID('2bd6f875-79be-404f-824b-77670b9d36e2'), hash='d01a62b52f1cf014d06bd22a304fea9eae0acf0e6509e2afc0f0dab344584321', name=None, columns=[ColumnDetail(type=<ColumnType.float: 'float'>, label='age'), ColumnDetail(type=<ColumnType.category: 'category'>, label='workclass'), ColumnDetail(type=<ColumnType.float: 'float'>, label='fnlwgt'), ColumnDetail(type=<ColumnType.category: 'category'>, label='education'), ColumnDetail(type=<ColumnType.float: 'float'>, label='educational-num'), ColumnDetail(type=<ColumnType.category: 'category'>, label='marital-status'), ColumnDetail(type=<ColumnType.category: 'category'>, label='occupation'), ColumnDetail(type=<ColumnType.category: 'category'>, label='relationship'), ColumnDetail(type=<ColumnType.category: 'category'>, label='race'), ColumnDetail(type=<ColumnType.category: 'category'>, label='gender'), ColumnDetail(type=<ColumnType.float: 'float'>, label='capital-gain'), ColumnDetail(type=<ColumnType.float: 'float'>, label='capital-loss'), ColumnDetail(type=<ColumnType.float: 'float'>, label='hours-per-week'), ColumnDetail(type=<ColumnType.category: 'category'>, label='native-country'), ColumnDetail(type=<ColumnType.category: 'category'>, label='income')], download_url='http://localhost:8000/datasets/2bd6f875-79be-404f-824b-77670b9d36e2/download', analysis_status=None, analysis_duration=None, nb_lines=4884, nb_dimensions=115, summary=None), sensitive_unshuffled_avatars_datasets=Dataset(id=UUID('f2d653d6-ef86-44f8-b97f-37185d3b2686'), hash='895d609075c34f8bf283c6fbe47185e93124c81e1d3e7607de878696330dd6c5', name=None, columns=[ColumnDetail(type=<ColumnType.float: 'float'>, label='age'), ColumnDetail(type=<ColumnType.category: 'category'>, label='workclass'), ColumnDetail(type=<ColumnType.float: 'float'>, label='fnlwgt'), ColumnDetail(type=<ColumnType.category: 'category'>, label='education'), ColumnDetail(type=<ColumnType.float: 'float'>, label='educational-num'), ColumnDetail(type=<ColumnType.category: 'category'>, label='marital-status'), ColumnDetail(type=<ColumnType.category: 'category'>, label='occupation'), ColumnDetail(type=<ColumnType.category: 'category'>, label='relationship'), ColumnDetail(type=<ColumnType.category: 'category'>, label='race'), ColumnDetail(type=<ColumnType.category: 'category'>, label='gender'), ColumnDetail(type=<ColumnType.float: 'float'>, label='capital-gain'), ColumnDetail(type=<ColumnType.float: 'float'>, label='capital-loss'), ColumnDetail(type=<ColumnType.float: 'float'>, label='hours-per-week'), ColumnDetail(type=<ColumnType.category: 'category'>, label='native-country'), ColumnDetail(type=<ColumnType.category: 'category'>, label='income')], download_url='http://localhost:8000/datasets/f2d653d6-ef86-44f8-b97f-37185d3b2686/download', analysis_status=None, analysis_duration=None, nb_lines=4884, nb_dimensions=123, summary=None), original_id=UUID('b4bc7a51-376f-4d12-b2c3-43d811729b10')), AvatarizationPerBatchResult(privacy_metrics=None, signal_metrics=None, avatars_dataset=Dataset(id=UUID('1cd31c28-da5f-4d07-a0fa-0bdd40f32f3a'), hash='423cf4ab1e8511edff51b6da3321d1e8cac690e269aef12b51a928b4ab201351', name=None, columns=[ColumnDetail(type=<ColumnType.float: 'float'>, label='age'), ColumnDetail(type=<ColumnType.category: 'category'>, label='workclass'), ColumnDetail(type=<ColumnType.float: 'float'>, label='fnlwgt'), ColumnDetail(type=<ColumnType.category: 'category'>, label='education'), ColumnDetail(type=<ColumnType.float: 'float'>, label='educational-num'), ColumnDetail(type=<ColumnType.category: 'category'>, label='marital-status'), ColumnDetail(type=<ColumnType.category: 'category'>, label='occupation'), ColumnDetail(type=<ColumnType.category: 'category'>, label='relationship'), ColumnDetail(type=<ColumnType.category: 'category'>, label='race'), ColumnDetail(type=<ColumnType.category: 'category'>, label='gender'), ColumnDetail(type=<ColumnType.float: 'float'>, label='capital-gain'), ColumnDetail(type=<ColumnType.float: 'float'>, label='capital-loss'), ColumnDetail(type=<ColumnType.float: 'float'>, label='hours-per-week'), ColumnDetail(type=<ColumnType.category: 'category'>, label='native-country'), ColumnDetail(type=<ColumnType.category: 'category'>, label='income')], download_url='http://localhost:8000/datasets/1cd31c28-da5f-4d07-a0fa-0bdd40f32f3a/download', analysis_status=None, analysis_duration=None, nb_lines=4884, nb_dimensions=116, summary=None), sensitive_unshuffled_avatars_datasets=Dataset(id=UUID('36e0c287-e205-4c66-9759-866fa17dad68'), hash='8aaeb0e57bf35033ed83ccf44fdcc1118318a37484a36b15ff737427fda908b6', name=None, columns=[ColumnDetail(type=<ColumnType.float: 'float'>, label='age'), ColumnDetail(type=<ColumnType.category: 'category'>, label='workclass'), ColumnDetail(type=<ColumnType.float: 'float'>, label='fnlwgt'), ColumnDetail(type=<ColumnType.category: 'category'>, label='education'), ColumnDetail(type=<ColumnType.float: 'float'>, label='educational-num'), ColumnDetail(type=<ColumnType.category: 'category'>, label='marital-status'), ColumnDetail(type=<ColumnType.category: 'category'>, label='occupation'), ColumnDetail(type=<ColumnType.category: 'category'>, label='relationship'), ColumnDetail(type=<ColumnType.category: 'category'>, label='race'), ColumnDetail(type=<ColumnType.category: 'category'>, label='gender'), ColumnDetail(type=<ColumnType.float: 'float'>, label='capital-gain'), ColumnDetail(type=<ColumnType.float: 'float'>, label='capital-loss'), ColumnDetail(type=<ColumnType.float: 'float'>, label='hours-per-week'), ColumnDetail(type=<ColumnType.category: 'category'>, label='native-country'), ColumnDetail(type=<ColumnType.category: 'category'>, label='income')], download_url='http://localhost:8000/datasets/36e0c287-e205-4c66-9759-866fa17dad68/download', analysis_status=None, analysis_duration=None, nb_lines=4884, nb_dimensions=119, summary=None), original_id=UUID('cf742128-9343-4f2e-85e2-27c48402079b')), AvatarizationPerBatchResult(privacy_metrics=None, signal_metrics=None, avatars_dataset=Dataset(id=UUID('75ac087b-c807-4d21-b25b-fd1f7d9ef0b7'), hash='9ddbb621f6d50a0b12a5faf68c1d766194b2780c8fe592e5d437de5d98475def', name=None, columns=[ColumnDetail(type=<ColumnType.float: 'float'>, label='age'), ColumnDetail(type=<ColumnType.category: 'category'>, label='workclass'), ColumnDetail(type=<ColumnType.float: 'float'>, label='fnlwgt'), ColumnDetail(type=<ColumnType.category: 'category'>, label='education'), ColumnDetail(type=<ColumnType.float: 'float'>, label='educational-num'), ColumnDetail(type=<ColumnType.category: 'category'>, label='marital-status'), ColumnDetail(type=<ColumnType.category: 'category'>, label='occupation'), ColumnDetail(type=<ColumnType.category: 'category'>, label='relationship'), ColumnDetail(type=<ColumnType.category: 'category'>, label='race'), ColumnDetail(type=<ColumnType.category: 'category'>, label='gender'), ColumnDetail(type=<ColumnType.float: 'float'>, label='capital-gain'), ColumnDetail(type=<ColumnType.float: 'float'>, label='capital-loss'), ColumnDetail(type=<ColumnType.float: 'float'>, label='hours-per-week'), ColumnDetail(type=<ColumnType.category: 'category'>, label='native-country'), ColumnDetail(type=<ColumnType.category: 'category'>, label='income')], download_url='http://localhost:8000/datasets/75ac087b-c807-4d21-b25b-fd1f7d9ef0b7/download', analysis_status=None, analysis_duration=None, nb_lines=4884, nb_dimensions=112, summary=None), sensitive_unshuffled_avatars_datasets=Dataset(id=UUID('e1c87fe5-b050-4598-899d-e3ba01d7427c'), hash='c4a7603f14a93a7d61a4a19a5c9c78d4b51294fd990dfa3d59a7065e62d45490', name=None, columns=[ColumnDetail(type=<ColumnType.float: 'float'>, label='age'), ColumnDetail(type=<ColumnType.category: 'category'>, label='workclass'), ColumnDetail(type=<ColumnType.float: 'float'>, label='fnlwgt'), ColumnDetail(type=<ColumnType.category: 'category'>, label='education'), ColumnDetail(type=<ColumnType.float: 'float'>, label='educational-num'), ColumnDetail(type=<ColumnType.category: 'category'>, label='marital-status'), ColumnDetail(type=<ColumnType.category: 'category'>, label='occupation'), ColumnDetail(type=<ColumnType.category: 'category'>, label='relationship'), ColumnDetail(type=<ColumnType.category: 'category'>, label='race'), ColumnDetail(type=<ColumnType.category: 'category'>, label='gender'), ColumnDetail(type=<ColumnType.float: 'float'>, label='capital-gain'), ColumnDetail(type=<ColumnType.float: 'float'>, label='capital-loss'), ColumnDetail(type=<ColumnType.float: 'float'>, label='hours-per-week'), ColumnDetail(type=<ColumnType.category: 'category'>, label='native-country'), ColumnDetail(type=<ColumnType.category: 'category'>, label='income')], download_url='http://localhost:8000/datasets/e1c87fe5-b050-4598-899d-e3ba01d7427c/download', analysis_status=None, analysis_duration=None, nb_lines=4884, nb_dimensions=121, summary=None), original_id=UUID('d71d4566-2782-435f-b498-475156f1fbd5'))]), parameters=AvatarizationBatchParameters(k=20, column_weights=None, ncp=None, seed=None, imputation=ImputationParameters(method=<ImputeMethod.mean: 'mean'>, k=None, training_fraction=None), use_categorical_reduction=None, to_categorical_threshold=None, exclude_categorical=None, training_dataset_id=UUID('b4e59c58-aafd-4d93-9287-10519f33bab9'), dataset_ids=[UUID('893f0e29-d50d-493d-a4bf-e6234baae1a7'), UUID('355ed518-65f3-421a-a834-7dfe40fc3009'), UUID('6244d02f-33df-4e9b-a867-bb2268ea939e'), UUID('075d1c5c-96e9-4abf-9789-6734e5dc88cd'), UUID('35e7b958-e5e3-45c1-8b13-d9f834f518bb'), UUID('df37283b-489d-4113-a2ba-444afea1ff1c'), UUID('b4bc7a51-376f-4d12-b2c3-43d811729b10'), UUID('cf742128-9343-4f2e-85e2-27c48402079b'), UUID('d71d4566-2782-435f-b498-475156f1fbd5')]), current_progress=JobProgress(completion_rate_100=100, name='postprocessing:DatetimeProcessor', created_at=datetime.datetime(2023, 5, 24, 15, 52, 4, 534860, tzinfo=datetime.timezone.utc)))"
      ]
     },
     "execution_count": 7,
     "metadata": {},
     "output_type": "execute_result"
    }
   ],
   "source": [
    "batch_job = client.jobs.get_avatarization_batch_job(batch_job.id, timeout=10000)\n",
    "batch_job"
   ]
  },
  {
   "attachments": {},
   "cell_type": "markdown",
   "metadata": {},
   "source": [
    "## Launch privacy metric per batch"
   ]
  },
  {
   "cell_type": "code",
   "execution_count": 8,
   "metadata": {},
   "outputs": [
    {
     "name": "stdout",
     "output_type": "stream",
     "text": [
      "Mean metrics\n",
      "Worst metrics\n",
      "hidden_rate=98.78186098884225 local_cloaking=53.0 distance_to_closest=3.6061315536499023 closest_distances_ratio=0.8707497535858303 column_direct_match_protection=98.12479411680786 categorical_hidden_rate=99.53092934623278 row_direct_match_protection=100.0 correlation_protection_rate=None inference_continuous=None inference_categorical=None closest_rate=None\n"
     ]
    }
   ],
   "source": [
    "privacy_job_ref = client.jobs.create_privacy_metrics_batch_job(\n",
    "        PrivacyMetricsBatchJobCreate(\n",
    "            parameters=PrivacyMetricsBatchParameters(\n",
    "                avatarization_batch_job_id=batch_job.id,\n",
    "                common_parameters=PrivacyMetricsBaseParameters(\n",
    "                    imputation=ImputationParameters(method=ImputeMethod.mean)\n",
    "                )\n",
    "            ),\n",
    "        )\n",
    "    )\n",
    "privacy_job = client.jobs.get_privacy_metrics_batch_job(privacy_job_ref.id, timeout=100000)\n",
    "\n",
    "print(\"Mean metrics\")\n",
    "# print(privacy_job.result.mean_metrics)\n",
    "\n",
    "print(\"Worst metrics\")\n",
    "print(privacy_job.result.worst_metrics)"
   ]
  },
  {
   "attachments": {},
   "cell_type": "markdown",
   "metadata": {},
   "source": [
    "## Launch signal metrics per batch \n"
   ]
  },
  {
   "cell_type": "code",
   "execution_count": 9,
   "metadata": {},
   "outputs": [
    {
     "name": "stdout",
     "output_type": "stream",
     "text": [
      "Mean metrics\n",
      "hellinger_mean=0.10215207881001524 hellinger_std=0.11593553089369964 correlation_difference_ratio=1.8754241800610578\n"
     ]
    }
   ],
   "source": [
    "signal_job_ref = client.jobs.create_signal_metrics_batch_job(\n",
    "        SignalMetricsBatchJobCreate(\n",
    "            parameters=SignalMetricsBatchParameters(\n",
    "                avatarization_batch_job_id=batch_job.id,\n",
    "                common_parameters=SignalMetricsBaseParameters()\n",
    "            ),\n",
    "        )\n",
    "    )\n",
    "signal_job = client.jobs.get_signal_metrics_batch_job(signal_job_ref.id)\n",
    "\n",
    "print(\"Mean metrics\")\n",
    "print(signal_job.result.mean_metrics)\n",
    "\n"
   ]
  },
  {
   "attachments": {},
   "cell_type": "markdown",
   "metadata": {},
   "source": [
    "## Built the anonymized dataset\n",
    "\n"
   ]
  },
  {
   "cell_type": "code",
   "execution_count": 8,
   "metadata": {},
   "outputs": [],
   "source": [
    "avatars = get_avatar_dataset_from_batch_result(batch_job, client=client)"
   ]
  },
  {
   "cell_type": "code",
   "execution_count": 9,
   "metadata": {},
   "outputs": [
    {
     "data": {
      "text/html": [
       "<div>\n",
       "<style scoped>\n",
       "    .dataframe tbody tr th:only-of-type {\n",
       "        vertical-align: middle;\n",
       "    }\n",
       "\n",
       "    .dataframe tbody tr th {\n",
       "        vertical-align: top;\n",
       "    }\n",
       "\n",
       "    .dataframe thead th {\n",
       "        text-align: right;\n",
       "    }\n",
       "</style>\n",
       "<table border=\"1\" class=\"dataframe\">\n",
       "  <thead>\n",
       "    <tr style=\"text-align: right;\">\n",
       "      <th></th>\n",
       "      <th>age</th>\n",
       "      <th>workclass</th>\n",
       "      <th>fnlwgt</th>\n",
       "      <th>education</th>\n",
       "      <th>educational-num</th>\n",
       "      <th>marital-status</th>\n",
       "      <th>occupation</th>\n",
       "      <th>relationship</th>\n",
       "      <th>race</th>\n",
       "      <th>gender</th>\n",
       "      <th>capital-gain</th>\n",
       "      <th>capital-loss</th>\n",
       "      <th>hours-per-week</th>\n",
       "      <th>native-country</th>\n",
       "      <th>income</th>\n",
       "    </tr>\n",
       "  </thead>\n",
       "  <tbody>\n",
       "    <tr>\n",
       "      <th>0</th>\n",
       "      <td>26.0</td>\n",
       "      <td>Private</td>\n",
       "      <td>202801.0</td>\n",
       "      <td>Some-college</td>\n",
       "      <td>10.0</td>\n",
       "      <td>Never-married</td>\n",
       "      <td>NaN</td>\n",
       "      <td>Not-in-family</td>\n",
       "      <td>White</td>\n",
       "      <td>Male</td>\n",
       "      <td>0.0</td>\n",
       "      <td>0.0</td>\n",
       "      <td>37.0</td>\n",
       "      <td>United-States</td>\n",
       "      <td>&lt;=50K</td>\n",
       "    </tr>\n",
       "    <tr>\n",
       "      <th>1</th>\n",
       "      <td>42.0</td>\n",
       "      <td>NaN</td>\n",
       "      <td>206354.0</td>\n",
       "      <td>HS-grad</td>\n",
       "      <td>9.0</td>\n",
       "      <td>Married-civ-spouse</td>\n",
       "      <td>Transport-moving</td>\n",
       "      <td>Husband</td>\n",
       "      <td>White</td>\n",
       "      <td>Male</td>\n",
       "      <td>0.0</td>\n",
       "      <td>0.0</td>\n",
       "      <td>41.0</td>\n",
       "      <td>United-States</td>\n",
       "      <td>&lt;=50K</td>\n",
       "    </tr>\n",
       "    <tr>\n",
       "      <th>2</th>\n",
       "      <td>22.0</td>\n",
       "      <td>Local-gov</td>\n",
       "      <td>209281.0</td>\n",
       "      <td>Assoc-voc</td>\n",
       "      <td>11.0</td>\n",
       "      <td>Never-married</td>\n",
       "      <td>Adm-clerical</td>\n",
       "      <td>NaN</td>\n",
       "      <td>White</td>\n",
       "      <td>Female</td>\n",
       "      <td>0.0</td>\n",
       "      <td>0.0</td>\n",
       "      <td>36.0</td>\n",
       "      <td>United-States</td>\n",
       "      <td>&lt;=50K</td>\n",
       "    </tr>\n",
       "    <tr>\n",
       "      <th>3</th>\n",
       "      <td>35.0</td>\n",
       "      <td>NaN</td>\n",
       "      <td>226918.0</td>\n",
       "      <td>NaN</td>\n",
       "      <td>NaN</td>\n",
       "      <td>Married-civ-spouse</td>\n",
       "      <td>Craft-repair</td>\n",
       "      <td>NaN</td>\n",
       "      <td>Black</td>\n",
       "      <td>Male</td>\n",
       "      <td>0.0</td>\n",
       "      <td>0.0</td>\n",
       "      <td>38.0</td>\n",
       "      <td>United-States</td>\n",
       "      <td>&lt;=50K</td>\n",
       "    </tr>\n",
       "    <tr>\n",
       "      <th>4</th>\n",
       "      <td>49.0</td>\n",
       "      <td>Self-emp-not-inc</td>\n",
       "      <td>76017.0</td>\n",
       "      <td>HS-grad</td>\n",
       "      <td>9.0</td>\n",
       "      <td>Never-married</td>\n",
       "      <td>Farming-fishing</td>\n",
       "      <td>Not-in-family</td>\n",
       "      <td>White</td>\n",
       "      <td>Male</td>\n",
       "      <td>0.0</td>\n",
       "      <td>0.0</td>\n",
       "      <td>40.0</td>\n",
       "      <td>United-States</td>\n",
       "      <td>&lt;=50K</td>\n",
       "    </tr>\n",
       "    <tr>\n",
       "      <th>...</th>\n",
       "      <td>...</td>\n",
       "      <td>...</td>\n",
       "      <td>...</td>\n",
       "      <td>...</td>\n",
       "      <td>...</td>\n",
       "      <td>...</td>\n",
       "      <td>...</td>\n",
       "      <td>...</td>\n",
       "      <td>...</td>\n",
       "      <td>...</td>\n",
       "      <td>...</td>\n",
       "      <td>...</td>\n",
       "      <td>...</td>\n",
       "      <td>...</td>\n",
       "      <td>...</td>\n",
       "    </tr>\n",
       "    <tr>\n",
       "      <th>4879</th>\n",
       "      <td>21.0</td>\n",
       "      <td>?</td>\n",
       "      <td>394152.0</td>\n",
       "      <td>NaN</td>\n",
       "      <td>NaN</td>\n",
       "      <td>Never-married</td>\n",
       "      <td>NaN</td>\n",
       "      <td>Own-child</td>\n",
       "      <td>NaN</td>\n",
       "      <td>Female</td>\n",
       "      <td>1.0</td>\n",
       "      <td>0.0</td>\n",
       "      <td>40.0</td>\n",
       "      <td>United-States</td>\n",
       "      <td>&lt;=50K</td>\n",
       "    </tr>\n",
       "    <tr>\n",
       "      <th>4880</th>\n",
       "      <td>36.0</td>\n",
       "      <td>Private</td>\n",
       "      <td>115347.0</td>\n",
       "      <td>NaN</td>\n",
       "      <td>11.0</td>\n",
       "      <td>Married-civ-spouse</td>\n",
       "      <td>Prof-specialty</td>\n",
       "      <td>Husband</td>\n",
       "      <td>White</td>\n",
       "      <td>Male</td>\n",
       "      <td>2.0</td>\n",
       "      <td>0.0</td>\n",
       "      <td>46.0</td>\n",
       "      <td>United-States</td>\n",
       "      <td>&lt;=50K</td>\n",
       "    </tr>\n",
       "    <tr>\n",
       "      <th>4881</th>\n",
       "      <td>53.0</td>\n",
       "      <td>Private</td>\n",
       "      <td>124768.0</td>\n",
       "      <td>12th</td>\n",
       "      <td>8.0</td>\n",
       "      <td>Married-civ-spouse</td>\n",
       "      <td>Transport-moving</td>\n",
       "      <td>Husband</td>\n",
       "      <td>White</td>\n",
       "      <td>Male</td>\n",
       "      <td>0.0</td>\n",
       "      <td>0.0</td>\n",
       "      <td>40.0</td>\n",
       "      <td>United-States</td>\n",
       "      <td>&lt;=50K</td>\n",
       "    </tr>\n",
       "    <tr>\n",
       "      <th>4882</th>\n",
       "      <td>25.0</td>\n",
       "      <td>NaN</td>\n",
       "      <td>97607.0</td>\n",
       "      <td>Some-college</td>\n",
       "      <td>NaN</td>\n",
       "      <td>Never-married</td>\n",
       "      <td>Sales</td>\n",
       "      <td>Own-child</td>\n",
       "      <td>White</td>\n",
       "      <td>Male</td>\n",
       "      <td>0.0</td>\n",
       "      <td>0.0</td>\n",
       "      <td>42.0</td>\n",
       "      <td>United-States</td>\n",
       "      <td>&lt;=50K</td>\n",
       "    </tr>\n",
       "    <tr>\n",
       "      <th>4883</th>\n",
       "      <td>38.0</td>\n",
       "      <td>Private</td>\n",
       "      <td>330957.0</td>\n",
       "      <td>NaN</td>\n",
       "      <td>11.0</td>\n",
       "      <td>Married-civ-spouse</td>\n",
       "      <td>Prof-specialty</td>\n",
       "      <td>Husband</td>\n",
       "      <td>Asian-Pac-Islander</td>\n",
       "      <td>Male</td>\n",
       "      <td>0.0</td>\n",
       "      <td>0.0</td>\n",
       "      <td>37.0</td>\n",
       "      <td>Philippines</td>\n",
       "      <td>NaN</td>\n",
       "    </tr>\n",
       "  </tbody>\n",
       "</table>\n",
       "<p>48842 rows × 15 columns</p>\n",
       "</div>"
      ],
      "text/plain": [
       "       age         workclass    fnlwgt     education  educational-num  \\\n",
       "0     26.0           Private  202801.0  Some-college             10.0   \n",
       "1     42.0               NaN  206354.0       HS-grad              9.0   \n",
       "2     22.0         Local-gov  209281.0     Assoc-voc             11.0   \n",
       "3     35.0               NaN  226918.0           NaN              NaN   \n",
       "4     49.0  Self-emp-not-inc   76017.0       HS-grad              9.0   \n",
       "...    ...               ...       ...           ...              ...   \n",
       "4879  21.0                 ?  394152.0           NaN              NaN   \n",
       "4880  36.0           Private  115347.0           NaN             11.0   \n",
       "4881  53.0           Private  124768.0          12th              8.0   \n",
       "4882  25.0               NaN   97607.0  Some-college              NaN   \n",
       "4883  38.0           Private  330957.0           NaN             11.0   \n",
       "\n",
       "          marital-status        occupation   relationship                race  \\\n",
       "0          Never-married               NaN  Not-in-family               White   \n",
       "1     Married-civ-spouse  Transport-moving        Husband               White   \n",
       "2          Never-married      Adm-clerical            NaN               White   \n",
       "3     Married-civ-spouse      Craft-repair            NaN               Black   \n",
       "4          Never-married   Farming-fishing  Not-in-family               White   \n",
       "...                  ...               ...            ...                 ...   \n",
       "4879       Never-married               NaN      Own-child                 NaN   \n",
       "4880  Married-civ-spouse    Prof-specialty        Husband               White   \n",
       "4881  Married-civ-spouse  Transport-moving        Husband               White   \n",
       "4882       Never-married             Sales      Own-child               White   \n",
       "4883  Married-civ-spouse    Prof-specialty        Husband  Asian-Pac-Islander   \n",
       "\n",
       "      gender  capital-gain  capital-loss  hours-per-week native-country income  \n",
       "0       Male           0.0           0.0            37.0  United-States  <=50K  \n",
       "1       Male           0.0           0.0            41.0  United-States  <=50K  \n",
       "2     Female           0.0           0.0            36.0  United-States  <=50K  \n",
       "3       Male           0.0           0.0            38.0  United-States  <=50K  \n",
       "4       Male           0.0           0.0            40.0  United-States  <=50K  \n",
       "...      ...           ...           ...             ...            ...    ...  \n",
       "4879  Female           1.0           0.0            40.0  United-States  <=50K  \n",
       "4880    Male           2.0           0.0            46.0  United-States  <=50K  \n",
       "4881    Male           0.0           0.0            40.0  United-States  <=50K  \n",
       "4882    Male           0.0           0.0            42.0  United-States  <=50K  \n",
       "4883    Male           0.0           0.0            37.0    Philippines    NaN  \n",
       "\n",
       "[48842 rows x 15 columns]"
      ]
     },
     "execution_count": 9,
     "metadata": {},
     "output_type": "execute_result"
    }
   ],
   "source": [
    "avatars"
   ]
  },
  {
   "cell_type": "code",
   "execution_count": 4,
   "metadata": {},
   "outputs": [],
   "source": [
    "df = pd.DataFrame(\n",
    "    data={\n",
    "         \"a\": [1, 3, 5, 1, 3, 5, 1, 3, 5, 1, 3, 5],\n",
    "         \"b\": [\"a\", \"b\", \"a\", \"a\", \"b\", \"a\", \"a\", \"b\", \"a\", \"a\", \"b\", \"a\"],\n",
    "         }\n",
    "     )"
   ]
  },
  {
   "cell_type": "code",
   "execution_count": 6,
   "metadata": {},
   "outputs": [],
   "source": [
    "from avatars.api import upload_batch_and_get_order\n",
    "\n",
    "train, splits = get_split_for_batch(df, row_limit=6, seed=42)\n",
    "\n",
    "ref, dataset_splits, order = upload_batch_and_get_order(train, splits, client=client)"
   ]
  },
  {
   "cell_type": "code",
   "execution_count": 7,
   "metadata": {},
   "outputs": [
    {
     "data": {
      "text/plain": [
       "{UUID('630bddae-3b24-4ce4-b274-d5bcee97f027'): Int64Index([0, 1, 10, 3, 7, 2], dtype='int64'),\n",
       " UUID('3e83251e-2236-4a86-ba27-a1fef14e9642'): Int64Index([9, 4, 11, 6, 5, 8], dtype='int64')}"
      ]
     },
     "execution_count": 7,
     "metadata": {},
     "output_type": "execute_result"
    }
   ],
   "source": [
    "order"
   ]
  },
  {
   "cell_type": "code",
   "execution_count": null,
   "metadata": {},
   "outputs": [],
   "source": []
  }
 ],
 "metadata": {
  "kernelspec": {
   "display_name": ".venv",
   "language": "python",
   "name": "python3"
  },
  "language_info": {
   "codemirror_mode": {
    "name": "ipython",
    "version": 3
   },
   "file_extension": ".py",
   "mimetype": "text/x-python",
   "name": "python",
   "nbconvert_exporter": "python",
   "pygments_lexer": "ipython3",
   "version": "3.9.16"
  }
 },
 "nbformat": 4,
 "nbformat_minor": 2
}
