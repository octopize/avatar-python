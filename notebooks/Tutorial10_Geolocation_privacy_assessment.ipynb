{
 "cells": [
  {
   "cell_type": "markdown",
   "id": "d9dedea0",
   "metadata": {},
   "source": [
    "# Tutorial 10: Geolocation privacy assessment"
   ]
  },
  {
   "cell_type": "markdown",
   "id": "272b8b07",
   "metadata": {},
   "source": [
    "In this tutorial, we demonstrate how to run a privacy assessment on geolocation trace data using an original dataset and a treated version of the same data. "
   ]
  },
  {
   "cell_type": "markdown",
   "id": "0d19851f",
   "metadata": {},
   "source": [
    "## Connection"
   ]
  },
  {
   "cell_type": "code",
   "execution_count": null,
   "id": "f57dff28",
   "metadata": {},
   "outputs": [],
   "source": [
    "import os\n",
    "import matplotlib.pyplot as plt\n",
    "import seaborn as sns\n",
    "\n",
    "url = os.environ.get(\"AVATAR_BASE_URL\")\n",
    "username = os.environ.get(\"AVATAR_USERNAME\")\n",
    "password = os.environ.get(\"AVATAR_PASSWORD\")"
   ]
  },
  {
   "cell_type": "code",
   "execution_count": null,
   "id": "8218db7f",
   "metadata": {},
   "outputs": [],
   "source": [
    "# This is the client that you'll be using for all of your requests\n",
    "from avatars.client import ApiClient\n",
    "from avatars.models import (\n",
    "    AvatarizationJobCreate,\n",
    "    AvatarizationParameters,\n",
    "    GeolocationDensityParameters,\n",
    "    GeolocationFeatures,\n",
    "    GeolocationFeaturesParameters,\n",
    "    JobStatus,\n",
    "    PointOfInterest,\n",
    "    PrivacyMetricsGeolocationJobCreate,\n",
    "    PrivacyMetricsGeolocationParameters,\n",
    "    PrivacyMetricsGeolocationScenario,\n",
    "    ReportGeolocationPrivacyCreate,\n",
    "    SignalPosition,\n",
    ")\n",
    "\n",
    "import pandas as pd\n",
    "import io\n",
    "\n",
    "# Change this to your actual server endpoint, e.g. base_url=\"https://avatar.company.com\"\n",
    "client = ApiClient(base_url=url)\n",
    "client.authenticate(username=username, password=password)"
   ]
  },
  {
   "cell_type": "code",
   "execution_count": null,
   "id": "bd6359a6",
   "metadata": {},
   "outputs": [],
   "source": [
    "# Verify that we can connect to the API server\n",
    "client.health.get_health()\n",
    "\n",
    "# Verify that the client is compatible.\n",
    "client.compatibility.is_client_compatible()"
   ]
  },
  {
   "cell_type": "markdown",
   "id": "d7b6e2e1",
   "metadata": {},
   "source": [
    "## Loading data"
   ]
  },
  {
   "cell_type": "markdown",
   "id": "d21eac5a",
   "metadata": {},
   "source": [
    "In this tutorial, we use the Porto taxis dataset, an open dataset often used to demonstrate geolocation data functionalities. The dataset is prepared to fit the format required by the geolocation privacy assessment feature, i.e. it contains the following columns: `id`, `t`, `lat` and `lon`."
   ]
  },
  {
   "cell_type": "code",
   "execution_count": null,
   "id": "91f08768",
   "metadata": {},
   "outputs": [],
   "source": [
    "original_df = pd.read_csv(\"../fixtures/porto_taxi_200.csv\")\n",
    "original_df"
   ]
  },
  {
   "cell_type": "markdown",
   "id": "2ec8fe07",
   "metadata": {},
   "source": [
    "To demonstrate the privacy assessment, we will use two versions of the same data that have been altered in order to protect the privacy of the individuals, i.e. the drivers of the vehicles. Each version is treated following two distinct approaches:\n",
    "- the first dataset (`trimmed_df`) is obtained by trimming / removing the start and end points of each trip.\n",
    "- the second dataset (`noised_df`) is also obtained by trimming trips' start and end but noise is also added to each point.\n",
    "\n",
    "It is important to note that for the privacy assessment to be possible, the identifier (column `id`) need to be consistent across the datasets."
   ]
  },
  {
   "cell_type": "code",
   "execution_count": null,
   "id": "9c2b9b25",
   "metadata": {},
   "outputs": [],
   "source": [
    "trimmed_df = pd.read_csv(\"../fixtures/porto_taxi_trimmed_200.csv\")\n",
    "trimmed_df"
   ]
  },
  {
   "cell_type": "code",
   "execution_count": null,
   "id": "13f849c4",
   "metadata": {},
   "outputs": [],
   "source": [
    "noised_df = pd.read_csv(\"../fixtures/porto_taxi_noised_200.csv\")\n",
    "noised_df"
   ]
  },
  {
   "cell_type": "markdown",
   "id": "13574e71",
   "metadata": {},
   "source": [
    "We provide below a view of all the original traces followed by a visualisation of a same trip in its original, trimmed and noised version."
   ]
  },
  {
   "cell_type": "code",
   "execution_count": null,
   "id": "1223102a",
   "metadata": {},
   "outputs": [],
   "source": [
    "plt.figure(figsize=(20, 20))\n",
    "sns.scatterplot(data=original_df, x=\"lon\", y=\"lat\", hue=\"id\", legend=False)\n",
    "plt.title(\"Original traces\")\n",
    "plt.show"
   ]
  },
  {
   "cell_type": "code",
   "execution_count": null,
   "id": "ab0d41a3",
   "metadata": {},
   "outputs": [],
   "source": [
    "selected_id = 1\n",
    "\n",
    "plt.figure(figsize=(10, 10))\n",
    "sns.scatterplot(\n",
    "    data=original_df[original_df[\"id\"] == selected_id],\n",
    "    x=\"lon\",\n",
    "    y=\"lat\",\n",
    "    label=\"Original\",\n",
    ")\n",
    "sns.scatterplot(\n",
    "    data=trimmed_df[trimmed_df[\"id\"] == selected_id], x=\"lon\", y=\"lat\", label=\"Trimmed\"\n",
    ")\n",
    "sns.scatterplot(\n",
    "    data=noised_df[noised_df[\"id\"] == selected_id], x=\"lon\", y=\"lat\", label=\"Noised\"\n",
    ")\n",
    "plt.title(\n",
    "    f\"Example geolocation trace (id={selected_id}) and its trimmed and noised versions\"\n",
    ")\n",
    "plt.legend()\n",
    "plt.show"
   ]
  },
  {
   "cell_type": "markdown",
   "id": "dcb06be3",
   "metadata": {},
   "source": [
    "## Run a geolocation privacy assessment"
   ]
  },
  {
   "cell_type": "markdown",
   "id": "882f6a71",
   "metadata": {},
   "source": [
    "### Upload datasets"
   ]
  },
  {
   "cell_type": "code",
   "execution_count": null,
   "id": "6f081201",
   "metadata": {},
   "outputs": [],
   "source": [
    "original_dataset = client.pandas_integration.upload_dataframe(original_df)\n",
    "print(f\"Dataset {original_dataset.id} loaded\")\n",
    "trimmed_dataset = client.pandas_integration.upload_dataframe(trimmed_df)\n",
    "print(f\"Dataset {trimmed_dataset.id} loaded\")\n",
    "noised_dataset = client.pandas_integration.upload_dataframe(noised_df)\n",
    "print(f\"Dataset {noised_dataset.id} loaded\")"
   ]
  },
  {
   "cell_type": "markdown",
   "id": "bcd8dce3",
   "metadata": {},
   "source": [
    "### Create scenarios\n",
    "\n",
    "A privacy assessment for geolocation data requires the definition of potentially multiple scenarios.\n",
    "A scenario defines some attacks that will be considered during the assessment. One scenario contains the following parameters:\n",
    "- `projection_parameters` defines the method of projection (or representation) of the data that will be used to evaluate the level of protection against **singling-out attacks**. For example, an attack can attempt re-identification using trace density information (this projection is set by using `GeolocationDensityParameters`). An alternative is for re-identification of traces to be performed from calculated features such as mean speed, trip duration ... This projection can be chosen by setting the parameters with `GeolocationFeaturesParameters`. \n",
    "- `known_features` defines a calculated feature that may be known to an attacker and that could be used to link the anonymized data with data from an external source. This attack is a **feature-based linkability attack**.\n",
    "- `target_feature` defines a calculated feature that could be considered as sensitive and should be protected against **feature-based inference attacks**. Such attack would use the `known_features` to infer the `target_feature`.\n",
    "- `known_signal_position` defines a part of the trip that could be known to an attacker (i.e. the start, middle or end of a trip). Attempt to re-associate anonymized trips to their original counterparts only using this information is considered as a **signal-based linkability attack**.\n",
    "- `target_signal_poi` defines the point of interest (POI) that could be considered as a target for an attacker in the context of a **signal-based inference attack**. It can be the start or the end of a trip.\n",
    "- `inference_metric_threshold` defines the distance (in meters) under which a prediction on a target point of interest will be considered as a successful prediction by the attacker. The lower the threshold, the more accurate the inference needs to be for an attack to be considered as successful. \n",
    "\n",
    "The ability to define many scenarios ensure that the data can be looked from different angles and that the privacy assessment cover many types of attacks. There is no limit on the number of scenarios that can be defined.\n",
    "\n",
    "Note that only `projection_parameters` must be set in a scenario, the remaining fields are optional. \n",
    "\n",
    "The example below defines 3 scenarios."
   ]
  },
  {
   "cell_type": "code",
   "execution_count": null,
   "id": "2007a83c",
   "metadata": {},
   "outputs": [],
   "source": [
    "scenarios = [\n",
    "    # Scenario 0\n",
    "    PrivacyMetricsGeolocationScenario(\n",
    "        projection_parameters=GeolocationDensityParameters(),\n",
    "        known_features=[\n",
    "            GeolocationFeatures.duration,\n",
    "            GeolocationFeatures.length,\n",
    "        ],\n",
    "        target_feature=GeolocationFeatures.speed,\n",
    "        known_signal_position=SignalPosition.start,\n",
    "        target_signal_poi=PointOfInterest.end,\n",
    "        inference_metric_threshold=1000,  # distance in meters\n",
    "    ),\n",
    "    # Scenario 1\n",
    "    PrivacyMetricsGeolocationScenario(\n",
    "        projection_parameters=GeolocationFeaturesParameters()\n",
    "    ),\n",
    "    # Scenario 2\n",
    "    PrivacyMetricsGeolocationScenario(\n",
    "        projection_parameters=GeolocationFeaturesParameters(),\n",
    "        known_features=[\n",
    "            GeolocationFeatures.speed,\n",
    "        ],\n",
    "        target_feature=GeolocationFeatures.length,\n",
    "    ),\n",
    "]"
   ]
  },
  {
   "cell_type": "markdown",
   "id": "d952d69d",
   "metadata": {},
   "source": [
    "### Launch the job\n",
    "\n",
    "Similar to avatarization, a privacy assessment job is first created by specifying the original data, the unshuffled treated data and the scenarios."
   ]
  },
  {
   "cell_type": "code",
   "execution_count": null,
   "id": "12b75d22",
   "metadata": {},
   "outputs": [],
   "source": [
    "parameters = PrivacyMetricsGeolocationParameters(\n",
    "    original_dataset_id=original_dataset.id,\n",
    "    unshuffled_avatar_dataset_id=trimmed_dataset.id,\n",
    "    scenarios=scenarios,\n",
    ")\n",
    "\n",
    "privacy_job_trimmed = client.jobs.create_privacy_metrics_geolocation_job(\n",
    "    PrivacyMetricsGeolocationJobCreate(parameters=parameters)\n",
    ")"
   ]
  },
  {
   "cell_type": "markdown",
   "id": "6176abc9",
   "metadata": {},
   "source": [
    "The job is retrieved with `get_privacy_metrics_geolocation_job`. Note that the addition of scenarios will increase the time required for the job to complete and so the timeout parameters may need to be adapted to get a `success` status."
   ]
  },
  {
   "cell_type": "code",
   "execution_count": null,
   "id": "1b190ec3",
   "metadata": {},
   "outputs": [],
   "source": [
    "privacy_job_trimmed = client.jobs.get_privacy_metrics_geolocation_job(\n",
    "    privacy_job_trimmed.id, timeout=300\n",
    ")\n",
    "privacy_job_trimmed.status"
   ]
  },
  {
   "cell_type": "markdown",
   "id": "bfd76938",
   "metadata": {},
   "source": [
    "The privacy job object retrieved contains the privacy metric results. Those can be accessed using `privacy_job_trimmed.result`. Alternatively or complementarily, a report can be generated to improve their readability, for better sharing or for audit purposes. "
   ]
  },
  {
   "cell_type": "markdown",
   "id": "a851431c",
   "metadata": {},
   "source": [
    "### Create a geolocation privacy assessment automatic report"
   ]
  },
  {
   "cell_type": "code",
   "execution_count": null,
   "id": "cd26fbe3",
   "metadata": {},
   "outputs": [],
   "source": [
    "report = client.reports.create_geolocation_privacy_report(\n",
    "    ReportGeolocationPrivacyCreate(\n",
    "        dataset_id=original_dataset.id,\n",
    "        avatars_dataset_id=trimmed_dataset.id,\n",
    "        privacy_job_id=privacy_job_trimmed.id,\n",
    "    ),\n",
    "    timeout=30,\n",
    ")\n",
    "result = client.reports.download_report(id=report.id)"
   ]
  },
  {
   "cell_type": "code",
   "execution_count": null,
   "id": "4789aacb",
   "metadata": {},
   "outputs": [],
   "source": [
    "with open(\"./my_geolocation_privacy_assessment_report_trimmed.pdf\", \"wb\") as f:\n",
    "    f.write(result)"
   ]
  },
  {
   "cell_type": "markdown",
   "id": "375d8d86",
   "metadata": {},
   "source": [
    "## Comparing the two treated dataset versions\n",
    "\n",
    "To further demonstrate how the geolocation privacy assessment can be used, we run a second job using the second dataset treated with the noise addition approach. This will enable a comparison of both treated datasets. "
   ]
  },
  {
   "cell_type": "code",
   "execution_count": null,
   "id": "c5288c0e",
   "metadata": {},
   "outputs": [],
   "source": [
    "parameters = PrivacyMetricsGeolocationParameters(\n",
    "    original_dataset_id=original_dataset.id,\n",
    "    unshuffled_avatar_dataset_id=noised_dataset.id,\n",
    "    scenarios=scenarios,\n",
    ")\n",
    "\n",
    "privacy_job_noised = client.jobs.create_privacy_metrics_geolocation_job(\n",
    "    PrivacyMetricsGeolocationJobCreate(parameters=parameters)\n",
    ")"
   ]
  },
  {
   "cell_type": "code",
   "execution_count": null,
   "id": "e1a6ae50",
   "metadata": {},
   "outputs": [],
   "source": [
    "privacy_job_noised = client.jobs.get_privacy_metrics_geolocation_job(\n",
    "    privacy_job_noised.id, timeout=300\n",
    ")\n",
    "privacy_job_noised.status"
   ]
  },
  {
   "cell_type": "code",
   "execution_count": null,
   "id": "2b9c1a00",
   "metadata": {},
   "outputs": [],
   "source": [
    "report = client.reports.create_geolocation_privacy_report(\n",
    "    ReportGeolocationPrivacyCreate(\n",
    "        dataset_id=original_dataset.id,\n",
    "        avatars_dataset_id=trimmed_dataset.id,\n",
    "        privacy_job_id=privacy_job_noised.id,\n",
    "    ),\n",
    "    timeout=30,\n",
    ")\n",
    "result = client.reports.download_report(id=report.id)\n",
    "\n",
    "with open(\"./my_geolocation_privacy_assessment_report_noised.pdf\", \"wb\") as f:\n",
    "    f.write(result)"
   ]
  },
  {
   "cell_type": "code",
   "execution_count": null,
   "id": "be841f15",
   "metadata": {},
   "outputs": [],
   "source": [
    "trimmed_hidden_rate = privacy_job_trimmed.result.privacy_metrics_per_scenario[\n",
    "    0\n",
    "].privacy_metrics.hidden_rate\n",
    "noised_hidden_rate = privacy_job_noised.result.privacy_metrics_per_scenario[\n",
    "    0\n",
    "].privacy_metrics.hidden_rate\n",
    "\n",
    "print(\n",
    "    f\"The hidden rate obtained in the first defined scenario is {trimmed_hidden_rate}% for the data that was trimmed while it is {noised_hidden_rate}% for the data treated with noise addition.\"\n",
    ")"
   ]
  },
  {
   "cell_type": "markdown",
   "id": "b3e35788",
   "metadata": {},
   "source": [
    "By looking at the privacy metrics gathered in the `privacy_job_trimmed.result` and `privacy_job_noised.result` objects or the two reports generated, we can see that one treatment resulted in a much better level of privacy (`noised`) while the other treatment (`trimmed`) did not meet all privacy target, in particular in terms of hidden rate)"
   ]
  }
 ],
 "metadata": {
  "kernelspec": {
   "display_name": "Python 3 (ipykernel)",
   "language": "python",
   "name": "python3"
  },
  "language_info": {
   "codemirror_mode": {
    "name": "ipython",
    "version": 3
   },
   "file_extension": ".py",
   "mimetype": "text/x-python",
   "name": "python",
   "nbconvert_exporter": "python",
   "pygments_lexer": "ipython3",
   "version": "3.10.13"
  }
 },
 "nbformat": 4,
 "nbformat_minor": 5
}
