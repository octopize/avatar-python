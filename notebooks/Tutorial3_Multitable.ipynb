{
 "cells": [
  {
   "cell_type": "markdown",
   "id": "767ea46a",
   "metadata": {},
   "source": [
    "# Tutorial 3: Multitable \n"
   ]
  },
  {
   "cell_type": "markdown",
   "id": "8beba51e",
   "metadata": {},
   "source": [
    "In this tutorial, we will execute the avatarization of a multi-table dataset. If you want to know more about how the anonymization is performed, you can read [this page](https://docs.octopize.io/docs/understanding/multi_table/).\n"
   ]
  },
  {
   "cell_type": "markdown",
   "id": "49307d35",
   "metadata": {},
   "source": [
    "### Setup"
   ]
  },
  {
   "cell_type": "code",
   "execution_count": null,
   "id": "17740436",
   "metadata": {},
   "outputs": [],
   "source": [
    "# This is the main file for the Avatar tutorial.\n",
    "from avatars.manager import Manager\n",
    "# The following are not necessary to run avatar but are used in this tutorial\n",
    "from avatars.models import JobKind\n",
    "from avatars.runner import Results\n",
    "from avatar_yaml.models.schema import LinkMethod\n",
    "import numpy as np\n",
    "\n",
    "import seaborn as sns\n",
    "import matplotlib.pyplot as plt\n",
    "%matplotlib inline\n",
    "import pandas as pd\n",
    "import os\n",
    "\n",
    "url = os.environ.get(\"AVATAR_BASE_API_URL\",\"https://www.octopize.app/api\")\n",
    "username = os.environ.get(\"AVATAR_USERNAME\")\n",
    "password = os.environ.get(\"AVATAR_PASSWORD\")"
   ]
  },
  {
   "cell_type": "code",
   "execution_count": null,
   "id": "074e557e",
   "metadata": {},
   "outputs": [],
   "source": [
    "manager = Manager(base_url=url)\n",
    "# Authenticate with the server\n",
    "manager.authenticate(username, password)"
   ]
  },
  {
   "cell_type": "markdown",
   "id": "7f5bcede",
   "metadata": {},
   "source": [
    "## Loading data"
   ]
  },
  {
   "cell_type": "markdown",
   "id": "5342cb53",
   "metadata": {},
   "source": [
    "In this tutorial, we will avatarise data that contains a patient table, a doctor table and a visit table \n",
    "- There are 130 patients having at least 1 visit\n",
    "- There are 50 doctors, they all did at least one visit \n",
    "- There are 300 visits\n",
    "\n",
    "Note: \n",
    "- Each table has a primary key with only unique values\n",
    "- Each child table refers to a parent table using a foreign key"
   ]
  },
  {
   "cell_type": "markdown",
   "id": "e96aba01",
   "metadata": {},
   "source": [
    "<img src=\"img/multitable.png\" style=\"height:500px\" />"
   ]
  },
  {
   "cell_type": "code",
   "execution_count": null,
   "id": "5ffb1064",
   "metadata": {},
   "outputs": [],
   "source": [
    "doctor = pd.read_csv(\"../fixtures/doctor.csv\", sep=\",\")\n",
    "patient = pd.read_csv(\"../fixtures/patient.csv\", sep=\",\")\n",
    "visit = pd.read_csv(\"../fixtures/visit.csv\", sep=\",\")"
   ]
  },
  {
   "cell_type": "code",
   "execution_count": null,
   "id": "5691f14e",
   "metadata": {},
   "outputs": [],
   "source": [
    "patient.head()"
   ]
  },
  {
   "cell_type": "code",
   "execution_count": null,
   "id": "ba767058",
   "metadata": {},
   "outputs": [],
   "source": [
    "doctor.head()"
   ]
  },
  {
   "cell_type": "code",
   "execution_count": null,
   "id": "4f894929",
   "metadata": {},
   "outputs": [],
   "source": [
    "visit.head()"
   ]
  },
  {
   "cell_type": "markdown",
   "id": "8ff3099b",
   "metadata": {},
   "source": [
    "## Upload data\n",
    "First we need to upload each table in the database.\n",
    "Each id column name MUST be specified in the `primary_key` and `foreign_keys` parameter\n",
    "\n",
    "Note: \n",
    "- Any table need variable that is unique for each rows (primary key)\n",
    "- When there is a link between 2 tables, we need to specify the links between them.\n",
    "- A parent table has at least a primary key. In our case patient and doctor are parent table.\n",
    "- A child table must have a primary key and as many foreign keys as it has parent tables. In our case visit is a child table.\n",
    "- An individual level table is a dataframe where each row refers to a UNIQUE physical individual. Privacy metrics assess the re-identification risk of these individuals.\n",
    "- A table with no child must be at individual level."
   ]
  },
  {
   "cell_type": "code",
   "execution_count": null,
   "id": "1d593953",
   "metadata": {},
   "outputs": [],
   "source": [
    "# First initialize the runner\n",
    "runner = manager.create_runner(set_name=\"tutorial_multitable\")\n",
    "\n",
    "runner.add_table(\"patient\",\n",
    "                patient,\n",
    "                primary_key=\"p_id\",\n",
    "                individual_level=True, )\n",
    "\n",
    "runner.add_table(\"doctor\",\n",
    "                doctor,\n",
    "                primary_key=\"d_id\",\n",
    "                individual_level=True, )\n",
    "\n",
    "\n",
    "runner.add_table(\"visit\",\n",
    "                visit,\n",
    "                primary_key=\"visit_id\",\n",
    "                foreign_keys=[\"patient_id\", \"doctor_id\"],)"
   ]
  },
  {
   "cell_type": "markdown",
   "id": "3ee663f1",
   "metadata": {},
   "source": [
    "## Parameters setup"
   ]
  },
  {
   "cell_type": "markdown",
   "id": "5c18a5c6",
   "metadata": {},
   "source": [
    "Before proceeding to anonymization, you need to specify the links between each table, as well as the anonymization parameters for each table.\n",
    "\n",
    "We can choose the method to link a child to its parent table after anonymization :   \n",
    "- *LINEAR_SUM_ASSIGNMENT*: Assign using the linear sum assignment algorithm.  \n",
    "    This method is a **good privacy and** utility trade-off. The algorithm consumes lots of resources.  \n",
    "  \n",
    "- *MINIMUM_DISTANCE_ASSIGNMENT*: Assign using the minimum distance assignment algorithm.  \n",
    "    This method assigns the closest child to the parent. It is an acceptable privacy and utility\n",
    "    trade-off.\n",
    "    This algorithm consumes **less resources** than the linear sum assignment.  \n",
    "  \n",
    "- *SENSITIVE_ORIGINAL_ORDER_ASSIGNMENT*: Assign the child to the parent using the original order.  \n",
    "    **WARNING!!! This method is a HIGH PRIVACY BREACH as it keeps the original order to assign\n",
    "    the child to the parent.**  \n",
    "    This method isn't recommended for small datasets for privacy reasons but consumes **less resources** than the other\n",
    "    methods.  \n",
    "\n",
    "Note:\n",
    "- A link is a relation between 1 parent table and 1 child table"
   ]
  },
  {
   "cell_type": "code",
   "execution_count": null,
   "id": "0db9cb97",
   "metadata": {},
   "outputs": [],
   "source": [
    "runner.add_link(parent_table_name=\"patient\", \n",
    "                child_table_name=\"visit\",\n",
    "                parent_field=\"p_id\",\n",
    "                child_field=\"patient_id\",\n",
    "                method=LinkMethod.LINEAR_SUM_ASSIGNMENT) \n",
    "# Linear sum assignment consumes lots of ressource. Change the method if you have a large dataset.\n",
    "\n",
    "runner.add_link(parent_table_name=\"doctor\", \n",
    "                child_table_name=\"visit\",\n",
    "                parent_field=\"d_id\",\n",
    "                child_field=\"doctor_id\",\n",
    "                method=LinkMethod.LINEAR_SUM_ASSIGNMENT)\n",
    "\n",
    "# The k parameter for each table needs to be adjusted regarding the number of records.\n",
    "runner.set_parameters(\"patient\", k=15,known_variables=[\n",
    "            \"gender\",\n",
    "            \"age\",\n",
    "        ],\n",
    "        target=\"weight\",)\n",
    "runner.set_parameters(\"doctor\", k=5,\n",
    "                              known_variables=[\n",
    "            \"age\",\n",
    "        ],\n",
    "        target=\"job\",)\n",
    "runner.set_parameters(\"visit\", k=30 )"
   ]
  },
  {
   "cell_type": "markdown",
   "id": "349b68ab",
   "metadata": {},
   "source": [
    "## Anonymization"
   ]
  },
  {
   "cell_type": "code",
   "execution_count": null,
   "id": "efcff1bb",
   "metadata": {},
   "outputs": [],
   "source": [
    "runner.run()"
   ]
  },
  {
   "cell_type": "code",
   "execution_count": null,
   "id": "687e19dc",
   "metadata": {},
   "outputs": [],
   "source": [
    "results=runner.get_all_results()\n",
    "\n",
    "# Get back avatar tables from the results\n",
    "# Patient\n",
    "patient_avatar = runner.shuffled(\"patient\")\n",
    "# Doctor\n",
    "doctor_avatar = runner.shuffled(\"doctor\")\n",
    "# Visit\n",
    "visit_avatar = runner.shuffled(\"visit\")"
   ]
  },
  {
   "cell_type": "code",
   "execution_count": null,
   "id": "a5bf0452",
   "metadata": {},
   "outputs": [],
   "source": [
    "patient_avatar.head()"
   ]
  },
  {
   "cell_type": "code",
   "execution_count": null,
   "id": "ed78e87e",
   "metadata": {},
   "outputs": [],
   "source": [
    "doctor_avatar.head()"
   ]
  },
  {
   "cell_type": "code",
   "execution_count": null,
   "id": "64916251",
   "metadata": {},
   "outputs": [],
   "source": [
    "visit_avatar.head()"
   ]
  },
  {
   "cell_type": "markdown",
   "id": "31e12d70",
   "metadata": {},
   "source": [
    "## Privacy metric computation\n",
    "Similarly to multitable avatarization, privacy metrics calculation requires the specification of one set of parameter per table. "
   ]
  },
  {
   "cell_type": "code",
   "execution_count": null,
   "id": "7ade44a8",
   "metadata": {},
   "outputs": [],
   "source": [
    "# verify that the job is finished\n",
    "runner.get_status(JobKind.privacy_metrics)"
   ]
  },
  {
   "cell_type": "markdown",
   "id": "a16895e3",
   "metadata": {},
   "source": [
    "## Privacy metric results\n",
    "The privacy metrics results are computed on multiple tables to verify as many attack scenario as possible.\n",
    "\n",
    "All types of multi table privacy scenario are further described [here](https://docs.octopize.io/docs/understanding/multi_table/)."
   ]
  },
  {
   "cell_type": "markdown",
   "id": "3830e5e0",
   "metadata": {},
   "source": [
    "<img src=\"img/multitable_privacy.png\" style=\"height:500px\" />"
   ]
  },
  {
   "cell_type": "markdown",
   "id": "4cdac3e7",
   "metadata": {},
   "source": [
    "## RAW results"
   ]
  },
  {
   "cell_type": "code",
   "execution_count": null,
   "id": "d23f3f03",
   "metadata": {},
   "outputs": [],
   "source": [
    "print(\"*** Privacy metrics on the patient table***\")\n",
    "for method in runner.privacy_metrics(\"patient\"):\n",
    "    print(f\"Computation type : {method['metadata']['computation_type']}\")\n",
    "    print(f\"   Hidden rate : {method['hidden_rate']}\")\n",
    "\n"
   ]
  },
  {
   "cell_type": "markdown",
   "id": "92efe125",
   "metadata": {},
   "source": [
    "Key understandings:  \n",
    "- **Standalone**: Indicates that the patient table, when considered independently, is protected.  \n",
    "- **To_top_enriched**: Suggests that combining information from the visit table reduces the level of protection."
   ]
  },
  {
   "cell_type": "code",
   "execution_count": null,
   "id": "9946dbd1",
   "metadata": {},
   "outputs": [],
   "source": [
    "print(\"*** Privacy metrics on the doctor table***\")\n",
    "for method in runner.privacy_metrics(\"doctor\"):\n",
    "    print(f\"Computation type : {method['metadata']['computation_type']}\")\n",
    "    print(f\"   Hidden rate : {method['hidden_rate']}\")\n"
   ]
  },
  {
   "cell_type": "markdown",
   "id": "4b34622b",
   "metadata": {},
   "source": [
    "Key understandings:  \n",
    "- **Standalone**: Indicates that the doctor table, when considered independently, is protected.  \n",
    "- **To_top_enriched**: Suggests that combining information from the visit table reduces the level of protection."
   ]
  },
  {
   "cell_type": "code",
   "execution_count": null,
   "id": "ab0def90",
   "metadata": {},
   "outputs": [],
   "source": [
    "print(\"*** Privacy metrics on the visit table***\")\n",
    "for method in runner.privacy_metrics(\"visit\"):\n",
    "    print(f\"Computation type : {method['metadata']['computation_type']} with table {method['metadata']['reference']}\")\n",
    "    print(f\"   Hidden rate : {method['hidden_rate']}\")\n"
   ]
  },
  {
   "cell_type": "markdown",
   "id": "dd045d68",
   "metadata": {},
   "source": [
    "Key insights:  \n",
    "As the visit table is not at the individual level, metrics are calculated using individual ID variables from parent tables (patient, doctor).\n",
    "\n",
    "- **to_bottom_id_propagated with table doctor**: looking at the hidden_rate, the visit table does not expose information about doctors.  \n",
    "- **full_enriched with table doctor**: Combining the visit table with patient-broadcasted data does not expose doctor information.  \n",
    "\n",
    "- **to_bottom_id_propagated with table patient**: looking at the hidden_rate, the visit table does not expose information about patient.  \n",
    "- **full_enriched with table patient**: Combining the visit table with doctor-broadcasted data does not expose patient information.  \n"
   ]
  },
  {
   "cell_type": "markdown",
   "id": "66761fca",
   "metadata": {},
   "source": [
    "# Utility evaluation"
   ]
  },
  {
   "cell_type": "markdown",
   "id": "51d35d19",
   "metadata": {},
   "source": [
    "## Compute signal metrics on multitable context"
   ]
  },
  {
   "cell_type": "code",
   "execution_count": null,
   "id": "646a0945",
   "metadata": {},
   "outputs": [],
   "source": [
    "# Check the status of the job\n",
    "runner.get_status(JobKind.signal_metrics)"
   ]
  },
  {
   "cell_type": "code",
   "execution_count": null,
   "id": "fb36d18a",
   "metadata": {},
   "outputs": [],
   "source": [
    "print(\"*** Signal metrics on the patient table***\")\n",
    "for method in runner.signal_metrics(\"patient\"):\n",
    "    print(f\"Computation type : {method['metadata']['computation_type']}\")\n",
    "    print(f\"   Hellinger mean : {method['hellinger_mean']}\")\n"
   ]
  },
  {
   "cell_type": "markdown",
   "id": "0f915b33",
   "metadata": {},
   "source": [
    "Key insights:\n",
    "\n",
    "- **Standalone**:  The avatarized patient table preserves the original distribution effectively. \n",
    "- **To_top_enriched**: These metrics indicate if the link between the patient and visit tables is well preserved."
   ]
  },
  {
   "cell_type": "code",
   "execution_count": null,
   "id": "49449628",
   "metadata": {},
   "outputs": [],
   "source": [
    "print(\"*** Signal metrics on the doctor table***\")\n",
    "for method in runner.signal_metrics(\"doctor\"):\n",
    "    print(f\"Computation type : {method['metadata']['computation_type']}\")\n",
    "    print(f\"   Hellinger mean : {method['hellinger_mean']}\")\n"
   ]
  },
  {
   "cell_type": "markdown",
   "id": "4df3ce74",
   "metadata": {},
   "source": [
    "Key insights:\n",
    "\n",
    "- **Standalone**: The avatarization of the doctor table preserves the original distribution well.  \n",
    "- **To_top_enriched**: The link between the doctor and visit table is preserved."
   ]
  },
  {
   "cell_type": "code",
   "execution_count": null,
   "id": "ea3b96d8",
   "metadata": {},
   "outputs": [],
   "source": [
    "print(\"*** Signal metrics on the visit table***\")\n",
    "for method in runner.signal_metrics(\"visit\"):\n",
    "    print(f\"Computation type : {method['metadata']['computation_type']} with table {method['metadata']['reference']}\")\n",
    "    if method['metadata']['computation_type'] == 'standalone':\n",
    "        print(f\"   Hellinger mean : {method['hellinger_mean']}\")\n",
    "    print(f\"   Correlation difference ratio : {method['correlation_difference_ratio']}\")\n"
   ]
  },
  {
   "cell_type": "markdown",
   "id": "92918097",
   "metadata": {},
   "source": [
    "Key insights:\n",
    "\n",
    "- **Standalone**: The avatarization of the visit table preserves the original distribution well.  \n",
    "- **to_bottom_information_propagated with table doctor**: The correlation between the doctor and visit table is well preserved.\n",
    "- **to_bottom_information_propagated with table patient**: The correlation between the patient and visit table is well preserved."
   ]
  },
  {
   "cell_type": "markdown",
   "id": "7565f93c",
   "metadata": {},
   "source": [
    "## Multivariate comparison \n"
   ]
  },
  {
   "cell_type": "markdown",
   "id": "184a1758",
   "metadata": {},
   "source": [
    "You can see how the avatarization affect the link between original and avatar data.  \n",
    "You can try with different `LinkMethod` and observe how it impacts the link between tables "
   ]
  },
  {
   "cell_type": "markdown",
   "id": "7fde2b3a",
   "metadata": {},
   "source": [
    "### Visit x Patient"
   ]
  },
  {
   "cell_type": "code",
   "execution_count": null,
   "id": "2144668e",
   "metadata": {},
   "outputs": [],
   "source": [
    "AVATAR_COLOR = \"#3BD6B0\"\n",
    "ORIGINAL_COLOR = \"dimgrey\"\n",
    "map_color = {\"original\": ORIGINAL_COLOR, \"avatar\": AVATAR_COLOR}\n",
    "day_order = [\"Monday\", \"Tuesday\", \"Wednesday\", \"Thursday\", \"Friday\"]\n",
    "\n",
    "doctor_avatar_renamed = doctor_avatar.rename(columns={\"age\": \"age_doctor\"})\n",
    "visit_avatar_flat = visit_avatar.join(\n",
    "    doctor_avatar_renamed.set_index(\"d_id\"), on=\"doctor_id\"\n",
    ")\n",
    "visit_avatar_flat = visit_avatar_flat.join(\n",
    "    patient_avatar.set_index(\"p_id\"), on=\"patient_id\"\n",
    ")\n",
    "\n",
    "\n",
    "doctor_renamed = doctor.rename(columns={\"age\": \"age_doctor\"})\n",
    "visit_flat = visit.join(doctor_renamed.set_index(\"d_id\"), on=\"doctor_id\")\n",
    "visit_flat = visit_flat.join(patient.set_index(\"p_id\"), on=\"patient_id\")"
   ]
  },
  {
   "cell_type": "code",
   "execution_count": null,
   "id": "d24e6cfa",
   "metadata": {},
   "outputs": [],
   "source": [
    "visit_flat[\"day_visit\"] = pd.Categorical(\n",
    "    visit_flat[\"day_visit\"], categories=day_order, ordered=True\n",
    ")\n",
    "visit_flat = visit_flat.sort_values(\"day_visit\")\n",
    "visit_avatar_flat[\"day_visit\"] = pd.Categorical(\n",
    "    visit_avatar_flat[\"day_visit\"], categories=day_order, ordered=True\n",
    ")\n",
    "visit_avatar_flat = visit_avatar_flat.sort_values(\"day_visit\")\n",
    "fig, axes = plt.subplots(1, 2, figsize=(12, 4))\n",
    "sns.countplot(\n",
    "    data=visit_flat,\n",
    "    x=\"day_visit\",\n",
    "    hue=\"gender\",\n",
    "    ax=axes[0],\n",
    "    palette=[ORIGINAL_COLOR, \"lightgrey\"],\n",
    ")\n",
    "sns.countplot(\n",
    "    data=visit_avatar_flat,\n",
    "    x=\"day_visit\",\n",
    "    hue=\"gender\",\n",
    "    ax=axes[1],\n",
    "    palette=[AVATAR_COLOR, \"#9fe9d7\"],\n",
    ")\n",
    "axes[0].set_title(\"Original\")\n",
    "axes[1].set_title(\"Avatar\")"
   ]
  },
  {
   "cell_type": "markdown",
   "id": "fd356c68",
   "metadata": {},
   "source": [
    "### Visit x Doctor"
   ]
  },
  {
   "cell_type": "code",
   "execution_count": null,
   "id": "6d47bb06",
   "metadata": {},
   "outputs": [],
   "source": [
    "visit_flat[\"day_visit\"] = pd.Categorical(\n",
    "    visit_flat[\"day_visit\"], categories=day_order, ordered=True\n",
    ")\n",
    "visit_flat = visit_flat.sort_values([\"day_visit\", \"exam\"])\n",
    "visit_avatar_flat[\"day_visit\"] = pd.Categorical(\n",
    "    visit_avatar_flat[\"day_visit\"], categories=day_order, ordered=True\n",
    ")\n",
    "visit_avatar_flat = visit_avatar_flat.sort_values([\"day_visit\", \"exam\"])\n",
    "fig, axes = plt.subplots(1, 2, figsize=(12, 4))\n",
    "sns.boxplot(\n",
    "    data=visit_flat,\n",
    "    x=\"age_doctor\",\n",
    "    y=\"day_visit\",\n",
    "    ax=axes[0],\n",
    "    color=ORIGINAL_COLOR,\n",
    ")\n",
    "sns.boxplot(\n",
    "    data=visit_avatar_flat,\n",
    "    x=\"age_doctor\",\n",
    "    y=\"day_visit\",\n",
    "    ax=axes[1],\n",
    "    color=AVATAR_COLOR,\n",
    ")\n",
    "axes[0].set_xlim(30, 70)\n",
    "axes[1].set_xlim(30, 70)\n",
    "axes[0].set_title(\"Original\")\n",
    "axes[1].set_title(\"Avatar\")"
   ]
  },
  {
   "cell_type": "code",
   "execution_count": null,
   "id": "b12d274a",
   "metadata": {},
   "outputs": [],
   "source": [
    "visit_avatar_flat = visit_avatar_flat.sort_values(\"exam\")\n",
    "visit_flat = visit_flat.sort_values(\"exam\")\n",
    "fig, axes = plt.subplots(1, 2, figsize=(12, 4))\n",
    "sns.countplot(\n",
    "    data=visit_flat,\n",
    "    x=\"exam\",\n",
    "    hue=\"job\",\n",
    "    ax=axes[0],\n",
    "    palette=[ORIGINAL_COLOR, \"lightgrey\"],\n",
    "\n",
    ")\n",
    "sns.countplot(\n",
    "    data=visit_avatar_flat,\n",
    "    x=\"exam\",\n",
    "    hue=\"job\",\n",
    "    ax=axes[1],\n",
    "    palette=[AVATAR_COLOR, \"#9fe9d7\"],\n",
    ")\n",
    "axes[0].set_title(\"Original\")\n",
    "axes[1].set_title(\"Avatar\")"
   ]
  },
  {
   "cell_type": "markdown",
   "id": "b66c7889",
   "metadata": {},
   "source": [
    "### Patient x Doctor"
   ]
  },
  {
   "cell_type": "code",
   "execution_count": null,
   "id": "d252b4c4",
   "metadata": {},
   "outputs": [],
   "source": [
    "sns.kdeplot(\n",
    "    data=visit_flat, x=\"age\", y=\"age_doctor\", fill=True, color=ORIGINAL_COLOR, alpha=0.8\n",
    ")\n",
    "sns.kdeplot(\n",
    "    data=visit_avatar_flat,\n",
    "    x=\"age\",\n",
    "    y=\"age_doctor\",\n",
    "    fill=True,\n",
    "    color=AVATAR_COLOR,\n",
    "    alpha=0.8,\n",
    ")"
   ]
  },
  {
   "cell_type": "code",
   "execution_count": null,
   "id": "9ae7e06d",
   "metadata": {},
   "outputs": [],
   "source": []
  }
 ],
 "metadata": {
  "language_info": {
   "name": "python"
  }
 },
 "nbformat": 4,
 "nbformat_minor": 5
}
